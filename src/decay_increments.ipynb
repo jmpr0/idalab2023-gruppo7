{
 "cells": [
  {
   "cell_type": "code",
   "execution_count": 1,
   "id": "011f31a2",
   "metadata": {},
   "outputs": [],
   "source": [
    "%load_ext autoreload\n",
    "%autoreload 2"
   ]
  },
  {
   "cell_type": "code",
   "execution_count": 88,
   "id": "cba57cd6",
   "metadata": {},
   "outputs": [],
   "source": [
    "import argparse\n",
    "import functools\n",
    "import hashlib\n",
    "import itertools\n",
    "import json\n",
    "import os\n",
    "import sys\n",
    "from copy import deepcopy\n",
    "from functools import partial\n",
    "from glob import glob\n",
    "from multiprocessing import Pool\n",
    "from time import sleep\n",
    "\n",
    "import matplotlib.pyplot as plt\n",
    "import numpy as np\n",
    "import pandas as pd\n",
    "import portalocker as pl\n",
    "import seaborn as sns\n",
    "from matplotlib import cm\n",
    "from tqdm import tqdm\n",
    "from matplotlib.lines import Line2D\n",
    "\n",
    "from plot_metrics import preprocess_metrics\n",
    "from util.metrics_utils import *\n",
    "\n",
    "sns.set_style('whitegrid')\n",
    "\n",
    "import warnings\n",
    "warnings.filterwarnings('ignore')\n",
    "warnings.simplefilter('ignore')"
   ]
  },
  {
   "cell_type": "code",
   "execution_count": 3,
   "id": "4dd99f14",
   "metadata": {},
   "outputs": [],
   "source": [
    "img_path = '/home/giampaolo/facil-tc/hf-project/final_results/results/images/decay/'\n",
    "img_path = '/media/nas/datasets/MIRAGE_2020/FSCIL_approaches/hf-project/final_results/results/images/decay/'\n",
    "img_path = '/home/alfredo/facil-tc/src/'\n",
    "\n",
    "if not os.path.exists(img_path):\n",
    "    os.makedirs(img_path)"
   ]
  },
  {
   "cell_type": "code",
   "execution_count": 4,
   "id": "130dfe87",
   "metadata": {},
   "outputs": [],
   "source": [
    "# def barplot_decay(data, base, incr, metric, approach, savefig):\n",
    "#     import matplotlib as mpl\n",
    "#     # https://stackoverflow.com/questions/6615002/given-an-rgb-value-how-do-i-create-a-tint-or-shade/6615053\n",
    "#     # For tints, calculate (255 - previous value), \n",
    "#     # multiply that by 1/4, 1/2, 3/4, etc. (the greater the factor, the lighter the tint),\n",
    "#     # and add that to the previous value (assuming each.component is a 8-bit integer).\n",
    "#     def make_lighter(rgba_color, weight=0.5):\n",
    "#         delta = 255 - 255 * rgba_color\n",
    "#         delta = delta * weight\n",
    "#         return (255 * rgba_color + delta) / 255\n",
    "\n",
    "#     colors_top = 'lightgray'\n",
    "#     colors_bottom = 'gray'\n",
    "#     xticks = [base + (i + 1) * incr for i in np.arange(len(data[data['Type'] == 'New']))]\n",
    "#     fig, axes = plt.subplots(nrows=2, ncols=1, figsize=(8, 5))\n",
    "\n",
    "#     font_size = 14\n",
    "#     mpl.rcParams.update({\n",
    "#         'font.size': font_size,\n",
    "#         'xtick.labelsize': font_size,\n",
    "#         'ytick.labelsize': font_size,\n",
    "#     })\n",
    "\n",
    "#     col_idx = 0\n",
    "#     #############################\n",
    "#     ### TOP histo\n",
    "#     #############################\n",
    "#     ax = axes[0]\n",
    "#     data[data['Type'] == 'Old'].plot(ax=ax, kind='bar', rot=0, color=colors_top)\n",
    "#     #, width=1)#, yerr=df_lst['std_old'].values)\n",
    "#     ax.xaxis.set_ticklabels(xticks)\n",
    "\n",
    "#     ax.set_ylim(0,100)\n",
    "#     ax.set_title('%s Decay: %s base: %s, incr: %s' % (metric, appr_dict[approach], base, incr))\n",
    "#     ax.spines['top'].set_visible(False)\n",
    "#     ax.spines['left'].set_visible(False)\n",
    "#     ax.spines['right'].set_visible(False)\n",
    "\n",
    "#     if col_idx == 0:\n",
    "#         ax.set_ylabel('avg f1 drop : old')\n",
    "#     else:\n",
    "#         ax.yaxis.set_ticklabels([])   \n",
    "#     for p in ax.patches:\n",
    "#             ax.annotate(\n",
    "#                 f'{p.get_height():.2f}', \n",
    "#                (p.get_x() + p.get_width() / 2., p.get_height()-.025), \n",
    "#                ha = 'center', va = 'center', \n",
    "#                xytext = (0, 9), \n",
    "#                textcoords = 'offset points'\n",
    "#             )\n",
    "\n",
    "#     #############################\n",
    "#     ### BOTTOM histo\n",
    "#     #############################\n",
    "#     ax = axes[1]\n",
    "#     data[data['Type'] == 'New'].plot(ax=ax, kind='bar', color=colors_bottom)\n",
    "#     #, width=1)#, yerr=df_lst['std_new'].values)\n",
    "\n",
    "#     ax.set_ylim(0, 100)\n",
    "#     ax.invert_yaxis()\n",
    "#     ax.xaxis.set_ticks_position('top')\n",
    "#     ax.xaxis.set_ticklabels([])\n",
    "\n",
    "#     ax.spines['bottom'].set_visible(False)\n",
    "#     ax.spines['left'].set_visible(False)\n",
    "#     ax.spines['right'].set_visible(False)\n",
    "\n",
    "#     if col_idx == 0:\n",
    "#         ax.set_ylabel('avg f1 drop : new')\n",
    "#     else:\n",
    "#         ax.yaxis.set_ticklabels([])\n",
    "\n",
    "#     for p in ax.patches:\n",
    "#         ax.annotate(\n",
    "#             f'{p.get_height():.2f}', \n",
    "#                (p.get_x() + p.get_width() / 2., p.get_height()+ 15 ), \n",
    "#                 ha = 'center', va = 'center', \n",
    "#                 xytext = (0, 9), \n",
    "#                 textcoords = 'offset points'\n",
    "#             )\n",
    "\n",
    "#     if savefig:\n",
    "#         plt.savefig('%s.pdf' % savefig, dpi=300, bbox_inches='tight')\n",
    "#         plt.savefig('%s.pdf' % savefig, bbox_inches='tight')\n",
    "    "
   ]
  },
  {
   "cell_type": "code",
   "execution_count": 5,
   "id": "cf8242ab",
   "metadata": {},
   "outputs": [],
   "source": [
    "# base_incr = [(20,5), (34,1), (34,2), (34,3)]\n",
    "# metric = 'F1 Score Drop'\n",
    "# ord_list = ['lucir', 'icarlp', 'ssil', 'bic', 'icarl', 'ewc', 'eeil', 'il2m', 'wu2022']\n",
    "# for approach in ord_list:\n",
    "#     print(approach)\n",
    "#     for b,i in base_incr:\n",
    "#         exp_name = 'mirage_generic_%s_*_base%s_incr%s_*' % (approach,b,i)\n",
    "#         results_path = '/media/nas/datasets/MIRAGE_2020/FSCIL_approaches/hf-project/final_results/results'\n",
    "#         analysis = 'per_class_metrics'\n",
    "#         df_filenames = glob('%s/*%s*/**/*%s.parquet' % (results_path, exp_name, analysis), recursive=True)\n",
    "#         df_filenames = remove_duplicates (df_filenames)\n",
    "#         df_filenames_scratch = glob('%s_UB/**/*%s.parquet' % (results_path, analysis), recursive=True)\n",
    "#         df = load_data(df_filenames, 'f1_score')\n",
    "#         df_scratch = load_scratch_data(df_filenames_scratch, 'f1_score', b, i)\n",
    "#         df = compute_drops(df, df_scratch)\n",
    "#         barplot_decay(df, b, i, metric, approach, savefig=os.path.join(\n",
    "#             img_path, '%s_decay_%s_base_%s_incr_%s' % (metric.lower().replace(' ', '-'), approach, b, i)))"
   ]
  },
  {
   "cell_type": "code",
   "execution_count": 84,
   "id": "2973adb5",
   "metadata": {},
   "outputs": [],
   "source": [
    "from util.colour_mapper import colour_mapper\n",
    "import matplotlib as mpl\n",
    "\n",
    "def lineplot_decay(data, data_forg, base,incr,metric, t, max_old, max_new, ord_list, savefig=None):\n",
    "    # https://stackoverflow.com/questions/6615002/given-an-rgb-value-how-do-i-create-a-tint-or-shade/6615053\n",
    "    # For tints, calculate (255 - previous value), \n",
    "    # multiply that by 1/4, 1/2, 3/4, etc. (the greater the factor, the lighter the tint),\n",
    "    # and add that to the previous value (assuming each.component is a 8-bit integer).\n",
    "    def make_lighter(rgba_color, weight=0.5):\n",
    "        delta = 255 - 255*rgba_color\n",
    "        delta = delta*weight\n",
    "        return (255*rgba_color + delta)/255\n",
    "    \n",
    "    plt.rcParams['xtick.bottom'] = True\n",
    "    plt.rcParams['ytick.left'] = True\n",
    "\n",
    "    # colors_top = plt.get_cmap('plasma', 3).colors\n",
    "    # colors_bottom = [[make_lighter(val, 0.6) for val in tpl] for tpl in colors_top]\n",
    "    palette = dict([(appr_dict[k], colour_mapper()[k]) for k in ord_list])\n",
    "    colors_top = 'lightgray'\n",
    "    colors_bottom = 'gray'\n",
    "    xticks = [int(base+(i+1)*incr) for i in np.arange((40-base)/incr)]\n",
    "    fig, axes = plt.subplots(nrows=3, ncols=1, figsize=(7,7))\n",
    "\n",
    "    font_size = 14\n",
    "    mpl.rcParams.update({\n",
    "        'font.size': font_size,\n",
    "        'xtick.labelsize': font_size,\n",
    "        'ytick.labelsize': font_size,\n",
    "    })\n",
    "\n",
    "    col_idx = 0\n",
    "    #############################\n",
    "    ### TOP histo\n",
    "    #############################\n",
    "    ax = axes[0]\n",
    "    ax.set_xticks(range(int(xticks[0]), int(xticks[-1])+incr, incr))\n",
    "    ax.xaxis.set_ticklabels(xticks)\n",
    "    ax.xaxis.set_ticklabels([])\n",
    "    ax.tick_params(axis='x', which='major', length=5)\n",
    "    sns.lineplot(x='#Apps',y='F1 Score Drop', data=data[data['Type']=='New'], ax=ax, hue='Approach',\n",
    "                 markers=True, style='Approach', linewidth = 3, markersize=15, ci=None, palette=palette,\n",
    "                mec='none')\n",
    "\n",
    "    leg = ax.legend(title='Approach', bbox_to_anchor=(1.05, 1), loc=2, borderaxespad=0.)\n",
    "    leg.get_frame().set_linewidth(0.)\n",
    "    ax.spines['top'].set_visible(False)\n",
    "    ax.spines['left'].set_visible(False)\n",
    "    ax.spines['right'].set_visible(False)\n",
    "    ax.set(xlabel=None)\n",
    "    \n",
    "    if col_idx == 0:\n",
    "        ax.set_ylabel('Intransigence [%]')\n",
    "    else:\n",
    "        ax.yaxis.set_ticklabels([])   \n",
    "    for p in ax.patches:\n",
    "            ax.annotate(\n",
    "                f'{p.get_height():.2f}', \n",
    "               (p.get_x() + p.get_width() / 2., p.get_height()-.025), \n",
    "               ha = 'center', va = 'center', \n",
    "               xytext = (0, 9), \n",
    "               textcoords = 'offset points'\n",
    "            )\n",
    "\n",
    "    #############################\n",
    "    ### BOTTOM histo\n",
    "    #############################\n",
    "    ax = axes[1]\n",
    "    sns.lineplot(x='#Apps', y='F1 Score Drop', data=data[data['Type']=='Old'], ax=ax, hue='Approach',\n",
    "                 markers=True, style='Approach', linewidth = 3, markersize=15, ci=None, palette=palette,\n",
    "                mec='none')\n",
    "\n",
    "    ax.xaxis.set_ticks_position('top')\n",
    "    ax.set_xticks(range(int(xticks[0]), int(xticks[-1])+incr, incr))\n",
    "    ax.xaxis.set_ticklabels([])\n",
    "    ax.tick_params(axis='x', which='major', length=5)\n",
    "\n",
    "    ax.spines['bottom'].set_visible(False)\n",
    "    ax.spines['left'].set_visible(False)\n",
    "    ax.spines['right'].set_visible(False)\n",
    "    ax.legend_ = None\n",
    "    ax.set(xlabel=None)\n",
    "\n",
    "    if col_idx == 0:\n",
    "        ax.set_ylabel('Drop Old [%]')\n",
    "    else:\n",
    "        ax.yaxis.set_ticklabels([])\n",
    "\n",
    "    for p in ax.patches:\n",
    "        ax.annotate(\n",
    "            f'{p.get_height():.2f}', \n",
    "               (p.get_x() + p.get_width() / 2., p.get_height()+ 15 ), \n",
    "                ha = 'center', va = 'center', \n",
    "                xytext = (0, 9), \n",
    "                textcoords = 'offset points'\n",
    "            )\n",
    "\n",
    "    #############################\n",
    "    ### BOTTOM histo\n",
    "    #############################\n",
    "    ax = axes[2]\n",
    "    sns.lineplot(x='#Apps', y='F1 Score Forgetting', data=data_forg[data_forg['Type']=='Old'], ax=ax, hue='Approach',\n",
    "                 markers=True, style='Approach', linewidth = 3, markersize=15, palette=palette,\n",
    "                mec='none',ci=None)\n",
    "    \n",
    "    ax.set_xticks(xticks)\n",
    "    ax.xaxis.set_ticklabels(xticks)\n",
    "    ax.tick_params(axis='x', which='major', length=5)\n",
    "    ax.spines['bottom'].set_visible(False)\n",
    "    ax.spines['top'].set_visible(False)\n",
    "    ax.spines['left'].set_visible(False)\n",
    "    ax.spines['right'].set_visible(False)\n",
    "    ax.legend_ = None\n",
    "\n",
    "    if col_idx == 0:\n",
    "        ax.set_ylabel('Forgetting [%]')\n",
    "        ax.yaxis.set_label_coords(-0.08,0.45)\n",
    "    else:\n",
    "        ax.yaxis.set_ticklabels([])\n",
    "\n",
    "    for p in ax.patches:\n",
    "        ax.annotate(\n",
    "            f'{p.get_height():.2f}', \n",
    "               (p.get_x() + p.get_width() / 2. -10, p.get_height()+ 15 ), \n",
    "                ha = 'center', va = 'center', \n",
    "                xytext = (10, 9),\n",
    "                textcoords = 'offset points'\n",
    "            )\n",
    "\n",
    "    \n",
    "    if savefig:\n",
    "        plt.savefig('%s.pdf' % savefig, bbox_inches='tight')"
   ]
  },
  {
   "cell_type": "code",
   "execution_count": 85,
   "id": "c1feb13f",
   "metadata": {},
   "outputs": [],
   "source": [
    "from util.colour_mapper import colour_mapper\n",
    "import matplotlib as mpl\n",
    "\n",
    "def lineplot_decay_per_approach(data, data_forg, base,incr,metric, t, max_old, max_new, ord_list, savefig=None):\n",
    "    # https://stackoverflow.com/questions/6615002/given-an-rgb-value-how-do-i-create-a-tint-or-shade/6615053\n",
    "    # For tints, calculate (255 - previous value), \n",
    "    # multiply that by 1/4, 1/2, 3/4, etc. (the greater the factor, the lighter the tint),\n",
    "    # and add that to the previous value (assuming each.component is a 8-bit integer).\n",
    "    \n",
    "    mark = {1:'o', 2:'s', 3:'p', 5:'^', 10:'>', 20:'<'}\n",
    "\n",
    "    c = ['navy', 'mediumvioletred', 'rebeccapurple', 'darkolivegreen', 'lime', 'forestgreen']\n",
    "    p = {1:c[0], 2:c[1], 3:c[2], 5:c[3], 10:c[4], 20:c[5]}\n",
    "    \n",
    "    def make_lighter(rgba_color, weight=0.5):\n",
    "        delta = 255 - 255*rgba_color\n",
    "        delta = delta*weight\n",
    "        return (255*rgba_color + delta)/255\n",
    "    \n",
    "    plt.rcParams['xtick.bottom'] = True\n",
    "    plt.rcParams['ytick.left'] = True\n",
    "\n",
    "    # colors_top = plt.get_cmap('plasma', 3).colors\n",
    "    # colors_bottom = [[make_lighter(val, 0.6) for val in tpl] for tpl in colors_top]\n",
    "    \n",
    "    palette = dict([(appr_dict[k], colour_mapper()[k]) for k in ord_list])\n",
    "    colors_top = 'lightgray'\n",
    "    colors_bottom = 'gray'\n",
    "    xticks = [int(base+(i+1)*incr) for i in np.arange((40-base)/incr)]\n",
    "    xticks = [25,30,35,36,37,38,39,40]\n",
    "    fig, axes = plt.subplots(nrows=3, ncols=1, figsize=(7,7))\n",
    "\n",
    "    font_size = 14\n",
    "    mpl.rcParams.update({\n",
    "        'font.size': font_size,\n",
    "        'xtick.labelsize': font_size,\n",
    "        'ytick.labelsize': font_size,\n",
    "    })\n",
    "\n",
    "    col_idx = 0\n",
    "    #############################\n",
    "    ### TOP histo\n",
    "    #############################\n",
    "    ax = axes[0]\n",
    "\n",
    "    sns.lineplot(x='#Apps',y='F1 Score Drop', data=data[data['Type']=='New'], ax=ax, hue='incr',\n",
    "                 markers=mark, style='incr', linewidth = 1.5, markersize=11, palette=p,\n",
    "                mec='black',ci=None, alpha=0.75)\n",
    "\n",
    "    leg = ax.legend(title='Increment', bbox_to_anchor=(1.05, 1), loc=2, borderaxespad=0.)\n",
    "    leg.get_frame().set_linewidth(0.)\n",
    "    ax.set_xticks(xticks)\n",
    "    ax.xaxis.set_ticklabels(xticks)\n",
    "    ax.xaxis.set_ticklabels([])\n",
    "\n",
    "    ax.spines['bottom'].set_visible(False)\n",
    "    ax.spines['left'].set_visible(False)\n",
    "    ax.spines['right'].set_visible(False)\n",
    "    ax.set(xlabel=None)\n",
    "\n",
    "    if col_idx == 0:\n",
    "        ax.set_ylabel('Intransigence [%]')\n",
    "    else:\n",
    "        ax.yaxis.set_ticklabels([])   \n",
    "    for p in ax.patches:\n",
    "            ax.annotate(\n",
    "                f'{p.get_height():.2f}', \n",
    "               (p.get_x() + p.get_width() / 2., p.get_height()-.025), \n",
    "               ha = 'center', va = 'center', \n",
    "               xytext = (0, 9), \n",
    "               textcoords = 'offset points'\n",
    "            )\n",
    "\n",
    "            \n",
    "    #############################\n",
    "    ### MIDDLE histo\n",
    "    #############################\n",
    "    ax = axes[1]\n",
    "    ax.set_xticks(xticks)\n",
    "    ax.xaxis.set_ticklabels(xticks)\n",
    "    ax.tick_params(axis='x', which='major', length=5)\n",
    "    sns.lineplot(x='#Apps',y='F1 Score Drop', data=data[data['Type']=='Old'], ax=ax, hue='incr',\n",
    "                 markers=mark, style='incr', linewidth = 1.5, markersize=11, palette=p,\n",
    "                mec='black',ci=None, alpha=0.75)\n",
    "\n",
    "    ax.xaxis.set_ticklabels([])\n",
    "    ax.tick_params(axis='x', which='major', length=5)\n",
    "\n",
    "    ax.spines['top'].set_visible(False)\n",
    "    ax.spines['bottom'].set_visible(False)\n",
    "    ax.spines['left'].set_visible(False)\n",
    "    ax.spines['right'].set_visible(False)\n",
    "    ax.legend_ = None\n",
    "    ax.set(xlabel=None)\n",
    "\n",
    "    if col_idx == 0:\n",
    "        ax.set_ylabel('Drop Old [%]')\n",
    "    else:\n",
    "        ax.yaxis.set_ticklabels([])   \n",
    "    for p in ax.patches:\n",
    "            ax.annotate(\n",
    "                f'{p.get_height():.2f}', \n",
    "               (p.get_x() + p.get_width() / 2., p.get_height()-.025), \n",
    "               ha = 'center', va = 'center', \n",
    "               xytext = (0, 9), \n",
    "               textcoords = 'offset points'\n",
    "            )            \n",
    "            \n",
    "    #############################\n",
    "    ### BOTTOM histo\n",
    "    #############################\n",
    "    ax = axes[2]\n",
    "    sns.lineplot(x='#Apps', y='F1 Score Forgetting', data=data_forg[data_forg['Type']=='Old'], ax=ax, hue='incr',\n",
    "                 markers=mark, style='incr', linewidth = 1.5, markersize=11, palette=p,\n",
    "                mec='black',ci=None, alpha=0.75)\n",
    "\n",
    "    ax.set_xticks(xticks)\n",
    "    ax.xaxis.set_ticklabels(xticks)\n",
    "    ax.tick_params(axis='x', which='major', length=5)\n",
    "    ax.spines['bottom'].set_visible(False)\n",
    "    ax.spines['top'].set_visible(False)\n",
    "    ax.spines['left'].set_visible(False)\n",
    "    ax.spines['right'].set_visible(False)\n",
    "    ax.legend_ = None\n",
    "\n",
    "    if col_idx == 0:\n",
    "        ax.set_ylabel('Forgetting [%]')\n",
    "    else:\n",
    "        ax.yaxis.set_ticklabels([])\n",
    "\n",
    "    for p in ax.patches:\n",
    "        ax.annotate(\n",
    "            f'{p.get_height():.2f}', \n",
    "               (p.get_x() + p.get_width() / 2., p.get_height()+ 15 ), \n",
    "                ha = 'center', va = 'center', \n",
    "                xytext = (0, 9), \n",
    "                textcoords = 'offset points'\n",
    "            )\n",
    "    \n",
    "    if savefig:\n",
    "        plt.savefig('%s.pdf' % savefig, bbox_inches='tight')\n",
    "        plt.close()"
   ]
  },
  {
   "cell_type": "code",
   "execution_count": 90,
   "id": "c940ad7c",
   "metadata": {
    "scrolled": true
   },
   "outputs": [
    {
     "name": "stderr",
     "output_type": "stream",
     "text": [
      "100%|███████████████████████████████████████████████████████████████████████████████████████████████████████████████████████████████████████████████████████████████████████| 11/11 [00:00<00:00, 85.90it/s]\n",
      "100%|█████████████████████████████████████████████████████████████████████████████████████████████████████████████████████████████████████████████████████████████████████| 230/230 [00:02<00:00, 99.31it/s]\n"
     ]
    },
    {
     "name": "stdout",
     "output_type": "stream",
     "text": [
      "WARNING: group (0, -1, Lopez17CNN, All, 20) does not present Upperbound model.\n",
      "WARNING: group (0, -1, Lopez17CNN, All, 25) does not present Upperbound model.\n",
      "WARNING: group (0, -1, Lopez17CNN, All, 30) does not present Upperbound model.\n",
      "WARNING: group (0, -1, Lopez17CNN, All, 35) does not present Upperbound model.\n",
      "WARNING: group (0, -1, Lopez17CNN, All, 40) does not present Upperbound model.\n",
      "WARNING: group (0, -1, Lopez17CNN, Base, 20) does not present Upperbound model.\n",
      "WARNING: group (0, -1, Lopez17CNN, Base, 25) does not present Upperbound model.\n",
      "WARNING: group (0, -1, Lopez17CNN, Base, 30) does not present Upperbound model.\n",
      "WARNING: group (0, -1, Lopez17CNN, Base, 35) does not present Upperbound model.\n",
      "WARNING: group (0, -1, Lopez17CNN, Base, 40) does not present Upperbound model.\n",
      "WARNING: group (0, -1, Lopez17CNN, New, 20) does not present Upperbound model.\n",
      "WARNING: group (0, -1, Lopez17CNN, New, 25) does not present Upperbound model.\n",
      "WARNING: group (0, -1, Lopez17CNN, New, 30) does not present Upperbound model.\n",
      "WARNING: group (0, -1, Lopez17CNN, New, 35) does not present Upperbound model.\n",
      "WARNING: group (0, -1, Lopez17CNN, New, 40) does not present Upperbound model.\n",
      "WARNING: group (0, -1, Lopez17CNN, Old, 20) does not present Upperbound model.\n",
      "WARNING: group (0, -1, Lopez17CNN, Old, 25) does not present Upperbound model.\n",
      "WARNING: group (0, -1, Lopez17CNN, Old, 30) does not present Upperbound model.\n",
      "WARNING: group (0, -1, Lopez17CNN, Old, 35) does not present Upperbound model.\n",
      "WARNING: group (0, -1, Lopez17CNN, Old, 40) does not present Upperbound model.\n"
     ]
    },
    {
     "name": "stderr",
     "output_type": "stream",
     "text": [
      "100%|███████████████████████████████████████████████████████████████████████████████████████████████████████████████████████████████████████████████████████████████████████| 11/11 [00:00<00:00, 90.39it/s]\n",
      "100%|██████████████████████████████████████████████████████████████████████████████████████████████████████████████████████████████████████████████████████████████████████| 11/11 [00:00<00:00, 106.85it/s]\n",
      "100%|████████████████████████████████████████████████████████████████████████████████████████████████████████████████████████████████████████████████████████████████████| 230/230 [00:01<00:00, 209.01it/s]\n"
     ]
    },
    {
     "name": "stdout",
     "output_type": "stream",
     "text": [
      "WARNING: group (0, -1, Lopez17CNN, All, 20) does not present Upperbound model.\n",
      "WARNING: group (0, -1, Lopez17CNN, All, 25) does not present Upperbound model.\n",
      "WARNING: group (0, -1, Lopez17CNN, All, 30) does not present Upperbound model.\n",
      "WARNING: group (0, -1, Lopez17CNN, All, 35) does not present Upperbound model.\n",
      "WARNING: group (0, -1, Lopez17CNN, All, 40) does not present Upperbound model.\n",
      "WARNING: group (0, -1, Lopez17CNN, Base, 20) does not present Upperbound model.\n",
      "WARNING: group (0, -1, Lopez17CNN, Base, 25) does not present Upperbound model.\n",
      "WARNING: group (0, -1, Lopez17CNN, Base, 30) does not present Upperbound model.\n",
      "WARNING: group (0, -1, Lopez17CNN, Base, 35) does not present Upperbound model.\n",
      "WARNING: group (0, -1, Lopez17CNN, Base, 40) does not present Upperbound model.\n",
      "WARNING: group (0, -1, Lopez17CNN, New, 20) does not present Upperbound model.\n",
      "WARNING: group (0, -1, Lopez17CNN, New, 25) does not present Upperbound model.\n",
      "WARNING: group (0, -1, Lopez17CNN, New, 30) does not present Upperbound model.\n",
      "WARNING: group (0, -1, Lopez17CNN, New, 35) does not present Upperbound model.\n",
      "WARNING: group (0, -1, Lopez17CNN, New, 40) does not present Upperbound model.\n",
      "WARNING: group (0, -1, Lopez17CNN, Old, 20) does not present Upperbound model.\n",
      "WARNING: group (0, -1, Lopez17CNN, Old, 25) does not present Upperbound model.\n",
      "WARNING: group (0, -1, Lopez17CNN, Old, 30) does not present Upperbound model.\n",
      "WARNING: group (0, -1, Lopez17CNN, Old, 35) does not present Upperbound model.\n",
      "WARNING: group (0, -1, Lopez17CNN, Old, 40) does not present Upperbound model.\n"
     ]
    },
    {
     "name": "stderr",
     "output_type": "stream",
     "text": [
      "100%|██████████████████████████████████████████████████████████████████████████████████████████████████████████████████████████████████████████████████████████████████████| 11/11 [00:00<00:00, 104.62it/s]\n",
      "100%|██████████████████████████████████████████████████████████████████████████████████████████████████████████████████████████████████████████████████████████████████████| 11/11 [00:00<00:00, 130.87it/s]\n",
      "100%|████████████████████████████████████████████████████████████████████████████████████████████████████████████████████████████████████████████████████████████████████| 230/230 [00:01<00:00, 214.79it/s]\n"
     ]
    },
    {
     "name": "stdout",
     "output_type": "stream",
     "text": [
      "WARNING: group (0, -1, Lopez17CNN, All, 20) does not present Upperbound model.\n",
      "WARNING: group (0, -1, Lopez17CNN, All, 25) does not present Upperbound model.\n",
      "WARNING: group (0, -1, Lopez17CNN, All, 30) does not present Upperbound model.\n",
      "WARNING: group (0, -1, Lopez17CNN, All, 35) does not present Upperbound model.\n",
      "WARNING: group (0, -1, Lopez17CNN, All, 40) does not present Upperbound model.\n",
      "WARNING: group (0, -1, Lopez17CNN, Base, 20) does not present Upperbound model.\n",
      "WARNING: group (0, -1, Lopez17CNN, Base, 25) does not present Upperbound model.\n",
      "WARNING: group (0, -1, Lopez17CNN, Base, 30) does not present Upperbound model.\n",
      "WARNING: group (0, -1, Lopez17CNN, Base, 35) does not present Upperbound model.\n",
      "WARNING: group (0, -1, Lopez17CNN, Base, 40) does not present Upperbound model.\n",
      "WARNING: group (0, -1, Lopez17CNN, New, 20) does not present Upperbound model.\n",
      "WARNING: group (0, -1, Lopez17CNN, New, 25) does not present Upperbound model.\n",
      "WARNING: group (0, -1, Lopez17CNN, New, 30) does not present Upperbound model.\n",
      "WARNING: group (0, -1, Lopez17CNN, New, 35) does not present Upperbound model.\n",
      "WARNING: group (0, -1, Lopez17CNN, New, 40) does not present Upperbound model.\n",
      "WARNING: group (0, -1, Lopez17CNN, Old, 20) does not present Upperbound model.\n",
      "WARNING: group (0, -1, Lopez17CNN, Old, 25) does not present Upperbound model.\n",
      "WARNING: group (0, -1, Lopez17CNN, Old, 30) does not present Upperbound model.\n",
      "WARNING: group (0, -1, Lopez17CNN, Old, 35) does not present Upperbound model.\n",
      "WARNING: group (0, -1, Lopez17CNN, Old, 40) does not present Upperbound model.\n"
     ]
    },
    {
     "name": "stderr",
     "output_type": "stream",
     "text": [
      "100%|██████████████████████████████████████████████████████████████████████████████████████████████████████████████████████████████████████████████████████████████████████| 11/11 [00:00<00:00, 111.56it/s]\n",
      "100%|███████████████████████████████████████████████████████████████████████████████████████████████████████████████████████████████████████████████████████████████████████| 11/11 [00:00<00:00, 85.46it/s]\n",
      "100%|████████████████████████████████████████████████████████████████████████████████████████████████████████████████████████████████████████████████████████████████████| 230/230 [00:01<00:00, 228.31it/s]\n"
     ]
    },
    {
     "name": "stdout",
     "output_type": "stream",
     "text": [
      "WARNING: group (0, -1, Lopez17CNN, All, 20) does not present Upperbound model.\n",
      "WARNING: group (0, -1, Lopez17CNN, All, 25) does not present Upperbound model.\n",
      "WARNING: group (0, -1, Lopez17CNN, All, 30) does not present Upperbound model.\n",
      "WARNING: group (0, -1, Lopez17CNN, All, 35) does not present Upperbound model.\n",
      "WARNING: group (0, -1, Lopez17CNN, All, 40) does not present Upperbound model.\n",
      "WARNING: group (0, -1, Lopez17CNN, Base, 20) does not present Upperbound model.\n",
      "WARNING: group (0, -1, Lopez17CNN, Base, 25) does not present Upperbound model.\n",
      "WARNING: group (0, -1, Lopez17CNN, Base, 30) does not present Upperbound model.\n",
      "WARNING: group (0, -1, Lopez17CNN, Base, 35) does not present Upperbound model.\n",
      "WARNING: group (0, -1, Lopez17CNN, Base, 40) does not present Upperbound model.\n",
      "WARNING: group (0, -1, Lopez17CNN, New, 20) does not present Upperbound model.\n",
      "WARNING: group (0, -1, Lopez17CNN, New, 25) does not present Upperbound model.\n",
      "WARNING: group (0, -1, Lopez17CNN, New, 30) does not present Upperbound model.\n",
      "WARNING: group (0, -1, Lopez17CNN, New, 35) does not present Upperbound model.\n",
      "WARNING: group (0, -1, Lopez17CNN, New, 40) does not present Upperbound model.\n",
      "WARNING: group (0, -1, Lopez17CNN, Old, 20) does not present Upperbound model.\n",
      "WARNING: group (0, -1, Lopez17CNN, Old, 25) does not present Upperbound model.\n",
      "WARNING: group (0, -1, Lopez17CNN, Old, 30) does not present Upperbound model.\n",
      "WARNING: group (0, -1, Lopez17CNN, Old, 35) does not present Upperbound model.\n",
      "WARNING: group (0, -1, Lopez17CNN, Old, 40) does not present Upperbound model.\n"
     ]
    },
    {
     "name": "stderr",
     "output_type": "stream",
     "text": [
      "100%|███████████████████████████████████████████████████████████████████████████████████████████████████████████████████████████████████████████████████████████████████████| 11/11 [00:00<00:00, 73.54it/s]\n",
      "100%|███████████████████████████████████████████████████████████████████████████████████████████████████████████████████████████████████████████████████████████████████████| 11/11 [00:00<00:00, 89.21it/s]\n",
      "100%|████████████████████████████████████████████████████████████████████████████████████████████████████████████████████████████████████████████████████████████████████| 230/230 [00:01<00:00, 216.78it/s]\n"
     ]
    },
    {
     "name": "stdout",
     "output_type": "stream",
     "text": [
      "WARNING: group (0, -1, Lopez17CNN, All, 20) does not present Upperbound model.\n",
      "WARNING: group (0, -1, Lopez17CNN, All, 25) does not present Upperbound model.\n",
      "WARNING: group (0, -1, Lopez17CNN, All, 30) does not present Upperbound model.\n",
      "WARNING: group (0, -1, Lopez17CNN, All, 35) does not present Upperbound model.\n",
      "WARNING: group (0, -1, Lopez17CNN, All, 40) does not present Upperbound model.\n",
      "WARNING: group (0, -1, Lopez17CNN, Base, 20) does not present Upperbound model.\n",
      "WARNING: group (0, -1, Lopez17CNN, Base, 25) does not present Upperbound model.\n",
      "WARNING: group (0, -1, Lopez17CNN, Base, 30) does not present Upperbound model.\n",
      "WARNING: group (0, -1, Lopez17CNN, Base, 35) does not present Upperbound model.\n",
      "WARNING: group (0, -1, Lopez17CNN, Base, 40) does not present Upperbound model.\n",
      "WARNING: group (0, -1, Lopez17CNN, New, 20) does not present Upperbound model.\n",
      "WARNING: group (0, -1, Lopez17CNN, New, 25) does not present Upperbound model.\n",
      "WARNING: group (0, -1, Lopez17CNN, New, 30) does not present Upperbound model.\n",
      "WARNING: group (0, -1, Lopez17CNN, New, 35) does not present Upperbound model.\n",
      "WARNING: group (0, -1, Lopez17CNN, New, 40) does not present Upperbound model.\n",
      "WARNING: group (0, -1, Lopez17CNN, Old, 20) does not present Upperbound model.\n",
      "WARNING: group (0, -1, Lopez17CNN, Old, 25) does not present Upperbound model.\n",
      "WARNING: group (0, -1, Lopez17CNN, Old, 30) does not present Upperbound model.\n",
      "WARNING: group (0, -1, Lopez17CNN, Old, 35) does not present Upperbound model.\n",
      "WARNING: group (0, -1, Lopez17CNN, Old, 40) does not present Upperbound model.\n"
     ]
    },
    {
     "name": "stderr",
     "output_type": "stream",
     "text": [
      "100%|██████████████████████████████████████████████████████████████████████████████████████████████████████████████████████████████████████████████████████████████████████| 11/11 [00:00<00:00, 106.00it/s]\n",
      "100%|███████████████████████████████████████████████████████████████████████████████████████████████████████████████████████████████████████████████████████████████████████| 11/11 [00:00<00:00, 96.97it/s]\n",
      "100%|████████████████████████████████████████████████████████████████████████████████████████████████████████████████████████████████████████████████████████████████████| 230/230 [00:01<00:00, 227.25it/s]\n"
     ]
    },
    {
     "name": "stdout",
     "output_type": "stream",
     "text": [
      "WARNING: group (0, -1, Lopez17CNN, All, 20) does not present Upperbound model.\n",
      "WARNING: group (0, -1, Lopez17CNN, All, 25) does not present Upperbound model.\n",
      "WARNING: group (0, -1, Lopez17CNN, All, 30) does not present Upperbound model.\n",
      "WARNING: group (0, -1, Lopez17CNN, All, 35) does not present Upperbound model.\n",
      "WARNING: group (0, -1, Lopez17CNN, All, 40) does not present Upperbound model.\n",
      "WARNING: group (0, -1, Lopez17CNN, Base, 20) does not present Upperbound model.\n",
      "WARNING: group (0, -1, Lopez17CNN, Base, 25) does not present Upperbound model.\n",
      "WARNING: group (0, -1, Lopez17CNN, Base, 30) does not present Upperbound model.\n",
      "WARNING: group (0, -1, Lopez17CNN, Base, 35) does not present Upperbound model.\n",
      "WARNING: group (0, -1, Lopez17CNN, Base, 40) does not present Upperbound model.\n",
      "WARNING: group (0, -1, Lopez17CNN, New, 20) does not present Upperbound model.\n",
      "WARNING: group (0, -1, Lopez17CNN, New, 25) does not present Upperbound model.\n",
      "WARNING: group (0, -1, Lopez17CNN, New, 30) does not present Upperbound model.\n",
      "WARNING: group (0, -1, Lopez17CNN, New, 35) does not present Upperbound model.\n",
      "WARNING: group (0, -1, Lopez17CNN, New, 40) does not present Upperbound model.\n",
      "WARNING: group (0, -1, Lopez17CNN, Old, 20) does not present Upperbound model.\n",
      "WARNING: group (0, -1, Lopez17CNN, Old, 25) does not present Upperbound model.\n",
      "WARNING: group (0, -1, Lopez17CNN, Old, 30) does not present Upperbound model.\n",
      "WARNING: group (0, -1, Lopez17CNN, Old, 35) does not present Upperbound model.\n",
      "WARNING: group (0, -1, Lopez17CNN, Old, 40) does not present Upperbound model.\n"
     ]
    },
    {
     "name": "stderr",
     "output_type": "stream",
     "text": [
      "100%|██████████████████████████████████████████████████████████████████████████████████████████████████████████████████████████████████████████████████████████████████████| 11/11 [00:00<00:00, 104.03it/s]\n",
      "100%|███████████████████████████████████████████████████████████████████████████████████████████████████████████████████████████████████████████████████████████████████████| 11/11 [00:00<00:00, 65.57it/s]\n",
      "100%|████████████████████████████████████████████████████████████████████████████████████████████████████████████████████████████████████████████████████████████████████| 230/230 [00:01<00:00, 227.08it/s]\n"
     ]
    },
    {
     "name": "stdout",
     "output_type": "stream",
     "text": [
      "WARNING: group (0, -1, Lopez17CNN, All, 20) does not present Upperbound model.\n",
      "WARNING: group (0, -1, Lopez17CNN, All, 25) does not present Upperbound model.\n",
      "WARNING: group (0, -1, Lopez17CNN, All, 30) does not present Upperbound model.\n",
      "WARNING: group (0, -1, Lopez17CNN, All, 35) does not present Upperbound model.\n",
      "WARNING: group (0, -1, Lopez17CNN, All, 40) does not present Upperbound model.\n",
      "WARNING: group (0, -1, Lopez17CNN, Base, 20) does not present Upperbound model.\n",
      "WARNING: group (0, -1, Lopez17CNN, Base, 25) does not present Upperbound model.\n",
      "WARNING: group (0, -1, Lopez17CNN, Base, 30) does not present Upperbound model.\n",
      "WARNING: group (0, -1, Lopez17CNN, Base, 35) does not present Upperbound model.\n",
      "WARNING: group (0, -1, Lopez17CNN, Base, 40) does not present Upperbound model.\n",
      "WARNING: group (0, -1, Lopez17CNN, New, 20) does not present Upperbound model.\n",
      "WARNING: group (0, -1, Lopez17CNN, New, 25) does not present Upperbound model.\n",
      "WARNING: group (0, -1, Lopez17CNN, New, 30) does not present Upperbound model.\n",
      "WARNING: group (0, -1, Lopez17CNN, New, 35) does not present Upperbound model.\n",
      "WARNING: group (0, -1, Lopez17CNN, New, 40) does not present Upperbound model.\n",
      "WARNING: group (0, -1, Lopez17CNN, Old, 20) does not present Upperbound model.\n",
      "WARNING: group (0, -1, Lopez17CNN, Old, 25) does not present Upperbound model.\n",
      "WARNING: group (0, -1, Lopez17CNN, Old, 30) does not present Upperbound model.\n",
      "WARNING: group (0, -1, Lopez17CNN, Old, 35) does not present Upperbound model.\n",
      "WARNING: group (0, -1, Lopez17CNN, Old, 40) does not present Upperbound model.\n"
     ]
    },
    {
     "name": "stderr",
     "output_type": "stream",
     "text": [
      "100%|██████████████████████████████████████████████████████████████████████████████████████████████████████████████████████████████████████████████████████████████████████| 11/11 [00:00<00:00, 107.13it/s]\n",
      "100%|███████████████████████████████████████████████████████████████████████████████████████████████████████████████████████████████████████████████████████████████████████| 11/11 [00:00<00:00, 95.45it/s]\n",
      "100%|████████████████████████████████████████████████████████████████████████████████████████████████████████████████████████████████████████████████████████████████████| 230/230 [00:01<00:00, 217.15it/s]\n"
     ]
    },
    {
     "name": "stdout",
     "output_type": "stream",
     "text": [
      "WARNING: group (0, -1, Lopez17CNN, All, 20) does not present Upperbound model.\n",
      "WARNING: group (0, -1, Lopez17CNN, All, 25) does not present Upperbound model.\n",
      "WARNING: group (0, -1, Lopez17CNN, All, 30) does not present Upperbound model.\n",
      "WARNING: group (0, -1, Lopez17CNN, All, 35) does not present Upperbound model.\n",
      "WARNING: group (0, -1, Lopez17CNN, All, 40) does not present Upperbound model.\n",
      "WARNING: group (0, -1, Lopez17CNN, Base, 20) does not present Upperbound model.\n",
      "WARNING: group (0, -1, Lopez17CNN, Base, 25) does not present Upperbound model.\n",
      "WARNING: group (0, -1, Lopez17CNN, Base, 30) does not present Upperbound model.\n",
      "WARNING: group (0, -1, Lopez17CNN, Base, 35) does not present Upperbound model.\n",
      "WARNING: group (0, -1, Lopez17CNN, Base, 40) does not present Upperbound model.\n",
      "WARNING: group (0, -1, Lopez17CNN, New, 20) does not present Upperbound model.\n",
      "WARNING: group (0, -1, Lopez17CNN, New, 25) does not present Upperbound model.\n",
      "WARNING: group (0, -1, Lopez17CNN, New, 30) does not present Upperbound model.\n",
      "WARNING: group (0, -1, Lopez17CNN, New, 35) does not present Upperbound model.\n",
      "WARNING: group (0, -1, Lopez17CNN, New, 40) does not present Upperbound model.\n",
      "WARNING: group (0, -1, Lopez17CNN, Old, 20) does not present Upperbound model.\n",
      "WARNING: group (0, -1, Lopez17CNN, Old, 25) does not present Upperbound model.\n",
      "WARNING: group (0, -1, Lopez17CNN, Old, 30) does not present Upperbound model.\n",
      "WARNING: group (0, -1, Lopez17CNN, Old, 35) does not present Upperbound model.\n",
      "WARNING: group (0, -1, Lopez17CNN, Old, 40) does not present Upperbound model.\n"
     ]
    },
    {
     "name": "stderr",
     "output_type": "stream",
     "text": [
      "100%|██████████████████████████████████████████████████████████████████████████████████████████████████████████████████████████████████████████████████████████████████████| 11/11 [00:00<00:00, 101.60it/s]\n",
      "100%|███████████████████████████████████████████████████████████████████████████████████████████████████████████████████████████████████████████████████████████████████████| 11/11 [00:00<00:00, 99.77it/s]\n",
      "100%|████████████████████████████████████████████████████████████████████████████████████████████████████████████████████████████████████████████████████████████████████| 230/230 [00:01<00:00, 222.17it/s]\n"
     ]
    },
    {
     "name": "stdout",
     "output_type": "stream",
     "text": [
      "WARNING: group (0, -1, Lopez17CNN, All, 20) does not present Upperbound model.\n",
      "WARNING: group (0, -1, Lopez17CNN, All, 25) does not present Upperbound model.\n",
      "WARNING: group (0, -1, Lopez17CNN, All, 30) does not present Upperbound model.\n",
      "WARNING: group (0, -1, Lopez17CNN, All, 35) does not present Upperbound model.\n",
      "WARNING: group (0, -1, Lopez17CNN, All, 40) does not present Upperbound model.\n",
      "WARNING: group (0, -1, Lopez17CNN, Base, 20) does not present Upperbound model.\n",
      "WARNING: group (0, -1, Lopez17CNN, Base, 25) does not present Upperbound model.\n",
      "WARNING: group (0, -1, Lopez17CNN, Base, 30) does not present Upperbound model.\n",
      "WARNING: group (0, -1, Lopez17CNN, Base, 35) does not present Upperbound model.\n",
      "WARNING: group (0, -1, Lopez17CNN, Base, 40) does not present Upperbound model.\n",
      "WARNING: group (0, -1, Lopez17CNN, New, 20) does not present Upperbound model.\n",
      "WARNING: group (0, -1, Lopez17CNN, New, 25) does not present Upperbound model.\n",
      "WARNING: group (0, -1, Lopez17CNN, New, 30) does not present Upperbound model.\n",
      "WARNING: group (0, -1, Lopez17CNN, New, 35) does not present Upperbound model.\n",
      "WARNING: group (0, -1, Lopez17CNN, New, 40) does not present Upperbound model.\n",
      "WARNING: group (0, -1, Lopez17CNN, Old, 20) does not present Upperbound model.\n",
      "WARNING: group (0, -1, Lopez17CNN, Old, 25) does not present Upperbound model.\n",
      "WARNING: group (0, -1, Lopez17CNN, Old, 30) does not present Upperbound model.\n",
      "WARNING: group (0, -1, Lopez17CNN, Old, 35) does not present Upperbound model.\n",
      "WARNING: group (0, -1, Lopez17CNN, Old, 40) does not present Upperbound model.\n"
     ]
    },
    {
     "name": "stderr",
     "output_type": "stream",
     "text": [
      "100%|██████████████████████████████████████████████████████████████████████████████████████████████████████████████████████████████████████████████████████████████████████| 11/11 [00:00<00:00, 111.73it/s]\n",
      "100%|███████████████████████████████████████████████████████████████████████████████████████████████████████████████████████████████████████████████████████████████████████| 10/10 [00:00<00:00, 89.75it/s]\n",
      "100%|████████████████████████████████████████████████████████████████████████████████████████████████████████████████████████████████████████████████████████████████████| 230/230 [00:01<00:00, 223.06it/s]\n",
      "100%|██████████████████████████████████████████████████████████████████████████████████████████████████████████████████████████████████████████████████████████████████████| 10/10 [00:00<00:00, 100.25it/s]\n",
      "100%|██████████████████████████████████████████████████████████████████████████████████████████████████████████████████████████████████████████████████████████████████████| 20/20 [00:00<00:00, 110.46it/s]\n",
      "100%|████████████████████████████████████████████████████████████████████████████████████████████████████████████████████████████████████████████████████████████████████| 230/230 [00:01<00:00, 224.59it/s]\n",
      "100%|███████████████████████████████████████████████████████████████████████████████████████████████████████████████████████████████████████████████████████████████████████| 20/20 [00:00<00:00, 98.65it/s]\n",
      "100%|██████████████████████████████████████████████████████████████████████████████████████████████████████████████████████████████████████████████████████████████████████| 30/30 [00:00<00:00, 106.04it/s]\n",
      "100%|████████████████████████████████████████████████████████████████████████████████████████████████████████████████████████████████████████████████████████████████████| 230/230 [00:01<00:00, 209.37it/s]\n",
      "100%|███████████████████████████████████████████████████████████████████████████████████████████████████████████████████████████████████████████████████████████████████████| 30/30 [00:00<00:00, 99.78it/s]\n",
      "100%|██████████████████████████████████████████████████████████████████████████████████████████████████████████████████████████████████████████████████████████████████████| 11/11 [00:00<00:00, 101.42it/s]\n",
      "100%|████████████████████████████████████████████████████████████████████████████████████████████████████████████████████████████████████████████████████████████████████| 230/230 [00:01<00:00, 207.58it/s]\n"
     ]
    },
    {
     "name": "stdout",
     "output_type": "stream",
     "text": [
      "WARNING: group (0, -1, Lopez17CNN, All, 34) does not present Upperbound model.\n",
      "WARNING: group (0, -1, Lopez17CNN, All, 35) does not present Upperbound model.\n",
      "WARNING: group (0, -1, Lopez17CNN, All, 36) does not present Upperbound model.\n",
      "WARNING: group (0, -1, Lopez17CNN, All, 37) does not present Upperbound model.\n",
      "WARNING: group (0, -1, Lopez17CNN, All, 38) does not present Upperbound model.\n",
      "WARNING: group (0, -1, Lopez17CNN, All, 40) does not present Upperbound model.\n",
      "WARNING: group (0, -1, Lopez17CNN, Base, 34) does not present Upperbound model.\n",
      "WARNING: group (0, -1, Lopez17CNN, Base, 35) does not present Upperbound model.\n",
      "WARNING: group (0, -1, Lopez17CNN, Base, 36) does not present Upperbound model.\n",
      "WARNING: group (0, -1, Lopez17CNN, Base, 37) does not present Upperbound model.\n",
      "WARNING: group (0, -1, Lopez17CNN, Base, 38) does not present Upperbound model.\n",
      "WARNING: group (0, -1, Lopez17CNN, Base, 40) does not present Upperbound model.\n",
      "WARNING: group (0, -1, Lopez17CNN, New, 34) does not present Upperbound model.\n",
      "WARNING: group (0, -1, Lopez17CNN, New, 35) does not present Upperbound model.\n",
      "WARNING: group (0, -1, Lopez17CNN, New, 36) does not present Upperbound model.\n",
      "WARNING: group (0, -1, Lopez17CNN, New, 37) does not present Upperbound model.\n",
      "WARNING: group (0, -1, Lopez17CNN, New, 38) does not present Upperbound model.\n",
      "WARNING: group (0, -1, Lopez17CNN, New, 40) does not present Upperbound model.\n",
      "WARNING: group (0, -1, Lopez17CNN, Old, 34) does not present Upperbound model.\n",
      "WARNING: group (0, -1, Lopez17CNN, Old, 35) does not present Upperbound model.\n",
      "WARNING: group (0, -1, Lopez17CNN, Old, 36) does not present Upperbound model.\n",
      "WARNING: group (0, -1, Lopez17CNN, Old, 37) does not present Upperbound model.\n",
      "WARNING: group (0, -1, Lopez17CNN, Old, 38) does not present Upperbound model.\n",
      "WARNING: group (0, -1, Lopez17CNN, Old, 40) does not present Upperbound model.\n"
     ]
    },
    {
     "name": "stderr",
     "output_type": "stream",
     "text": [
      "100%|███████████████████████████████████████████████████████████████████████████████████████████████████████████████████████████████████████████████████████████████████████| 11/11 [00:00<00:00, 96.94it/s]\n",
      "100%|███████████████████████████████████████████████████████████████████████████████████████████████████████████████████████████████████████████████████████████████████████| 20/20 [00:00<00:00, 91.97it/s]\n",
      "100%|████████████████████████████████████████████████████████████████████████████████████████████████████████████████████████████████████████████████████████████████████| 230/230 [00:01<00:00, 208.99it/s]\n"
     ]
    },
    {
     "name": "stdout",
     "output_type": "stream",
     "text": [
      "WARNING: group (0, -1, Lopez17CNN, All, 34) does not present Upperbound model.\n",
      "WARNING: group (0, -1, Lopez17CNN, All, 35) does not present Upperbound model.\n",
      "WARNING: group (0, -1, Lopez17CNN, All, 36) does not present Upperbound model.\n",
      "WARNING: group (0, -1, Lopez17CNN, All, 37) does not present Upperbound model.\n",
      "WARNING: group (0, -1, Lopez17CNN, All, 38) does not present Upperbound model.\n",
      "WARNING: group (0, -1, Lopez17CNN, All, 40) does not present Upperbound model.\n",
      "WARNING: group (0, -1, Lopez17CNN, Base, 34) does not present Upperbound model.\n",
      "WARNING: group (0, -1, Lopez17CNN, Base, 35) does not present Upperbound model.\n",
      "WARNING: group (0, -1, Lopez17CNN, Base, 36) does not present Upperbound model.\n",
      "WARNING: group (0, -1, Lopez17CNN, Base, 37) does not present Upperbound model.\n",
      "WARNING: group (0, -1, Lopez17CNN, Base, 38) does not present Upperbound model.\n",
      "WARNING: group (0, -1, Lopez17CNN, Base, 40) does not present Upperbound model.\n",
      "WARNING: group (0, -1, Lopez17CNN, New, 34) does not present Upperbound model.\n",
      "WARNING: group (0, -1, Lopez17CNN, New, 35) does not present Upperbound model.\n",
      "WARNING: group (0, -1, Lopez17CNN, New, 36) does not present Upperbound model.\n",
      "WARNING: group (0, -1, Lopez17CNN, New, 37) does not present Upperbound model.\n",
      "WARNING: group (0, -1, Lopez17CNN, New, 38) does not present Upperbound model.\n",
      "WARNING: group (0, -1, Lopez17CNN, New, 40) does not present Upperbound model.\n",
      "WARNING: group (0, -1, Lopez17CNN, Old, 34) does not present Upperbound model.\n",
      "WARNING: group (0, -1, Lopez17CNN, Old, 35) does not present Upperbound model.\n",
      "WARNING: group (0, -1, Lopez17CNN, Old, 36) does not present Upperbound model.\n",
      "WARNING: group (0, -1, Lopez17CNN, Old, 37) does not present Upperbound model.\n",
      "WARNING: group (0, -1, Lopez17CNN, Old, 38) does not present Upperbound model.\n",
      "WARNING: group (0, -1, Lopez17CNN, Old, 40) does not present Upperbound model.\n"
     ]
    },
    {
     "name": "stderr",
     "output_type": "stream",
     "text": [
      "100%|███████████████████████████████████████████████████████████████████████████████████████████████████████████████████████████████████████████████████████████████████████| 20/20 [00:00<00:00, 99.81it/s]\n",
      "100%|███████████████████████████████████████████████████████████████████████████████████████████████████████████████████████████████████████████████████████████████████████| 11/11 [00:00<00:00, 75.95it/s]\n",
      "100%|████████████████████████████████████████████████████████████████████████████████████████████████████████████████████████████████████████████████████████████████████| 230/230 [00:01<00:00, 213.77it/s]\n"
     ]
    },
    {
     "name": "stdout",
     "output_type": "stream",
     "text": [
      "WARNING: group (0, -1, Lopez17CNN, All, 34) does not present Upperbound model.\n",
      "WARNING: group (0, -1, Lopez17CNN, All, 35) does not present Upperbound model.\n",
      "WARNING: group (0, -1, Lopez17CNN, All, 36) does not present Upperbound model.\n",
      "WARNING: group (0, -1, Lopez17CNN, All, 37) does not present Upperbound model.\n",
      "WARNING: group (0, -1, Lopez17CNN, All, 38) does not present Upperbound model.\n",
      "WARNING: group (0, -1, Lopez17CNN, All, 40) does not present Upperbound model.\n",
      "WARNING: group (0, -1, Lopez17CNN, Base, 34) does not present Upperbound model.\n",
      "WARNING: group (0, -1, Lopez17CNN, Base, 35) does not present Upperbound model.\n",
      "WARNING: group (0, -1, Lopez17CNN, Base, 36) does not present Upperbound model.\n",
      "WARNING: group (0, -1, Lopez17CNN, Base, 37) does not present Upperbound model.\n",
      "WARNING: group (0, -1, Lopez17CNN, Base, 38) does not present Upperbound model.\n",
      "WARNING: group (0, -1, Lopez17CNN, Base, 40) does not present Upperbound model.\n",
      "WARNING: group (0, -1, Lopez17CNN, New, 34) does not present Upperbound model.\n",
      "WARNING: group (0, -1, Lopez17CNN, New, 35) does not present Upperbound model.\n",
      "WARNING: group (0, -1, Lopez17CNN, New, 36) does not present Upperbound model.\n",
      "WARNING: group (0, -1, Lopez17CNN, New, 37) does not present Upperbound model.\n",
      "WARNING: group (0, -1, Lopez17CNN, New, 38) does not present Upperbound model.\n",
      "WARNING: group (0, -1, Lopez17CNN, New, 40) does not present Upperbound model.\n",
      "WARNING: group (0, -1, Lopez17CNN, Old, 34) does not present Upperbound model.\n",
      "WARNING: group (0, -1, Lopez17CNN, Old, 35) does not present Upperbound model.\n",
      "WARNING: group (0, -1, Lopez17CNN, Old, 36) does not present Upperbound model.\n",
      "WARNING: group (0, -1, Lopez17CNN, Old, 37) does not present Upperbound model.\n",
      "WARNING: group (0, -1, Lopez17CNN, Old, 38) does not present Upperbound model.\n",
      "WARNING: group (0, -1, Lopez17CNN, Old, 40) does not present Upperbound model.\n"
     ]
    },
    {
     "name": "stderr",
     "output_type": "stream",
     "text": [
      "100%|███████████████████████████████████████████████████████████████████████████████████████████████████████████████████████████████████████████████████████████████████████| 11/11 [00:00<00:00, 97.73it/s]\n",
      "100%|██████████████████████████████████████████████████████████████████████████████████████████████████████████████████████████████████████████████████████████████████████| 11/11 [00:00<00:00, 104.83it/s]\n",
      "100%|████████████████████████████████████████████████████████████████████████████████████████████████████████████████████████████████████████████████████████████████████| 230/230 [00:01<00:00, 215.94it/s]\n"
     ]
    },
    {
     "name": "stdout",
     "output_type": "stream",
     "text": [
      "WARNING: group (0, -1, Lopez17CNN, All, 34) does not present Upperbound model.\n",
      "WARNING: group (0, -1, Lopez17CNN, All, 35) does not present Upperbound model.\n",
      "WARNING: group (0, -1, Lopez17CNN, All, 36) does not present Upperbound model.\n",
      "WARNING: group (0, -1, Lopez17CNN, All, 37) does not present Upperbound model.\n",
      "WARNING: group (0, -1, Lopez17CNN, All, 38) does not present Upperbound model.\n",
      "WARNING: group (0, -1, Lopez17CNN, All, 40) does not present Upperbound model.\n",
      "WARNING: group (0, -1, Lopez17CNN, Base, 34) does not present Upperbound model.\n",
      "WARNING: group (0, -1, Lopez17CNN, Base, 35) does not present Upperbound model.\n",
      "WARNING: group (0, -1, Lopez17CNN, Base, 36) does not present Upperbound model.\n",
      "WARNING: group (0, -1, Lopez17CNN, Base, 37) does not present Upperbound model.\n",
      "WARNING: group (0, -1, Lopez17CNN, Base, 38) does not present Upperbound model.\n",
      "WARNING: group (0, -1, Lopez17CNN, Base, 40) does not present Upperbound model.\n",
      "WARNING: group (0, -1, Lopez17CNN, New, 34) does not present Upperbound model.\n",
      "WARNING: group (0, -1, Lopez17CNN, New, 35) does not present Upperbound model.\n",
      "WARNING: group (0, -1, Lopez17CNN, New, 36) does not present Upperbound model.\n",
      "WARNING: group (0, -1, Lopez17CNN, New, 37) does not present Upperbound model.\n",
      "WARNING: group (0, -1, Lopez17CNN, New, 38) does not present Upperbound model.\n",
      "WARNING: group (0, -1, Lopez17CNN, New, 40) does not present Upperbound model.\n",
      "WARNING: group (0, -1, Lopez17CNN, Old, 34) does not present Upperbound model.\n",
      "WARNING: group (0, -1, Lopez17CNN, Old, 35) does not present Upperbound model.\n",
      "WARNING: group (0, -1, Lopez17CNN, Old, 36) does not present Upperbound model.\n",
      "WARNING: group (0, -1, Lopez17CNN, Old, 37) does not present Upperbound model.\n",
      "WARNING: group (0, -1, Lopez17CNN, Old, 38) does not present Upperbound model.\n",
      "WARNING: group (0, -1, Lopez17CNN, Old, 40) does not present Upperbound model.\n"
     ]
    },
    {
     "name": "stderr",
     "output_type": "stream",
     "text": [
      "100%|███████████████████████████████████████████████████████████████████████████████████████████████████████████████████████████████████████████████████████████████████████| 11/11 [00:00<00:00, 92.87it/s]\n",
      "100%|███████████████████████████████████████████████████████████████████████████████████████████████████████████████████████████████████████████████████████████████████████| 11/11 [00:00<00:00, 93.69it/s]\n",
      "100%|████████████████████████████████████████████████████████████████████████████████████████████████████████████████████████████████████████████████████████████████████| 230/230 [00:01<00:00, 206.47it/s]\n"
     ]
    },
    {
     "name": "stdout",
     "output_type": "stream",
     "text": [
      "WARNING: group (0, -1, Lopez17CNN, All, 34) does not present Upperbound model.\n",
      "WARNING: group (0, -1, Lopez17CNN, All, 35) does not present Upperbound model.\n",
      "WARNING: group (0, -1, Lopez17CNN, All, 36) does not present Upperbound model.\n",
      "WARNING: group (0, -1, Lopez17CNN, All, 37) does not present Upperbound model.\n",
      "WARNING: group (0, -1, Lopez17CNN, All, 38) does not present Upperbound model.\n",
      "WARNING: group (0, -1, Lopez17CNN, All, 40) does not present Upperbound model.\n",
      "WARNING: group (0, -1, Lopez17CNN, Base, 34) does not present Upperbound model.\n",
      "WARNING: group (0, -1, Lopez17CNN, Base, 35) does not present Upperbound model.\n",
      "WARNING: group (0, -1, Lopez17CNN, Base, 36) does not present Upperbound model.\n",
      "WARNING: group (0, -1, Lopez17CNN, Base, 37) does not present Upperbound model.\n",
      "WARNING: group (0, -1, Lopez17CNN, Base, 38) does not present Upperbound model.\n",
      "WARNING: group (0, -1, Lopez17CNN, Base, 40) does not present Upperbound model.\n",
      "WARNING: group (0, -1, Lopez17CNN, New, 34) does not present Upperbound model.\n",
      "WARNING: group (0, -1, Lopez17CNN, New, 35) does not present Upperbound model.\n",
      "WARNING: group (0, -1, Lopez17CNN, New, 36) does not present Upperbound model.\n",
      "WARNING: group (0, -1, Lopez17CNN, New, 37) does not present Upperbound model.\n",
      "WARNING: group (0, -1, Lopez17CNN, New, 38) does not present Upperbound model.\n",
      "WARNING: group (0, -1, Lopez17CNN, New, 40) does not present Upperbound model.\n",
      "WARNING: group (0, -1, Lopez17CNN, Old, 34) does not present Upperbound model.\n",
      "WARNING: group (0, -1, Lopez17CNN, Old, 35) does not present Upperbound model.\n",
      "WARNING: group (0, -1, Lopez17CNN, Old, 36) does not present Upperbound model.\n",
      "WARNING: group (0, -1, Lopez17CNN, Old, 37) does not present Upperbound model.\n",
      "WARNING: group (0, -1, Lopez17CNN, Old, 38) does not present Upperbound model.\n",
      "WARNING: group (0, -1, Lopez17CNN, Old, 40) does not present Upperbound model.\n"
     ]
    },
    {
     "name": "stderr",
     "output_type": "stream",
     "text": [
      "100%|███████████████████████████████████████████████████████████████████████████████████████████████████████████████████████████████████████████████████████████████████████| 11/11 [00:00<00:00, 98.04it/s]\n",
      "100%|██████████████████████████████████████████████████████████████████████████████████████████████████████████████████████████████████████████████████████████████████████| 11/11 [00:00<00:00, 113.39it/s]\n",
      "100%|████████████████████████████████████████████████████████████████████████████████████████████████████████████████████████████████████████████████████████████████████| 230/230 [00:01<00:00, 219.44it/s]\n"
     ]
    },
    {
     "name": "stdout",
     "output_type": "stream",
     "text": [
      "WARNING: group (0, -1, Lopez17CNN, All, 34) does not present Upperbound model.\n",
      "WARNING: group (0, -1, Lopez17CNN, All, 35) does not present Upperbound model.\n",
      "WARNING: group (0, -1, Lopez17CNN, All, 36) does not present Upperbound model.\n",
      "WARNING: group (0, -1, Lopez17CNN, All, 37) does not present Upperbound model.\n",
      "WARNING: group (0, -1, Lopez17CNN, All, 38) does not present Upperbound model.\n",
      "WARNING: group (0, -1, Lopez17CNN, All, 40) does not present Upperbound model.\n",
      "WARNING: group (0, -1, Lopez17CNN, Base, 34) does not present Upperbound model.\n",
      "WARNING: group (0, -1, Lopez17CNN, Base, 35) does not present Upperbound model.\n",
      "WARNING: group (0, -1, Lopez17CNN, Base, 36) does not present Upperbound model.\n",
      "WARNING: group (0, -1, Lopez17CNN, Base, 37) does not present Upperbound model.\n",
      "WARNING: group (0, -1, Lopez17CNN, Base, 38) does not present Upperbound model.\n",
      "WARNING: group (0, -1, Lopez17CNN, Base, 40) does not present Upperbound model.\n",
      "WARNING: group (0, -1, Lopez17CNN, New, 34) does not present Upperbound model.\n",
      "WARNING: group (0, -1, Lopez17CNN, New, 35) does not present Upperbound model.\n",
      "WARNING: group (0, -1, Lopez17CNN, New, 36) does not present Upperbound model.\n",
      "WARNING: group (0, -1, Lopez17CNN, New, 37) does not present Upperbound model.\n",
      "WARNING: group (0, -1, Lopez17CNN, New, 38) does not present Upperbound model.\n",
      "WARNING: group (0, -1, Lopez17CNN, New, 40) does not present Upperbound model.\n",
      "WARNING: group (0, -1, Lopez17CNN, Old, 34) does not present Upperbound model.\n",
      "WARNING: group (0, -1, Lopez17CNN, Old, 35) does not present Upperbound model.\n",
      "WARNING: group (0, -1, Lopez17CNN, Old, 36) does not present Upperbound model.\n",
      "WARNING: group (0, -1, Lopez17CNN, Old, 37) does not present Upperbound model.\n",
      "WARNING: group (0, -1, Lopez17CNN, Old, 38) does not present Upperbound model.\n",
      "WARNING: group (0, -1, Lopez17CNN, Old, 40) does not present Upperbound model.\n"
     ]
    },
    {
     "name": "stderr",
     "output_type": "stream",
     "text": [
      "100%|███████████████████████████████████████████████████████████████████████████████████████████████████████████████████████████████████████████████████████████████████████| 11/11 [00:00<00:00, 96.24it/s]\n",
      "100%|███████████████████████████████████████████████████████████████████████████████████████████████████████████████████████████████████████████████████████████████████████| 11/11 [00:00<00:00, 87.38it/s]\n",
      "100%|████████████████████████████████████████████████████████████████████████████████████████████████████████████████████████████████████████████████████████████████████| 230/230 [00:01<00:00, 202.64it/s]\n"
     ]
    },
    {
     "name": "stdout",
     "output_type": "stream",
     "text": [
      "WARNING: group (0, -1, Lopez17CNN, All, 34) does not present Upperbound model.\n",
      "WARNING: group (0, -1, Lopez17CNN, All, 35) does not present Upperbound model.\n",
      "WARNING: group (0, -1, Lopez17CNN, All, 36) does not present Upperbound model.\n",
      "WARNING: group (0, -1, Lopez17CNN, All, 37) does not present Upperbound model.\n",
      "WARNING: group (0, -1, Lopez17CNN, All, 38) does not present Upperbound model.\n",
      "WARNING: group (0, -1, Lopez17CNN, All, 40) does not present Upperbound model.\n",
      "WARNING: group (0, -1, Lopez17CNN, Base, 34) does not present Upperbound model.\n",
      "WARNING: group (0, -1, Lopez17CNN, Base, 35) does not present Upperbound model.\n",
      "WARNING: group (0, -1, Lopez17CNN, Base, 36) does not present Upperbound model.\n",
      "WARNING: group (0, -1, Lopez17CNN, Base, 37) does not present Upperbound model.\n",
      "WARNING: group (0, -1, Lopez17CNN, Base, 38) does not present Upperbound model.\n",
      "WARNING: group (0, -1, Lopez17CNN, Base, 40) does not present Upperbound model.\n",
      "WARNING: group (0, -1, Lopez17CNN, New, 34) does not present Upperbound model.\n",
      "WARNING: group (0, -1, Lopez17CNN, New, 35) does not present Upperbound model.\n",
      "WARNING: group (0, -1, Lopez17CNN, New, 36) does not present Upperbound model.\n",
      "WARNING: group (0, -1, Lopez17CNN, New, 37) does not present Upperbound model.\n",
      "WARNING: group (0, -1, Lopez17CNN, New, 38) does not present Upperbound model.\n",
      "WARNING: group (0, -1, Lopez17CNN, New, 40) does not present Upperbound model.\n",
      "WARNING: group (0, -1, Lopez17CNN, Old, 34) does not present Upperbound model.\n",
      "WARNING: group (0, -1, Lopez17CNN, Old, 35) does not present Upperbound model.\n",
      "WARNING: group (0, -1, Lopez17CNN, Old, 36) does not present Upperbound model.\n",
      "WARNING: group (0, -1, Lopez17CNN, Old, 37) does not present Upperbound model.\n",
      "WARNING: group (0, -1, Lopez17CNN, Old, 38) does not present Upperbound model.\n",
      "WARNING: group (0, -1, Lopez17CNN, Old, 40) does not present Upperbound model.\n"
     ]
    },
    {
     "name": "stderr",
     "output_type": "stream",
     "text": [
      "100%|███████████████████████████████████████████████████████████████████████████████████████████████████████████████████████████████████████████████████████████████████████| 11/11 [00:00<00:00, 95.54it/s]\n",
      "100%|███████████████████████████████████████████████████████████████████████████████████████████████████████████████████████████████████████████████████████████████████████| 11/11 [00:00<00:00, 93.66it/s]\n",
      "100%|████████████████████████████████████████████████████████████████████████████████████████████████████████████████████████████████████████████████████████████████████| 230/230 [00:01<00:00, 211.28it/s]\n"
     ]
    },
    {
     "name": "stdout",
     "output_type": "stream",
     "text": [
      "WARNING: group (0, -1, Lopez17CNN, All, 34) does not present Upperbound model.\n",
      "WARNING: group (0, -1, Lopez17CNN, All, 35) does not present Upperbound model.\n",
      "WARNING: group (0, -1, Lopez17CNN, All, 36) does not present Upperbound model.\n",
      "WARNING: group (0, -1, Lopez17CNN, All, 37) does not present Upperbound model.\n",
      "WARNING: group (0, -1, Lopez17CNN, All, 38) does not present Upperbound model.\n",
      "WARNING: group (0, -1, Lopez17CNN, All, 40) does not present Upperbound model.\n",
      "WARNING: group (0, -1, Lopez17CNN, Base, 34) does not present Upperbound model.\n",
      "WARNING: group (0, -1, Lopez17CNN, Base, 35) does not present Upperbound model.\n",
      "WARNING: group (0, -1, Lopez17CNN, Base, 36) does not present Upperbound model.\n",
      "WARNING: group (0, -1, Lopez17CNN, Base, 37) does not present Upperbound model.\n",
      "WARNING: group (0, -1, Lopez17CNN, Base, 38) does not present Upperbound model.\n",
      "WARNING: group (0, -1, Lopez17CNN, Base, 40) does not present Upperbound model.\n",
      "WARNING: group (0, -1, Lopez17CNN, New, 34) does not present Upperbound model.\n",
      "WARNING: group (0, -1, Lopez17CNN, New, 35) does not present Upperbound model.\n",
      "WARNING: group (0, -1, Lopez17CNN, New, 36) does not present Upperbound model.\n",
      "WARNING: group (0, -1, Lopez17CNN, New, 37) does not present Upperbound model.\n",
      "WARNING: group (0, -1, Lopez17CNN, New, 38) does not present Upperbound model.\n",
      "WARNING: group (0, -1, Lopez17CNN, New, 40) does not present Upperbound model.\n",
      "WARNING: group (0, -1, Lopez17CNN, Old, 34) does not present Upperbound model.\n",
      "WARNING: group (0, -1, Lopez17CNN, Old, 35) does not present Upperbound model.\n",
      "WARNING: group (0, -1, Lopez17CNN, Old, 36) does not present Upperbound model.\n",
      "WARNING: group (0, -1, Lopez17CNN, Old, 37) does not present Upperbound model.\n",
      "WARNING: group (0, -1, Lopez17CNN, Old, 38) does not present Upperbound model.\n",
      "WARNING: group (0, -1, Lopez17CNN, Old, 40) does not present Upperbound model.\n"
     ]
    },
    {
     "name": "stderr",
     "output_type": "stream",
     "text": [
      "100%|███████████████████████████████████████████████████████████████████████████████████████████████████████████████████████████████████████████████████████████████████████| 11/11 [00:00<00:00, 86.72it/s]\n",
      "100%|███████████████████████████████████████████████████████████████████████████████████████████████████████████████████████████████████████████████████████████████████████| 11/11 [00:00<00:00, 85.89it/s]\n",
      "100%|████████████████████████████████████████████████████████████████████████████████████████████████████████████████████████████████████████████████████████████████████| 230/230 [00:01<00:00, 182.63it/s]\n"
     ]
    },
    {
     "name": "stdout",
     "output_type": "stream",
     "text": [
      "WARNING: group (0, -1, Lopez17CNN, All, 34) does not present Upperbound model.\n",
      "WARNING: group (0, -1, Lopez17CNN, All, 35) does not present Upperbound model.\n",
      "WARNING: group (0, -1, Lopez17CNN, All, 36) does not present Upperbound model.\n",
      "WARNING: group (0, -1, Lopez17CNN, All, 37) does not present Upperbound model.\n",
      "WARNING: group (0, -1, Lopez17CNN, All, 38) does not present Upperbound model.\n",
      "WARNING: group (0, -1, Lopez17CNN, All, 40) does not present Upperbound model.\n",
      "WARNING: group (0, -1, Lopez17CNN, Base, 34) does not present Upperbound model.\n",
      "WARNING: group (0, -1, Lopez17CNN, Base, 35) does not present Upperbound model.\n",
      "WARNING: group (0, -1, Lopez17CNN, Base, 36) does not present Upperbound model.\n",
      "WARNING: group (0, -1, Lopez17CNN, Base, 37) does not present Upperbound model.\n",
      "WARNING: group (0, -1, Lopez17CNN, Base, 38) does not present Upperbound model.\n",
      "WARNING: group (0, -1, Lopez17CNN, Base, 40) does not present Upperbound model.\n",
      "WARNING: group (0, -1, Lopez17CNN, New, 34) does not present Upperbound model.\n",
      "WARNING: group (0, -1, Lopez17CNN, New, 35) does not present Upperbound model.\n",
      "WARNING: group (0, -1, Lopez17CNN, New, 36) does not present Upperbound model.\n",
      "WARNING: group (0, -1, Lopez17CNN, New, 37) does not present Upperbound model.\n",
      "WARNING: group (0, -1, Lopez17CNN, New, 38) does not present Upperbound model.\n",
      "WARNING: group (0, -1, Lopez17CNN, New, 40) does not present Upperbound model.\n",
      "WARNING: group (0, -1, Lopez17CNN, Old, 34) does not present Upperbound model.\n",
      "WARNING: group (0, -1, Lopez17CNN, Old, 35) does not present Upperbound model.\n",
      "WARNING: group (0, -1, Lopez17CNN, Old, 36) does not present Upperbound model.\n",
      "WARNING: group (0, -1, Lopez17CNN, Old, 37) does not present Upperbound model.\n",
      "WARNING: group (0, -1, Lopez17CNN, Old, 38) does not present Upperbound model.\n",
      "WARNING: group (0, -1, Lopez17CNN, Old, 40) does not present Upperbound model.\n"
     ]
    },
    {
     "name": "stderr",
     "output_type": "stream",
     "text": [
      "100%|███████████████████████████████████████████████████████████████████████████████████████████████████████████████████████████████████████████████████████████████████████| 11/11 [00:00<00:00, 93.07it/s]\n",
      "100%|███████████████████████████████████████████████████████████████████████████████████████████████████████████████████████████████████████████████████████████████████████| 10/10 [00:00<00:00, 82.66it/s]\n",
      "100%|████████████████████████████████████████████████████████████████████████████████████████████████████████████████████████████████████████████████████████████████████| 230/230 [00:01<00:00, 161.09it/s]\n",
      "100%|███████████████████████████████████████████████████████████████████████████████████████████████████████████████████████████████████████████████████████████████████████| 10/10 [00:00<00:00, 94.62it/s]\n",
      "100%|███████████████████████████████████████████████████████████████████████████████████████████████████████████████████████████████████████████████████████████████████████| 20/20 [00:00<00:00, 93.01it/s]\n",
      "100%|████████████████████████████████████████████████████████████████████████████████████████████████████████████████████████████████████████████████████████████████████| 230/230 [00:01<00:00, 211.38it/s]\n",
      "100%|███████████████████████████████████████████████████████████████████████████████████████████████████████████████████████████████████████████████████████████████████████| 20/20 [00:00<00:00, 91.80it/s]\n",
      "100%|██████████████████████████████████████████████████████████████████████████████████████████████████████████████████████████████████████████████████████████████████████| 20/20 [00:00<00:00, 101.70it/s]\n",
      "100%|████████████████████████████████████████████████████████████████████████████████████████████████████████████████████████████████████████████████████████████████████| 230/230 [00:01<00:00, 219.31it/s]\n",
      "100%|███████████████████████████████████████████████████████████████████████████████████████████████████████████████████████████████████████████████████████████████████████| 20/20 [00:00<00:00, 97.32it/s]\n",
      "100%|███████████████████████████████████████████████████████████████████████████████████████████████████████████████████████████████████████████████████████████████████████| 11/11 [00:00<00:00, 95.19it/s]\n",
      "100%|████████████████████████████████████████████████████████████████████████████████████████████████████████████████████████████████████████████████████████████████████| 230/230 [00:01<00:00, 222.29it/s]\n"
     ]
    },
    {
     "name": "stdout",
     "output_type": "stream",
     "text": [
      "WARNING: group (0, -1, Lopez17CNN, All, 34) does not present Upperbound model.\n",
      "WARNING: group (0, -1, Lopez17CNN, All, 36) does not present Upperbound model.\n",
      "WARNING: group (0, -1, Lopez17CNN, All, 38) does not present Upperbound model.\n",
      "WARNING: group (0, -1, Lopez17CNN, All, 40) does not present Upperbound model.\n",
      "WARNING: group (0, -1, Lopez17CNN, Base, 34) does not present Upperbound model.\n",
      "WARNING: group (0, -1, Lopez17CNN, Base, 36) does not present Upperbound model.\n",
      "WARNING: group (0, -1, Lopez17CNN, Base, 38) does not present Upperbound model.\n",
      "WARNING: group (0, -1, Lopez17CNN, Base, 40) does not present Upperbound model.\n",
      "WARNING: group (0, -1, Lopez17CNN, New, 34) does not present Upperbound model.\n",
      "WARNING: group (0, -1, Lopez17CNN, New, 36) does not present Upperbound model.\n",
      "WARNING: group (0, -1, Lopez17CNN, New, 38) does not present Upperbound model.\n",
      "WARNING: group (0, -1, Lopez17CNN, New, 40) does not present Upperbound model.\n",
      "WARNING: group (0, -1, Lopez17CNN, Old, 34) does not present Upperbound model.\n",
      "WARNING: group (0, -1, Lopez17CNN, Old, 36) does not present Upperbound model.\n",
      "WARNING: group (0, -1, Lopez17CNN, Old, 38) does not present Upperbound model.\n",
      "WARNING: group (0, -1, Lopez17CNN, Old, 40) does not present Upperbound model.\n"
     ]
    },
    {
     "name": "stderr",
     "output_type": "stream",
     "text": [
      "100%|██████████████████████████████████████████████████████████████████████████████████████████████████████████████████████████████████████████████████████████████████████| 11/11 [00:00<00:00, 107.92it/s]\n",
      "100%|██████████████████████████████████████████████████████████████████████████████████████████████████████████████████████████████████████████████████████████████████████| 11/11 [00:00<00:00, 123.93it/s]\n",
      "100%|████████████████████████████████████████████████████████████████████████████████████████████████████████████████████████████████████████████████████████████████████| 230/230 [00:01<00:00, 218.77it/s]\n"
     ]
    },
    {
     "name": "stdout",
     "output_type": "stream",
     "text": [
      "WARNING: group (0, -1, Lopez17CNN, All, 34) does not present Upperbound model.\n",
      "WARNING: group (0, -1, Lopez17CNN, All, 36) does not present Upperbound model.\n",
      "WARNING: group (0, -1, Lopez17CNN, All, 38) does not present Upperbound model.\n",
      "WARNING: group (0, -1, Lopez17CNN, All, 40) does not present Upperbound model.\n",
      "WARNING: group (0, -1, Lopez17CNN, Base, 34) does not present Upperbound model.\n",
      "WARNING: group (0, -1, Lopez17CNN, Base, 36) does not present Upperbound model.\n",
      "WARNING: group (0, -1, Lopez17CNN, Base, 38) does not present Upperbound model.\n",
      "WARNING: group (0, -1, Lopez17CNN, Base, 40) does not present Upperbound model.\n",
      "WARNING: group (0, -1, Lopez17CNN, New, 34) does not present Upperbound model.\n",
      "WARNING: group (0, -1, Lopez17CNN, New, 36) does not present Upperbound model.\n",
      "WARNING: group (0, -1, Lopez17CNN, New, 38) does not present Upperbound model.\n",
      "WARNING: group (0, -1, Lopez17CNN, New, 40) does not present Upperbound model.\n",
      "WARNING: group (0, -1, Lopez17CNN, Old, 34) does not present Upperbound model.\n",
      "WARNING: group (0, -1, Lopez17CNN, Old, 36) does not present Upperbound model.\n",
      "WARNING: group (0, -1, Lopez17CNN, Old, 38) does not present Upperbound model.\n",
      "WARNING: group (0, -1, Lopez17CNN, Old, 40) does not present Upperbound model.\n"
     ]
    },
    {
     "name": "stderr",
     "output_type": "stream",
     "text": [
      "100%|██████████████████████████████████████████████████████████████████████████████████████████████████████████████████████████████████████████████████████████████████████| 11/11 [00:00<00:00, 106.10it/s]\n",
      "100%|██████████████████████████████████████████████████████████████████████████████████████████████████████████████████████████████████████████████████████████████████████| 11/11 [00:00<00:00, 118.49it/s]\n",
      "100%|████████████████████████████████████████████████████████████████████████████████████████████████████████████████████████████████████████████████████████████████████| 230/230 [00:01<00:00, 209.00it/s]\n"
     ]
    },
    {
     "name": "stdout",
     "output_type": "stream",
     "text": [
      "WARNING: group (0, -1, Lopez17CNN, All, 34) does not present Upperbound model.\n",
      "WARNING: group (0, -1, Lopez17CNN, All, 36) does not present Upperbound model.\n",
      "WARNING: group (0, -1, Lopez17CNN, All, 38) does not present Upperbound model.\n",
      "WARNING: group (0, -1, Lopez17CNN, All, 40) does not present Upperbound model.\n",
      "WARNING: group (0, -1, Lopez17CNN, Base, 34) does not present Upperbound model.\n",
      "WARNING: group (0, -1, Lopez17CNN, Base, 36) does not present Upperbound model.\n",
      "WARNING: group (0, -1, Lopez17CNN, Base, 38) does not present Upperbound model.\n",
      "WARNING: group (0, -1, Lopez17CNN, Base, 40) does not present Upperbound model.\n",
      "WARNING: group (0, -1, Lopez17CNN, New, 34) does not present Upperbound model.\n",
      "WARNING: group (0, -1, Lopez17CNN, New, 36) does not present Upperbound model.\n",
      "WARNING: group (0, -1, Lopez17CNN, New, 38) does not present Upperbound model.\n",
      "WARNING: group (0, -1, Lopez17CNN, New, 40) does not present Upperbound model.\n",
      "WARNING: group (0, -1, Lopez17CNN, Old, 34) does not present Upperbound model.\n",
      "WARNING: group (0, -1, Lopez17CNN, Old, 36) does not present Upperbound model.\n",
      "WARNING: group (0, -1, Lopez17CNN, Old, 38) does not present Upperbound model.\n",
      "WARNING: group (0, -1, Lopez17CNN, Old, 40) does not present Upperbound model.\n"
     ]
    },
    {
     "name": "stderr",
     "output_type": "stream",
     "text": [
      "100%|██████████████████████████████████████████████████████████████████████████████████████████████████████████████████████████████████████████████████████████████████████| 11/11 [00:00<00:00, 103.31it/s]\n",
      "100%|███████████████████████████████████████████████████████████████████████████████████████████████████████████████████████████████████████████████████████████████████████| 11/11 [00:00<00:00, 57.21it/s]\n",
      "100%|████████████████████████████████████████████████████████████████████████████████████████████████████████████████████████████████████████████████████████████████████| 230/230 [00:01<00:00, 205.27it/s]\n"
     ]
    },
    {
     "name": "stdout",
     "output_type": "stream",
     "text": [
      "WARNING: group (0, -1, Lopez17CNN, All, 34) does not present Upperbound model.\n",
      "WARNING: group (0, -1, Lopez17CNN, All, 36) does not present Upperbound model.\n",
      "WARNING: group (0, -1, Lopez17CNN, All, 38) does not present Upperbound model.\n",
      "WARNING: group (0, -1, Lopez17CNN, All, 40) does not present Upperbound model.\n",
      "WARNING: group (0, -1, Lopez17CNN, Base, 34) does not present Upperbound model.\n",
      "WARNING: group (0, -1, Lopez17CNN, Base, 36) does not present Upperbound model.\n",
      "WARNING: group (0, -1, Lopez17CNN, Base, 38) does not present Upperbound model.\n",
      "WARNING: group (0, -1, Lopez17CNN, Base, 40) does not present Upperbound model.\n",
      "WARNING: group (0, -1, Lopez17CNN, New, 34) does not present Upperbound model.\n",
      "WARNING: group (0, -1, Lopez17CNN, New, 36) does not present Upperbound model.\n",
      "WARNING: group (0, -1, Lopez17CNN, New, 38) does not present Upperbound model.\n",
      "WARNING: group (0, -1, Lopez17CNN, New, 40) does not present Upperbound model.\n",
      "WARNING: group (0, -1, Lopez17CNN, Old, 34) does not present Upperbound model.\n",
      "WARNING: group (0, -1, Lopez17CNN, Old, 36) does not present Upperbound model.\n",
      "WARNING: group (0, -1, Lopez17CNN, Old, 38) does not present Upperbound model.\n",
      "WARNING: group (0, -1, Lopez17CNN, Old, 40) does not present Upperbound model.\n"
     ]
    },
    {
     "name": "stderr",
     "output_type": "stream",
     "text": [
      "100%|██████████████████████████████████████████████████████████████████████████████████████████████████████████████████████████████████████████████████████████████████████| 11/11 [00:00<00:00, 106.06it/s]\n",
      "100%|██████████████████████████████████████████████████████████████████████████████████████████████████████████████████████████████████████████████████████████████████████| 11/11 [00:00<00:00, 116.35it/s]\n",
      "100%|████████████████████████████████████████████████████████████████████████████████████████████████████████████████████████████████████████████████████████████████████| 230/230 [00:01<00:00, 209.01it/s]\n"
     ]
    },
    {
     "name": "stdout",
     "output_type": "stream",
     "text": [
      "WARNING: group (0, -1, Lopez17CNN, All, 34) does not present Upperbound model.\n",
      "WARNING: group (0, -1, Lopez17CNN, All, 36) does not present Upperbound model.\n",
      "WARNING: group (0, -1, Lopez17CNN, All, 38) does not present Upperbound model.\n",
      "WARNING: group (0, -1, Lopez17CNN, All, 40) does not present Upperbound model.\n",
      "WARNING: group (0, -1, Lopez17CNN, Base, 34) does not present Upperbound model.\n",
      "WARNING: group (0, -1, Lopez17CNN, Base, 36) does not present Upperbound model.\n",
      "WARNING: group (0, -1, Lopez17CNN, Base, 38) does not present Upperbound model.\n",
      "WARNING: group (0, -1, Lopez17CNN, Base, 40) does not present Upperbound model.\n",
      "WARNING: group (0, -1, Lopez17CNN, New, 34) does not present Upperbound model.\n",
      "WARNING: group (0, -1, Lopez17CNN, New, 36) does not present Upperbound model.\n",
      "WARNING: group (0, -1, Lopez17CNN, New, 38) does not present Upperbound model.\n",
      "WARNING: group (0, -1, Lopez17CNN, New, 40) does not present Upperbound model.\n",
      "WARNING: group (0, -1, Lopez17CNN, Old, 34) does not present Upperbound model.\n",
      "WARNING: group (0, -1, Lopez17CNN, Old, 36) does not present Upperbound model.\n",
      "WARNING: group (0, -1, Lopez17CNN, Old, 38) does not present Upperbound model.\n",
      "WARNING: group (0, -1, Lopez17CNN, Old, 40) does not present Upperbound model.\n"
     ]
    },
    {
     "name": "stderr",
     "output_type": "stream",
     "text": [
      "100%|███████████████████████████████████████████████████████████████████████████████████████████████████████████████████████████████████████████████████████████████████████| 11/11 [00:00<00:00, 94.25it/s]\n",
      "100%|███████████████████████████████████████████████████████████████████████████████████████████████████████████████████████████████████████████████████████████████████████| 11/11 [00:00<00:00, 97.65it/s]\n",
      "100%|████████████████████████████████████████████████████████████████████████████████████████████████████████████████████████████████████████████████████████████████████| 230/230 [00:01<00:00, 210.75it/s]\n"
     ]
    },
    {
     "name": "stdout",
     "output_type": "stream",
     "text": [
      "WARNING: group (0, -1, Lopez17CNN, All, 34) does not present Upperbound model.\n",
      "WARNING: group (0, -1, Lopez17CNN, All, 36) does not present Upperbound model.\n",
      "WARNING: group (0, -1, Lopez17CNN, All, 38) does not present Upperbound model.\n",
      "WARNING: group (0, -1, Lopez17CNN, All, 40) does not present Upperbound model.\n",
      "WARNING: group (0, -1, Lopez17CNN, Base, 34) does not present Upperbound model.\n",
      "WARNING: group (0, -1, Lopez17CNN, Base, 36) does not present Upperbound model.\n",
      "WARNING: group (0, -1, Lopez17CNN, Base, 38) does not present Upperbound model.\n",
      "WARNING: group (0, -1, Lopez17CNN, Base, 40) does not present Upperbound model.\n",
      "WARNING: group (0, -1, Lopez17CNN, New, 34) does not present Upperbound model.\n",
      "WARNING: group (0, -1, Lopez17CNN, New, 36) does not present Upperbound model.\n",
      "WARNING: group (0, -1, Lopez17CNN, New, 38) does not present Upperbound model.\n",
      "WARNING: group (0, -1, Lopez17CNN, New, 40) does not present Upperbound model.\n",
      "WARNING: group (0, -1, Lopez17CNN, Old, 34) does not present Upperbound model.\n",
      "WARNING: group (0, -1, Lopez17CNN, Old, 36) does not present Upperbound model.\n",
      "WARNING: group (0, -1, Lopez17CNN, Old, 38) does not present Upperbound model.\n",
      "WARNING: group (0, -1, Lopez17CNN, Old, 40) does not present Upperbound model.\n"
     ]
    },
    {
     "name": "stderr",
     "output_type": "stream",
     "text": [
      "100%|██████████████████████████████████████████████████████████████████████████████████████████████████████████████████████████████████████████████████████████████████████| 11/11 [00:00<00:00, 101.52it/s]\n",
      "100%|██████████████████████████████████████████████████████████████████████████████████████████████████████████████████████████████████████████████████████████████████████| 11/11 [00:00<00:00, 104.46it/s]\n",
      "100%|████████████████████████████████████████████████████████████████████████████████████████████████████████████████████████████████████████████████████████████████████| 230/230 [00:01<00:00, 215.71it/s]\n"
     ]
    },
    {
     "name": "stdout",
     "output_type": "stream",
     "text": [
      "WARNING: group (0, -1, Lopez17CNN, All, 34) does not present Upperbound model.\n",
      "WARNING: group (0, -1, Lopez17CNN, All, 36) does not present Upperbound model.\n",
      "WARNING: group (0, -1, Lopez17CNN, All, 38) does not present Upperbound model.\n",
      "WARNING: group (0, -1, Lopez17CNN, All, 40) does not present Upperbound model.\n",
      "WARNING: group (0, -1, Lopez17CNN, Base, 34) does not present Upperbound model.\n",
      "WARNING: group (0, -1, Lopez17CNN, Base, 36) does not present Upperbound model.\n",
      "WARNING: group (0, -1, Lopez17CNN, Base, 38) does not present Upperbound model.\n",
      "WARNING: group (0, -1, Lopez17CNN, Base, 40) does not present Upperbound model.\n",
      "WARNING: group (0, -1, Lopez17CNN, New, 34) does not present Upperbound model.\n",
      "WARNING: group (0, -1, Lopez17CNN, New, 36) does not present Upperbound model.\n",
      "WARNING: group (0, -1, Lopez17CNN, New, 38) does not present Upperbound model.\n",
      "WARNING: group (0, -1, Lopez17CNN, New, 40) does not present Upperbound model.\n",
      "WARNING: group (0, -1, Lopez17CNN, Old, 34) does not present Upperbound model.\n",
      "WARNING: group (0, -1, Lopez17CNN, Old, 36) does not present Upperbound model.\n",
      "WARNING: group (0, -1, Lopez17CNN, Old, 38) does not present Upperbound model.\n",
      "WARNING: group (0, -1, Lopez17CNN, Old, 40) does not present Upperbound model.\n"
     ]
    },
    {
     "name": "stderr",
     "output_type": "stream",
     "text": [
      "100%|██████████████████████████████████████████████████████████████████████████████████████████████████████████████████████████████████████████████████████████████████████| 11/11 [00:00<00:00, 106.62it/s]\n",
      "100%|██████████████████████████████████████████████████████████████████████████████████████████████████████████████████████████████████████████████████████████████████████| 11/11 [00:00<00:00, 115.10it/s]\n",
      "100%|████████████████████████████████████████████████████████████████████████████████████████████████████████████████████████████████████████████████████████████████████| 230/230 [00:01<00:00, 220.77it/s]\n"
     ]
    },
    {
     "name": "stdout",
     "output_type": "stream",
     "text": [
      "WARNING: group (0, -1, Lopez17CNN, All, 34) does not present Upperbound model.\n",
      "WARNING: group (0, -1, Lopez17CNN, All, 36) does not present Upperbound model.\n",
      "WARNING: group (0, -1, Lopez17CNN, All, 38) does not present Upperbound model.\n",
      "WARNING: group (0, -1, Lopez17CNN, All, 40) does not present Upperbound model.\n",
      "WARNING: group (0, -1, Lopez17CNN, Base, 34) does not present Upperbound model.\n",
      "WARNING: group (0, -1, Lopez17CNN, Base, 36) does not present Upperbound model.\n",
      "WARNING: group (0, -1, Lopez17CNN, Base, 38) does not present Upperbound model.\n",
      "WARNING: group (0, -1, Lopez17CNN, Base, 40) does not present Upperbound model.\n",
      "WARNING: group (0, -1, Lopez17CNN, New, 34) does not present Upperbound model.\n",
      "WARNING: group (0, -1, Lopez17CNN, New, 36) does not present Upperbound model.\n",
      "WARNING: group (0, -1, Lopez17CNN, New, 38) does not present Upperbound model.\n",
      "WARNING: group (0, -1, Lopez17CNN, New, 40) does not present Upperbound model.\n",
      "WARNING: group (0, -1, Lopez17CNN, Old, 34) does not present Upperbound model.\n",
      "WARNING: group (0, -1, Lopez17CNN, Old, 36) does not present Upperbound model.\n",
      "WARNING: group (0, -1, Lopez17CNN, Old, 38) does not present Upperbound model.\n",
      "WARNING: group (0, -1, Lopez17CNN, Old, 40) does not present Upperbound model.\n"
     ]
    },
    {
     "name": "stderr",
     "output_type": "stream",
     "text": [
      "100%|██████████████████████████████████████████████████████████████████████████████████████████████████████████████████████████████████████████████████████████████████████| 11/11 [00:00<00:00, 106.29it/s]\n",
      "100%|███████████████████████████████████████████████████████████████████████████████████████████████████████████████████████████████████████████████████████████████████████| 11/11 [00:00<00:00, 95.72it/s]\n",
      "100%|████████████████████████████████████████████████████████████████████████████████████████████████████████████████████████████████████████████████████████████████████| 230/230 [00:01<00:00, 216.98it/s]\n"
     ]
    },
    {
     "name": "stdout",
     "output_type": "stream",
     "text": [
      "WARNING: group (0, -1, Lopez17CNN, All, 34) does not present Upperbound model.\n",
      "WARNING: group (0, -1, Lopez17CNN, All, 36) does not present Upperbound model.\n",
      "WARNING: group (0, -1, Lopez17CNN, All, 38) does not present Upperbound model.\n",
      "WARNING: group (0, -1, Lopez17CNN, All, 40) does not present Upperbound model.\n",
      "WARNING: group (0, -1, Lopez17CNN, Base, 34) does not present Upperbound model.\n",
      "WARNING: group (0, -1, Lopez17CNN, Base, 36) does not present Upperbound model.\n",
      "WARNING: group (0, -1, Lopez17CNN, Base, 38) does not present Upperbound model.\n",
      "WARNING: group (0, -1, Lopez17CNN, Base, 40) does not present Upperbound model.\n",
      "WARNING: group (0, -1, Lopez17CNN, New, 34) does not present Upperbound model.\n",
      "WARNING: group (0, -1, Lopez17CNN, New, 36) does not present Upperbound model.\n",
      "WARNING: group (0, -1, Lopez17CNN, New, 38) does not present Upperbound model.\n",
      "WARNING: group (0, -1, Lopez17CNN, New, 40) does not present Upperbound model.\n",
      "WARNING: group (0, -1, Lopez17CNN, Old, 34) does not present Upperbound model.\n",
      "WARNING: group (0, -1, Lopez17CNN, Old, 36) does not present Upperbound model.\n",
      "WARNING: group (0, -1, Lopez17CNN, Old, 38) does not present Upperbound model.\n",
      "WARNING: group (0, -1, Lopez17CNN, Old, 40) does not present Upperbound model.\n"
     ]
    },
    {
     "name": "stderr",
     "output_type": "stream",
     "text": [
      "100%|███████████████████████████████████████████████████████████████████████████████████████████████████████████████████████████████████████████████████████████████████████| 11/11 [00:00<00:00, 92.83it/s]\n",
      "100%|███████████████████████████████████████████████████████████████████████████████████████████████████████████████████████████████████████████████████████████████████████| 10/10 [00:00<00:00, 98.74it/s]\n",
      "100%|████████████████████████████████████████████████████████████████████████████████████████████████████████████████████████████████████████████████████████████████████| 230/230 [00:01<00:00, 198.46it/s]\n",
      "100%|██████████████████████████████████████████████████████████████████████████████████████████████████████████████████████████████████████████████████████████████████████| 10/10 [00:00<00:00, 107.28it/s]\n",
      "100%|██████████████████████████████████████████████████████████████████████████████████████████████████████████████████████████████████████████████████████████████████████| 20/20 [00:00<00:00, 103.65it/s]\n",
      "100%|████████████████████████████████████████████████████████████████████████████████████████████████████████████████████████████████████████████████████████████████████| 230/230 [00:01<00:00, 210.97it/s]\n",
      "100%|███████████████████████████████████████████████████████████████████████████████████████████████████████████████████████████████████████████████████████████████████████| 20/20 [00:00<00:00, 98.98it/s]\n",
      "100%|██████████████████████████████████████████████████████████████████████████████████████████████████████████████████████████████████████████████████████████████████████| 20/20 [00:00<00:00, 122.96it/s]\n",
      "100%|████████████████████████████████████████████████████████████████████████████████████████████████████████████████████████████████████████████████████████████████████| 230/230 [00:01<00:00, 218.31it/s]\n",
      "100%|██████████████████████████████████████████████████████████████████████████████████████████████████████████████████████████████████████████████████████████████████████| 20/20 [00:00<00:00, 112.99it/s]\n",
      "100%|██████████████████████████████████████████████████████████████████████████████████████████████████████████████████████████████████████████████████████████████████████| 11/11 [00:00<00:00, 134.80it/s]\n",
      "100%|████████████████████████████████████████████████████████████████████████████████████████████████████████████████████████████████████████████████████████████████████| 230/230 [00:01<00:00, 214.94it/s]\n"
     ]
    },
    {
     "name": "stdout",
     "output_type": "stream",
     "text": [
      "WARNING: group (0, -1, Lopez17CNN, All, 34) does not present Upperbound model.\n",
      "WARNING: group (0, -1, Lopez17CNN, All, 37) does not present Upperbound model.\n",
      "WARNING: group (0, -1, Lopez17CNN, All, 40) does not present Upperbound model.\n",
      "WARNING: group (0, -1, Lopez17CNN, Base, 34) does not present Upperbound model.\n",
      "WARNING: group (0, -1, Lopez17CNN, Base, 37) does not present Upperbound model.\n",
      "WARNING: group (0, -1, Lopez17CNN, Base, 40) does not present Upperbound model.\n",
      "WARNING: group (0, -1, Lopez17CNN, New, 34) does not present Upperbound model.\n",
      "WARNING: group (0, -1, Lopez17CNN, New, 37) does not present Upperbound model.\n",
      "WARNING: group (0, -1, Lopez17CNN, New, 40) does not present Upperbound model.\n",
      "WARNING: group (0, -1, Lopez17CNN, Old, 34) does not present Upperbound model.\n",
      "WARNING: group (0, -1, Lopez17CNN, Old, 37) does not present Upperbound model.\n",
      "WARNING: group (0, -1, Lopez17CNN, Old, 40) does not present Upperbound model.\n"
     ]
    },
    {
     "name": "stderr",
     "output_type": "stream",
     "text": [
      "100%|██████████████████████████████████████████████████████████████████████████████████████████████████████████████████████████████████████████████████████████████████████| 11/11 [00:00<00:00, 110.18it/s]\n",
      "100%|██████████████████████████████████████████████████████████████████████████████████████████████████████████████████████████████████████████████████████████████████████| 11/11 [00:00<00:00, 131.28it/s]\n",
      "100%|████████████████████████████████████████████████████████████████████████████████████████████████████████████████████████████████████████████████████████████████████| 230/230 [00:01<00:00, 215.58it/s]\n"
     ]
    },
    {
     "name": "stdout",
     "output_type": "stream",
     "text": [
      "WARNING: group (0, -1, Lopez17CNN, All, 34) does not present Upperbound model.\n",
      "WARNING: group (0, -1, Lopez17CNN, All, 37) does not present Upperbound model.\n",
      "WARNING: group (0, -1, Lopez17CNN, All, 40) does not present Upperbound model.\n",
      "WARNING: group (0, -1, Lopez17CNN, Base, 34) does not present Upperbound model.\n",
      "WARNING: group (0, -1, Lopez17CNN, Base, 37) does not present Upperbound model.\n",
      "WARNING: group (0, -1, Lopez17CNN, Base, 40) does not present Upperbound model.\n",
      "WARNING: group (0, -1, Lopez17CNN, New, 34) does not present Upperbound model.\n",
      "WARNING: group (0, -1, Lopez17CNN, New, 37) does not present Upperbound model.\n",
      "WARNING: group (0, -1, Lopez17CNN, New, 40) does not present Upperbound model.\n",
      "WARNING: group (0, -1, Lopez17CNN, Old, 34) does not present Upperbound model.\n",
      "WARNING: group (0, -1, Lopez17CNN, Old, 37) does not present Upperbound model.\n",
      "WARNING: group (0, -1, Lopez17CNN, Old, 40) does not present Upperbound model.\n"
     ]
    },
    {
     "name": "stderr",
     "output_type": "stream",
     "text": [
      "100%|██████████████████████████████████████████████████████████████████████████████████████████████████████████████████████████████████████████████████████████████████████| 11/11 [00:00<00:00, 107.27it/s]\n",
      "100%|██████████████████████████████████████████████████████████████████████████████████████████████████████████████████████████████████████████████████████████████████████| 11/11 [00:00<00:00, 131.81it/s]\n",
      "100%|████████████████████████████████████████████████████████████████████████████████████████████████████████████████████████████████████████████████████████████████████| 230/230 [00:01<00:00, 220.90it/s]\n"
     ]
    },
    {
     "name": "stdout",
     "output_type": "stream",
     "text": [
      "WARNING: group (0, -1, Lopez17CNN, All, 34) does not present Upperbound model.\n",
      "WARNING: group (0, -1, Lopez17CNN, All, 37) does not present Upperbound model.\n",
      "WARNING: group (0, -1, Lopez17CNN, All, 40) does not present Upperbound model.\n",
      "WARNING: group (0, -1, Lopez17CNN, Base, 34) does not present Upperbound model.\n",
      "WARNING: group (0, -1, Lopez17CNN, Base, 37) does not present Upperbound model.\n",
      "WARNING: group (0, -1, Lopez17CNN, Base, 40) does not present Upperbound model.\n",
      "WARNING: group (0, -1, Lopez17CNN, New, 34) does not present Upperbound model.\n",
      "WARNING: group (0, -1, Lopez17CNN, New, 37) does not present Upperbound model.\n",
      "WARNING: group (0, -1, Lopez17CNN, New, 40) does not present Upperbound model.\n",
      "WARNING: group (0, -1, Lopez17CNN, Old, 34) does not present Upperbound model.\n",
      "WARNING: group (0, -1, Lopez17CNN, Old, 37) does not present Upperbound model.\n",
      "WARNING: group (0, -1, Lopez17CNN, Old, 40) does not present Upperbound model.\n"
     ]
    },
    {
     "name": "stderr",
     "output_type": "stream",
     "text": [
      "100%|██████████████████████████████████████████████████████████████████████████████████████████████████████████████████████████████████████████████████████████████████████| 11/11 [00:00<00:00, 111.36it/s]\n",
      "100%|██████████████████████████████████████████████████████████████████████████████████████████████████████████████████████████████████████████████████████████████████████| 11/11 [00:00<00:00, 133.56it/s]\n",
      "100%|████████████████████████████████████████████████████████████████████████████████████████████████████████████████████████████████████████████████████████████████████| 230/230 [00:01<00:00, 225.32it/s]\n"
     ]
    },
    {
     "name": "stdout",
     "output_type": "stream",
     "text": [
      "WARNING: group (0, -1, Lopez17CNN, All, 34) does not present Upperbound model.\n",
      "WARNING: group (0, -1, Lopez17CNN, All, 37) does not present Upperbound model.\n",
      "WARNING: group (0, -1, Lopez17CNN, All, 40) does not present Upperbound model.\n",
      "WARNING: group (0, -1, Lopez17CNN, Base, 34) does not present Upperbound model.\n",
      "WARNING: group (0, -1, Lopez17CNN, Base, 37) does not present Upperbound model.\n",
      "WARNING: group (0, -1, Lopez17CNN, Base, 40) does not present Upperbound model.\n",
      "WARNING: group (0, -1, Lopez17CNN, New, 34) does not present Upperbound model.\n",
      "WARNING: group (0, -1, Lopez17CNN, New, 37) does not present Upperbound model.\n",
      "WARNING: group (0, -1, Lopez17CNN, New, 40) does not present Upperbound model.\n",
      "WARNING: group (0, -1, Lopez17CNN, Old, 34) does not present Upperbound model.\n",
      "WARNING: group (0, -1, Lopez17CNN, Old, 37) does not present Upperbound model.\n",
      "WARNING: group (0, -1, Lopez17CNN, Old, 40) does not present Upperbound model.\n"
     ]
    },
    {
     "name": "stderr",
     "output_type": "stream",
     "text": [
      "100%|██████████████████████████████████████████████████████████████████████████████████████████████████████████████████████████████████████████████████████████████████████| 11/11 [00:00<00:00, 119.48it/s]\n",
      "100%|██████████████████████████████████████████████████████████████████████████████████████████████████████████████████████████████████████████████████████████████████████| 11/11 [00:00<00:00, 138.88it/s]\n",
      "100%|████████████████████████████████████████████████████████████████████████████████████████████████████████████████████████████████████████████████████████████████████| 230/230 [00:01<00:00, 217.56it/s]\n"
     ]
    },
    {
     "name": "stdout",
     "output_type": "stream",
     "text": [
      "WARNING: group (0, -1, Lopez17CNN, All, 34) does not present Upperbound model.\n",
      "WARNING: group (0, -1, Lopez17CNN, All, 37) does not present Upperbound model.\n",
      "WARNING: group (0, -1, Lopez17CNN, All, 40) does not present Upperbound model.\n",
      "WARNING: group (0, -1, Lopez17CNN, Base, 34) does not present Upperbound model.\n",
      "WARNING: group (0, -1, Lopez17CNN, Base, 37) does not present Upperbound model.\n",
      "WARNING: group (0, -1, Lopez17CNN, Base, 40) does not present Upperbound model.\n",
      "WARNING: group (0, -1, Lopez17CNN, New, 34) does not present Upperbound model.\n",
      "WARNING: group (0, -1, Lopez17CNN, New, 37) does not present Upperbound model.\n",
      "WARNING: group (0, -1, Lopez17CNN, New, 40) does not present Upperbound model.\n",
      "WARNING: group (0, -1, Lopez17CNN, Old, 34) does not present Upperbound model.\n",
      "WARNING: group (0, -1, Lopez17CNN, Old, 37) does not present Upperbound model.\n",
      "WARNING: group (0, -1, Lopez17CNN, Old, 40) does not present Upperbound model.\n"
     ]
    },
    {
     "name": "stderr",
     "output_type": "stream",
     "text": [
      "100%|██████████████████████████████████████████████████████████████████████████████████████████████████████████████████████████████████████████████████████████████████████| 11/11 [00:00<00:00, 113.12it/s]\n",
      "100%|██████████████████████████████████████████████████████████████████████████████████████████████████████████████████████████████████████████████████████████████████████| 11/11 [00:00<00:00, 129.96it/s]\n",
      "100%|████████████████████████████████████████████████████████████████████████████████████████████████████████████████████████████████████████████████████████████████████| 230/230 [00:01<00:00, 206.11it/s]\n"
     ]
    },
    {
     "name": "stdout",
     "output_type": "stream",
     "text": [
      "WARNING: group (0, -1, Lopez17CNN, All, 34) does not present Upperbound model.\n",
      "WARNING: group (0, -1, Lopez17CNN, All, 37) does not present Upperbound model.\n",
      "WARNING: group (0, -1, Lopez17CNN, All, 40) does not present Upperbound model.\n",
      "WARNING: group (0, -1, Lopez17CNN, Base, 34) does not present Upperbound model.\n",
      "WARNING: group (0, -1, Lopez17CNN, Base, 37) does not present Upperbound model.\n",
      "WARNING: group (0, -1, Lopez17CNN, Base, 40) does not present Upperbound model.\n",
      "WARNING: group (0, -1, Lopez17CNN, New, 34) does not present Upperbound model.\n",
      "WARNING: group (0, -1, Lopez17CNN, New, 37) does not present Upperbound model.\n",
      "WARNING: group (0, -1, Lopez17CNN, New, 40) does not present Upperbound model.\n",
      "WARNING: group (0, -1, Lopez17CNN, Old, 34) does not present Upperbound model.\n",
      "WARNING: group (0, -1, Lopez17CNN, Old, 37) does not present Upperbound model.\n",
      "WARNING: group (0, -1, Lopez17CNN, Old, 40) does not present Upperbound model.\n"
     ]
    },
    {
     "name": "stderr",
     "output_type": "stream",
     "text": [
      "100%|██████████████████████████████████████████████████████████████████████████████████████████████████████████████████████████████████████████████████████████████████████| 11/11 [00:00<00:00, 106.99it/s]\n",
      "100%|███████████████████████████████████████████████████████████████████████████████████████████████████████████████████████████████████████████████████████████████████████| 11/11 [00:00<00:00, 99.49it/s]\n",
      "100%|████████████████████████████████████████████████████████████████████████████████████████████████████████████████████████████████████████████████████████████████████| 230/230 [00:01<00:00, 205.39it/s]\n"
     ]
    },
    {
     "name": "stdout",
     "output_type": "stream",
     "text": [
      "WARNING: group (0, -1, Lopez17CNN, All, 34) does not present Upperbound model.\n",
      "WARNING: group (0, -1, Lopez17CNN, All, 37) does not present Upperbound model.\n",
      "WARNING: group (0, -1, Lopez17CNN, All, 40) does not present Upperbound model.\n",
      "WARNING: group (0, -1, Lopez17CNN, Base, 34) does not present Upperbound model.\n",
      "WARNING: group (0, -1, Lopez17CNN, Base, 37) does not present Upperbound model.\n",
      "WARNING: group (0, -1, Lopez17CNN, Base, 40) does not present Upperbound model.\n",
      "WARNING: group (0, -1, Lopez17CNN, New, 34) does not present Upperbound model.\n",
      "WARNING: group (0, -1, Lopez17CNN, New, 37) does not present Upperbound model.\n",
      "WARNING: group (0, -1, Lopez17CNN, New, 40) does not present Upperbound model.\n",
      "WARNING: group (0, -1, Lopez17CNN, Old, 34) does not present Upperbound model.\n",
      "WARNING: group (0, -1, Lopez17CNN, Old, 37) does not present Upperbound model.\n",
      "WARNING: group (0, -1, Lopez17CNN, Old, 40) does not present Upperbound model.\n"
     ]
    },
    {
     "name": "stderr",
     "output_type": "stream",
     "text": [
      "100%|██████████████████████████████████████████████████████████████████████████████████████████████████████████████████████████████████████████████████████████████████████| 11/11 [00:00<00:00, 110.61it/s]\n",
      "100%|██████████████████████████████████████████████████████████████████████████████████████████████████████████████████████████████████████████████████████████████████████| 11/11 [00:00<00:00, 134.99it/s]\n",
      "100%|████████████████████████████████████████████████████████████████████████████████████████████████████████████████████████████████████████████████████████████████████| 230/230 [00:01<00:00, 213.49it/s]\n"
     ]
    },
    {
     "name": "stdout",
     "output_type": "stream",
     "text": [
      "WARNING: group (0, -1, Lopez17CNN, All, 34) does not present Upperbound model.\n",
      "WARNING: group (0, -1, Lopez17CNN, All, 37) does not present Upperbound model.\n",
      "WARNING: group (0, -1, Lopez17CNN, All, 40) does not present Upperbound model.\n",
      "WARNING: group (0, -1, Lopez17CNN, Base, 34) does not present Upperbound model.\n",
      "WARNING: group (0, -1, Lopez17CNN, Base, 37) does not present Upperbound model.\n",
      "WARNING: group (0, -1, Lopez17CNN, Base, 40) does not present Upperbound model.\n",
      "WARNING: group (0, -1, Lopez17CNN, New, 34) does not present Upperbound model.\n",
      "WARNING: group (0, -1, Lopez17CNN, New, 37) does not present Upperbound model.\n",
      "WARNING: group (0, -1, Lopez17CNN, New, 40) does not present Upperbound model.\n",
      "WARNING: group (0, -1, Lopez17CNN, Old, 34) does not present Upperbound model.\n",
      "WARNING: group (0, -1, Lopez17CNN, Old, 37) does not present Upperbound model.\n",
      "WARNING: group (0, -1, Lopez17CNN, Old, 40) does not present Upperbound model.\n"
     ]
    },
    {
     "name": "stderr",
     "output_type": "stream",
     "text": [
      "100%|██████████████████████████████████████████████████████████████████████████████████████████████████████████████████████████████████████████████████████████████████████| 11/11 [00:00<00:00, 114.22it/s]\n",
      "100%|██████████████████████████████████████████████████████████████████████████████████████████████████████████████████████████████████████████████████████████████████████| 11/11 [00:00<00:00, 124.64it/s]\n",
      "100%|████████████████████████████████████████████████████████████████████████████████████████████████████████████████████████████████████████████████████████████████████| 230/230 [00:01<00:00, 191.64it/s]\n"
     ]
    },
    {
     "name": "stdout",
     "output_type": "stream",
     "text": [
      "WARNING: group (0, -1, Lopez17CNN, All, 34) does not present Upperbound model.\n",
      "WARNING: group (0, -1, Lopez17CNN, All, 37) does not present Upperbound model.\n",
      "WARNING: group (0, -1, Lopez17CNN, All, 40) does not present Upperbound model.\n",
      "WARNING: group (0, -1, Lopez17CNN, Base, 34) does not present Upperbound model.\n",
      "WARNING: group (0, -1, Lopez17CNN, Base, 37) does not present Upperbound model.\n",
      "WARNING: group (0, -1, Lopez17CNN, Base, 40) does not present Upperbound model.\n",
      "WARNING: group (0, -1, Lopez17CNN, New, 34) does not present Upperbound model.\n",
      "WARNING: group (0, -1, Lopez17CNN, New, 37) does not present Upperbound model.\n",
      "WARNING: group (0, -1, Lopez17CNN, New, 40) does not present Upperbound model.\n",
      "WARNING: group (0, -1, Lopez17CNN, Old, 34) does not present Upperbound model.\n",
      "WARNING: group (0, -1, Lopez17CNN, Old, 37) does not present Upperbound model.\n",
      "WARNING: group (0, -1, Lopez17CNN, Old, 40) does not present Upperbound model.\n"
     ]
    },
    {
     "name": "stderr",
     "output_type": "stream",
     "text": [
      "100%|██████████████████████████████████████████████████████████████████████████████████████████████████████████████████████████████████████████████████████████████████████| 11/11 [00:00<00:00, 110.10it/s]\n",
      "100%|██████████████████████████████████████████████████████████████████████████████████████████████████████████████████████████████████████████████████████████████████████| 10/10 [00:00<00:00, 127.58it/s]\n",
      "100%|████████████████████████████████████████████████████████████████████████████████████████████████████████████████████████████████████████████████████████████████████| 230/230 [00:01<00:00, 215.15it/s]\n",
      "100%|██████████████████████████████████████████████████████████████████████████████████████████████████████████████████████████████████████████████████████████████████████| 10/10 [00:00<00:00, 107.28it/s]\n",
      "100%|███████████████████████████████████████████████████████████████████████████████████████████████████████████████████████████████████████████████████████████████████████| 20/20 [00:00<00:00, 84.33it/s]\n",
      "100%|████████████████████████████████████████████████████████████████████████████████████████████████████████████████████████████████████████████████████████████████████| 230/230 [00:01<00:00, 190.47it/s]\n",
      "100%|██████████████████████████████████████████████████████████████████████████████████████████████████████████████████████████████████████████████████████████████████████| 20/20 [00:00<00:00, 115.90it/s]\n",
      "100%|██████████████████████████████████████████████████████████████████████████████████████████████████████████████████████████████████████████████████████████████████████| 20/20 [00:00<00:00, 109.67it/s]\n",
      "100%|████████████████████████████████████████████████████████████████████████████████████████████████████████████████████████████████████████████████████████████████████| 230/230 [00:01<00:00, 216.62it/s]\n",
      "100%|██████████████████████████████████████████████████████████████████████████████████████████████████████████████████████████████████████████████████████████████████████| 20/20 [00:00<00:00, 112.77it/s]\n",
      "100%|██████████████████████████████████████████████████████████████████████████████████████████████████████████████████████████████████████████████████████████████████████| 11/11 [00:00<00:00, 115.56it/s]\n",
      "100%|████████████████████████████████████████████████████████████████████████████████████████████████████████████████████████████████████████████████████████████████████| 230/230 [00:01<00:00, 216.80it/s]\n"
     ]
    },
    {
     "name": "stdout",
     "output_type": "stream",
     "text": [
      "WARNING: group (0, -1, Lopez17CNN, All, 20) does not present Upperbound model.\n",
      "WARNING: group (0, -1, Lopez17CNN, All, 30) does not present Upperbound model.\n",
      "WARNING: group (0, -1, Lopez17CNN, All, 40) does not present Upperbound model.\n",
      "WARNING: group (0, -1, Lopez17CNN, Base, 20) does not present Upperbound model.\n",
      "WARNING: group (0, -1, Lopez17CNN, Base, 30) does not present Upperbound model.\n",
      "WARNING: group (0, -1, Lopez17CNN, Base, 40) does not present Upperbound model.\n",
      "WARNING: group (0, -1, Lopez17CNN, New, 20) does not present Upperbound model.\n",
      "WARNING: group (0, -1, Lopez17CNN, New, 30) does not present Upperbound model.\n",
      "WARNING: group (0, -1, Lopez17CNN, New, 40) does not present Upperbound model.\n",
      "WARNING: group (0, -1, Lopez17CNN, Old, 20) does not present Upperbound model.\n",
      "WARNING: group (0, -1, Lopez17CNN, Old, 30) does not present Upperbound model.\n",
      "WARNING: group (0, -1, Lopez17CNN, Old, 40) does not present Upperbound model.\n"
     ]
    },
    {
     "name": "stderr",
     "output_type": "stream",
     "text": [
      "100%|██████████████████████████████████████████████████████████████████████████████████████████████████████████████████████████████████████████████████████████████████████| 11/11 [00:00<00:00, 111.89it/s]\n",
      "100%|██████████████████████████████████████████████████████████████████████████████████████████████████████████████████████████████████████████████████████████████████████| 11/11 [00:00<00:00, 134.61it/s]\n",
      "100%|████████████████████████████████████████████████████████████████████████████████████████████████████████████████████████████████████████████████████████████████████| 230/230 [00:01<00:00, 218.54it/s]\n"
     ]
    },
    {
     "name": "stdout",
     "output_type": "stream",
     "text": [
      "WARNING: group (0, -1, Lopez17CNN, All, 20) does not present Upperbound model.\n",
      "WARNING: group (0, -1, Lopez17CNN, All, 30) does not present Upperbound model.\n",
      "WARNING: group (0, -1, Lopez17CNN, All, 40) does not present Upperbound model.\n",
      "WARNING: group (0, -1, Lopez17CNN, Base, 20) does not present Upperbound model.\n",
      "WARNING: group (0, -1, Lopez17CNN, Base, 30) does not present Upperbound model.\n",
      "WARNING: group (0, -1, Lopez17CNN, Base, 40) does not present Upperbound model.\n",
      "WARNING: group (0, -1, Lopez17CNN, New, 20) does not present Upperbound model.\n",
      "WARNING: group (0, -1, Lopez17CNN, New, 30) does not present Upperbound model.\n",
      "WARNING: group (0, -1, Lopez17CNN, New, 40) does not present Upperbound model.\n",
      "WARNING: group (0, -1, Lopez17CNN, Old, 20) does not present Upperbound model.\n",
      "WARNING: group (0, -1, Lopez17CNN, Old, 30) does not present Upperbound model.\n",
      "WARNING: group (0, -1, Lopez17CNN, Old, 40) does not present Upperbound model.\n"
     ]
    },
    {
     "name": "stderr",
     "output_type": "stream",
     "text": [
      "100%|██████████████████████████████████████████████████████████████████████████████████████████████████████████████████████████████████████████████████████████████████████| 11/11 [00:00<00:00, 108.11it/s]\n",
      "100%|███████████████████████████████████████████████████████████████████████████████████████████████████████████████████████████████████████████████████████████████████████| 11/11 [00:00<00:00, 88.24it/s]\n",
      "100%|████████████████████████████████████████████████████████████████████████████████████████████████████████████████████████████████████████████████████████████████████| 230/230 [00:01<00:00, 208.75it/s]\n"
     ]
    },
    {
     "name": "stdout",
     "output_type": "stream",
     "text": [
      "WARNING: group (0, -1, Lopez17CNN, All, 20) does not present Upperbound model.\n",
      "WARNING: group (0, -1, Lopez17CNN, All, 30) does not present Upperbound model.\n",
      "WARNING: group (0, -1, Lopez17CNN, All, 40) does not present Upperbound model.\n",
      "WARNING: group (0, -1, Lopez17CNN, Base, 20) does not present Upperbound model.\n",
      "WARNING: group (0, -1, Lopez17CNN, Base, 30) does not present Upperbound model.\n",
      "WARNING: group (0, -1, Lopez17CNN, Base, 40) does not present Upperbound model.\n",
      "WARNING: group (0, -1, Lopez17CNN, New, 20) does not present Upperbound model.\n",
      "WARNING: group (0, -1, Lopez17CNN, New, 30) does not present Upperbound model.\n",
      "WARNING: group (0, -1, Lopez17CNN, New, 40) does not present Upperbound model.\n",
      "WARNING: group (0, -1, Lopez17CNN, Old, 20) does not present Upperbound model.\n",
      "WARNING: group (0, -1, Lopez17CNN, Old, 30) does not present Upperbound model.\n",
      "WARNING: group (0, -1, Lopez17CNN, Old, 40) does not present Upperbound model.\n"
     ]
    },
    {
     "name": "stderr",
     "output_type": "stream",
     "text": [
      "100%|██████████████████████████████████████████████████████████████████████████████████████████████████████████████████████████████████████████████████████████████████████| 11/11 [00:00<00:00, 111.20it/s]\n",
      "100%|███████████████████████████████████████████████████████████████████████████████████████████████████████████████████████████████████████████████████████████████████████| 11/11 [00:00<00:00, 89.00it/s]\n",
      "100%|████████████████████████████████████████████████████████████████████████████████████████████████████████████████████████████████████████████████████████████████████| 230/230 [00:01<00:00, 218.02it/s]\n"
     ]
    },
    {
     "name": "stdout",
     "output_type": "stream",
     "text": [
      "WARNING: group (0, -1, Lopez17CNN, All, 20) does not present Upperbound model.\n",
      "WARNING: group (0, -1, Lopez17CNN, All, 30) does not present Upperbound model.\n",
      "WARNING: group (0, -1, Lopez17CNN, All, 40) does not present Upperbound model.\n",
      "WARNING: group (0, -1, Lopez17CNN, Base, 20) does not present Upperbound model.\n",
      "WARNING: group (0, -1, Lopez17CNN, Base, 30) does not present Upperbound model.\n",
      "WARNING: group (0, -1, Lopez17CNN, Base, 40) does not present Upperbound model.\n",
      "WARNING: group (0, -1, Lopez17CNN, New, 20) does not present Upperbound model.\n",
      "WARNING: group (0, -1, Lopez17CNN, New, 30) does not present Upperbound model.\n",
      "WARNING: group (0, -1, Lopez17CNN, New, 40) does not present Upperbound model.\n",
      "WARNING: group (0, -1, Lopez17CNN, Old, 20) does not present Upperbound model.\n",
      "WARNING: group (0, -1, Lopez17CNN, Old, 30) does not present Upperbound model.\n",
      "WARNING: group (0, -1, Lopez17CNN, Old, 40) does not present Upperbound model.\n"
     ]
    },
    {
     "name": "stderr",
     "output_type": "stream",
     "text": [
      "100%|███████████████████████████████████████████████████████████████████████████████████████████████████████████████████████████████████████████████████████████████████████| 11/11 [00:00<00:00, 84.40it/s]\n",
      "100%|██████████████████████████████████████████████████████████████████████████████████████████████████████████████████████████████████████████████████████████████████████| 11/11 [00:00<00:00, 110.65it/s]\n",
      "100%|████████████████████████████████████████████████████████████████████████████████████████████████████████████████████████████████████████████████████████████████████| 230/230 [00:01<00:00, 216.71it/s]\n"
     ]
    },
    {
     "name": "stdout",
     "output_type": "stream",
     "text": [
      "WARNING: group (0, -1, Lopez17CNN, All, 20) does not present Upperbound model.\n",
      "WARNING: group (0, -1, Lopez17CNN, All, 30) does not present Upperbound model.\n",
      "WARNING: group (0, -1, Lopez17CNN, All, 40) does not present Upperbound model.\n",
      "WARNING: group (0, -1, Lopez17CNN, Base, 20) does not present Upperbound model.\n",
      "WARNING: group (0, -1, Lopez17CNN, Base, 30) does not present Upperbound model.\n",
      "WARNING: group (0, -1, Lopez17CNN, Base, 40) does not present Upperbound model.\n",
      "WARNING: group (0, -1, Lopez17CNN, New, 20) does not present Upperbound model.\n",
      "WARNING: group (0, -1, Lopez17CNN, New, 30) does not present Upperbound model.\n",
      "WARNING: group (0, -1, Lopez17CNN, New, 40) does not present Upperbound model.\n",
      "WARNING: group (0, -1, Lopez17CNN, Old, 20) does not present Upperbound model.\n",
      "WARNING: group (0, -1, Lopez17CNN, Old, 30) does not present Upperbound model.\n",
      "WARNING: group (0, -1, Lopez17CNN, Old, 40) does not present Upperbound model.\n"
     ]
    },
    {
     "name": "stderr",
     "output_type": "stream",
     "text": [
      "100%|██████████████████████████████████████████████████████████████████████████████████████████████████████████████████████████████████████████████████████████████████████| 11/11 [00:00<00:00, 113.19it/s]\n",
      "100%|██████████████████████████████████████████████████████████████████████████████████████████████████████████████████████████████████████████████████████████████████████| 11/11 [00:00<00:00, 116.54it/s]\n",
      "100%|████████████████████████████████████████████████████████████████████████████████████████████████████████████████████████████████████████████████████████████████████| 230/230 [00:01<00:00, 208.67it/s]\n"
     ]
    },
    {
     "name": "stdout",
     "output_type": "stream",
     "text": [
      "WARNING: group (0, -1, Lopez17CNN, All, 20) does not present Upperbound model.\n",
      "WARNING: group (0, -1, Lopez17CNN, All, 30) does not present Upperbound model.\n",
      "WARNING: group (0, -1, Lopez17CNN, All, 40) does not present Upperbound model.\n",
      "WARNING: group (0, -1, Lopez17CNN, Base, 20) does not present Upperbound model.\n",
      "WARNING: group (0, -1, Lopez17CNN, Base, 30) does not present Upperbound model.\n",
      "WARNING: group (0, -1, Lopez17CNN, Base, 40) does not present Upperbound model.\n",
      "WARNING: group (0, -1, Lopez17CNN, New, 20) does not present Upperbound model.\n",
      "WARNING: group (0, -1, Lopez17CNN, New, 30) does not present Upperbound model.\n",
      "WARNING: group (0, -1, Lopez17CNN, New, 40) does not present Upperbound model.\n",
      "WARNING: group (0, -1, Lopez17CNN, Old, 20) does not present Upperbound model.\n",
      "WARNING: group (0, -1, Lopez17CNN, Old, 30) does not present Upperbound model.\n",
      "WARNING: group (0, -1, Lopez17CNN, Old, 40) does not present Upperbound model.\n"
     ]
    },
    {
     "name": "stderr",
     "output_type": "stream",
     "text": [
      "100%|██████████████████████████████████████████████████████████████████████████████████████████████████████████████████████████████████████████████████████████████████████| 11/11 [00:00<00:00, 112.56it/s]\n",
      "100%|██████████████████████████████████████████████████████████████████████████████████████████████████████████████████████████████████████████████████████████████████████| 11/11 [00:00<00:00, 119.98it/s]\n",
      "100%|████████████████████████████████████████████████████████████████████████████████████████████████████████████████████████████████████████████████████████████████████| 230/230 [00:01<00:00, 206.90it/s]\n"
     ]
    },
    {
     "name": "stdout",
     "output_type": "stream",
     "text": [
      "WARNING: group (0, -1, Lopez17CNN, All, 20) does not present Upperbound model.\n",
      "WARNING: group (0, -1, Lopez17CNN, All, 30) does not present Upperbound model.\n",
      "WARNING: group (0, -1, Lopez17CNN, All, 40) does not present Upperbound model.\n",
      "WARNING: group (0, -1, Lopez17CNN, Base, 20) does not present Upperbound model.\n",
      "WARNING: group (0, -1, Lopez17CNN, Base, 30) does not present Upperbound model.\n",
      "WARNING: group (0, -1, Lopez17CNN, Base, 40) does not present Upperbound model.\n",
      "WARNING: group (0, -1, Lopez17CNN, New, 20) does not present Upperbound model.\n",
      "WARNING: group (0, -1, Lopez17CNN, New, 30) does not present Upperbound model.\n",
      "WARNING: group (0, -1, Lopez17CNN, New, 40) does not present Upperbound model.\n",
      "WARNING: group (0, -1, Lopez17CNN, Old, 20) does not present Upperbound model.\n",
      "WARNING: group (0, -1, Lopez17CNN, Old, 30) does not present Upperbound model.\n",
      "WARNING: group (0, -1, Lopez17CNN, Old, 40) does not present Upperbound model.\n"
     ]
    },
    {
     "name": "stderr",
     "output_type": "stream",
     "text": [
      "100%|██████████████████████████████████████████████████████████████████████████████████████████████████████████████████████████████████████████████████████████████████████| 11/11 [00:00<00:00, 112.14it/s]\n",
      "100%|██████████████████████████████████████████████████████████████████████████████████████████████████████████████████████████████████████████████████████████████████████| 11/11 [00:00<00:00, 112.14it/s]\n",
      "100%|████████████████████████████████████████████████████████████████████████████████████████████████████████████████████████████████████████████████████████████████████| 230/230 [00:01<00:00, 211.13it/s]\n"
     ]
    },
    {
     "name": "stdout",
     "output_type": "stream",
     "text": [
      "WARNING: group (0, -1, Lopez17CNN, All, 20) does not present Upperbound model.\n",
      "WARNING: group (0, -1, Lopez17CNN, All, 30) does not present Upperbound model.\n",
      "WARNING: group (0, -1, Lopez17CNN, All, 40) does not present Upperbound model.\n",
      "WARNING: group (0, -1, Lopez17CNN, Base, 20) does not present Upperbound model.\n",
      "WARNING: group (0, -1, Lopez17CNN, Base, 30) does not present Upperbound model.\n",
      "WARNING: group (0, -1, Lopez17CNN, Base, 40) does not present Upperbound model.\n",
      "WARNING: group (0, -1, Lopez17CNN, New, 20) does not present Upperbound model.\n",
      "WARNING: group (0, -1, Lopez17CNN, New, 30) does not present Upperbound model.\n",
      "WARNING: group (0, -1, Lopez17CNN, New, 40) does not present Upperbound model.\n",
      "WARNING: group (0, -1, Lopez17CNN, Old, 20) does not present Upperbound model.\n",
      "WARNING: group (0, -1, Lopez17CNN, Old, 30) does not present Upperbound model.\n",
      "WARNING: group (0, -1, Lopez17CNN, Old, 40) does not present Upperbound model.\n"
     ]
    },
    {
     "name": "stderr",
     "output_type": "stream",
     "text": [
      "100%|██████████████████████████████████████████████████████████████████████████████████████████████████████████████████████████████████████████████████████████████████████| 11/11 [00:00<00:00, 108.24it/s]\n",
      "100%|██████████████████████████████████████████████████████████████████████████████████████████████████████████████████████████████████████████████████████████████████████| 11/11 [00:00<00:00, 112.17it/s]\n",
      "100%|████████████████████████████████████████████████████████████████████████████████████████████████████████████████████████████████████████████████████████████████████| 230/230 [00:01<00:00, 218.45it/s]\n"
     ]
    },
    {
     "name": "stdout",
     "output_type": "stream",
     "text": [
      "WARNING: group (0, -1, Lopez17CNN, All, 20) does not present Upperbound model.\n",
      "WARNING: group (0, -1, Lopez17CNN, All, 30) does not present Upperbound model.\n",
      "WARNING: group (0, -1, Lopez17CNN, All, 40) does not present Upperbound model.\n",
      "WARNING: group (0, -1, Lopez17CNN, Base, 20) does not present Upperbound model.\n",
      "WARNING: group (0, -1, Lopez17CNN, Base, 30) does not present Upperbound model.\n",
      "WARNING: group (0, -1, Lopez17CNN, Base, 40) does not present Upperbound model.\n",
      "WARNING: group (0, -1, Lopez17CNN, New, 20) does not present Upperbound model.\n",
      "WARNING: group (0, -1, Lopez17CNN, New, 30) does not present Upperbound model.\n",
      "WARNING: group (0, -1, Lopez17CNN, New, 40) does not present Upperbound model.\n",
      "WARNING: group (0, -1, Lopez17CNN, Old, 20) does not present Upperbound model.\n",
      "WARNING: group (0, -1, Lopez17CNN, Old, 30) does not present Upperbound model.\n",
      "WARNING: group (0, -1, Lopez17CNN, Old, 40) does not present Upperbound model.\n"
     ]
    },
    {
     "name": "stderr",
     "output_type": "stream",
     "text": [
      "100%|██████████████████████████████████████████████████████████████████████████████████████████████████████████████████████████████████████████████████████████████████████| 11/11 [00:00<00:00, 119.61it/s]\n",
      "100%|██████████████████████████████████████████████████████████████████████████████████████████████████████████████████████████████████████████████████████████████████████| 10/10 [00:00<00:00, 115.19it/s]\n",
      "100%|████████████████████████████████████████████████████████████████████████████████████████████████████████████████████████████████████████████████████████████████████| 230/230 [00:01<00:00, 218.52it/s]\n",
      "100%|███████████████████████████████████████████████████████████████████████████████████████████████████████████████████████████████████████████████████████████████████████| 10/10 [00:00<00:00, 77.63it/s]\n",
      "100%|██████████████████████████████████████████████████████████████████████████████████████████████████████████████████████████████████████████████████████████████████████| 20/20 [00:00<00:00, 112.89it/s]\n",
      "100%|████████████████████████████████████████████████████████████████████████████████████████████████████████████████████████████████████████████████████████████████████| 230/230 [00:01<00:00, 217.52it/s]\n",
      "100%|██████████████████████████████████████████████████████████████████████████████████████████████████████████████████████████████████████████████████████████████████████| 20/20 [00:00<00:00, 112.80it/s]\n",
      "100%|██████████████████████████████████████████████████████████████████████████████████████████████████████████████████████████████████████████████████████████████████████| 30/30 [00:00<00:00, 118.08it/s]\n",
      "100%|████████████████████████████████████████████████████████████████████████████████████████████████████████████████████████████████████████████████████████████████████| 230/230 [00:01<00:00, 217.93it/s]\n",
      "100%|██████████████████████████████████████████████████████████████████████████████████████████████████████████████████████████████████████████████████████████████████████| 30/30 [00:00<00:00, 110.69it/s]\n",
      "100%|██████████████████████████████████████████████████████████████████████████████████████████████████████████████████████████████████████████████████████████████████████| 81/81 [00:00<00:00, 120.57it/s]\n",
      "100%|████████████████████████████████████████████████████████████████████████████████████████████████████████████████████████████████████████████████████████████████████| 230/230 [00:01<00:00, 217.99it/s]\n"
     ]
    },
    {
     "name": "stdout",
     "output_type": "stream",
     "text": [
      "WARNING: group (0, -1, Lopez17CNN, All, 20) does not present Upperbound model.\n",
      "WARNING: group (0, -1, Lopez17CNN, All, 40) does not present Upperbound model.\n",
      "WARNING: group (0, -1, Lopez17CNN, Base, 20) does not present Upperbound model.\n",
      "WARNING: group (0, -1, Lopez17CNN, Base, 40) does not present Upperbound model.\n",
      "WARNING: group (0, -1, Lopez17CNN, New, 20) does not present Upperbound model.\n",
      "WARNING: group (0, -1, Lopez17CNN, New, 40) does not present Upperbound model.\n",
      "WARNING: group (0, -1, Lopez17CNN, Old, 20) does not present Upperbound model.\n",
      "WARNING: group (0, -1, Lopez17CNN, Old, 40) does not present Upperbound model.\n"
     ]
    },
    {
     "name": "stderr",
     "output_type": "stream",
     "text": [
      "100%|██████████████████████████████████████████████████████████████████████████████████████████████████████████████████████████████████████████████████████████████████████| 81/81 [00:00<00:00, 121.06it/s]\n",
      "100%|██████████████████████████████████████████████████████████████████████████████████████████████████████████████████████████████████████████████████████████████████████| 46/46 [00:00<00:00, 132.11it/s]\n",
      "100%|████████████████████████████████████████████████████████████████████████████████████████████████████████████████████████████████████████████████████████████████████| 230/230 [00:01<00:00, 222.54it/s]\n"
     ]
    },
    {
     "name": "stdout",
     "output_type": "stream",
     "text": [
      "WARNING: group (0, -1, Lopez17CNN, All, 20) does not present Upperbound model.\n",
      "WARNING: group (0, -1, Lopez17CNN, All, 40) does not present Upperbound model.\n",
      "WARNING: group (0, -1, Lopez17CNN, Base, 20) does not present Upperbound model.\n",
      "WARNING: group (0, -1, Lopez17CNN, Base, 40) does not present Upperbound model.\n",
      "WARNING: group (0, -1, Lopez17CNN, New, 20) does not present Upperbound model.\n",
      "WARNING: group (0, -1, Lopez17CNN, New, 40) does not present Upperbound model.\n",
      "WARNING: group (0, -1, Lopez17CNN, Old, 20) does not present Upperbound model.\n",
      "WARNING: group (0, -1, Lopez17CNN, Old, 40) does not present Upperbound model.\n"
     ]
    },
    {
     "name": "stderr",
     "output_type": "stream",
     "text": [
      "100%|██████████████████████████████████████████████████████████████████████████████████████████████████████████████████████████████████████████████████████████████████████| 46/46 [00:00<00:00, 120.69it/s]\n",
      "100%|██████████████████████████████████████████████████████████████████████████████████████████████████████████████████████████████████████████████████████████████████████| 41/41 [00:00<00:00, 137.04it/s]\n",
      "100%|████████████████████████████████████████████████████████████████████████████████████████████████████████████████████████████████████████████████████████████████████| 230/230 [00:01<00:00, 222.37it/s]\n"
     ]
    },
    {
     "name": "stdout",
     "output_type": "stream",
     "text": [
      "WARNING: group (0, -1, Lopez17CNN, All, 20) does not present Upperbound model.\n",
      "WARNING: group (0, -1, Lopez17CNN, All, 40) does not present Upperbound model.\n",
      "WARNING: group (0, -1, Lopez17CNN, Base, 20) does not present Upperbound model.\n",
      "WARNING: group (0, -1, Lopez17CNN, Base, 40) does not present Upperbound model.\n",
      "WARNING: group (0, -1, Lopez17CNN, New, 20) does not present Upperbound model.\n",
      "WARNING: group (0, -1, Lopez17CNN, New, 40) does not present Upperbound model.\n",
      "WARNING: group (0, -1, Lopez17CNN, Old, 20) does not present Upperbound model.\n",
      "WARNING: group (0, -1, Lopez17CNN, Old, 40) does not present Upperbound model.\n"
     ]
    },
    {
     "name": "stderr",
     "output_type": "stream",
     "text": [
      "100%|██████████████████████████████████████████████████████████████████████████████████████████████████████████████████████████████████████████████████████████████████████| 41/41 [00:00<00:00, 120.48it/s]\n",
      "100%|██████████████████████████████████████████████████████████████████████████████████████████████████████████████████████████████████████████████████████████████████████| 41/41 [00:00<00:00, 114.98it/s]\n",
      "100%|████████████████████████████████████████████████████████████████████████████████████████████████████████████████████████████████████████████████████████████████████| 230/230 [00:01<00:00, 224.82it/s]\n"
     ]
    },
    {
     "name": "stdout",
     "output_type": "stream",
     "text": [
      "WARNING: group (0, -1, Lopez17CNN, All, 20) does not present Upperbound model.\n",
      "WARNING: group (0, -1, Lopez17CNN, All, 40) does not present Upperbound model.\n",
      "WARNING: group (0, -1, Lopez17CNN, Base, 20) does not present Upperbound model.\n",
      "WARNING: group (0, -1, Lopez17CNN, Base, 40) does not present Upperbound model.\n",
      "WARNING: group (0, -1, Lopez17CNN, New, 20) does not present Upperbound model.\n",
      "WARNING: group (0, -1, Lopez17CNN, New, 40) does not present Upperbound model.\n",
      "WARNING: group (0, -1, Lopez17CNN, Old, 20) does not present Upperbound model.\n",
      "WARNING: group (0, -1, Lopez17CNN, Old, 40) does not present Upperbound model.\n"
     ]
    },
    {
     "name": "stderr",
     "output_type": "stream",
     "text": [
      "100%|██████████████████████████████████████████████████████████████████████████████████████████████████████████████████████████████████████████████████████████████████████| 41/41 [00:00<00:00, 123.09it/s]\n",
      "100%|██████████████████████████████████████████████████████████████████████████████████████████████████████████████████████████████████████████████████████████████████████| 41/41 [00:00<00:00, 126.49it/s]\n",
      "100%|████████████████████████████████████████████████████████████████████████████████████████████████████████████████████████████████████████████████████████████████████| 230/230 [00:01<00:00, 226.74it/s]\n"
     ]
    },
    {
     "name": "stdout",
     "output_type": "stream",
     "text": [
      "WARNING: group (0, -1, Lopez17CNN, All, 20) does not present Upperbound model.\n",
      "WARNING: group (0, -1, Lopez17CNN, All, 40) does not present Upperbound model.\n",
      "WARNING: group (0, -1, Lopez17CNN, Base, 20) does not present Upperbound model.\n",
      "WARNING: group (0, -1, Lopez17CNN, Base, 40) does not present Upperbound model.\n",
      "WARNING: group (0, -1, Lopez17CNN, New, 20) does not present Upperbound model.\n",
      "WARNING: group (0, -1, Lopez17CNN, New, 40) does not present Upperbound model.\n",
      "WARNING: group (0, -1, Lopez17CNN, Old, 20) does not present Upperbound model.\n",
      "WARNING: group (0, -1, Lopez17CNN, Old, 40) does not present Upperbound model.\n"
     ]
    },
    {
     "name": "stderr",
     "output_type": "stream",
     "text": [
      "100%|██████████████████████████████████████████████████████████████████████████████████████████████████████████████████████████████████████████████████████████████████████| 41/41 [00:00<00:00, 120.01it/s]\n",
      "100%|██████████████████████████████████████████████████████████████████████████████████████████████████████████████████████████████████████████████████████████████████████| 41/41 [00:00<00:00, 102.87it/s]\n",
      "100%|████████████████████████████████████████████████████████████████████████████████████████████████████████████████████████████████████████████████████████████████████| 230/230 [00:01<00:00, 219.24it/s]\n"
     ]
    },
    {
     "name": "stdout",
     "output_type": "stream",
     "text": [
      "WARNING: group (0, -1, Lopez17CNN, All, 20) does not present Upperbound model.\n",
      "WARNING: group (0, -1, Lopez17CNN, All, 40) does not present Upperbound model.\n",
      "WARNING: group (0, -1, Lopez17CNN, Base, 20) does not present Upperbound model.\n",
      "WARNING: group (0, -1, Lopez17CNN, Base, 40) does not present Upperbound model.\n",
      "WARNING: group (0, -1, Lopez17CNN, New, 20) does not present Upperbound model.\n",
      "WARNING: group (0, -1, Lopez17CNN, New, 40) does not present Upperbound model.\n",
      "WARNING: group (0, -1, Lopez17CNN, Old, 20) does not present Upperbound model.\n",
      "WARNING: group (0, -1, Lopez17CNN, Old, 40) does not present Upperbound model.\n"
     ]
    },
    {
     "name": "stderr",
     "output_type": "stream",
     "text": [
      "100%|██████████████████████████████████████████████████████████████████████████████████████████████████████████████████████████████████████████████████████████████████████| 41/41 [00:00<00:00, 117.65it/s]\n",
      "100%|██████████████████████████████████████████████████████████████████████████████████████████████████████████████████████████████████████████████████████████████████████| 91/91 [00:00<00:00, 130.59it/s]\n",
      "100%|████████████████████████████████████████████████████████████████████████████████████████████████████████████████████████████████████████████████████████████████████| 230/230 [00:01<00:00, 211.21it/s]\n"
     ]
    },
    {
     "name": "stdout",
     "output_type": "stream",
     "text": [
      "WARNING: group (0, -1, Lopez17CNN, All, 20) does not present Upperbound model.\n",
      "WARNING: group (0, -1, Lopez17CNN, All, 40) does not present Upperbound model.\n",
      "WARNING: group (0, -1, Lopez17CNN, Base, 20) does not present Upperbound model.\n",
      "WARNING: group (0, -1, Lopez17CNN, Base, 40) does not present Upperbound model.\n",
      "WARNING: group (0, -1, Lopez17CNN, New, 20) does not present Upperbound model.\n",
      "WARNING: group (0, -1, Lopez17CNN, New, 40) does not present Upperbound model.\n",
      "WARNING: group (0, -1, Lopez17CNN, Old, 20) does not present Upperbound model.\n",
      "WARNING: group (0, -1, Lopez17CNN, Old, 40) does not present Upperbound model.\n"
     ]
    },
    {
     "name": "stderr",
     "output_type": "stream",
     "text": [
      "100%|██████████████████████████████████████████████████████████████████████████████████████████████████████████████████████████████████████████████████████████████████████| 91/91 [00:00<00:00, 120.25it/s]\n",
      "100%|██████████████████████████████████████████████████████████████████████████████████████████████████████████████████████████████████████████████████████████████████████| 41/41 [00:00<00:00, 111.35it/s]\n",
      "100%|████████████████████████████████████████████████████████████████████████████████████████████████████████████████████████████████████████████████████████████████████| 230/230 [00:01<00:00, 190.16it/s]\n"
     ]
    },
    {
     "name": "stdout",
     "output_type": "stream",
     "text": [
      "WARNING: group (0, -1, Lopez17CNN, All, 20) does not present Upperbound model.\n",
      "WARNING: group (0, -1, Lopez17CNN, All, 40) does not present Upperbound model.\n",
      "WARNING: group (0, -1, Lopez17CNN, Base, 20) does not present Upperbound model.\n",
      "WARNING: group (0, -1, Lopez17CNN, Base, 40) does not present Upperbound model.\n",
      "WARNING: group (0, -1, Lopez17CNN, New, 20) does not present Upperbound model.\n",
      "WARNING: group (0, -1, Lopez17CNN, New, 40) does not present Upperbound model.\n",
      "WARNING: group (0, -1, Lopez17CNN, Old, 20) does not present Upperbound model.\n",
      "WARNING: group (0, -1, Lopez17CNN, Old, 40) does not present Upperbound model.\n"
     ]
    },
    {
     "name": "stderr",
     "output_type": "stream",
     "text": [
      "100%|██████████████████████████████████████████████████████████████████████████████████████████████████████████████████████████████████████████████████████████████████████| 41/41 [00:00<00:00, 121.03it/s]\n",
      "100%|██████████████████████████████████████████████████████████████████████████████████████████████████████████████████████████████████████████████████████████████████████| 81/81 [00:00<00:00, 112.08it/s]\n",
      "100%|████████████████████████████████████████████████████████████████████████████████████████████████████████████████████████████████████████████████████████████████████| 230/230 [00:01<00:00, 223.20it/s]\n"
     ]
    },
    {
     "name": "stdout",
     "output_type": "stream",
     "text": [
      "WARNING: group (0, -1, Lopez17CNN, All, 20) does not present Upperbound model.\n",
      "WARNING: group (0, -1, Lopez17CNN, All, 40) does not present Upperbound model.\n",
      "WARNING: group (0, -1, Lopez17CNN, Base, 20) does not present Upperbound model.\n",
      "WARNING: group (0, -1, Lopez17CNN, Base, 40) does not present Upperbound model.\n",
      "WARNING: group (0, -1, Lopez17CNN, New, 20) does not present Upperbound model.\n",
      "WARNING: group (0, -1, Lopez17CNN, New, 40) does not present Upperbound model.\n",
      "WARNING: group (0, -1, Lopez17CNN, Old, 20) does not present Upperbound model.\n",
      "WARNING: group (0, -1, Lopez17CNN, Old, 40) does not present Upperbound model.\n"
     ]
    },
    {
     "name": "stderr",
     "output_type": "stream",
     "text": [
      "100%|██████████████████████████████████████████████████████████████████████████████████████████████████████████████████████████████████████████████████████████████████████| 81/81 [00:00<00:00, 121.41it/s]\n",
      "100%|██████████████████████████████████████████████████████████████████████████████████████████████████████████████████████████████████████████████████████████████████████| 40/40 [00:00<00:00, 131.90it/s]\n",
      "100%|████████████████████████████████████████████████████████████████████████████████████████████████████████████████████████████████████████████████████████████████████| 230/230 [00:01<00:00, 227.83it/s]\n",
      "100%|██████████████████████████████████████████████████████████████████████████████████████████████████████████████████████████████████████████████████████████████████████| 40/40 [00:00<00:00, 121.55it/s]\n",
      "100%|████████████████████████████████████████████████████████████████████████████████████████████████████████████████████████████████████████████████████████████████████| 120/120 [00:00<00:00, 128.02it/s]\n",
      "100%|████████████████████████████████████████████████████████████████████████████████████████████████████████████████████████████████████████████████████████████████████| 230/230 [00:01<00:00, 218.23it/s]\n",
      "100%|████████████████████████████████████████████████████████████████████████████████████████████████████████████████████████████████████████████████████████████████████| 120/120 [00:00<00:00, 120.02it/s]\n",
      "100%|██████████████████████████████████████████████████████████████████████████████████████████████████████████████████████████████████████████████████████████████████████| 50/50 [00:00<00:00, 123.33it/s]\n",
      "100%|████████████████████████████████████████████████████████████████████████████████████████████████████████████████████████████████████████████████████████████████████| 230/230 [00:01<00:00, 209.16it/s]\n",
      "100%|██████████████████████████████████████████████████████████████████████████████████████████████████████████████████████████████████████████████████████████████████████| 50/50 [00:00<00:00, 120.31it/s]\n"
     ]
    }
   ],
   "source": [
    "#load data for lineplot\n",
    "base_incr = [(20,5), (34,1), (34,2), (34,3), (20,10), (20,20)]\n",
    "metric = 'f1_score'\n",
    "ord_list = ['lwf','lucir', 'icarlp', 'ssil','il2m','ewc','bic','icarl','eeil','chen2021','backbonefreezing', 'joint']\n",
    "t='net'\n",
    "df_lst_cv = pd.DataFrame()\n",
    "df_forg_all = pd.DataFrame()\n",
    "for b, i in base_incr:\n",
    "    for approach in ord_list:\n",
    "        exp_name = 'mirage_generic_%s_*_base%s_incr%s_*' % (approach,b,i)\n",
    "        results_path = '/media/nas/datasets/MIRAGE_2020/FSCIL_approaches/hf-project/final_results/results'\n",
    "        analysis = 'per_class_metrics'\n",
    "        df_filenames = glob('%s/*%s*/**/*%s.parquet' % (results_path, exp_name, analysis), recursive=True)\n",
    "        df_filenames_scratch = glob('%s_UB/**/*%s.parquet' % (results_path, analysis), recursive=True)\n",
    "        df = load_data(df_filenames, metric)\n",
    "        df_scratch = load_scratch_data(df_filenames_scratch, metric, b, i)\n",
    "        df = compute_drops(df, df_scratch)\n",
    "        df['incr'] = [i] * len(df)\n",
    "        df['base'] = [b] * len(df)\n",
    "        df_lst_cv=pd.concat([df_lst_cv, df])\n",
    "        \n",
    "        analysis = 'per_episode_metrics'\n",
    "        df_filenames = glob('%s/*%s*/**/*%s.parquet' % (results_path, exp_name, analysis), recursive=True)\n",
    "        df_forg = load_data(df_filenames, '_'.join(['forgetting',metric]))\n",
    "        df_forg['incr'] = [i] * len(df_forg)\n",
    "        df_forg['base'] = [b] * len(df_forg)\n",
    "        \n",
    "        df_forg_all = pd.concat([df_forg_all, df_forg])\n",
    "df_forg_all = df_forg_all.reset_index()        \n",
    "df_lst_cv = df_lst_cv.reset_index()"
   ]
  },
  {
   "cell_type": "code",
   "execution_count": 91,
   "id": "68baeda2",
   "metadata": {
    "scrolled": false
   },
   "outputs": [],
   "source": [
    "#lineplot per approach\n",
    "l= ['Base', 'Old']\n",
    "l=['Old']\n",
    "for t in l:\n",
    "    base_incr = [(20,5), (34,1), (34,2), (34,3), (20,10), (20,20)]\n",
    "    metric = 'f1_score'\n",
    "    ord_list_net = ['lwf','lucir', 'icarlp', 'ssil','il2m','ewc','bic','icarl','eeil','chen2021','backbonefreezing', 'joint']\n",
    "    max_old = df_lst_cv[df_lst_cv['Type']==t]['%s Drop' % metr_dict[metric]].max()\n",
    "    max_new = df_lst_cv[df_lst_cv['Type']=='New']['%s Drop' % metr_dict[metric]].max()\n",
    "    df_forg=pd.DataFrame()\n",
    "    df=pd.DataFrame()\n",
    "    total_appr = []\n",
    "    \n",
    "    approach_list = ['LwF-GKD', 'LUCIR', 'iCaRL+', 'SSIL', 'IL2M', 'EWC', 'BiC', 'iCaRL', 'EEIL', 'OvA-Ens', 'FT-Mem', 'FZ-Mem']\n",
    "    for appr in approach_list:\n",
    "        for (b, i) in base_incr:\n",
    "            df_lst_temp = df_lst_cv[(df_lst_cv['base'] == b) & (df_lst_cv['incr'] == i) & (df_lst_cv['#Apps'] != b)]\n",
    "            df_forg_temp = df_forg_all[(df_forg_all['base'] == b) & (df_forg_all['incr'] == i) & (df_forg_all['#Apps'] != b)]\n",
    "\n",
    "            df = pd.concat([df_lst_temp, df])\n",
    "            df_forg = pd.concat([df_forg_temp, df_forg])\n",
    "        df=df[(df['Seed']!=0) & (df['Seed']<11) & (df['Approach']==appr)]\n",
    "        df_forg=df_forg[(df_forg['Seed']!=0) & (df_forg['Seed']<11) & (df_forg['Approach']==appr)]\n",
    "\n",
    "        new = df[(df['#Apps'] == 40) & (df['Type']=='New')].groupby('incr').mean()['F1 Score Drop'].reset_index()['F1 Score Drop'].values\n",
    "        old = df[(df['#Apps'] == 40) & (df['Type']==t)].groupby('incr').mean()['F1 Score Drop'].reset_index()['F1 Score Drop'].values\n",
    "        forg_old = df_forg[(df_forg['#Apps'] == 40) & (df_forg['Type']=='Old')].groupby('incr').mean()['F1 Score Forgetting'].reset_index()['F1 Score Forgetting'].values\n",
    "        \n",
    "        total = list(new)+list(forg_old)\n",
    "        df_incr_old =  df_forg[(df_forg['Type']=='Old')].groupby(['incr', '#Apps']).mean().reset_index()\n",
    "        df_incr_new = df[(df['Type']=='New')].groupby(['incr', '#Apps']).mean().reset_index()\n",
    "\n",
    "        from sklearn.linear_model import LinearRegression\n",
    "        regressor = LinearRegression()\n",
    "        coeff_new = []\n",
    "        coeff_old = []\n",
    "        for inc in df_incr_old['incr'].unique():\n",
    "            if inc!=20:\n",
    "                X_train_old = np.reshape(df_incr_old[df_incr_old['incr']==inc]['#Apps'].values, (-1, 1))\n",
    "                #Y_train_old = np.reshape(df_incr_old[df_incr_old['incr']==inc]['F1 Score Drop'].values, (-1, 1))\n",
    "                Y_train_old = np.reshape(df_incr_old[df_incr_old['incr']==inc]['F1 Score Forgetting'].values, (-1, 1))\n",
    "                regressor.fit(X_train_old, Y_train_old)\n",
    "                coeff_old.append(regressor.coef_[0][0])\n",
    "                X_train_new = np.reshape(df_incr_new[df_incr_new['incr']==inc]['#Apps'].values, (-1, 1))\n",
    "                Y_train_new = np.reshape(df_incr_new[df_incr_new['incr']==inc]['F1 Score Drop'].values, (-1, 1))\n",
    "                regressor.fit(X_train_new, Y_train_new)\n",
    "                coeff_new.append(regressor.coef_[0][0])\n",
    "\n",
    "        coeff_new.append(0)\n",
    "        coeff_old.append(0)\n",
    "        total = total + list(coeff_new)\n",
    "        total = total + list(coeff_old)\n",
    "        total_appr.append(total)\n",
    "        lineplot_decay_per_approach(df,df_forg, b, i, metric, t, max_old, max_new, ord_list_net,\n",
    "                       savefig=os.path.join(img_path, 'LinePDecay_%s_%s' % (appr,t)))\n",
    "\n",
    "    #from sklearn.cluster import KMeans\n",
    "    #kmeans = KMeans(n_clusters=4, random_state=0).fit(np.asarray(total_appr))\n",
    "    #print(t)\n",
    "    #for i in sorted(range(len(kmeans.labels_)), key=lambda k: kmeans.labels_[k]):\n",
    "    #    print(approach_list[i], kmeans.labels_[i])#, total_appr[i] )\n",
    "    #print('\\n----------------------------------------------------------\\n')"
   ]
  },
  {
   "cell_type": "code",
   "execution_count": 92,
   "id": "7f60cbbb",
   "metadata": {},
   "outputs": [
    {
     "name": "stdout",
     "output_type": "stream",
     "text": [
      "20 5\n",
      "20 10\n",
      "20 20\n",
      "34 1\n",
      "34 2\n",
      "34 3\n"
     ]
    }
   ],
   "source": [
    "#lineplot comparison\n",
    "base_incr = [(20,5), (20,10), (20,20), (34,1), (34,2), (34,3)]\n",
    "\n",
    "base_incr_appr = {(20,5): ['iCaRL', 'OvA-Ens', 'FT-Mem', 'LwF-GKD'],\n",
    "                  (20,10): ['iCaRL', 'OvA-Ens', 'FT-Mem', 'LwF-GKD'],\n",
    "                  (20,20): ['iCaRL', 'OvA-Ens', 'FT-Mem', 'LwF-GKD'],\n",
    "                  (34,1): ['iCaRL', 'OvA-Ens', 'FT-Mem', 'LwF-GKD'],\n",
    "                  (34,2): ['iCaRL', 'OvA-Ens', 'FT-Mem', 'LwF-GKD'],\n",
    "                  (34,3): ['iCaRL', 'OvA-Ens', 'FT-Mem', 'LwF-GKD']}\n",
    "l= ['Base', 'Old']\n",
    "l= ['Old']\n",
    "for t in l:\n",
    "    metric = 'f1_score'\n",
    "    ord_list_net = ['chen2021', 'icarlp']\n",
    "    ord_list_net = ['lwfgkd','lucir', 'icarlp', 'ssil','il2m','ewc','bic','icarl','eeil','chen2021','backbonefreezingmem', 'jointmem']\n",
    "\n",
    "    approach_list = ['LwF-GKD', 'LUCIR', 'iCaRL+', 'SSIL', 'IL2M', 'EWC', 'BiC', 'iCaRL', 'EEIL', 'OvA-Ens', 'FT-Mem', 'FZ-Mem']\n",
    "\n",
    "    df_lst_cv = df_lst_cv[df_lst_cv['Approach'].isin(approach_list)]\n",
    "    for (b, i) in base_incr:\n",
    "        print(b,i)\n",
    "        total_appr=[]\n",
    "        df_forg_temp = df_forg_all[(df_forg_all['base'] == b) & (df_forg_all['incr'] == i) & (df_forg_all['#Apps'] != b)]\n",
    "        df_lst_temp = df_lst_cv[(df_lst_cv['base'] == b) & (df_lst_cv['incr'] == i) & (df_lst_cv['#Apps'] != b)]\n",
    "        for appr in df_lst_temp['Approach'].unique():\n",
    "            single_appr=[]\n",
    "            df=df_lst_temp[(df_lst_temp['Seed']!=0) & (df_lst_temp['Seed']<11) & (df_lst_temp['Approach']==appr)]\n",
    "            df_forg=df_forg_temp[(df_forg_temp['Seed']!=0) & (df_forg_temp['Seed']<11) & (df_forg_temp['Approach']==appr)]\n",
    "            new = df[(df['#Apps'] == 40) & (df['Type']=='New')]['F1 Score Drop'].mean()\n",
    "            old = df[(df['#Apps'] == 40) & (df['Type']==t)]['F1 Score Drop'].mean()\n",
    "            single_appr.append(new)\n",
    "            single_appr.append(old)\n",
    "\n",
    "            if i!=20:\n",
    "                df_incr_old = df[(df['Type']==t)].groupby(['#Apps']).mean().reset_index()\n",
    "                df_incr_new = df[(df['Type']=='New')].groupby(['#Apps']).mean().reset_index()\n",
    "                from sklearn.linear_model import LinearRegression\n",
    "                regressor = LinearRegression()\n",
    "                X_train_old = np.reshape(df_incr_old['#Apps'].values, (-1, 1))\n",
    "                Y_train_old = np.reshape(df_incr_old['F1 Score Drop'].values, (-1, 1))\n",
    "\n",
    "                regressor.fit(X_train_old, Y_train_old)\n",
    "                coeff_old = regressor.coef_[0][0]\n",
    "                X_train_new = np.reshape(df_incr_new['#Apps'].values, (-1, 1))\n",
    "                Y_train_new = np.reshape(df_incr_new['F1 Score Drop'].values, (-1, 1))\n",
    "                regressor.fit(X_train_new, Y_train_new)\n",
    "                coeff_new = regressor.coef_[0][0]\n",
    "            else:\n",
    "                coeff_new=0\n",
    "                coeff_old=0\n",
    "            single_appr.append(coeff_new)\n",
    "            single_appr.append(coeff_old)\n",
    "            total_appr.append(single_appr)\n",
    "\n",
    "        df_lst_temp=df_lst_temp[df_lst_temp['Seed']!=0]\n",
    "        lineplot_decay(df_lst_temp[df_lst_temp['Approach'].isin(base_incr_appr[(b,i)])],df_forg_temp[df_forg_temp['Approach'].isin(base_incr_appr[(b,i)])], b, i, metric, t, max_old, max_new, ord_list_net,\n",
    "                       savefig=os.path.join(img_path, 'LinePDecay_%s_incr%s_%s' % (b, i, t)))\n",
    "\n",
    "        #from sklearn.cluster import KMeans\n",
    "        #kmeans = KMeans(n_clusters=3, random_state=0).fit(np.asarray(total_appr))\n",
    "        #print(t)\n",
    "        #for i in sorted(range(len(kmeans.labels_)), key=lambda k: kmeans.labels_[k]):\n",
    "        #    print(df_lst_temp['Approach'].unique()[i], kmeans.labels_[i], total_appr[i] )\n",
    "        #print('\\n----------------------------------------------------------\\n')"
   ]
  },
  {
   "cell_type": "code",
   "execution_count": 61,
   "id": "d12e9c6c",
   "metadata": {
    "scrolled": false
   },
   "outputs": [],
   "source": [
    "#lineplot for cv approaches (top 3)\n",
    "#base_incr = [(20,5), (34,1), (34,2), (34,3)]\n",
    "#metric = 'f1_score'\n",
    "#best_3_cv = {(20,5): ['bic', 'lucir', 'ewc'],\n",
    "#             (34,1): ['bic', 'joint', 'ewc'],\n",
    "#             (34,2): ['bic', 'joint', 'ewc']}\n",
    "#t='cv'\n",
    "\n",
    "#df_lst = pd.DataFrame()\n",
    "\n",
    "#for b, i in base_incr:\n",
    "#    for approach in best_3_cv[(b,i)]:\n",
    "#        exp_name = 'mirage_generic_%s_*_base%s_incr%s_*' % (approach,b,i)\n",
    "#        results_path = '/media/nas/datasets/MIRAGE_2020/FSCIL_approaches/hf-project/final_results/results'\n",
    "#        analysis = 'per_class_metrics'\n",
    "#        df_filenames = glob('%s/*%s*/**/*%s.parquet' % (results_path, exp_name, analysis), recursive=True)\n",
    "#        df_filenames_scratch = glob('%s_UB/**/*%s.parquet' % (results_path, analysis), recursive=True)\n",
    "#        df = load_data(df_filenames, metric)\n",
    "        #analysis = 'per_episode_metrics'\n",
    "        #df_filenames = glob('%s/*%s*/**/*%s.parquet' % (results_path, exp_name, analysis), recursive=True)\n",
    "        #df_forg = load_data(df_filenames, '_'.join(['forgetting',metric]))\n",
    "        #print(df_forg)\n",
    "#        df_scratch = load_scratch_data(df_filenames_scratch, metric, b, i)\n",
    "#        df = compute_drops(df, df_scratch)\n",
    "#        df['incr'] = [i] * len(df)\n",
    "#        df['base'] = [b] * len(df)\n",
    "#        df_lst=pd.concat([df_lst, df])\n",
    "#df_lst = df_lst.reset_index()"
   ]
  },
  {
   "cell_type": "code",
   "execution_count": null,
   "id": "d2bb3dfe",
   "metadata": {
    "scrolled": false
   },
   "outputs": [],
   "source": [
    "#lineplot for cv approaches (top 3)\n",
    "#base_incr = [(20,5), (34,1), (34,2)]#, (34,3)]\n",
    "#metric = 'f1_score'\n",
    "#best_3_cv = {(20,5): ['bic', 'lucir', 'ewc'],\n",
    "#             (34,1): ['bic', 'joint', 'ewc'],\n",
    "#             (34,2): ['bic', 'joint', 'ewc']}\n",
    "#t='cv'\n",
    "\n",
    "#max_old = df_lst[df_lst['Type']=='Old']['%s Drop' % metr_dict[metric]].max()\n",
    "#max_new = df_lst[df_lst['Type']=='New']['%s Drop' % metr_dict[metric]].max()\n",
    "\n",
    "#for (b, i) in tqdm(base_incr):\n",
    "#    approaches = [appr_dict[x] for x in best_3_cv[(b, i)]]\n",
    "#    df_lst_temp = df_lst[(df_lst['base']==b) & (df_lst['incr']==i) & (df_lst['#Apps']!=b) & (df_lst['Approach'].isin(approaches))]\n",
    "#    df_lst_temp=df_lst_temp[df_lst_temp['Seed']!=0]\n",
    "#    lineplot_decay(df_lst_temp, b, i, metric, t, max_old, max_new, best_3_cv[(b,i)],\n",
    "#                  savefig=os.path.join(img_path, 'LinePDecay_base_%s_incr%s_%s' % (b, i, t)))"
   ]
  },
  {
   "cell_type": "code",
   "execution_count": null,
   "id": "caea7142",
   "metadata": {},
   "outputs": [],
   "source": []
  },
  {
   "cell_type": "code",
   "execution_count": null,
   "id": "131472c0",
   "metadata": {},
   "outputs": [],
   "source": []
  }
 ],
 "metadata": {
  "kernelspec": {
   "display_name": "Python 3 (ipykernel)",
   "language": "python",
   "name": "python3"
  },
  "language_info": {
   "codemirror_mode": {
    "name": "ipython",
    "version": 3
   },
   "file_extension": ".py",
   "mimetype": "text/x-python",
   "name": "python",
   "nbconvert_exporter": "python",
   "pygments_lexer": "ipython3",
   "version": "3.7.10"
  }
 },
 "nbformat": 4,
 "nbformat_minor": 5
}
