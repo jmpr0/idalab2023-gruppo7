{
 "cells": [
  {
   "cell_type": "code",
   "execution_count": null,
   "metadata": {},
   "outputs": [],
   "source": [
    "import pandas as pd \n",
    "import re\n",
    "from pprint import pprint\n",
    "from tqdm import tqdm\n",
    "import numpy as np"
   ]
  },
  {
   "cell_type": "code",
   "execution_count": null,
   "metadata": {},
   "outputs": [],
   "source": [
    "PATH = '../../data/mirage_generic/'"
   ]
  },
  {
   "cell_type": "code",
   "execution_count": null,
   "metadata": {},
   "outputs": [],
   "source": [
    "#df1 = pd.read_parquet(f'{PATH}dataset_100pkt_5f_payload_df_exact_noNullver_no0load_noMaps_b8829cf2.parquet')\n",
    "#df = pd.read_parquet('dataset_100pkt_5f_payload_df_exact_noNullver_no0load_noMaps_noSniRem_b8829cf2.parquet')\n",
    "#df = pd.read_parquet('dataset_100pkt_5f_payload_df_exact_noNullver_no0load_noMaps_noSniPadZero_b8829cf2.parquet')\n",
    "df = pd.read_parquet('dataset_100pkt_5f_payload_df_exact_noNullver_no0load_noMaps_noSniObfZero_b8829cf2.parquet')"
   ]
  },
  {
   "cell_type": "code",
   "execution_count": null,
   "metadata": {},
   "outputs": [],
   "source": [
    "df = df1"
   ]
  },
  {
   "cell_type": "code",
   "execution_count": null,
   "metadata": {},
   "outputs": [],
   "source": [
    "l = \"\".join(map(chr,df['LOAD'][0][:500]))\n",
    "l_nosni = \"\".join(map(chr,df_nosni['LOAD'][0][:500]))"
   ]
  },
  {
   "cell_type": "code",
   "execution_count": null,
   "metadata": {},
   "outputs": [],
   "source": [
    "l_nosni"
   ]
  },
  {
   "cell_type": "code",
   "execution_count": null,
   "metadata": {},
   "outputs": [],
   "source": [
    "l"
   ]
  },
  {
   "cell_type": "code",
   "execution_count": null,
   "metadata": {},
   "outputs": [],
   "source": [
    "loads = df['LOAD']\n",
    "client_hello_split = {\n",
    "    'record_header' : 5,\n",
    "    'handshake_header' : 4, \n",
    "    'client_ver' : 2, \n",
    "    'client_random' : 32, \n",
    "    'session_id_len' : 1,\n",
    "    'session_id' : 0,\n",
    "    'cypher_suit' : 0,\n",
    "    'compression_method' : 0,\n",
    "    'exts_len' : 2,\n",
    "    'ext_type' : 2,\n",
    "    'ext_len' : 2,\n",
    "    'sni_len' : 2,\n",
    "    'sni_type' : 1,\n",
    "    'host_name_len' : 2,\n",
    "    'host_name' : 0\n",
    "}\n",
    "TLS_RECORD_HEADERS = ['\\x16\\x03\\x01', '\\x16\\x03\\x02', '\\x16\\x03\\x03', '\\x16\\x03\\x04'] #TLS 1.0, 1.1, 1.2, 1.3\n",
    "TLS_VERS = ['\\x03\\x01', '\\x03\\x02', '\\x03\\x03', '\\x03\\x04']"
   ]
  },
  {
   "cell_type": "code",
   "execution_count": null,
   "metadata": {},
   "outputs": [],
   "source": [
    "def get_TLS_indices(load):\n",
    "    indices_TLS = dict()\n",
    "    l_string = \"\".join(map(chr, load))\n",
    "    for record_header in TLS_RECORD_HEADERS:\n",
    "            indices = [m.start() for m in re.finditer(record_header, l_string)]\n",
    "            if indices != []:\n",
    "                indices_TLS.setdefault(record_header, []).extend(indices)\n",
    "    return indices_TLS"
   ]
  },
  {
   "cell_type": "code",
   "execution_count": null,
   "metadata": {},
   "outputs": [],
   "source": [
    "def obfuscate_SNI(load, load_index, mode, pad_mode, index):\n",
    "    client_hello_sect = dict()\n",
    "    prev_byte = 0\n",
    "    l_string = \"\".join(map(chr, load[load_index:]))\n",
    "    \n",
    "    if l_string[:2] != '\\x16\\x03':\n",
    "        pprint(f'{l_string[:200]}')\n",
    "        pprint(index)\n",
    "        raise ValueError('Shift error')\n",
    "    \n",
    "    if l_string[5] != '\\x01':\n",
    "        return 'no_client_hello', None\n",
    "\n",
    "    for field, byte_range in client_hello_split.items():\n",
    "        if field == 'session_id': \n",
    "            # Skip session (len='session_id_len' byte)\n",
    "            if len(client_hello_sect['session_id_len']) == 0:\n",
    "                return 'session_len_0', None\n",
    "            byte_range = ord(client_hello_sect['session_id_len']) \n",
    "            if byte_range == 0:\n",
    "                # No session id is provided\n",
    "                continue\n",
    "        elif field == 'client_ver':\n",
    "            # Check if the TLS version is encrypted\n",
    "            if l_string[prev_byte : prev_byte + byte_range] not in TLS_VERS:\n",
    "                return 'ver_mismatch', None\n",
    "        elif field == 'cypher_suit': \n",
    "            # Skip cypher suit (len=2nd byte of 'cypher_suit')\n",
    "            byte_range = ord(l_string[prev_byte + 1]) + 2 \n",
    "        elif field == 'compression_method': \n",
    "            # Skip compression method (len=1st byte of 'compression_method')\n",
    "            byte_range = ord(l_string[prev_byte]) + 1 \n",
    "        elif field == 'ext_type':\n",
    "            # Skip each extension that is not SNI_EXT (len=2nd byte of 'ext_len')\n",
    "            i = 0\n",
    "            while l_string[prev_byte : prev_byte + byte_range] != '\\x00\\x00':\n",
    "                # The 3rd byte (before 'ext_len') in 'ext_type' should be 0\n",
    "                if l_string[prev_byte + 2] != '\\x00':\n",
    "                    return 'ext_mismatch', None\n",
    "                client_hello_sect[f'ext_{i}'] = l_string[prev_byte : prev_byte + 4]\n",
    "                prev_byte += ord(l_string[prev_byte + 3]) + 4\n",
    "                i += 1\n",
    "        elif field == 'sni_type':\n",
    "            # Only host name DNS \n",
    "            if l_string[prev_byte] != '\\x00':\n",
    "                return 'no_dns_hostname', None\n",
    "        elif field == 'host_name': \n",
    "            # Get the host name given its size in the 2nd byte in 'host_name_len'\n",
    "            byte_range = ord(client_hello_sect['host_name_len'][-1])\n",
    "            \n",
    "            # Set the pad type\n",
    "            # Pad is random\n",
    "            \"\"\" if pad_mode == 'rand':\n",
    "                pad_len = 255 if mode == 'pad' else byte_range\n",
    "                pad = np.random.choice(\n",
    "                    np.split(load, [load_index + prev_byte - 7])[0],\n",
    "                    size=(pad_len),\n",
    "                    replace=True\n",
    "                )\n",
    "            # Pad is a list of zeros\n",
    "            elif pad_mode == 'zero':\n",
    "                pad_len = 255 if mode == 'pad' else byte_range\n",
    "                pad = np.zeros(pad_len, dtype=np.int64)\n",
    "            \n",
    "            # Obfuscate the hostname\n",
    "            if mode == 'obf':\n",
    "                np.put(\n",
    "                    load, \n",
    "                    list(range(load_index + prev_byte, load_index + prev_byte + byte_range)), \n",
    "                    pad\n",
    "                )\n",
    "            # Remove and pad the ext SNI\n",
    "            elif mode == 'pad':\n",
    "                splitted_load = np.split(\n",
    "                    load, [load_index + prev_byte - 7, load_index + prev_byte + byte_range])\n",
    "                load = np.concatenate([splitted_load[0], pad, splitted_load[2]]) \n",
    "            # Remove the ext SNI \n",
    "            elif mode == 'rem':\n",
    "                splitted_load = np.split(\n",
    "                    load, [load_index + prev_byte - 8, load_index + prev_byte + byte_range])\n",
    "                load = np.concatenate([splitted_load[0], splitted_load[2]]) \n",
    "            else:\n",
    "                raise ValueError('Invalid mode') \"\"\"\n",
    "            \n",
    "        client_hello_sect[field] = l_string[prev_byte : prev_byte + byte_range]\n",
    "        prev_byte += byte_range\n",
    "\n",
    "    return client_hello_sect, load"
   ]
  },
  {
   "cell_type": "code",
   "execution_count": null,
   "metadata": {},
   "outputs": [],
   "source": [
    "sni_to_indices = dict()\n",
    "tls_exception_indices = dict()\n",
    "oob_indices = []\n",
    "no_tls_indices = []\n",
    "\n",
    "for i, load in tqdm(loads.items(), total=len(loads)):\n",
    "    load = load.copy()\n",
    "    shift = 0\n",
    "    indices_TLS_dict = get_TLS_indices(load)\n",
    "    if not indices_TLS_dict:\n",
    "        no_tls_indices.append(i)\n",
    "        continue\n",
    "    \n",
    "    indices_TLS = []\n",
    "    for v in indices_TLS_dict.values():\n",
    "        indices_TLS.extend(v)\n",
    "    indices_TLS.sort()\n",
    "\n",
    "    for j, _ in enumerate(indices_TLS):\n",
    "        \n",
    "        #TODO calcolare lo shift\n",
    "        current_TLS_dict = get_TLS_indices(load)\n",
    "        current_TLS = []\n",
    "        for v in current_TLS_dict.values():\n",
    "            current_TLS.extend(v)\n",
    "        current_TLS.sort()\n",
    "        current_index = current_TLS[j]\n",
    "    \n",
    "        try:\n",
    "            client_hello_sect, obf_load = obfuscate_SNI(\n",
    "                load, current_index, mode='obf', pad_mode='zero', index=i)\n",
    "            if obf_load is not None:\n",
    "                df.at[i, 'LOAD'] = obf_load\n",
    "                load = obf_load\n",
    "        except IndexError as _:\n",
    "            oob_indices.append(i)\n",
    "            \n",
    "        if isinstance(client_hello_sect, dict):\n",
    "            sni_to_indices.setdefault(client_hello_sect['host_name'], []).append(i)\n",
    "        elif isinstance(client_hello_sect, str):\n",
    "            tls_exception_indices.setdefault(client_hello_sect, []).append(i)\n",
    "        else:\n",
    "            print('Error')"
   ]
  },
  {
   "cell_type": "code",
   "execution_count": null,
   "metadata": {},
   "outputs": [],
   "source": [
    "df.to_parquet('dataset_100pkt_5f_payload_df_exact_noNullver_no0load_noMaps_noSniObfZero_b8829cf2.parquet')"
   ]
  },
  {
   "cell_type": "code",
   "execution_count": null,
   "metadata": {},
   "outputs": [],
   "source": [
    "print(tls_exception_indices['ext_mismatch'])"
   ]
  },
  {
   "cell_type": "code",
   "execution_count": null,
   "metadata": {},
   "outputs": [],
   "source": [
    "print(sni_to_indices.keys())"
   ]
  },
  {
   "cell_type": "code",
   "execution_count": null,
   "metadata": {},
   "outputs": [],
   "source": [
    "print(sni_to_indices['api-d.dropbox.com'])"
   ]
  },
  {
   "cell_type": "code",
   "execution_count": null,
   "metadata": {},
   "outputs": [],
   "source": [
    "l_string = \"\".join(map(chr, loads['192.168.20.105,58335,162.125.32.5,443,6_1495007218']))[0:300]\n",
    "l_string"
   ]
  },
  {
   "cell_type": "code",
   "execution_count": null,
   "metadata": {},
   "outputs": [],
   "source": [
    "index = '192.168.20.105,51390,162.125.66.5,443,6_1495010746'\n",
    "load = loads[index]\n",
    "load = load.copy()\n",
    "client_hello_sect = None\n",
    "shift = 0\n",
    "indices_TLS_dict = get_TLS_indices(load)\n",
    "indices_TLS = []\n",
    "for v in indices_TLS_dict.values():\n",
    "    indices_TLS.extend(v)\n",
    "indices_TLS.sort()\n",
    "print(indices_TLS)\n",
    "print(len(load))\n",
    "\n",
    "for i, load_index in enumerate(indices_TLS):\n",
    "    \n",
    "    current_TLS_dict = get_TLS_indices(load)\n",
    "    current_TLS = []\n",
    "    for v in current_TLS_dict.values():\n",
    "        current_TLS.extend(v)\n",
    "    current_TLS.sort()\n",
    "    current_index = current_TLS[i]\n",
    "    #print(load_index)\n",
    "    try:\n",
    "        \"\"\" print('shift')\n",
    "        print(current_index)\n",
    "        input() \"\"\"\n",
    "        client_hello_sect, obf_load = obfuscate_SNI(\n",
    "            load, current_index, mode='pad', pad_mode='zero', index=index)\n",
    "        if obf_load is not None:\n",
    "            load = obf_load\n",
    "    except IndexError as _:\n",
    "        print('No match')\n",
    "    pprint(client_hello_sect, sort_dicts=False)"
   ]
  }
 ],
 "metadata": {
  "kernelspec": {
   "display_name": "Python 3",
   "language": "python",
   "name": "python3"
  },
  "language_info": {
   "codemirror_mode": {
    "name": "ipython",
    "version": 3
   },
   "file_extension": ".py",
   "mimetype": "text/x-python",
   "name": "python",
   "nbconvert_exporter": "python",
   "pygments_lexer": "ipython3",
   "version": "3.9.10"
  },
  "orig_nbformat": 4,
  "vscode": {
   "interpreter": {
    "hash": "5e9be3726a3e1eb0488b4d4f640ef9d4f9840d98d40cbcadb810c3cb4446c190"
   }
  }
 },
 "nbformat": 4,
 "nbformat_minor": 2
}
