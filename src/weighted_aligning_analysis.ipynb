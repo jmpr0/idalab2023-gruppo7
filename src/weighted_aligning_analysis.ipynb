{
 "cells": [
  {
   "cell_type": "code",
   "execution_count": 1,
   "id": "32bf9efd",
   "metadata": {},
   "outputs": [],
   "source": [
    "from datasets.data_loader import *\n",
    "from networks.network import *\n",
    "from networks.lopez17cnn import *\n",
    "import torch\n",
    "from datasets.exemplars_dataset import ExemplarsDataset\n",
    "from MulticoreTSNE import MulticoreTSNE\n",
    "from sklearn.manifold import TSNE\n",
    "import numpy as np\n",
    "import pandas as pd\n",
    "import os\n",
    "from sklearn.metrics import precision_recall_fscore_support\n",
    "import json\n",
    "from glob import glob\n",
    "import utils\n",
    "from time import process_time_ns as process_time"
   ]
  },
  {
   "cell_type": "code",
   "execution_count": 2,
   "id": "37aa4aef",
   "metadata": {},
   "outputs": [
    {
     "name": "stdout",
     "output_type": "stream",
     "text": [
      "WARNING: using pre-processed dataframe.\n",
      "Class order:  [4, 25, 17, 33, 27, 16, 8, 32, 21, 0, 20, 34, 13, 14, 18, 11, 26, 15, 9, 31, 1, 19, 30, 3, 38, 36, 7, 12, 37, 23, 24, 2, 6, 35, 10, 28, 5, 22, 29, 39]\n"
     ]
    }
   ],
   "source": [
    "torch.multiprocessing.set_sharing_strategy('file_system')\n",
    "\n",
    "results_path = '/media/nas/datasets/MIRAGE_2020/FSCIL_approaches/hf-project/aws_results/'\n",
    "exp_dir = 'mirage_generic_bic_39_1_base39_incr1_stop2/'\n",
    "fns = glob(results_path + exp_dir + 'models/task1-*.ckpt')\n",
    "fn = fns[-1]\n",
    "\n",
    "os.chdir('/home/giampaolo/facil-tc/src/')\n",
    "\n",
    "base_model = torch.load(fn, map_location='cpu')\n",
    "ts = fn.split('-')[-1].replace('.ckpt', '')\n",
    "args = json.loads(open(results_path + exp_dir + 'args-%s.txt' % ts).read())\n",
    "stdout = open(results_path + exp_dir + 'stdout-%s.txt' % ts).readlines()\n",
    "class_order = eval([v for v in stdout[:10] if 'Class order' in v][0].split(':')[-1])\n",
    "\n",
    "utils.seed_everything(seed=args['seed'])\n",
    "\n",
    "os.chdir('datasets/')\n",
    "trn_load, val_load, tst_load, taskcla = get_loaders(\n",
    "    datasets=args['datasets'], num_tasks=args['num_tasks'], nc_first_task=args['nc_first_task'],\n",
    "    nc_incr_tasks=args['nc_incr_tasks'], batch_size=args['batch_size'], num_workers=args['num_workers'],\n",
    "    pin_memory=args['pin_memory'], validation=.1, num_bytes=args['num_bytes'],\n",
    "    num_pkts=args['num_pkts'], fields=args['fields'], seed=args['seed'], shots=-1,\n",
    "    fseed=-1, last_class=args['last_class'], predict_tasks=False,\n",
    "    statistical=False, is_ml=False)\n",
    "os.chdir('../')"
   ]
  },
  {
   "cell_type": "code",
   "execution_count": 3,
   "id": "f2912232",
   "metadata": {},
   "outputs": [
    {
     "ename": "NameError",
     "evalue": "name 'old_model' is not defined",
     "output_type": "error",
     "traceback": [
      "\u001b[0;31m---------------------------------------------------------------------------\u001b[0m",
      "\u001b[0;31mNameError\u001b[0m                                 Traceback (most recent call last)",
      "\u001b[0;32m/tmp/ipykernel_513467/1659200636.py\u001b[0m in \u001b[0;36m<module>\u001b[0;34m\u001b[0m\n\u001b[1;32m      1\u001b[0m \u001b[0moldweight\u001b[0m \u001b[0;34m=\u001b[0m \u001b[0mnp\u001b[0m\u001b[0;34m.\u001b[0m\u001b[0mlinalg\u001b[0m\u001b[0;34m.\u001b[0m\u001b[0mnorm\u001b[0m\u001b[0;34m(\u001b[0m\u001b[0mbase_model\u001b[0m\u001b[0;34m[\u001b[0m\u001b[0;34m'heads.0.weight'\u001b[0m\u001b[0;34m]\u001b[0m\u001b[0;34m.\u001b[0m\u001b[0mnumpy\u001b[0m\u001b[0;34m(\u001b[0m\u001b[0;34m)\u001b[0m\u001b[0;34m,\u001b[0m \u001b[0maxis\u001b[0m\u001b[0;34m=\u001b[0m\u001b[0;36m1\u001b[0m\u001b[0;34m)\u001b[0m\u001b[0;34m\u001b[0m\u001b[0;34m\u001b[0m\u001b[0m\n\u001b[1;32m      2\u001b[0m \u001b[0;31m# oldweight = np.mean(old_model['heads.0.weight'].numpy(), axis=1)\u001b[0m\u001b[0;34m\u001b[0m\u001b[0;34m\u001b[0m\u001b[0m\n\u001b[0;32m----> 3\u001b[0;31m \u001b[0moldbias\u001b[0m \u001b[0;34m=\u001b[0m \u001b[0mold_model\u001b[0m\u001b[0;34m[\u001b[0m\u001b[0;34m'heads.0.bias'\u001b[0m\u001b[0;34m]\u001b[0m\u001b[0;34m.\u001b[0m\u001b[0mnumpy\u001b[0m\u001b[0;34m(\u001b[0m\u001b[0;34m)\u001b[0m\u001b[0;34m\u001b[0m\u001b[0;34m\u001b[0m\u001b[0m\n\u001b[0m\u001b[1;32m      4\u001b[0m \u001b[0;34m\u001b[0m\u001b[0m\n\u001b[1;32m      5\u001b[0m \u001b[0mnewweight\u001b[0m \u001b[0;34m=\u001b[0m \u001b[0mnp\u001b[0m\u001b[0;34m.\u001b[0m\u001b[0mlinalg\u001b[0m\u001b[0;34m.\u001b[0m\u001b[0mnorm\u001b[0m\u001b[0;34m(\u001b[0m\u001b[0mbase_model\u001b[0m\u001b[0;34m[\u001b[0m\u001b[0;34m'heads.1.weight'\u001b[0m\u001b[0;34m]\u001b[0m\u001b[0;34m.\u001b[0m\u001b[0mnumpy\u001b[0m\u001b[0;34m(\u001b[0m\u001b[0;34m)\u001b[0m\u001b[0;34m,\u001b[0m \u001b[0maxis\u001b[0m\u001b[0;34m=\u001b[0m\u001b[0;36m1\u001b[0m\u001b[0;34m)\u001b[0m\u001b[0;34m\u001b[0m\u001b[0;34m\u001b[0m\u001b[0m\n",
      "\u001b[0;31mNameError\u001b[0m: name 'old_model' is not defined"
     ]
    }
   ],
   "source": [
    "oldweight = np.linalg.norm(base_model['heads.0.weight'].numpy(), axis=1)\n",
    "# oldweight = np.mean(old_model['heads.0.weight'].numpy(), axis=1)\n",
    "oldbias = old_model['heads.0.bias'].numpy()\n",
    "\n",
    "newweight = np.linalg.norm(base_model['heads.1.weight'].numpy(), axis=1)\n",
    "# newweight = np.mean(base_model['heads.1.weight'].numpy(), axis=1)\n",
    "newbias = base_model['heads.1.bias'].numpy()\n",
    "\n",
    "gammaweight = np.mean(oldweight) / np.mean(newweight)\n",
    "gammabias = np.mean(oldbias) / np.mean(newbias)\n",
    "\n",
    "print(gammaweight, gammabias)"
   ]
  },
  {
   "cell_type": "code",
   "execution_count": 4,
   "id": "13ce1e5e",
   "metadata": {},
   "outputs": [
    {
     "ename": "NameError",
     "evalue": "name 'newweight' is not defined",
     "output_type": "error",
     "traceback": [
      "\u001b[0;31m---------------------------------------------------------------------------\u001b[0m",
      "\u001b[0;31mNameError\u001b[0m                                 Traceback (most recent call last)",
      "\u001b[0;32m/tmp/ipykernel_513467/2186649021.py\u001b[0m in \u001b[0;36m<module>\u001b[0;34m\u001b[0m\n\u001b[1;32m      4\u001b[0m \u001b[0;34m\u001b[0m\u001b[0m\n\u001b[1;32m      5\u001b[0m \u001b[0max\u001b[0m\u001b[0;34m.\u001b[0m\u001b[0mbar\u001b[0m\u001b[0;34m(\u001b[0m\u001b[0mx\u001b[0m\u001b[0;34m=\u001b[0m\u001b[0mrange\u001b[0m\u001b[0;34m(\u001b[0m\u001b[0;36m39\u001b[0m\u001b[0;34m)\u001b[0m\u001b[0;34m,\u001b[0m \u001b[0mheight\u001b[0m\u001b[0;34m=\u001b[0m\u001b[0msorted\u001b[0m\u001b[0;34m(\u001b[0m\u001b[0moldweight\u001b[0m\u001b[0;34m)\u001b[0m\u001b[0;34m,\u001b[0m \u001b[0mcolor\u001b[0m\u001b[0;34m=\u001b[0m\u001b[0;34m'royalblue'\u001b[0m\u001b[0;34m)\u001b[0m\u001b[0;34m\u001b[0m\u001b[0;34m\u001b[0m\u001b[0m\n\u001b[0;32m----> 6\u001b[0;31m \u001b[0max\u001b[0m\u001b[0;34m.\u001b[0m\u001b[0mbar\u001b[0m\u001b[0;34m(\u001b[0m\u001b[0mx\u001b[0m\u001b[0;34m=\u001b[0m\u001b[0;34m[\u001b[0m\u001b[0;36m39\u001b[0m\u001b[0;34m]\u001b[0m\u001b[0;34m,\u001b[0m \u001b[0mheight\u001b[0m\u001b[0;34m=\u001b[0m\u001b[0mnewweight\u001b[0m\u001b[0;34m,\u001b[0m \u001b[0mcolor\u001b[0m\u001b[0;34m=\u001b[0m\u001b[0;34m'firebrick'\u001b[0m\u001b[0;34m)\u001b[0m\u001b[0;34m\u001b[0m\u001b[0;34m\u001b[0m\u001b[0m\n\u001b[0m\u001b[1;32m      7\u001b[0m \u001b[0;34m\u001b[0m\u001b[0m\n\u001b[1;32m      8\u001b[0m \u001b[0mfig\u001b[0m\u001b[0;34m.\u001b[0m\u001b[0mshow\u001b[0m\u001b[0;34m(\u001b[0m\u001b[0;34m)\u001b[0m\u001b[0;34m\u001b[0m\u001b[0;34m\u001b[0m\u001b[0m\n",
      "\u001b[0;31mNameError\u001b[0m: name 'newweight' is not defined"
     ]
    },
    {
     "data": {
      "image/png": "[encoded data removed]",
      "text/plain": [
       "<Figure size 432x288 with 1 Axes>"
      ]
     },
     "metadata": {
      "needs_background": "light"
     },
     "output_type": "display_data"
    }
   ],
   "source": [
    "import matplotlib.pyplot as plt\n",
    "\n",
    "fig, ax = plt.subplots()\n",
    "\n",
    "ax.bar(x=range(39), height=sorted(oldweight), color='royalblue')\n",
    "ax.bar(x=[39], height=newweight, color='firebrick')\n",
    "\n",
    "fig.show()\n",
    "\n",
    "fig, ax = plt.subplots()\n",
    "\n",
    "ax.bar(x=range(39), height=sorted(oldweight), color='royalblue')\n",
    "ax.bar(x=[39], height=newweight * gammaweight, color='firebrick')\n",
    "\n",
    "fig.show()\n",
    "\n",
    "fig, ax = plt.subplots()\n",
    "\n",
    "ax.bar(x=range(39), height=sorted(oldbias), color='royalblue')\n",
    "ax.bar(x=[39], height=newbias, color='firebrick')\n",
    "\n",
    "fig.show()\n",
    "\n",
    "fig, ax = plt.subplots()\n",
    "\n",
    "ax.bar(x=range(39), height=sorted(oldbias), color='royalblue')\n",
    "ax.bar(x=[39], height=newbias * gammabias, color='firebrick')\n",
    "\n",
    "fig.show()"
   ]
  },
  {
   "cell_type": "code",
   "execution_count": null,
   "id": "d648d6ed",
   "metadata": {},
   "outputs": [],
   "source": [
    "oldweight = np.mean(base_model['heads.0.weight'].numpy(), axis=1)\n",
    "# oldweight = np.mean(base_model['heads.0.weight'].numpy(), axis=1)\n",
    "# oldbias = base_model['heads.0.bias'].numpy()\n",
    "\n",
    "newweight = np.mean(base_model['heads.1.weight'].numpy(), axis=1)\n",
    "# newweight = np.mean(base_model['heads.1.weight'].numpy(), axis=1)\n",
    "# newbias = base_model['heads.1.bias'].numpy()\n",
    "\n",
    "gammaweight = np.mean(oldweight) / np.mean(newweight)\n",
    "# gammabias = np.mean(oldbias) / np.mean(newbias)\n",
    "\n",
    "# print(gammaweight, gammabias)"
   ]
  },
  {
   "cell_type": "code",
   "execution_count": null,
   "id": "a0281791",
   "metadata": {},
   "outputs": [
    {
     "data": {
      "image/png": "[encoded data removed]",
      "text/plain": [
       "<Figure size 432x288 with 1 Axes>"
      ]
     },
     "metadata": {
      "needs_background": "light"
     },
     "output_type": "display_data"
    },
    {
     "data": {
      "image/png": "[encoded data removed]",
      "text/plain": [
       "<Figure size 432x288 with 1 Axes>"
      ]
     },
     "metadata": {
      "needs_background": "light"
     },
     "output_type": "display_data"
    }
   ],
   "source": [
    "import matplotlib.pyplot as plt\n",
    "\n",
    "fig, ax = plt.subplots()\n",
    "\n",
    "ax.bar(x=range(39), height=sorted(oldweight), color='royalblue')\n",
    "ax.bar(x=[39], height=newweight, color='firebrick')\n",
    "\n",
    "fig.show()\n",
    "\n",
    "fig, ax = plt.subplots()\n",
    "\n",
    "ax.bar(x=range(39), height=sorted(oldweight), color='royalblue')\n",
    "ax.bar(x=[39], height=newweight * gammaweight, color='firebrick')\n",
    "\n",
    "fig.show()"
   ]
  },
  {
   "cell_type": "code",
   "execution_count": null,
   "id": "b4ee94f0",
   "metadata": {},
   "outputs": [
    {
     "name": "stdout",
     "output_type": "stream",
     "text": [
      "WARNING: using pre-processed dataframe.\n",
      "Class order:  [4, 25, 17, 33, 27, 16, 8, 32, 21, 0, 20, 34, 13, 14, 18, 11, 26, 15, 9, 31, 1, 19, 30, 3, 38, 36, 7, 12, 37, 23, 24, 2, 6, 35, 10, 28, 5, 22, 29, 39]\n",
      "same\n",
      "precision old: 86.09 new: 7.06\n",
      "recall old: 62.92 new: 93.52\n",
      "fscore old: 71.83 new: 13.14\n",
      "support old: 730.28 new: 633.00\n",
      "balanced accuracy all: 63.68\n",
      "fscore all: 70.36\n",
      "same\n"
     ]
    },
    {
     "name": "stderr",
     "output_type": "stream",
     "text": [
      "/home/giampaolo/.local/lib/python3.10/site-packages/sklearn/metrics/_classification.py:1344: UndefinedMetricWarning: Precision and F-score are ill-defined and being set to 0.0 in labels with no predicted samples. Use `zero_division` parameter to control this behavior.\n",
      "  _warn_prf(average, modifier, msg_start, len(result))\n"
     ]
    },
    {
     "name": "stdout",
     "output_type": "stream",
     "text": [
      "precision old: 75.20 new: 0.00\n",
      "recall old: 75.31 new: 0.00\n",
      "fscore old: 75.13 new: 0.00\n",
      "support old: 730.28 new: 633.00\n",
      "balanced accuracy all: 73.43\n",
      "fscore all: 73.25\n",
      "same\n",
      "precision old: 79.54 new: 13.99\n",
      "recall old: 73.32 new: 53.55\n",
      "fscore old: 76.08 new: 22.18\n",
      "support old: 730.28 new: 633.00\n",
      "balanced accuracy all: 72.83\n",
      "fscore all: 74.73\n",
      "WARNING: using pre-processed dataframe.\n",
      "Class order:  [22, 20, 25, 4, 10, 15, 28, 11, 18, 29, 27, 35, 37, 2, 39, 30, 34, 16, 36, 8, 13, 5, 17, 14, 33, 7, 32, 1, 26, 12, 31, 24, 6, 23, 21, 19, 9, 38, 3, 0]\n",
      "same\n",
      "precision old: 77.72 new: 53.43\n",
      "recall old: 75.39 new: 62.72\n",
      "fscore old: 76.37 new: 57.70\n",
      "support old: 730.28 new: 633.00\n",
      "balanced accuracy all: 75.08\n",
      "fscore all: 75.90\n"
     ]
    }
   ],
   "source": [
    "results_path = '/media/nas/datasets/MIRAGE_2020/FSCIL_approaches/hf-project/aws_results/'\n",
    "exp_dir = 'mirage_generic_bic_39_1_base39_incr1_stop2/'\n",
    "fns = glob(results_path + exp_dir + 'models/task1-*.ckpt')\n",
    "fn = fns[-1]\n",
    "\n",
    "os.chdir('/home/giampaolo/facil-tc/src/')\n",
    "\n",
    "base_model = torch.load(fn, map_location='cpu')\n",
    "ts = fn.split('-')[-1].replace('.ckpt', '')\n",
    "args = json.loads(open(results_path + exp_dir + 'args-%s.txt' % ts).read())\n",
    "stdout = open(results_path + exp_dir + 'stdout-%s.txt' % ts).readlines()\n",
    "class_order = eval([v for v in stdout[:10] if 'Class order' in v][0].split(':')[-1])\n",
    "\n",
    "utils.seed_everything(seed=args['seed'])\n",
    "\n",
    "os.chdir('datasets/')\n",
    "trn_load, val_load, tst_load, taskcla = get_loaders(\n",
    "    datasets=args['datasets'], num_tasks=args['num_tasks'], nc_first_task=args['nc_first_task'],\n",
    "    nc_incr_tasks=args['nc_incr_tasks'], batch_size=args['batch_size'], num_workers=args['num_workers'],\n",
    "    pin_memory=args['pin_memory'], validation=.1, num_bytes=args['num_bytes'],\n",
    "    num_pkts=args['num_pkts'], fields=args['fields'], seed=args['seed'], shots=-1,\n",
    "    fseed=-1, last_class=args['last_class'], predict_tasks=False,\n",
    "    statistical=False, is_ml=False)\n",
    "os.chdir('../')\n",
    "\n",
    "model = Lopez17CNN(num_pkts=10, num_fields=4, out_features_size=None)\n",
    "\n",
    "net = LLL_Net(model, remove_existing_head=True, modality='all', activate_features=True)\n",
    "net.add_head(num_outputs=39)\n",
    "net.add_head(num_outputs=1)\n",
    "net.load_state_dict(base_model)\n",
    "\n",
    "true = [class_order.index(l) for tl in tst_load for l in tl.dataset.labels]\n",
    "\n",
    "net.eval()\n",
    "preds = torch.concat(net(torch.Tensor(np.concatenate([tl.dataset.images for tl in tst_load]))), axis=1)\n",
    "preds = np.array([p.detach().numpy()[class_order] for p in preds]).argmax(-1)\n",
    "precision, recall, fscore, support = precision_recall_fscore_support(true, preds)\n",
    "\n",
    "print('precision', 'old: %.2f' % (np.mean(precision[:39]) * 100), 'new: %.2f' % (precision[39] * 100))\n",
    "print('recall', 'old: %.2f' % (np.mean(recall[:39]) * 100), 'new: %.2f' % (recall[39] * 100))\n",
    "print('fscore', 'old: %.2f' % (np.mean(fscore[:39]) * 100), 'new: %.2f' % (fscore[39] * 100))\n",
    "print('support', 'old: %.2f' % (np.mean(support[:39])), 'new: %.2f' % (support[39]))\n",
    "print('balanced accuracy', 'all: %.2f' % (np.mean(recall) * 100))\n",
    "print('fscore', 'all: %.2f' % (np.mean(fscore) * 100))\n",
    "\n",
    "from copy import deepcopy as copy\n",
    "\n",
    "wa_model = copy(base_model)\n",
    "\n",
    "# wa_model['heads.0.weight'] = wa_model['heads.0.weight'] * gammaweight\n",
    "\n",
    "wa_model['heads.1.weight'] = wa_model['heads.1.weight'] * gammaweight\n",
    "# wa_model['heads.1.bias'] = wa_model['heads.1.bias'] * gammabias\n",
    "# wa_model['heads.1.bias'] = torch.Tensor([0.])\n",
    "\n",
    "model = Lopez17CNN(num_pkts=10, num_fields=4, out_features_size=None)\n",
    "\n",
    "net = LLL_Net(model, remove_existing_head=True, modality='all', activate_features=True)\n",
    "net.add_head(num_outputs=39)\n",
    "net.add_head(num_outputs=1)\n",
    "net.load_state_dict(wa_model)\n",
    "\n",
    "true = [class_order.index(l) for tl in tst_load for l in tl.dataset.labels]\n",
    "\n",
    "net.eval()\n",
    "preds = torch.concat(net(torch.Tensor(np.concatenate([tl.dataset.images for tl in tst_load]))), axis=1)\n",
    "preds = np.array([p.detach().numpy()[class_order] for p in preds]).argmax(-1)\n",
    "precision, recall, fscore, support = precision_recall_fscore_support(true, preds)\n",
    "\n",
    "print('precision', 'old: %.2f' % (np.mean(precision[:39]) * 100), 'new: %.2f' % (precision[39] * 100))\n",
    "print('recall', 'old: %.2f' % (np.mean(recall[:39]) * 100), 'new: %.2f' % (recall[39] * 100))\n",
    "print('fscore', 'old: %.2f' % (np.mean(fscore[:39]) * 100), 'new: %.2f' % (fscore[39] * 100))\n",
    "print('support', 'old: %.2f' % (np.mean(support[:39])), 'new: %.2f' % (support[39]))\n",
    "print('balanced accuracy', 'all: %.2f' % (np.mean(recall) * 100))\n",
    "print('fscore', 'all: %.2f' % (np.mean(fscore) * 100))\n",
    "\n",
    "from copy import deepcopy as copy\n",
    "\n",
    "wa_model = copy(base_model)\n",
    "\n",
    "# wa_model['heads.0.weight'] = wa_model['heads.0.weight'] * gammaweight\n",
    "\n",
    "wa_model['heads.1.weight'] = wa_model['heads.1.weight'] * .7\n",
    "# wa_model['heads.1.bias'] = wa_model['heads.1.bias'] * gammabias\n",
    "# wa_model['heads.1.bias'] = torch.Tensor([0.])\n",
    "\n",
    "model = Lopez17CNN(num_pkts=10, num_fields=4, out_features_size=None)\n",
    "\n",
    "net = LLL_Net(model, remove_existing_head=True, modality='all', activate_features=True)\n",
    "net.add_head(num_outputs=39)\n",
    "net.add_head(num_outputs=1)\n",
    "net.load_state_dict(wa_model)\n",
    "\n",
    "true = [class_order.index(l) for tl in tst_load for l in tl.dataset.labels]\n",
    "\n",
    "net.eval()\n",
    "preds = torch.concat(net(torch.Tensor(np.concatenate([tl.dataset.images for tl in tst_load]))), axis=1)\n",
    "preds = np.array([p.detach().numpy()[class_order] for p in preds]).argmax(-1)\n",
    "precision, recall, fscore, support = precision_recall_fscore_support(true, preds)\n",
    "\n",
    "print('precision', 'old: %.2f' % (np.mean(precision[:39]) * 100), 'new: %.2f' % (precision[39] * 100))\n",
    "print('recall', 'old: %.2f' % (np.mean(recall[:39]) * 100), 'new: %.2f' % (recall[39] * 100))\n",
    "print('fscore', 'old: %.2f' % (np.mean(fscore[:39]) * 100), 'new: %.2f' % (fscore[39] * 100))\n",
    "print('support', 'old: %.2f' % (np.mean(support[:39])), 'new: %.2f' % (support[39]))\n",
    "print('balanced accuracy', 'all: %.2f' % (np.mean(recall) * 100))\n",
    "print('fscore', 'all: %.2f' % (np.mean(fscore) * 100))\n",
    "\n",
    "fn = '/media/nas/datasets/MIRAGE_2020/FSCIL_approaches/hf-project/final_results/mirage_generic_scratch_upperbound_40/models/task0-1664470551410.ckpt'\n",
    "\n",
    "scratch_model = torch.load(fn, map_location='cpu')\n",
    "ts = fn.split('-')[-1].replace('.ckpt', '')\n",
    "args = json.loads(open('/media/nas/datasets/MIRAGE_2020/FSCIL_approaches/hf-project/final_results/mirage_generic_scratch_upperbound_40/' + 'args-%s.txt' % ts).read())\n",
    "stdout = open('/media/nas/datasets/MIRAGE_2020/FSCIL_approaches/hf-project/final_results/mirage_generic_scratch_upperbound_40/' + 'stdout-%s.txt' % ts).readlines()\n",
    "scratch_class_order = eval([v for v in stdout[:10] if 'Class order' in v][0].split(':')[-1])\n",
    "\n",
    "utils.seed_everything(seed=args['seed'])\n",
    "\n",
    "os.chdir('datasets/')\n",
    "trn_load, val_load, tst_load, taskcla = get_loaders(\n",
    "    datasets=args['datasets'], num_tasks=args['num_tasks'], nc_first_task=args['nc_first_task'],\n",
    "    nc_incr_tasks=args['nc_incr_tasks'], batch_size=args['batch_size'], num_workers=args['num_workers'],\n",
    "    pin_memory=args['pin_memory'], validation=.1, num_bytes=args['num_bytes'],\n",
    "    num_pkts=args['num_pkts'], fields=args['fields'], seed=args['seed'], shots=-1,\n",
    "    fseed=-1, last_class=args['last_class'], predict_tasks=False,\n",
    "    statistical=False, is_ml=False)\n",
    "os.chdir('../')\n",
    "\n",
    "model = Lopez17CNN(num_pkts=10, num_fields=4, out_features_size=None)\n",
    "\n",
    "net = LLL_Net(model, remove_existing_head=True, modality='all', activate_features=True)\n",
    "net.add_head(num_outputs=40)\n",
    "net.load_state_dict(scratch_model)\n",
    "\n",
    "true = [l for tl in tst_load for l in tl.dataset.labels]\n",
    "\n",
    "net.eval()\n",
    "preds = torch.concat(net(torch.Tensor(np.concatenate([tl.dataset.images for tl in tst_load]))), axis=1)\n",
    "preds = np.array([p.detach().numpy() for p in preds]).argmax(-1)\n",
    "precision, recall, fscore, support = precision_recall_fscore_support(true, preds)\n",
    "incr_idx = scratch_class_order.index(39)\n",
    "\n",
    "print('precision', 'old: %.2f' % (np.mean(np.concatenate((precision[:incr_idx], precision[incr_idx+1:]))) * 100), 'new: %.2f' % (precision[incr_idx] * 100))\n",
    "print('recall', 'old: %.2f' % (np.mean(np.concatenate((recall[:incr_idx], recall[incr_idx+1:]))) * 100), 'new: %.2f' % (recall[incr_idx] * 100))\n",
    "print('fscore', 'old: %.2f' % (np.mean(np.concatenate((fscore[:incr_idx], fscore[incr_idx+1:]))) * 100), 'new: %.2f' % (fscore[incr_idx] * 100))\n",
    "print('support', 'old: %.2f' % (np.mean(np.concatenate((support[:incr_idx], support[incr_idx+1:])))), 'new: %.2f' % (support[incr_idx]))\n",
    "print('balanced accuracy', 'all: %.2f' % (np.mean(recall) * 100))\n",
    "print('fscore', 'all: %.2f' % (np.mean(fscore) * 100))"
   ]
  },
  {
   "cell_type": "code",
   "execution_count": null,
   "id": "28ff4f6a",
   "metadata": {},
   "outputs": [
    {
     "name": "stdout",
     "output_type": "stream",
     "text": [
      "WARNING: using pre-processed dataframe.\n",
      "Class order:  [22, 20, 25, 4, 10, 15, 28, 11, 18, 29, 27, 35, 37, 2, 39, 30, 34, 16, 36, 8, 13, 5, 17, 14, 33, 7, 32, 1, 26, 12, 31, 24, 6, 23, 21, 19, 9, 38, 3, 0]\n",
      "same\n"
     ]
    }
   ],
   "source": [
    "fn = '/media/nas/datasets/MIRAGE_2020/FSCIL_approaches/hf-project/final_results/mirage_generic_scratch_upperbound_40/models/task0-1664470551410.ckpt'\n",
    "\n",
    "scratch_model = torch.load(fn, map_location='cpu')\n",
    "ts = fn.split('-')[-1].replace('.ckpt', '')\n",
    "args = json.loads(open('/media/nas/datasets/MIRAGE_2020/FSCIL_approaches/hf-project/final_results/mirage_generic_scratch_upperbound_40/' + 'args-%s.txt' % ts).read())\n",
    "stdout = open('/media/nas/datasets/MIRAGE_2020/FSCIL_approaches/hf-project/final_results/mirage_generic_scratch_upperbound_40/' + 'stdout-%s.txt' % ts).readlines()\n",
    "scratch_class_order = eval([v for v in stdout[:10] if 'Class order' in v][0].split(':')[-1])\n",
    "\n",
    "utils.seed_everything(seed=args['seed'])\n",
    "\n",
    "os.chdir('datasets/')\n",
    "trn_load, val_load, tst_load, taskcla = get_loaders(\n",
    "    datasets=args['datasets'], num_tasks=args['num_tasks'], nc_first_task=args['nc_first_task'],\n",
    "    nc_incr_tasks=args['nc_incr_tasks'], batch_size=args['batch_size'], num_workers=args['num_workers'],\n",
    "    pin_memory=args['pin_memory'], validation=.1, num_bytes=args['num_bytes'],\n",
    "    num_pkts=args['num_pkts'], fields=args['fields'], seed=args['seed'], shots=-1,\n",
    "    fseed=-1, last_class=args['last_class'], predict_tasks=False,\n",
    "    statistical=False, is_ml=False)\n",
    "os.chdir('../')\n",
    "\n",
    "model = Lopez17CNN(num_pkts=10, num_fields=4, out_features_size=None)\n",
    "\n",
    "net = LLL_Net(model, remove_existing_head=True, modality='all', activate_features=True)\n",
    "net.add_head(num_outputs=40)\n",
    "net.load_state_dict(scratch_model)\n",
    "\n",
    "true = np.concatenate([tl.dataset.labels for tl in tst_load])\n",
    "\n",
    "net.eval()\n",
    "preds = net(torch.Tensor(np.concatenate([tl.dataset.images for tl in tst_load])))[0]\n",
    "preds = np.array([p.detach().numpy() for p in preds]).argmax(-1)\n",
    "precision, recall, fscore, support = precision_recall_fscore_support(true, preds)\n",
    "\n",
    "scratch_precision_all = np.mean(precision) * 100\n",
    "scratch_precision_olds = []\n",
    "scratch_precision_news = []\n",
    "for i in range(40):\n",
    "    scratch_precision_olds.append(np.mean(list(precision[:i]) + list(precision[i+1:]) ) * 100)\n",
    "    scratch_precision_news.append(precision[i] * 100)\n",
    "mean_scratch_precision_old = np.mean(scratch_precision_olds)\n",
    "std_scratch_precision_old = np.std(scratch_precision_olds)\n",
    "mean_scratch_precision_new = np.mean(scratch_precision_news)\n",
    "std_scratch_precision_new = np.std(scratch_precision_news)\n",
    "\n",
    "scratch_recall_all = np.mean(recall) * 100\n",
    "scratch_recall_olds = []\n",
    "scratch_recall_news = []\n",
    "for i in range(40):\n",
    "    scratch_recall_olds.append(np.mean(list(recall[:i]) + list(recall[i+1:]) ) * 100)\n",
    "    scratch_recall_news.append(recall[i] * 100)\n",
    "mean_scratch_recall_old = np.mean(scratch_recall_olds)\n",
    "std_scratch_recall_old = np.std(scratch_recall_olds)\n",
    "mean_scratch_recall_new = np.mean(scratch_recall_news)\n",
    "std_scratch_recall_new = np.std(scratch_recall_news)\n",
    "\n",
    "scratch_fscore_all = np.mean(fscore) * 100\n",
    "scratch_fscore_olds = []\n",
    "scratch_fscore_news = []\n",
    "for i in range(40):\n",
    "    scratch_fscore_olds.append(np.mean(list(fscore[:i]) + list(fscore[i+1:]) ) * 100)\n",
    "    scratch_fscore_news.append(fscore[i] * 100)\n",
    "mean_scratch_fscore_old = np.mean(scratch_fscore_olds)\n",
    "std_scratch_fscore_old = np.std(scratch_fscore_olds)\n",
    "mean_scratch_fscore_new = np.mean(scratch_fscore_news)\n",
    "std_scratch_fscore_new = np.std(scratch_fscore_news)"
   ]
  },
  {
   "cell_type": "code",
   "execution_count": null,
   "id": "b94e64c1",
   "metadata": {},
   "outputs": [],
   "source": [
    "weight = np.linalg.norm(scratch_model['heads.0.weight'].numpy(), axis=1)\n",
    "bias = scratch_model['heads.0.bias'].numpy()"
   ]
  },
  {
   "cell_type": "code",
   "execution_count": null,
   "id": "9082a73f",
   "metadata": {},
   "outputs": [
    {
     "data": {
      "image/png": "[encoded data removed]",
      "text/plain": [
       "<Figure size 432x288 with 1 Axes>"
      ]
     },
     "metadata": {
      "needs_background": "light"
     },
     "output_type": "display_data"
    },
    {
     "data": {
      "image/png": "[encoded data removed]",
      "text/plain": [
       "<Figure size 432x288 with 1 Axes>"
      ]
     },
     "metadata": {
      "needs_background": "light"
     },
     "output_type": "display_data"
    }
   ],
   "source": [
    "fig, ax = plt.subplots()\n",
    "\n",
    "ax.bar(x=range(40), height=sorted(weight), color='royalblue')\n",
    "\n",
    "fig.show()\n",
    "\n",
    "fig, ax = plt.subplots()\n",
    "\n",
    "ax.bar(x=range(40), height=sorted(bias), color='royalblue')\n",
    "\n",
    "fig.show()"
   ]
  },
  {
   "cell_type": "code",
   "execution_count": null,
   "id": "4eb9ec47",
   "metadata": {
    "scrolled": true
   },
   "outputs": [
    {
     "name": "stdout",
     "output_type": "stream",
     "text": [
      "WARNING: using pre-processed dataframe.\n",
      "Class order:  [10, 26, 12, 23, 21, 7, 27, 17, 35, 1, 36, 30, 25, 3, 13, 9, 34, 19, 18, 2, 15, 16, 39, 6, 11, 24, 20, 32, 37, 31, 33, 28, 14, 5, 8, 29, 38, 4, 22, 0]\n",
      "[-0.06841715  0.35339439]\n",
      "[-0.35339439  0.06841715]\n",
      "same\n"
     ]
    },
    {
     "name": "stderr",
     "output_type": "stream",
     "text": [
      "/home/giampaolo/.local/lib/python3.10/site-packages/sklearn/metrics/_classification.py:1344: UndefinedMetricWarning: Precision and F-score are ill-defined and being set to 0.0 in labels with no predicted samples. Use `zero_division` parameter to control this behavior.\n",
      "  _warn_prf(average, modifier, msg_start, len(result))\n"
     ]
    },
    {
     "name": "stdout",
     "output_type": "stream",
     "text": [
      "[-0.06841715  0.35339439]\n",
      "[-0.31805494  0.06157544]\n",
      "same\n"
     ]
    },
    {
     "name": "stderr",
     "output_type": "stream",
     "text": [
      "/home/giampaolo/.local/lib/python3.10/site-packages/sklearn/metrics/_classification.py:1344: UndefinedMetricWarning: Precision and F-score are ill-defined and being set to 0.0 in labels with no predicted samples. Use `zero_division` parameter to control this behavior.\n",
      "  _warn_prf(average, modifier, msg_start, len(result))\n"
     ]
    },
    {
     "name": "stdout",
     "output_type": "stream",
     "text": [
      "[-0.06841715  0.35339439]\n",
      "[-0.28271553  0.05473372]\n",
      "same\n"
     ]
    },
    {
     "name": "stderr",
     "output_type": "stream",
     "text": [
      "/home/giampaolo/.local/lib/python3.10/site-packages/sklearn/metrics/_classification.py:1344: UndefinedMetricWarning: Precision and F-score are ill-defined and being set to 0.0 in labels with no predicted samples. Use `zero_division` parameter to control this behavior.\n",
      "  _warn_prf(average, modifier, msg_start, len(result))\n"
     ]
    },
    {
     "name": "stdout",
     "output_type": "stream",
     "text": [
      "[-0.06841715  0.35339439]\n",
      "[-0.24737607  0.04789201]\n",
      "same\n"
     ]
    },
    {
     "name": "stderr",
     "output_type": "stream",
     "text": [
      "/home/giampaolo/.local/lib/python3.10/site-packages/sklearn/metrics/_classification.py:1344: UndefinedMetricWarning: Precision and F-score are ill-defined and being set to 0.0 in labels with no predicted samples. Use `zero_division` parameter to control this behavior.\n",
      "  _warn_prf(average, modifier, msg_start, len(result))\n"
     ]
    },
    {
     "name": "stdout",
     "output_type": "stream",
     "text": [
      "[-0.06841715  0.35339439]\n",
      "[-0.21203664  0.04105029]\n",
      "same\n"
     ]
    },
    {
     "name": "stderr",
     "output_type": "stream",
     "text": [
      "/home/giampaolo/.local/lib/python3.10/site-packages/sklearn/metrics/_classification.py:1344: UndefinedMetricWarning: Precision and F-score are ill-defined and being set to 0.0 in labels with no predicted samples. Use `zero_division` parameter to control this behavior.\n",
      "  _warn_prf(average, modifier, msg_start, len(result))\n"
     ]
    },
    {
     "name": "stdout",
     "output_type": "stream",
     "text": [
      "[-0.06841715  0.35339439]\n",
      "[-0.17669719  0.03420858]\n",
      "same\n"
     ]
    },
    {
     "name": "stderr",
     "output_type": "stream",
     "text": [
      "/home/giampaolo/.local/lib/python3.10/site-packages/sklearn/metrics/_classification.py:1344: UndefinedMetricWarning: Precision and F-score are ill-defined and being set to 0.0 in labels with no predicted samples. Use `zero_division` parameter to control this behavior.\n",
      "  _warn_prf(average, modifier, msg_start, len(result))\n"
     ]
    },
    {
     "name": "stdout",
     "output_type": "stream",
     "text": [
      "[-0.06841715  0.35339439]\n",
      "[-0.14135776  0.02736686]\n",
      "same\n"
     ]
    },
    {
     "name": "stderr",
     "output_type": "stream",
     "text": [
      "/home/giampaolo/.local/lib/python3.10/site-packages/sklearn/metrics/_classification.py:1344: UndefinedMetricWarning: Precision and F-score are ill-defined and being set to 0.0 in labels with no predicted samples. Use `zero_division` parameter to control this behavior.\n",
      "  _warn_prf(average, modifier, msg_start, len(result))\n"
     ]
    },
    {
     "name": "stdout",
     "output_type": "stream",
     "text": [
      "[-0.06841715  0.35339439]\n",
      "[-0.10601832  0.02052515]\n",
      "same\n"
     ]
    },
    {
     "name": "stderr",
     "output_type": "stream",
     "text": [
      "/home/giampaolo/.local/lib/python3.10/site-packages/sklearn/metrics/_classification.py:1344: UndefinedMetricWarning: Precision and F-score are ill-defined and being set to 0.0 in labels with no predicted samples. Use `zero_division` parameter to control this behavior.\n",
      "  _warn_prf(average, modifier, msg_start, len(result))\n"
     ]
    },
    {
     "name": "stdout",
     "output_type": "stream",
     "text": [
      "[-0.06841715  0.35339439]\n",
      "[-0.07067888  0.01368343]\n",
      "same\n"
     ]
    },
    {
     "name": "stderr",
     "output_type": "stream",
     "text": [
      "/home/giampaolo/.local/lib/python3.10/site-packages/sklearn/metrics/_classification.py:1344: UndefinedMetricWarning: Precision and F-score are ill-defined and being set to 0.0 in labels with no predicted samples. Use `zero_division` parameter to control this behavior.\n",
      "  _warn_prf(average, modifier, msg_start, len(result))\n"
     ]
    },
    {
     "name": "stdout",
     "output_type": "stream",
     "text": [
      "[-0.06841715  0.35339439]\n",
      "[-0.03533944  0.00684172]\n",
      "same\n"
     ]
    },
    {
     "name": "stderr",
     "output_type": "stream",
     "text": [
      "/home/giampaolo/.local/lib/python3.10/site-packages/sklearn/metrics/_classification.py:1344: UndefinedMetricWarning: Precision and F-score are ill-defined and being set to 0.0 in labels with no predicted samples. Use `zero_division` parameter to control this behavior.\n",
      "  _warn_prf(average, modifier, msg_start, len(result))\n"
     ]
    },
    {
     "name": "stdout",
     "output_type": "stream",
     "text": [
      "[-0.06841715  0.35339439]\n",
      "[0. 0.]\n",
      "same\n"
     ]
    },
    {
     "name": "stderr",
     "output_type": "stream",
     "text": [
      "/home/giampaolo/.local/lib/python3.10/site-packages/sklearn/metrics/_classification.py:1344: UndefinedMetricWarning: Precision and F-score are ill-defined and being set to 0.0 in labels with no predicted samples. Use `zero_division` parameter to control this behavior.\n",
      "  _warn_prf(average, modifier, msg_start, len(result))\n"
     ]
    },
    {
     "name": "stdout",
     "output_type": "stream",
     "text": [
      "[-0.06841715  0.35339439]\n",
      "[-0.00684172  0.03533944]\n",
      "same\n"
     ]
    },
    {
     "name": "stderr",
     "output_type": "stream",
     "text": [
      "/home/giampaolo/.local/lib/python3.10/site-packages/sklearn/metrics/_classification.py:1344: UndefinedMetricWarning: Precision and F-score are ill-defined and being set to 0.0 in labels with no predicted samples. Use `zero_division` parameter to control this behavior.\n",
      "  _warn_prf(average, modifier, msg_start, len(result))\n"
     ]
    },
    {
     "name": "stdout",
     "output_type": "stream",
     "text": [
      "[-0.06841715  0.35339439]\n",
      "[-0.01368343  0.07067888]\n",
      "same\n"
     ]
    },
    {
     "name": "stderr",
     "output_type": "stream",
     "text": [
      "/home/giampaolo/.local/lib/python3.10/site-packages/sklearn/metrics/_classification.py:1344: UndefinedMetricWarning: Precision and F-score are ill-defined and being set to 0.0 in labels with no predicted samples. Use `zero_division` parameter to control this behavior.\n",
      "  _warn_prf(average, modifier, msg_start, len(result))\n"
     ]
    },
    {
     "name": "stdout",
     "output_type": "stream",
     "text": [
      "[-0.06841715  0.35339439]\n",
      "[-0.02052515  0.10601832]\n",
      "same\n"
     ]
    },
    {
     "name": "stderr",
     "output_type": "stream",
     "text": [
      "/home/giampaolo/.local/lib/python3.10/site-packages/sklearn/metrics/_classification.py:1344: UndefinedMetricWarning: Precision and F-score are ill-defined and being set to 0.0 in labels with no predicted samples. Use `zero_division` parameter to control this behavior.\n",
      "  _warn_prf(average, modifier, msg_start, len(result))\n"
     ]
    },
    {
     "name": "stdout",
     "output_type": "stream",
     "text": [
      "[-0.06841715  0.35339439]\n",
      "[-0.02736686  0.14135776]\n",
      "same\n",
      "[-0.06841715  0.35339439]\n",
      "[-0.03420858  0.17669719]\n",
      "same\n",
      "[-0.06841715  0.35339439]\n",
      "[-0.04105029  0.21203664]\n",
      "same\n",
      "[-0.06841715  0.35339439]\n",
      "[-0.04789201  0.24737607]\n",
      "same\n",
      "[-0.06841715  0.35339439]\n",
      "[-0.05473372  0.28271553]\n",
      "same\n",
      "[-0.06841715  0.35339439]\n",
      "[-0.06157544  0.31805494]\n",
      "same\n",
      "[-0.06841715  0.35339439]\n",
      "[-0.06841715  0.35339439]\n",
      "same\n"
     ]
    }
   ],
   "source": [
    "res = []\n",
    "gammas = []\n",
    "\n",
    "for fn in fns[:1]:\n",
    "    \n",
    "    os.chdir('/home/giampaolo/facil-tc/src/')\n",
    "\n",
    "    base_model = torch.load(fn, map_location='cpu')\n",
    "    ts = fn.split('-')[-1].replace('.ckpt', '')\n",
    "    args = json.loads(open(results_path + exp_dir + 'args-%s.txt' % ts).read())\n",
    "    stdout = open(results_path + exp_dir + 'stdout-%s.txt' % ts).readlines()\n",
    "\n",
    "    utils.seed_everything(seed=args['seed'])\n",
    "\n",
    "    os.chdir('datasets/')\n",
    "    trn_load, val_load, tst_load, taskcla = get_loaders(\n",
    "        datasets=args['datasets'], num_tasks=args['num_tasks'], nc_first_task=args['nc_first_task'],\n",
    "        nc_incr_tasks=args['nc_incr_tasks'], batch_size=args['batch_size'], num_workers=args['num_workers'],\n",
    "        pin_memory=args['pin_memory'], validation=.1, num_bytes=args['num_bytes'],\n",
    "        num_pkts=args['num_pkts'], fields=args['fields'], seed=args['seed'], shots=-1,\n",
    "        fseed=-1, last_class=args['last_class'], predict_tasks=False,\n",
    "        statistical=False, is_ml=False)\n",
    "    os.chdir('../')\n",
    "    \n",
    "    true = np.concatenate([tl.dataset.labels for tl in tst_load])\n",
    "    \n",
    "    # oldweight = np.linalg.norm(base_model['heads.0.weight'].numpy(), axis=1)\n",
    "    # newweight = np.linalg.norm(base_model['heads.1.weight'].numpy(), axis=1)\n",
    "    oldweight = np.mean(base_model['heads.0.weight'].numpy(), axis=1)\n",
    "    newweight = np.mean(base_model['heads.1.weight'].numpy(), axis=1)\n",
    "    gamma = np.mean(oldweight) / np.mean(newweight)\n",
    "    gammas.append(gamma)\n",
    "    \n",
    "    for lamb in np.linspace(-1, 1, 21):\n",
    "\n",
    "        wa_model = copy(base_model)\n",
    "        print(np.percentile(wa_model['heads.1.weight'].numpy(), [0,100]))\n",
    "        wa_model['heads.1.weight'] = wa_model['heads.1.weight'] * lamb\n",
    "        print(np.percentile(wa_model['heads.1.weight'].numpy(), [0, 100]))\n",
    "\n",
    "        model = Lopez17CNN(num_pkts=10, num_fields=4, out_features_size=None)\n",
    "\n",
    "        net = LLL_Net(model, remove_existing_head=True, modality='all', activate_features=True)\n",
    "        net.add_head(num_outputs=39)\n",
    "        net.add_head(num_outputs=1)\n",
    "        net.load_state_dict(wa_model)\n",
    "\n",
    "        net.eval()\n",
    "        preds = torch.concat(net(torch.Tensor(np.concatenate([tl.dataset.images for tl in tst_load]))), axis=1)\n",
    "        preds = np.array([p.detach().numpy() for p in preds]).argmax(-1)\n",
    "        precision, recall, fscore, support = precision_recall_fscore_support(true, preds)\n",
    "\n",
    "        for m in ['precision', 'recall', 'fscore']:\n",
    "            res.append(\n",
    "                {'x': lamb,\n",
    "                 'y': np.mean(globals()[m][:39]) * 100,\n",
    "                 'metric': m,\n",
    "                 'type': 'old',\n",
    "                 'seed': args['last_class']\n",
    "                }\n",
    "            )\n",
    "            res.append(\n",
    "                {'x': lamb,\n",
    "                 'y': np.mean(globals()[m][39]) * 100,\n",
    "                 'metric': m,\n",
    "                 'type': 'new',\n",
    "                 'seed': args['last_class']\n",
    "                }\n",
    "            )\n",
    "            res.append(\n",
    "                {'x': lamb,\n",
    "                 'y': np.mean(globals()[m]) * 100,\n",
    "                 'metric': m,\n",
    "                 'type': 'all',\n",
    "                 'seed': args['last_class']\n",
    "                }\n",
    "            )\n",
    "\n",
    "df = pd.DataFrame(data=res, columns=['x', 'y', 'metric', 'type', 'seed'])\n"
   ]
  },
  {
   "cell_type": "code",
   "execution_count": null,
   "id": "968f6dc0",
   "metadata": {},
   "outputs": [],
   "source": [
    "mean_gamma = np.mean(gammas)\n",
    "std_gamma = np.std(gammas)\n",
    "\n",
    "best_lambdas = []\n",
    "for seed in sorted(set(df['seed'].values)):\n",
    "    xs = df.loc[(df['metric'] == 'fscore') & (df['type'] == 'all') & (df['seed'] == seed), 'x'].values\n",
    "    ys = df.loc[(df['metric'] == 'fscore') & (df['type'] == 'all') & (df['seed'] == seed), 'y'].values\n",
    "    best_lamb = xs[np.argmax(ys)]\n",
    "    best_lambdas.append(best_lamb)\n",
    "mean_best_lamb = np.mean(best_lambdas)\n",
    "std_best_lamb = np.std(best_lambdas)"
   ]
  },
  {
   "cell_type": "code",
   "execution_count": null,
   "id": "757d36ef",
   "metadata": {},
   "outputs": [
    {
     "data": {
      "image/png": "[encoded data removed]",
      "text/plain": [
       "<Figure size 1080x360 with 2 Axes>"
      ]
     },
     "metadata": {
      "needs_background": "light"
     },
     "output_type": "display_data"
    }
   ],
   "source": [
    "import seaborn as sns\n",
    "from matplotlib.lines import Line2D\n",
    "from matplotlib.patches import Rectangle\n",
    "\n",
    "fig, ax = plt.subplots(figsize=(15, 5))\n",
    "\n",
    "ax.axvline(mean_gamma, lw=3, c='firebrick', ls='--', alpha=.8)\n",
    "ax.axvspan(mean_gamma - std_gamma, mean_gamma + std_gamma, color='firebrick', alpha=.3)\n",
    "ax.axvline(1, lw=3, c='k', ls='-', alpha=.8)\n",
    "ax.axvline(mean_best_lamb, lw=3, c='purple', ls=':', alpha=.8)\n",
    "ax.axvspan(mean_best_lamb - std_best_lamb, mean_best_lamb + std_best_lamb, color='purple', alpha=.3)\n",
    "\n",
    "sns.lineplot(data=df[\n",
    "    ((df['type'].isin(['new', 'old'])) & df['metric'].isin(['precision', 'recall'])) |\n",
    "    (df['type'].isin(['all']) & df['metric'].isin(['fscore']))\n",
    "], x='x', y='y', hue='metric', style='type', lw=3, ax=ax, alpha=.8, legend=False,\n",
    "             palette=['steelblue', 'darkorange', 'forestgreen'])\n",
    "ax.set_xlabel('$\\lambda$', fontsize=18)\n",
    "ax.set_ylabel('Value [%]', fontsize=18)\n",
    "ax.set_xticks(sorted(set(df['x'].values)))\n",
    "ax.set_xticklabels(['%.1f' % v for v in sorted(set(df['x'].values))])\n",
    "ax.tick_params(axis='both', labelsize=14)\n",
    "ax.set_xlim(left=-1, right=2)\n",
    "\n",
    "ax2 = ax.twinx()\n",
    "ax2.set_ylim(ax.get_ylim())\n",
    "ax2.axhline(scratch_precision_all, lw=3, c='steelblue', ls='-', alpha=.8)\n",
    "# ax2.axhline(mean_scratch_precision_old, lw=3, c='steelblue', ls='-', alpha=.8)\n",
    "# ax2.axhspan(\n",
    "#     mean_scratch_precision_old - std_scratch_precision_old,\n",
    "#     mean_scratch_precision_old + std_scratch_precision_old,\n",
    "#     color='steelblue', alpha=.3)\n",
    "# ax2.axhline(mean_scratch_precision_new, lw=3, c='steelblue', ls='-', alpha=.8)\n",
    "# ax2.axhspan(\n",
    "#     mean_scratch_precision_new - std_scratch_precision_new,\n",
    "#     mean_scratch_precision_new + std_scratch_precision_new,\n",
    "#     color='steelblue', alpha=.3)\n",
    "ax2.axhline(scratch_recall_all, lw=3, c='darkorange', ls='-', alpha=.8)\n",
    "# ax2.axhline(mean_scratch_recall_old, lw=3, c='darkorange', ls='-', alpha=.8)\n",
    "# ax2.axhspan(\n",
    "#     mean_scratch_recall_old - std_scratch_recall_old,\n",
    "#     mean_scratch_recall_old + std_scratch_recall_old,\n",
    "#     color='darkorange', alpha=.3)\n",
    "# ax2.axhline(mean_scratch_recall_new, lw=3, c='darkorange', ls='-', alpha=.8)\n",
    "# ax2.axhspan(\n",
    "#     mean_scratch_recall_new - std_scratch_recall_new,\n",
    "#     mean_scratch_recall_new + std_scratch_recall_new,\n",
    "#     color='darkorange', alpha=.3)\n",
    "# ax2.axhline(scratch_fscore_all, lw=3, c='forestgreen', ls='-', alpha=.8)\n",
    "ax2.set_yticks([scratch_precision_all, scratch_recall_all])\n",
    "ax2.set_yticklabels(['Scratch\\nPrec Overall', '\\n\\nRec Overall'])\n",
    "ax2.tick_params(axis='y', labelsize=14)\n",
    "\n",
    "empty_handle = Rectangle((0,0), 1, 1, fill=False, edgecolor='none', visible=False)\n",
    "handles = [\n",
    "#     Line2D([0], [0], color='k'),\n",
    "    empty_handle,\n",
    "    Line2D([0], [0], color='steelblue'),\n",
    "    Line2D([0], [0], color='darkorange'),\n",
    "    Line2D([0], [0], color='forestgreen'),\n",
    "    empty_handle,\n",
    "    empty_handle,\n",
    "    Line2D([0], [0], color='k'),\n",
    "    Line2D([0], [0], color='k', ls='--'),\n",
    "    Line2D([0], [0], color='k', ls=':'),\n",
    "    empty_handle,\n",
    "    empty_handle,\n",
    "    Line2D([0], [0], color='k', ls='-'),\n",
    "    Line2D([0], [0], color='firebrick', ls='--'),\n",
    "    Line2D([0], [0], color='purple', ls=':'),\n",
    "]\n",
    "labels = [\n",
    "#     'Scratch F1',\n",
    "    'Metric', 'Precision', 'Recall', 'F1', '', 'Type', 'Old', 'New', 'Overall', '', '$\\lambda$', 'Original',\n",
    "    # 'WA',\n",
    "    'MA',\n",
    "    'Best F1']\n",
    "leg = ax.legend(handles, labels, loc='upper left', bbox_to_anchor=(1.15, 1), fontsize=14)\n",
    "leg.get_frame().set_linewidth(0)\n",
    "\n",
    "plt.show()"
   ]
  },
  {
   "cell_type": "code",
   "execution_count": 7,
   "id": "83781bbb",
   "metadata": {
    "scrolled": true
   },
   "outputs": [
    {
     "name": "stdout",
     "output_type": "stream",
     "text": [
      "WARNING: using pre-processed dataframe.\n",
      "Class order:  [10, 26, 12, 23, 21, 7, 27, 17, 35, 1, 36, 30, 25, 3, 13, 9, 34, 19, 18, 2, 15, 16, 39, 6, 11, 24, 20, 32, 37, 31, 33, 28, 14, 5, 8, 29, 38, 4, 22, 0]\n",
      "same\n",
      "same\n",
      "| Selected 1014 train exemplars, time=  0.0s\n",
      "| Selected 1000 train exemplars, time=  0.0s\n",
      "max old 17.433739\n",
      "max new 11.199143\n",
      "max old old wrng 12.919431\n",
      "max new old wrng 14.933183\n",
      "max old new samples classified as new 13.102396\n",
      "max new new samples classified as new 18.117931\n",
      "acc old 0.8082051282051282\n",
      "acc new 1.0\n"
     ]
    },
    {
     "name": "stderr",
     "output_type": "stream",
     "text": [
      "/home/giampaolo/.local/lib/python3.10/site-packages/sklearn/metrics/_classification.py:1344: UndefinedMetricWarning: Precision and F-score are ill-defined and being set to 0.0 in labels with no predicted samples. Use `zero_division` parameter to control this behavior.\n",
      "  _warn_prf(average, modifier, msg_start, len(result))\n",
      "/home/giampaolo/.local/lib/python3.10/site-packages/sklearn/metrics/_classification.py:1344: UndefinedMetricWarning: Precision and F-score are ill-defined and being set to 0.0 in labels with no predicted samples. Use `zero_division` parameter to control this behavior.\n",
      "  _warn_prf(average, modifier, msg_start, len(result))\n",
      "/home/giampaolo/.local/lib/python3.10/site-packages/sklearn/metrics/_classification.py:1344: UndefinedMetricWarning: Precision and F-score are ill-defined and being set to 0.0 in labels with no predicted samples. Use `zero_division` parameter to control this behavior.\n",
      "  _warn_prf(average, modifier, msg_start, len(result))\n",
      "/home/giampaolo/.local/lib/python3.10/site-packages/sklearn/metrics/_classification.py:1344: UndefinedMetricWarning: Precision and F-score are ill-defined and being set to 0.0 in labels with no predicted samples. Use `zero_division` parameter to control this behavior.\n",
      "  _warn_prf(average, modifier, msg_start, len(result))\n"
     ]
    },
    {
     "name": "stdout",
     "output_type": "stream",
     "text": [
      "WARNING: using pre-processed dataframe.\n",
      "Class order:  [25, 24, 4, 5, 32, 12, 17, 38, 8, 7, 6, 16, 31, 9, 23, 26, 10, 39, 27, 19, 14, 33, 21, 13, 36, 28, 2, 11, 0, 20, 34, 22, 30, 15, 35, 29, 18, 37, 3, 1]\n",
      "same\n",
      "same\n",
      "| Selected 1014 train exemplars, time=  0.0s\n",
      "| Selected 1000 train exemplars, time=  0.0s\n",
      "max old 14.135727\n",
      "max new 12.162488\n",
      "max old old wrng 9.337453\n",
      "max new old wrng 11.71505\n",
      "max old new samples classified as new 8.7551\n",
      "max new new samples classified as new 13.384001\n",
      "acc old 0.5938461538461538\n",
      "acc new 1.0\n"
     ]
    },
    {
     "name": "stderr",
     "output_type": "stream",
     "text": [
      "/home/giampaolo/.local/lib/python3.10/site-packages/sklearn/metrics/_classification.py:1344: UndefinedMetricWarning: Precision and F-score are ill-defined and being set to 0.0 in labels with no predicted samples. Use `zero_division` parameter to control this behavior.\n",
      "  _warn_prf(average, modifier, msg_start, len(result))\n",
      "/home/giampaolo/.local/lib/python3.10/site-packages/sklearn/metrics/_classification.py:1344: UndefinedMetricWarning: Precision and F-score are ill-defined and being set to 0.0 in labels with no predicted samples. Use `zero_division` parameter to control this behavior.\n",
      "  _warn_prf(average, modifier, msg_start, len(result))\n",
      "/home/giampaolo/.local/lib/python3.10/site-packages/sklearn/metrics/_classification.py:1344: UndefinedMetricWarning: Precision and F-score are ill-defined and being set to 0.0 in labels with no predicted samples. Use `zero_division` parameter to control this behavior.\n",
      "  _warn_prf(average, modifier, msg_start, len(result))\n",
      "/home/giampaolo/.local/lib/python3.10/site-packages/sklearn/metrics/_classification.py:1344: UndefinedMetricWarning: Precision and F-score are ill-defined and being set to 0.0 in labels with no predicted samples. Use `zero_division` parameter to control this behavior.\n",
      "  _warn_prf(average, modifier, msg_start, len(result))\n",
      "/home/giampaolo/.local/lib/python3.10/site-packages/sklearn/metrics/_classification.py:1344: UndefinedMetricWarning: Precision and F-score are ill-defined and being set to 0.0 in labels with no predicted samples. Use `zero_division` parameter to control this behavior.\n",
      "  _warn_prf(average, modifier, msg_start, len(result))\n",
      "/home/giampaolo/.local/lib/python3.10/site-packages/sklearn/metrics/_classification.py:1344: UndefinedMetricWarning: Precision and F-score are ill-defined and being set to 0.0 in labels with no predicted samples. Use `zero_division` parameter to control this behavior.\n",
      "  _warn_prf(average, modifier, msg_start, len(result))\n",
      "/home/giampaolo/.local/lib/python3.10/site-packages/sklearn/metrics/_classification.py:1344: UndefinedMetricWarning: Precision and F-score are ill-defined and being set to 0.0 in labels with no predicted samples. Use `zero_division` parameter to control this behavior.\n",
      "  _warn_prf(average, modifier, msg_start, len(result))\n",
      "/home/giampaolo/.local/lib/python3.10/site-packages/sklearn/metrics/_classification.py:1344: UndefinedMetricWarning: Precision and F-score are ill-defined and being set to 0.0 in labels with no predicted samples. Use `zero_division` parameter to control this behavior.\n",
      "  _warn_prf(average, modifier, msg_start, len(result))\n",
      "/home/giampaolo/.local/lib/python3.10/site-packages/sklearn/metrics/_classification.py:1344: UndefinedMetricWarning: Precision and F-score are ill-defined and being set to 0.0 in labels with no predicted samples. Use `zero_division` parameter to control this behavior.\n",
      "  _warn_prf(average, modifier, msg_start, len(result))\n",
      "/home/giampaolo/.local/lib/python3.10/site-packages/sklearn/metrics/_classification.py:1344: UndefinedMetricWarning: Precision and F-score are ill-defined and being set to 0.0 in labels with no predicted samples. Use `zero_division` parameter to control this behavior.\n",
      "  _warn_prf(average, modifier, msg_start, len(result))\n"
     ]
    },
    {
     "name": "stdout",
     "output_type": "stream",
     "text": [
      "WARNING: using pre-processed dataframe.\n",
      "Class order:  [13, 29, 30, 22, 25, 31, 39, 9, 36, 24, 3, 32, 33, 37, 16, 20, 12, 38, 7, 23, 27, 10, 28, 4, 21, 15, 26, 5, 1, 0, 17, 19, 6, 11, 35, 8, 14, 18, 34, 2]\n",
      "same\n",
      "same\n",
      "| Selected 1014 train exemplars, time=  0.0s\n",
      "| Selected 1000 train exemplars, time=  0.0s\n",
      "max old 14.99735\n",
      "max new 9.644455\n",
      "max old old wrng 9.990246\n",
      "max new old wrng 12.166156\n",
      "max old new samples classified as new 10.611156\n",
      "max new new samples classified as new 17.458082\n",
      "acc old 0.8215384615384616\n",
      "acc new 1.0\n"
     ]
    },
    {
     "name": "stderr",
     "output_type": "stream",
     "text": [
      "/home/giampaolo/.local/lib/python3.10/site-packages/sklearn/metrics/_classification.py:1344: UndefinedMetricWarning: Precision and F-score are ill-defined and being set to 0.0 in labels with no predicted samples. Use `zero_division` parameter to control this behavior.\n",
      "  _warn_prf(average, modifier, msg_start, len(result))\n",
      "/home/giampaolo/.local/lib/python3.10/site-packages/sklearn/metrics/_classification.py:1344: UndefinedMetricWarning: Precision and F-score are ill-defined and being set to 0.0 in labels with no predicted samples. Use `zero_division` parameter to control this behavior.\n",
      "  _warn_prf(average, modifier, msg_start, len(result))\n",
      "/home/giampaolo/.local/lib/python3.10/site-packages/sklearn/metrics/_classification.py:1344: UndefinedMetricWarning: Precision and F-score are ill-defined and being set to 0.0 in labels with no predicted samples. Use `zero_division` parameter to control this behavior.\n",
      "  _warn_prf(average, modifier, msg_start, len(result))\n",
      "/home/giampaolo/.local/lib/python3.10/site-packages/sklearn/metrics/_classification.py:1344: UndefinedMetricWarning: Precision and F-score are ill-defined and being set to 0.0 in labels with no predicted samples. Use `zero_division` parameter to control this behavior.\n",
      "  _warn_prf(average, modifier, msg_start, len(result))\n"
     ]
    },
    {
     "name": "stdout",
     "output_type": "stream",
     "text": [
      "WARNING: using pre-processed dataframe.\n",
      "Class order:  [23, 2, 12, 10, 31, 24, 30, 0, 1, 17, 32, 34, 9, 15, 26, 38, 20, 36, 25, 16, 39, 11, 37, 13, 19, 28, 14, 21, 6, 29, 7, 35, 27, 8, 5, 22, 18, 4, 33, 3]\n",
      "same\n",
      "same\n",
      "| Selected 1014 train exemplars, time=  0.0s\n",
      "| Selected 1000 train exemplars, time=  0.0s\n",
      "max old 13.8865595\n",
      "max new 10.734645\n",
      "max old old wrng 9.372104\n",
      "max new old wrng 10.724281\n",
      "max old new samples classified as new 9.145322\n",
      "max new new samples classified as new 14.207836\n",
      "acc old 0.7097435897435898\n",
      "acc new 1.0\n"
     ]
    },
    {
     "name": "stderr",
     "output_type": "stream",
     "text": [
      "/home/giampaolo/.local/lib/python3.10/site-packages/sklearn/metrics/_classification.py:1344: UndefinedMetricWarning: Precision and F-score are ill-defined and being set to 0.0 in labels with no predicted samples. Use `zero_division` parameter to control this behavior.\n",
      "  _warn_prf(average, modifier, msg_start, len(result))\n",
      "/home/giampaolo/.local/lib/python3.10/site-packages/sklearn/metrics/_classification.py:1344: UndefinedMetricWarning: Precision and F-score are ill-defined and being set to 0.0 in labels with no predicted samples. Use `zero_division` parameter to control this behavior.\n",
      "  _warn_prf(average, modifier, msg_start, len(result))\n",
      "/home/giampaolo/.local/lib/python3.10/site-packages/sklearn/metrics/_classification.py:1344: UndefinedMetricWarning: Precision and F-score are ill-defined and being set to 0.0 in labels with no predicted samples. Use `zero_division` parameter to control this behavior.\n",
      "  _warn_prf(average, modifier, msg_start, len(result))\n",
      "/home/giampaolo/.local/lib/python3.10/site-packages/sklearn/metrics/_classification.py:1344: UndefinedMetricWarning: Precision and F-score are ill-defined and being set to 0.0 in labels with no predicted samples. Use `zero_division` parameter to control this behavior.\n",
      "  _warn_prf(average, modifier, msg_start, len(result))\n",
      "/home/giampaolo/.local/lib/python3.10/site-packages/sklearn/metrics/_classification.py:1344: UndefinedMetricWarning: Precision and F-score are ill-defined and being set to 0.0 in labels with no predicted samples. Use `zero_division` parameter to control this behavior.\n",
      "  _warn_prf(average, modifier, msg_start, len(result))\n",
      "/home/giampaolo/.local/lib/python3.10/site-packages/sklearn/metrics/_classification.py:1344: UndefinedMetricWarning: Precision and F-score are ill-defined and being set to 0.0 in labels with no predicted samples. Use `zero_division` parameter to control this behavior.\n",
      "  _warn_prf(average, modifier, msg_start, len(result))\n",
      "/home/giampaolo/.local/lib/python3.10/site-packages/sklearn/metrics/_classification.py:1344: UndefinedMetricWarning: Precision and F-score are ill-defined and being set to 0.0 in labels with no predicted samples. Use `zero_division` parameter to control this behavior.\n",
      "  _warn_prf(average, modifier, msg_start, len(result))\n"
     ]
    },
    {
     "name": "stdout",
     "output_type": "stream",
     "text": [
      "WARNING: using pre-processed dataframe.\n",
      "Class order:  [15, 16, 37, 0, 32, 2, 26, 18, 14, 8, 34, 13, 3, 39, 35, 23, 5, 6, 21, 36, 9, 12, 30, 25, 7, 1, 11, 19, 31, 17, 38, 22, 10, 24, 27, 29, 33, 20, 28, 4]\n",
      "same\n",
      "same\n",
      "| Selected 1014 train exemplars, time=  0.0s\n",
      "| Selected 1000 train exemplars, time=  0.0s\n",
      "max old 14.82654\n",
      "max new 9.625235\n",
      "max old old wrng 10.221024\n",
      "max new old wrng 12.036199\n",
      "max old new samples classified as new 9.693842\n",
      "max new new samples classified as new 14.016914\n",
      "acc old 0.7753846153846153\n",
      "acc new 1.0\n"
     ]
    },
    {
     "name": "stderr",
     "output_type": "stream",
     "text": [
      "/home/giampaolo/.local/lib/python3.10/site-packages/sklearn/metrics/_classification.py:1344: UndefinedMetricWarning: Precision and F-score are ill-defined and being set to 0.0 in labels with no predicted samples. Use `zero_division` parameter to control this behavior.\n",
      "  _warn_prf(average, modifier, msg_start, len(result))\n",
      "/home/giampaolo/.local/lib/python3.10/site-packages/sklearn/metrics/_classification.py:1344: UndefinedMetricWarning: Precision and F-score are ill-defined and being set to 0.0 in labels with no predicted samples. Use `zero_division` parameter to control this behavior.\n",
      "  _warn_prf(average, modifier, msg_start, len(result))\n",
      "/home/giampaolo/.local/lib/python3.10/site-packages/sklearn/metrics/_classification.py:1344: UndefinedMetricWarning: Precision and F-score are ill-defined and being set to 0.0 in labels with no predicted samples. Use `zero_division` parameter to control this behavior.\n",
      "  _warn_prf(average, modifier, msg_start, len(result))\n",
      "/home/giampaolo/.local/lib/python3.10/site-packages/sklearn/metrics/_classification.py:1344: UndefinedMetricWarning: Precision and F-score are ill-defined and being set to 0.0 in labels with no predicted samples. Use `zero_division` parameter to control this behavior.\n",
      "  _warn_prf(average, modifier, msg_start, len(result))\n"
     ]
    },
    {
     "name": "stdout",
     "output_type": "stream",
     "text": [
      "WARNING: using pre-processed dataframe.\n",
      "Class order:  [3, 1, 33, 4, 14, 28, 10, 19, 7, 15, 22, 32, 25, 13, 8, 21, 27, 0, 36, 12, 20, 35, 2, 31, 6, 23, 17, 16, 30, 37, 11, 38, 24, 26, 18, 29, 34, 39, 9, 5]\n",
      "same\n",
      "same\n",
      "| Selected 1014 train exemplars, time=  0.0s\n",
      "| Selected 1000 train exemplars, time=  0.0s\n",
      "max old 16.122469\n",
      "max new 11.035663\n",
      "max old old wrng 8.87373\n",
      "max new old wrng 10.166835\n",
      "max old new samples classified as new 16.342844\n",
      "max new new samples classified as new 23.631662\n",
      "acc old 0.7753846153846153\n",
      "acc new 1.0\n"
     ]
    },
    {
     "name": "stderr",
     "output_type": "stream",
     "text": [
      "/home/giampaolo/.local/lib/python3.10/site-packages/sklearn/metrics/_classification.py:1344: UndefinedMetricWarning: Precision and F-score are ill-defined and being set to 0.0 in labels with no predicted samples. Use `zero_division` parameter to control this behavior.\n",
      "  _warn_prf(average, modifier, msg_start, len(result))\n",
      "/home/giampaolo/.local/lib/python3.10/site-packages/sklearn/metrics/_classification.py:1344: UndefinedMetricWarning: Precision and F-score are ill-defined and being set to 0.0 in labels with no predicted samples. Use `zero_division` parameter to control this behavior.\n",
      "  _warn_prf(average, modifier, msg_start, len(result))\n",
      "/home/giampaolo/.local/lib/python3.10/site-packages/sklearn/metrics/_classification.py:1344: UndefinedMetricWarning: Precision and F-score are ill-defined and being set to 0.0 in labels with no predicted samples. Use `zero_division` parameter to control this behavior.\n",
      "  _warn_prf(average, modifier, msg_start, len(result))\n",
      "/home/giampaolo/.local/lib/python3.10/site-packages/sklearn/metrics/_classification.py:1344: UndefinedMetricWarning: Precision and F-score are ill-defined and being set to 0.0 in labels with no predicted samples. Use `zero_division` parameter to control this behavior.\n",
      "  _warn_prf(average, modifier, msg_start, len(result))\n"
     ]
    },
    {
     "name": "stdout",
     "output_type": "stream",
     "text": [
      "WARNING: using pre-processed dataframe.\n",
      "Class order:  [36, 38, 11, 4, 31, 22, 1, 17, 5, 14, 21, 16, 28, 3, 0, 12, 15, 8, 33, 25, 18, 26, 10, 39, 37, 24, 19, 32, 23, 2, 35, 20, 7, 34, 30, 13, 9, 29, 27, 6]\n",
      "same\n",
      "same\n",
      "| Selected 1014 train exemplars, time=  0.0s\n",
      "| Selected 1000 train exemplars, time=  0.2s\n",
      "max old 12.767644\n",
      "max new 6.792807\n",
      "max old old wrng 6.9807625\n",
      "max new old wrng 8.672118\n",
      "max old new samples classified as new 8.354807\n",
      "max new new samples classified as new 16.731676\n",
      "acc old 0.8082051282051282\n",
      "acc new 1.0\n"
     ]
    },
    {
     "name": "stderr",
     "output_type": "stream",
     "text": [
      "/home/giampaolo/.local/lib/python3.10/site-packages/sklearn/metrics/_classification.py:1344: UndefinedMetricWarning: Precision and F-score are ill-defined and being set to 0.0 in labels with no predicted samples. Use `zero_division` parameter to control this behavior.\n",
      "  _warn_prf(average, modifier, msg_start, len(result))\n",
      "/home/giampaolo/.local/lib/python3.10/site-packages/sklearn/metrics/_classification.py:1344: UndefinedMetricWarning: Precision and F-score are ill-defined and being set to 0.0 in labels with no predicted samples. Use `zero_division` parameter to control this behavior.\n",
      "  _warn_prf(average, modifier, msg_start, len(result))\n",
      "/home/giampaolo/.local/lib/python3.10/site-packages/sklearn/metrics/_classification.py:1344: UndefinedMetricWarning: Precision and F-score are ill-defined and being set to 0.0 in labels with no predicted samples. Use `zero_division` parameter to control this behavior.\n",
      "  _warn_prf(average, modifier, msg_start, len(result))\n",
      "/home/giampaolo/.local/lib/python3.10/site-packages/sklearn/metrics/_classification.py:1344: UndefinedMetricWarning: Precision and F-score are ill-defined and being set to 0.0 in labels with no predicted samples. Use `zero_division` parameter to control this behavior.\n",
      "  _warn_prf(average, modifier, msg_start, len(result))\n"
     ]
    },
    {
     "name": "stdout",
     "output_type": "stream",
     "text": [
      "WARNING: using pre-processed dataframe.\n",
      "Class order:  [5, 20, 17, 25, 29, 26, 30, 36, 2, 13, 16, 31, 15, 21, 9, 38, 6, 35, 22, 37, 33, 34, 0, 28, 11, 24, 1, 27, 23, 3, 18, 19, 39, 12, 14, 8, 4, 32, 10, 7]\n",
      "same\n",
      "same\n",
      "| Selected 1014 train exemplars, time=  0.0s\n",
      "| Selected 1000 train exemplars, time=  0.0s\n",
      "max old 16.580797\n",
      "max new 11.430647\n",
      "max old old wrng 12.6966505\n",
      "max new old wrng 14.713926\n",
      "max old new samples classified as new 11.407724\n",
      "max new new samples classified as new 16.510582\n",
      "acc old 0.764102564102564\n",
      "acc new 0.84\n"
     ]
    },
    {
     "name": "stderr",
     "output_type": "stream",
     "text": [
      "/home/giampaolo/.local/lib/python3.10/site-packages/sklearn/metrics/_classification.py:1344: UndefinedMetricWarning: Precision and F-score are ill-defined and being set to 0.0 in labels with no predicted samples. Use `zero_division` parameter to control this behavior.\n",
      "  _warn_prf(average, modifier, msg_start, len(result))\n",
      "/home/giampaolo/.local/lib/python3.10/site-packages/sklearn/metrics/_classification.py:1344: UndefinedMetricWarning: Precision and F-score are ill-defined and being set to 0.0 in labels with no predicted samples. Use `zero_division` parameter to control this behavior.\n",
      "  _warn_prf(average, modifier, msg_start, len(result))\n",
      "/home/giampaolo/.local/lib/python3.10/site-packages/sklearn/metrics/_classification.py:1344: UndefinedMetricWarning: Precision and F-score are ill-defined and being set to 0.0 in labels with no predicted samples. Use `zero_division` parameter to control this behavior.\n",
      "  _warn_prf(average, modifier, msg_start, len(result))\n",
      "/home/giampaolo/.local/lib/python3.10/site-packages/sklearn/metrics/_classification.py:1344: UndefinedMetricWarning: Precision and F-score are ill-defined and being set to 0.0 in labels with no predicted samples. Use `zero_division` parameter to control this behavior.\n",
      "  _warn_prf(average, modifier, msg_start, len(result))\n",
      "/home/giampaolo/.local/lib/python3.10/site-packages/sklearn/metrics/_classification.py:1344: UndefinedMetricWarning: Precision and F-score are ill-defined and being set to 0.0 in labels with no predicted samples. Use `zero_division` parameter to control this behavior.\n",
      "  _warn_prf(average, modifier, msg_start, len(result))\n",
      "/home/giampaolo/.local/lib/python3.10/site-packages/sklearn/metrics/_classification.py:1344: UndefinedMetricWarning: Precision and F-score are ill-defined and being set to 0.0 in labels with no predicted samples. Use `zero_division` parameter to control this behavior.\n",
      "  _warn_prf(average, modifier, msg_start, len(result))\n",
      "/home/giampaolo/.local/lib/python3.10/site-packages/sklearn/metrics/_classification.py:1344: UndefinedMetricWarning: Precision and F-score are ill-defined and being set to 0.0 in labels with no predicted samples. Use `zero_division` parameter to control this behavior.\n",
      "  _warn_prf(average, modifier, msg_start, len(result))\n",
      "/home/giampaolo/.local/lib/python3.10/site-packages/sklearn/metrics/_classification.py:1344: UndefinedMetricWarning: Precision and F-score are ill-defined and being set to 0.0 in labels with no predicted samples. Use `zero_division` parameter to control this behavior.\n",
      "  _warn_prf(average, modifier, msg_start, len(result))\n"
     ]
    },
    {
     "name": "stdout",
     "output_type": "stream",
     "text": [
      "WARNING: using pre-processed dataframe.\n",
      "Class order:  [33, 34, 22, 24, 0, 20, 9, 19, 38, 32, 31, 14, 3, 23, 6, 35, 11, 10, 7, 28, 39, 36, 25, 30, 29, 2, 37, 26, 27, 21, 16, 12, 17, 13, 18, 1, 15, 5, 4, 8]\n",
      "same\n",
      "same\n",
      "| Selected 1014 train exemplars, time=  0.0s\n",
      "| Selected 1000 train exemplars, time=  0.0s\n",
      "max old 16.195864\n",
      "max new 13.747154\n",
      "max old old wrng 11.952193\n",
      "max new old wrng 14.538656\n",
      "max old new samples classified as new 14.304375\n",
      "max new new samples classified as new 22.320702\n",
      "acc old 0.6533333333333333\n",
      "acc new 1.0\n"
     ]
    },
    {
     "name": "stderr",
     "output_type": "stream",
     "text": [
      "/home/giampaolo/.local/lib/python3.10/site-packages/sklearn/metrics/_classification.py:1344: UndefinedMetricWarning: Precision and F-score are ill-defined and being set to 0.0 in labels with no predicted samples. Use `zero_division` parameter to control this behavior.\n",
      "  _warn_prf(average, modifier, msg_start, len(result))\n",
      "/home/giampaolo/.local/lib/python3.10/site-packages/sklearn/metrics/_classification.py:1344: UndefinedMetricWarning: Precision and F-score are ill-defined and being set to 0.0 in labels with no predicted samples. Use `zero_division` parameter to control this behavior.\n",
      "  _warn_prf(average, modifier, msg_start, len(result))\n",
      "/home/giampaolo/.local/lib/python3.10/site-packages/sklearn/metrics/_classification.py:1344: UndefinedMetricWarning: Precision and F-score are ill-defined and being set to 0.0 in labels with no predicted samples. Use `zero_division` parameter to control this behavior.\n",
      "  _warn_prf(average, modifier, msg_start, len(result))\n",
      "/home/giampaolo/.local/lib/python3.10/site-packages/sklearn/metrics/_classification.py:1344: UndefinedMetricWarning: Precision and F-score are ill-defined and being set to 0.0 in labels with no predicted samples. Use `zero_division` parameter to control this behavior.\n",
      "  _warn_prf(average, modifier, msg_start, len(result))\n",
      "/home/giampaolo/.local/lib/python3.10/site-packages/sklearn/metrics/_classification.py:1344: UndefinedMetricWarning: Precision and F-score are ill-defined and being set to 0.0 in labels with no predicted samples. Use `zero_division` parameter to control this behavior.\n",
      "  _warn_prf(average, modifier, msg_start, len(result))\n",
      "/home/giampaolo/.local/lib/python3.10/site-packages/sklearn/metrics/_classification.py:1344: UndefinedMetricWarning: Precision and F-score are ill-defined and being set to 0.0 in labels with no predicted samples. Use `zero_division` parameter to control this behavior.\n",
      "  _warn_prf(average, modifier, msg_start, len(result))\n",
      "/home/giampaolo/.local/lib/python3.10/site-packages/sklearn/metrics/_classification.py:1344: UndefinedMetricWarning: Precision and F-score are ill-defined and being set to 0.0 in labels with no predicted samples. Use `zero_division` parameter to control this behavior.\n",
      "  _warn_prf(average, modifier, msg_start, len(result))\n",
      "/home/giampaolo/.local/lib/python3.10/site-packages/sklearn/metrics/_classification.py:1344: UndefinedMetricWarning: Precision and F-score are ill-defined and being set to 0.0 in labels with no predicted samples. Use `zero_division` parameter to control this behavior.\n",
      "  _warn_prf(average, modifier, msg_start, len(result))\n",
      "/home/giampaolo/.local/lib/python3.10/site-packages/sklearn/metrics/_classification.py:1344: UndefinedMetricWarning: Precision and F-score are ill-defined and being set to 0.0 in labels with no predicted samples. Use `zero_division` parameter to control this behavior.\n",
      "  _warn_prf(average, modifier, msg_start, len(result))\n",
      "/home/giampaolo/.local/lib/python3.10/site-packages/sklearn/metrics/_classification.py:1344: UndefinedMetricWarning: Precision and F-score are ill-defined and being set to 0.0 in labels with no predicted samples. Use `zero_division` parameter to control this behavior.\n",
      "  _warn_prf(average, modifier, msg_start, len(result))\n",
      "/home/giampaolo/.local/lib/python3.10/site-packages/sklearn/metrics/_classification.py:1344: UndefinedMetricWarning: Precision and F-score are ill-defined and being set to 0.0 in labels with no predicted samples. Use `zero_division` parameter to control this behavior.\n",
      "  _warn_prf(average, modifier, msg_start, len(result))\n"
     ]
    },
    {
     "name": "stdout",
     "output_type": "stream",
     "text": [
      "WARNING: using pre-processed dataframe.\n",
      "Class order:  [8, 16, 6, 10, 2, 25, 14, 30, 34, 5, 19, 13, 18, 31, 29, 11, 28, 15, 35, 4, 38, 36, 37, 7, 32, 27, 33, 21, 39, 24, 22, 0, 12, 23, 1, 3, 20, 17, 26, 9]\n",
      "same\n",
      "same\n",
      "| Selected 1014 train exemplars, time=  0.0s\n",
      "| Selected 1000 train exemplars, time=  0.0s\n",
      "max old 13.413335\n",
      "max new 12.141697\n",
      "max old old wrng 9.11408\n",
      "max new old wrng 11.330587\n",
      "max old new samples classified as new 8.13013\n",
      "max new new samples classified as new 12.277705\n",
      "acc old 0.5866666666666667\n",
      "acc new 1.0\n"
     ]
    },
    {
     "name": "stderr",
     "output_type": "stream",
     "text": [
      "/home/giampaolo/.local/lib/python3.10/site-packages/sklearn/metrics/_classification.py:1344: UndefinedMetricWarning: Precision and F-score are ill-defined and being set to 0.0 in labels with no predicted samples. Use `zero_division` parameter to control this behavior.\n",
      "  _warn_prf(average, modifier, msg_start, len(result))\n",
      "/home/giampaolo/.local/lib/python3.10/site-packages/sklearn/metrics/_classification.py:1344: UndefinedMetricWarning: Precision and F-score are ill-defined and being set to 0.0 in labels with no predicted samples. Use `zero_division` parameter to control this behavior.\n",
      "  _warn_prf(average, modifier, msg_start, len(result))\n",
      "/home/giampaolo/.local/lib/python3.10/site-packages/sklearn/metrics/_classification.py:1344: UndefinedMetricWarning: Precision and F-score are ill-defined and being set to 0.0 in labels with no predicted samples. Use `zero_division` parameter to control this behavior.\n",
      "  _warn_prf(average, modifier, msg_start, len(result))\n",
      "/home/giampaolo/.local/lib/python3.10/site-packages/sklearn/metrics/_classification.py:1344: UndefinedMetricWarning: Precision and F-score are ill-defined and being set to 0.0 in labels with no predicted samples. Use `zero_division` parameter to control this behavior.\n",
      "  _warn_prf(average, modifier, msg_start, len(result))\n",
      "/home/giampaolo/.local/lib/python3.10/site-packages/sklearn/metrics/_classification.py:1344: UndefinedMetricWarning: Precision and F-score are ill-defined and being set to 0.0 in labels with no predicted samples. Use `zero_division` parameter to control this behavior.\n",
      "  _warn_prf(average, modifier, msg_start, len(result))\n",
      "/home/giampaolo/.local/lib/python3.10/site-packages/sklearn/metrics/_classification.py:1344: UndefinedMetricWarning: Precision and F-score are ill-defined and being set to 0.0 in labels with no predicted samples. Use `zero_division` parameter to control this behavior.\n",
      "  _warn_prf(average, modifier, msg_start, len(result))\n",
      "/home/giampaolo/.local/lib/python3.10/site-packages/sklearn/metrics/_classification.py:1344: UndefinedMetricWarning: Precision and F-score are ill-defined and being set to 0.0 in labels with no predicted samples. Use `zero_division` parameter to control this behavior.\n",
      "  _warn_prf(average, modifier, msg_start, len(result))\n",
      "/home/giampaolo/.local/lib/python3.10/site-packages/sklearn/metrics/_classification.py:1344: UndefinedMetricWarning: Precision and F-score are ill-defined and being set to 0.0 in labels with no predicted samples. Use `zero_division` parameter to control this behavior.\n",
      "  _warn_prf(average, modifier, msg_start, len(result))\n",
      "/home/giampaolo/.local/lib/python3.10/site-packages/sklearn/metrics/_classification.py:1344: UndefinedMetricWarning: Precision and F-score are ill-defined and being set to 0.0 in labels with no predicted samples. Use `zero_division` parameter to control this behavior.\n",
      "  _warn_prf(average, modifier, msg_start, len(result))\n",
      "/home/giampaolo/.local/lib/python3.10/site-packages/sklearn/metrics/_classification.py:1344: UndefinedMetricWarning: Precision and F-score are ill-defined and being set to 0.0 in labels with no predicted samples. Use `zero_division` parameter to control this behavior.\n",
      "  _warn_prf(average, modifier, msg_start, len(result))\n"
     ]
    },
    {
     "name": "stdout",
     "output_type": "stream",
     "text": [
      "WARNING: using pre-processed dataframe.\n",
      "Class order:  [21, 19, 25, 2, 18, 28, 24, 4, 39, 8, 30, 20, 7, 5, 33, 11, 37, 3, 17, 6, 13, 15, 14, 26, 35, 9, 0, 29, 1, 36, 23, 16, 31, 32, 12, 22, 34, 38, 27, 10]\n",
      "same\n",
      "same\n",
      "| Selected 1014 train exemplars, time=  0.0s\n",
      "| Selected 1000 train exemplars, time=  0.0s\n",
      "max old 12.670303\n",
      "max new 9.139156\n",
      "max old old wrng 8.553696\n",
      "max new old wrng 10.551918\n",
      "max old new samples classified as new 8.65794\n",
      "max new new samples classified as new 12.195642\n",
      "acc old 0.6953846153846154\n",
      "acc new 1.0\n"
     ]
    },
    {
     "name": "stderr",
     "output_type": "stream",
     "text": [
      "/home/giampaolo/.local/lib/python3.10/site-packages/sklearn/metrics/_classification.py:1344: UndefinedMetricWarning: Precision and F-score are ill-defined and being set to 0.0 in labels with no predicted samples. Use `zero_division` parameter to control this behavior.\n",
      "  _warn_prf(average, modifier, msg_start, len(result))\n",
      "/home/giampaolo/.local/lib/python3.10/site-packages/sklearn/metrics/_classification.py:1344: UndefinedMetricWarning: Precision and F-score are ill-defined and being set to 0.0 in labels with no predicted samples. Use `zero_division` parameter to control this behavior.\n",
      "  _warn_prf(average, modifier, msg_start, len(result))\n",
      "/home/giampaolo/.local/lib/python3.10/site-packages/sklearn/metrics/_classification.py:1344: UndefinedMetricWarning: Precision and F-score are ill-defined and being set to 0.0 in labels with no predicted samples. Use `zero_division` parameter to control this behavior.\n",
      "  _warn_prf(average, modifier, msg_start, len(result))\n",
      "/home/giampaolo/.local/lib/python3.10/site-packages/sklearn/metrics/_classification.py:1344: UndefinedMetricWarning: Precision and F-score are ill-defined and being set to 0.0 in labels with no predicted samples. Use `zero_division` parameter to control this behavior.\n",
      "  _warn_prf(average, modifier, msg_start, len(result))\n",
      "/home/giampaolo/.local/lib/python3.10/site-packages/sklearn/metrics/_classification.py:1344: UndefinedMetricWarning: Precision and F-score are ill-defined and being set to 0.0 in labels with no predicted samples. Use `zero_division` parameter to control this behavior.\n",
      "  _warn_prf(average, modifier, msg_start, len(result))\n",
      "/home/giampaolo/.local/lib/python3.10/site-packages/sklearn/metrics/_classification.py:1344: UndefinedMetricWarning: Precision and F-score are ill-defined and being set to 0.0 in labels with no predicted samples. Use `zero_division` parameter to control this behavior.\n",
      "  _warn_prf(average, modifier, msg_start, len(result))\n",
      "/home/giampaolo/.local/lib/python3.10/site-packages/sklearn/metrics/_classification.py:1344: UndefinedMetricWarning: Precision and F-score are ill-defined and being set to 0.0 in labels with no predicted samples. Use `zero_division` parameter to control this behavior.\n",
      "  _warn_prf(average, modifier, msg_start, len(result))\n",
      "/home/giampaolo/.local/lib/python3.10/site-packages/sklearn/metrics/_classification.py:1344: UndefinedMetricWarning: Precision and F-score are ill-defined and being set to 0.0 in labels with no predicted samples. Use `zero_division` parameter to control this behavior.\n",
      "  _warn_prf(average, modifier, msg_start, len(result))\n"
     ]
    },
    {
     "name": "stdout",
     "output_type": "stream",
     "text": [
      "WARNING: using pre-processed dataframe.\n",
      "Class order:  [6, 33, 13, 29, 27, 17, 38, 5, 34, 9, 30, 1, 0, 14, 37, 28, 4, 23, 15, 35, 20, 24, 25, 10, 21, 31, 22, 3, 12, 19, 7, 8, 18, 2, 39, 36, 26, 16, 32, 11]\n",
      "same\n",
      "same\n",
      "| Selected 1014 train exemplars, time=  0.0s\n",
      "| Selected 1000 train exemplars, time=  0.0s\n",
      "max old 13.326334\n",
      "max new 6.433016\n",
      "max old old wrng 8.21371\n",
      "max new old wrng 10.067296\n",
      "max old new samples classified as new 9.552151\n",
      "max new new samples classified as new 13.406639\n",
      "acc old 0.8441025641025641\n",
      "acc new 0.8\n"
     ]
    },
    {
     "name": "stderr",
     "output_type": "stream",
     "text": [
      "/home/giampaolo/.local/lib/python3.10/site-packages/sklearn/metrics/_classification.py:1344: UndefinedMetricWarning: Precision and F-score are ill-defined and being set to 0.0 in labels with no predicted samples. Use `zero_division` parameter to control this behavior.\n",
      "  _warn_prf(average, modifier, msg_start, len(result))\n",
      "/home/giampaolo/.local/lib/python3.10/site-packages/sklearn/metrics/_classification.py:1344: UndefinedMetricWarning: Precision and F-score are ill-defined and being set to 0.0 in labels with no predicted samples. Use `zero_division` parameter to control this behavior.\n",
      "  _warn_prf(average, modifier, msg_start, len(result))\n",
      "/home/giampaolo/.local/lib/python3.10/site-packages/sklearn/metrics/_classification.py:1344: UndefinedMetricWarning: Precision and F-score are ill-defined and being set to 0.0 in labels with no predicted samples. Use `zero_division` parameter to control this behavior.\n",
      "  _warn_prf(average, modifier, msg_start, len(result))\n",
      "/home/giampaolo/.local/lib/python3.10/site-packages/sklearn/metrics/_classification.py:1344: UndefinedMetricWarning: Precision and F-score are ill-defined and being set to 0.0 in labels with no predicted samples. Use `zero_division` parameter to control this behavior.\n",
      "  _warn_prf(average, modifier, msg_start, len(result))\n"
     ]
    },
    {
     "name": "stdout",
     "output_type": "stream",
     "text": [
      "WARNING: using pre-processed dataframe.\n",
      "Class order:  [8, 14, 3, 36, 31, 30, 5, 29, 38, 33, 26, 11, 20, 6, 10, 39, 21, 32, 23, 18, 22, 27, 24, 0, 9, 7, 2, 15, 13, 16, 17, 34, 37, 19, 4, 25, 28, 1, 35, 12]\n",
      "same\n",
      "same\n",
      "| Selected 1014 train exemplars, time=  0.0s\n",
      "| Selected 1000 train exemplars, time=  0.0s\n",
      "max old 14.804486\n",
      "max new 8.747338\n",
      "max old old wrng 7.9998255\n",
      "max new old wrng 9.990331\n",
      "max old new samples classified as new 9.133346\n",
      "max new new samples classified as new 12.429456\n",
      "acc old 0.8276923076923077\n",
      "acc new 0.96\n"
     ]
    },
    {
     "name": "stderr",
     "output_type": "stream",
     "text": [
      "/home/giampaolo/.local/lib/python3.10/site-packages/sklearn/metrics/_classification.py:1344: UndefinedMetricWarning: Precision and F-score are ill-defined and being set to 0.0 in labels with no predicted samples. Use `zero_division` parameter to control this behavior.\n",
      "  _warn_prf(average, modifier, msg_start, len(result))\n",
      "/home/giampaolo/.local/lib/python3.10/site-packages/sklearn/metrics/_classification.py:1344: UndefinedMetricWarning: Precision and F-score are ill-defined and being set to 0.0 in labels with no predicted samples. Use `zero_division` parameter to control this behavior.\n",
      "  _warn_prf(average, modifier, msg_start, len(result))\n",
      "/home/giampaolo/.local/lib/python3.10/site-packages/sklearn/metrics/_classification.py:1344: UndefinedMetricWarning: Precision and F-score are ill-defined and being set to 0.0 in labels with no predicted samples. Use `zero_division` parameter to control this behavior.\n",
      "  _warn_prf(average, modifier, msg_start, len(result))\n",
      "/home/giampaolo/.local/lib/python3.10/site-packages/sklearn/metrics/_classification.py:1344: UndefinedMetricWarning: Precision and F-score are ill-defined and being set to 0.0 in labels with no predicted samples. Use `zero_division` parameter to control this behavior.\n",
      "  _warn_prf(average, modifier, msg_start, len(result))\n",
      "/home/giampaolo/.local/lib/python3.10/site-packages/sklearn/metrics/_classification.py:1344: UndefinedMetricWarning: Precision and F-score are ill-defined and being set to 0.0 in labels with no predicted samples. Use `zero_division` parameter to control this behavior.\n",
      "  _warn_prf(average, modifier, msg_start, len(result))\n"
     ]
    },
    {
     "name": "stdout",
     "output_type": "stream",
     "text": [
      "WARNING: using pre-processed dataframe.\n",
      "Class order:  [12, 16, 6, 38, 30, 24, 21, 4, 11, 31, 10, 33, 28, 26, 37, 18, 0, 20, 7, 9, 17, 8, 22, 23, 5, 35, 29, 3, 2, 15, 14, 39, 25, 1, 32, 19, 34, 27, 36, 13]\n",
      "same\n",
      "same\n",
      "| Selected 1014 train exemplars, time=  0.0s\n",
      "| Selected 1000 train exemplars, time=  0.0s\n",
      "max old 14.61725\n",
      "max new 8.847439\n",
      "max old old wrng 8.950232\n",
      "max new old wrng 10.44438\n",
      "max old new samples classified as new 9.624035\n",
      "max new new samples classified as new 13.423662\n",
      "acc old 0.798974358974359\n",
      "acc new 0.96\n"
     ]
    },
    {
     "name": "stderr",
     "output_type": "stream",
     "text": [
      "/home/giampaolo/.local/lib/python3.10/site-packages/sklearn/metrics/_classification.py:1344: UndefinedMetricWarning: Precision and F-score are ill-defined and being set to 0.0 in labels with no predicted samples. Use `zero_division` parameter to control this behavior.\n",
      "  _warn_prf(average, modifier, msg_start, len(result))\n",
      "/home/giampaolo/.local/lib/python3.10/site-packages/sklearn/metrics/_classification.py:1344: UndefinedMetricWarning: Precision and F-score are ill-defined and being set to 0.0 in labels with no predicted samples. Use `zero_division` parameter to control this behavior.\n",
      "  _warn_prf(average, modifier, msg_start, len(result))\n",
      "/home/giampaolo/.local/lib/python3.10/site-packages/sklearn/metrics/_classification.py:1344: UndefinedMetricWarning: Precision and F-score are ill-defined and being set to 0.0 in labels with no predicted samples. Use `zero_division` parameter to control this behavior.\n",
      "  _warn_prf(average, modifier, msg_start, len(result))\n",
      "/home/giampaolo/.local/lib/python3.10/site-packages/sklearn/metrics/_classification.py:1344: UndefinedMetricWarning: Precision and F-score are ill-defined and being set to 0.0 in labels with no predicted samples. Use `zero_division` parameter to control this behavior.\n",
      "  _warn_prf(average, modifier, msg_start, len(result))\n",
      "/home/giampaolo/.local/lib/python3.10/site-packages/sklearn/metrics/_classification.py:1344: UndefinedMetricWarning: Precision and F-score are ill-defined and being set to 0.0 in labels with no predicted samples. Use `zero_division` parameter to control this behavior.\n",
      "  _warn_prf(average, modifier, msg_start, len(result))\n",
      "/home/giampaolo/.local/lib/python3.10/site-packages/sklearn/metrics/_classification.py:1344: UndefinedMetricWarning: Precision and F-score are ill-defined and being set to 0.0 in labels with no predicted samples. Use `zero_division` parameter to control this behavior.\n",
      "  _warn_prf(average, modifier, msg_start, len(result))\n",
      "/home/giampaolo/.local/lib/python3.10/site-packages/sklearn/metrics/_classification.py:1344: UndefinedMetricWarning: Precision and F-score are ill-defined and being set to 0.0 in labels with no predicted samples. Use `zero_division` parameter to control this behavior.\n",
      "  _warn_prf(average, modifier, msg_start, len(result))\n"
     ]
    },
    {
     "name": "stdout",
     "output_type": "stream",
     "text": [
      "WARNING: using pre-processed dataframe.\n",
      "Class order:  [25, 39, 5, 28, 0, 36, 8, 20, 3, 26, 4, 9, 30, 29, 23, 24, 16, 15, 19, 13, 21, 6, 10, 22, 35, 38, 33, 32, 1, 2, 18, 31, 34, 27, 12, 11, 17, 37, 7, 14]\n",
      "same\n",
      "same\n",
      "| Selected 1014 train exemplars, time=  0.0s\n",
      "| Selected 1000 train exemplars, time=  0.0s\n",
      "max old 13.190141\n",
      "max new 7.845863\n",
      "max old old wrng 10.194122\n",
      "max new old wrng 11.469084\n",
      "max old new samples classified as new 12.988483\n",
      "max new new samples classified as new 19.139668\n",
      "acc old 0.7907692307692308\n",
      "acc new 0.96\n"
     ]
    },
    {
     "name": "stderr",
     "output_type": "stream",
     "text": [
      "/home/giampaolo/.local/lib/python3.10/site-packages/sklearn/metrics/_classification.py:1344: UndefinedMetricWarning: Precision and F-score are ill-defined and being set to 0.0 in labels with no predicted samples. Use `zero_division` parameter to control this behavior.\n",
      "  _warn_prf(average, modifier, msg_start, len(result))\n",
      "/home/giampaolo/.local/lib/python3.10/site-packages/sklearn/metrics/_classification.py:1344: UndefinedMetricWarning: Precision and F-score are ill-defined and being set to 0.0 in labels with no predicted samples. Use `zero_division` parameter to control this behavior.\n",
      "  _warn_prf(average, modifier, msg_start, len(result))\n",
      "/home/giampaolo/.local/lib/python3.10/site-packages/sklearn/metrics/_classification.py:1344: UndefinedMetricWarning: Precision and F-score are ill-defined and being set to 0.0 in labels with no predicted samples. Use `zero_division` parameter to control this behavior.\n",
      "  _warn_prf(average, modifier, msg_start, len(result))\n",
      "/home/giampaolo/.local/lib/python3.10/site-packages/sklearn/metrics/_classification.py:1344: UndefinedMetricWarning: Precision and F-score are ill-defined and being set to 0.0 in labels with no predicted samples. Use `zero_division` parameter to control this behavior.\n",
      "  _warn_prf(average, modifier, msg_start, len(result))\n"
     ]
    },
    {
     "name": "stdout",
     "output_type": "stream",
     "text": [
      "WARNING: using pre-processed dataframe.\n",
      "Class order:  [24, 31, 5, 13, 4, 30, 6, 8, 7, 32, 20, 25, 0, 11, 16, 21, 1, 3, 38, 23, 27, 10, 19, 35, 9, 33, 39, 36, 34, 14, 17, 37, 18, 26, 12, 22, 28, 2, 29, 15]\n",
      "same\n",
      "same\n",
      "| Selected 1014 train exemplars, time=  0.0s\n",
      "| Selected 1000 train exemplars, time=  0.0s\n",
      "max old 13.912217\n",
      "max new 9.411261\n",
      "max old old wrng 7.81063\n",
      "max new old wrng 9.68468\n",
      "max old new samples classified as new 7.6856174\n",
      "max new new samples classified as new 12.462245\n",
      "acc old 0.7671794871794871\n",
      "acc new 0.96\n"
     ]
    },
    {
     "name": "stderr",
     "output_type": "stream",
     "text": [
      "/home/giampaolo/.local/lib/python3.10/site-packages/sklearn/metrics/_classification.py:1344: UndefinedMetricWarning: Precision and F-score are ill-defined and being set to 0.0 in labels with no predicted samples. Use `zero_division` parameter to control this behavior.\n",
      "  _warn_prf(average, modifier, msg_start, len(result))\n",
      "/home/giampaolo/.local/lib/python3.10/site-packages/sklearn/metrics/_classification.py:1344: UndefinedMetricWarning: Precision and F-score are ill-defined and being set to 0.0 in labels with no predicted samples. Use `zero_division` parameter to control this behavior.\n",
      "  _warn_prf(average, modifier, msg_start, len(result))\n",
      "/home/giampaolo/.local/lib/python3.10/site-packages/sklearn/metrics/_classification.py:1344: UndefinedMetricWarning: Precision and F-score are ill-defined and being set to 0.0 in labels with no predicted samples. Use `zero_division` parameter to control this behavior.\n",
      "  _warn_prf(average, modifier, msg_start, len(result))\n",
      "/home/giampaolo/.local/lib/python3.10/site-packages/sklearn/metrics/_classification.py:1344: UndefinedMetricWarning: Precision and F-score are ill-defined and being set to 0.0 in labels with no predicted samples. Use `zero_division` parameter to control this behavior.\n",
      "  _warn_prf(average, modifier, msg_start, len(result))\n",
      "/home/giampaolo/.local/lib/python3.10/site-packages/sklearn/metrics/_classification.py:1344: UndefinedMetricWarning: Precision and F-score are ill-defined and being set to 0.0 in labels with no predicted samples. Use `zero_division` parameter to control this behavior.\n",
      "  _warn_prf(average, modifier, msg_start, len(result))\n"
     ]
    },
    {
     "name": "stdout",
     "output_type": "stream",
     "text": [
      "WARNING: using pre-processed dataframe.\n",
      "Class order:  [26, 13, 35, 28, 30, 21, 11, 33, 17, 9, 19, 29, 36, 14, 18, 4, 37, 0, 32, 2, 12, 31, 25, 27, 3, 22, 5, 8, 39, 1, 7, 24, 34, 23, 38, 6, 10, 20, 15, 16]\n",
      "same\n",
      "same\n",
      "| Selected 1014 train exemplars, time=  0.0s\n",
      "| Selected 1000 train exemplars, time=  0.0s\n",
      "max old 12.972779\n",
      "max new 10.35051\n",
      "max old old wrng 9.108931\n",
      "max new old wrng 10.785269\n",
      "max old new samples classified as new 15.780588\n",
      "max new new samples classified as new 23.431007\n",
      "acc old 0.6410256410256411\n",
      "acc new 0.96\n"
     ]
    },
    {
     "name": "stderr",
     "output_type": "stream",
     "text": [
      "/home/giampaolo/.local/lib/python3.10/site-packages/sklearn/metrics/_classification.py:1344: UndefinedMetricWarning: Precision and F-score are ill-defined and being set to 0.0 in labels with no predicted samples. Use `zero_division` parameter to control this behavior.\n",
      "  _warn_prf(average, modifier, msg_start, len(result))\n",
      "/home/giampaolo/.local/lib/python3.10/site-packages/sklearn/metrics/_classification.py:1344: UndefinedMetricWarning: Precision and F-score are ill-defined and being set to 0.0 in labels with no predicted samples. Use `zero_division` parameter to control this behavior.\n",
      "  _warn_prf(average, modifier, msg_start, len(result))\n",
      "/home/giampaolo/.local/lib/python3.10/site-packages/sklearn/metrics/_classification.py:1344: UndefinedMetricWarning: Precision and F-score are ill-defined and being set to 0.0 in labels with no predicted samples. Use `zero_division` parameter to control this behavior.\n",
      "  _warn_prf(average, modifier, msg_start, len(result))\n",
      "/home/giampaolo/.local/lib/python3.10/site-packages/sklearn/metrics/_classification.py:1344: UndefinedMetricWarning: Precision and F-score are ill-defined and being set to 0.0 in labels with no predicted samples. Use `zero_division` parameter to control this behavior.\n",
      "  _warn_prf(average, modifier, msg_start, len(result))\n",
      "/home/giampaolo/.local/lib/python3.10/site-packages/sklearn/metrics/_classification.py:1344: UndefinedMetricWarning: Precision and F-score are ill-defined and being set to 0.0 in labels with no predicted samples. Use `zero_division` parameter to control this behavior.\n",
      "  _warn_prf(average, modifier, msg_start, len(result))\n",
      "/home/giampaolo/.local/lib/python3.10/site-packages/sklearn/metrics/_classification.py:1344: UndefinedMetricWarning: Precision and F-score are ill-defined and being set to 0.0 in labels with no predicted samples. Use `zero_division` parameter to control this behavior.\n",
      "  _warn_prf(average, modifier, msg_start, len(result))\n",
      "/home/giampaolo/.local/lib/python3.10/site-packages/sklearn/metrics/_classification.py:1344: UndefinedMetricWarning: Precision and F-score are ill-defined and being set to 0.0 in labels with no predicted samples. Use `zero_division` parameter to control this behavior.\n",
      "  _warn_prf(average, modifier, msg_start, len(result))\n",
      "/home/giampaolo/.local/lib/python3.10/site-packages/sklearn/metrics/_classification.py:1344: UndefinedMetricWarning: Precision and F-score are ill-defined and being set to 0.0 in labels with no predicted samples. Use `zero_division` parameter to control this behavior.\n",
      "  _warn_prf(average, modifier, msg_start, len(result))\n",
      "/home/giampaolo/.local/lib/python3.10/site-packages/sklearn/metrics/_classification.py:1344: UndefinedMetricWarning: Precision and F-score are ill-defined and being set to 0.0 in labels with no predicted samples. Use `zero_division` parameter to control this behavior.\n",
      "  _warn_prf(average, modifier, msg_start, len(result))\n",
      "/home/giampaolo/.local/lib/python3.10/site-packages/sklearn/metrics/_classification.py:1344: UndefinedMetricWarning: Precision and F-score are ill-defined and being set to 0.0 in labels with no predicted samples. Use `zero_division` parameter to control this behavior.\n",
      "  _warn_prf(average, modifier, msg_start, len(result))\n",
      "/home/giampaolo/.local/lib/python3.10/site-packages/sklearn/metrics/_classification.py:1344: UndefinedMetricWarning: Precision and F-score are ill-defined and being set to 0.0 in labels with no predicted samples. Use `zero_division` parameter to control this behavior.\n",
      "  _warn_prf(average, modifier, msg_start, len(result))\n"
     ]
    },
    {
     "name": "stdout",
     "output_type": "stream",
     "text": [
      "WARNING: using pre-processed dataframe.\n",
      "Class order:  [18, 24, 21, 8, 9, 34, 19, 36, 32, 33, 35, 23, 0, 22, 31, 15, 2, 12, 26, 1, 5, 3, 4, 25, 27, 7, 29, 16, 39, 20, 11, 37, 13, 10, 6, 38, 14, 28, 30, 17]\n",
      "same\n",
      "same\n",
      "| Selected 1014 train exemplars, time=  0.0s\n",
      "| Selected 1000 train exemplars, time=  0.0s\n",
      "max old 15.471804\n",
      "max new 12.292109\n",
      "max old old wrng 10.727894\n",
      "max new old wrng 13.149587\n",
      "max old new samples classified as new 10.315152\n",
      "max new new samples classified as new 16.466074\n",
      "acc old 0.6994871794871795\n",
      "acc new 1.0\n"
     ]
    },
    {
     "name": "stderr",
     "output_type": "stream",
     "text": [
      "/home/giampaolo/.local/lib/python3.10/site-packages/sklearn/metrics/_classification.py:1344: UndefinedMetricWarning: Precision and F-score are ill-defined and being set to 0.0 in labels with no predicted samples. Use `zero_division` parameter to control this behavior.\n",
      "  _warn_prf(average, modifier, msg_start, len(result))\n",
      "/home/giampaolo/.local/lib/python3.10/site-packages/sklearn/metrics/_classification.py:1344: UndefinedMetricWarning: Precision and F-score are ill-defined and being set to 0.0 in labels with no predicted samples. Use `zero_division` parameter to control this behavior.\n",
      "  _warn_prf(average, modifier, msg_start, len(result))\n",
      "/home/giampaolo/.local/lib/python3.10/site-packages/sklearn/metrics/_classification.py:1344: UndefinedMetricWarning: Precision and F-score are ill-defined and being set to 0.0 in labels with no predicted samples. Use `zero_division` parameter to control this behavior.\n",
      "  _warn_prf(average, modifier, msg_start, len(result))\n",
      "/home/giampaolo/.local/lib/python3.10/site-packages/sklearn/metrics/_classification.py:1344: UndefinedMetricWarning: Precision and F-score are ill-defined and being set to 0.0 in labels with no predicted samples. Use `zero_division` parameter to control this behavior.\n",
      "  _warn_prf(average, modifier, msg_start, len(result))\n",
      "/home/giampaolo/.local/lib/python3.10/site-packages/sklearn/metrics/_classification.py:1344: UndefinedMetricWarning: Precision and F-score are ill-defined and being set to 0.0 in labels with no predicted samples. Use `zero_division` parameter to control this behavior.\n",
      "  _warn_prf(average, modifier, msg_start, len(result))\n",
      "/home/giampaolo/.local/lib/python3.10/site-packages/sklearn/metrics/_classification.py:1344: UndefinedMetricWarning: Precision and F-score are ill-defined and being set to 0.0 in labels with no predicted samples. Use `zero_division` parameter to control this behavior.\n",
      "  _warn_prf(average, modifier, msg_start, len(result))\n"
     ]
    },
    {
     "name": "stdout",
     "output_type": "stream",
     "text": [
      "WARNING: using pre-processed dataframe.\n",
      "Class order:  [12, 26, 24, 11, 16, 39, 14, 1, 0, 8, 22, 38, 9, 2, 21, 28, 30, 23, 27, 4, 20, 32, 19, 10, 33, 37, 6, 5, 31, 35, 34, 17, 3, 36, 7, 29, 25, 15, 13, 18]\n",
      "same\n",
      "same\n",
      "| Selected 1014 train exemplars, time=  0.0s\n",
      "| Selected 1000 train exemplars, time=  0.2s\n",
      "max old 15.9597845\n",
      "max new 8.299238\n",
      "max old old wrng 13.672977\n",
      "max new old wrng 16.088879\n",
      "max old new samples classified as new 11.827416\n",
      "max new new samples classified as new 17.442595\n",
      "acc old 0.837948717948718\n",
      "acc new 1.0\n"
     ]
    },
    {
     "name": "stderr",
     "output_type": "stream",
     "text": [
      "/home/giampaolo/.local/lib/python3.10/site-packages/sklearn/metrics/_classification.py:1344: UndefinedMetricWarning: Precision and F-score are ill-defined and being set to 0.0 in labels with no predicted samples. Use `zero_division` parameter to control this behavior.\n",
      "  _warn_prf(average, modifier, msg_start, len(result))\n",
      "/home/giampaolo/.local/lib/python3.10/site-packages/sklearn/metrics/_classification.py:1344: UndefinedMetricWarning: Precision and F-score are ill-defined and being set to 0.0 in labels with no predicted samples. Use `zero_division` parameter to control this behavior.\n",
      "  _warn_prf(average, modifier, msg_start, len(result))\n",
      "/home/giampaolo/.local/lib/python3.10/site-packages/sklearn/metrics/_classification.py:1344: UndefinedMetricWarning: Precision and F-score are ill-defined and being set to 0.0 in labels with no predicted samples. Use `zero_division` parameter to control this behavior.\n",
      "  _warn_prf(average, modifier, msg_start, len(result))\n",
      "/home/giampaolo/.local/lib/python3.10/site-packages/sklearn/metrics/_classification.py:1344: UndefinedMetricWarning: Precision and F-score are ill-defined and being set to 0.0 in labels with no predicted samples. Use `zero_division` parameter to control this behavior.\n",
      "  _warn_prf(average, modifier, msg_start, len(result))\n"
     ]
    },
    {
     "name": "stdout",
     "output_type": "stream",
     "text": [
      "WARNING: using pre-processed dataframe.\n",
      "Class order:  [5, 18, 7, 28, 14, 22, 26, 4, 2, 3, 16, 0, 38, 39, 31, 10, 32, 35, 29, 13, 1, 34, 33, 30, 11, 37, 36, 6, 9, 20, 15, 23, 17, 25, 24, 27, 8, 21, 12, 19]\n",
      "same\n",
      "same\n",
      "| Selected 1014 train exemplars, time=  0.0s\n",
      "| Selected 1000 train exemplars, time=  0.0s\n",
      "max old 15.139644\n",
      "max new 12.678236\n",
      "max old old wrng 11.56846\n",
      "max new old wrng 13.793823\n",
      "max old new samples classified as new 10.537674\n",
      "max new new samples classified as new 15.382388\n",
      "acc old 0.6102564102564103\n",
      "acc new 0.96\n"
     ]
    },
    {
     "name": "stderr",
     "output_type": "stream",
     "text": [
      "/home/giampaolo/.local/lib/python3.10/site-packages/sklearn/metrics/_classification.py:1344: UndefinedMetricWarning: Precision and F-score are ill-defined and being set to 0.0 in labels with no predicted samples. Use `zero_division` parameter to control this behavior.\n",
      "  _warn_prf(average, modifier, msg_start, len(result))\n",
      "/home/giampaolo/.local/lib/python3.10/site-packages/sklearn/metrics/_classification.py:1344: UndefinedMetricWarning: Precision and F-score are ill-defined and being set to 0.0 in labels with no predicted samples. Use `zero_division` parameter to control this behavior.\n",
      "  _warn_prf(average, modifier, msg_start, len(result))\n",
      "/home/giampaolo/.local/lib/python3.10/site-packages/sklearn/metrics/_classification.py:1344: UndefinedMetricWarning: Precision and F-score are ill-defined and being set to 0.0 in labels with no predicted samples. Use `zero_division` parameter to control this behavior.\n",
      "  _warn_prf(average, modifier, msg_start, len(result))\n",
      "/home/giampaolo/.local/lib/python3.10/site-packages/sklearn/metrics/_classification.py:1344: UndefinedMetricWarning: Precision and F-score are ill-defined and being set to 0.0 in labels with no predicted samples. Use `zero_division` parameter to control this behavior.\n",
      "  _warn_prf(average, modifier, msg_start, len(result))\n",
      "/home/giampaolo/.local/lib/python3.10/site-packages/sklearn/metrics/_classification.py:1344: UndefinedMetricWarning: Precision and F-score are ill-defined and being set to 0.0 in labels with no predicted samples. Use `zero_division` parameter to control this behavior.\n",
      "  _warn_prf(average, modifier, msg_start, len(result))\n",
      "/home/giampaolo/.local/lib/python3.10/site-packages/sklearn/metrics/_classification.py:1344: UndefinedMetricWarning: Precision and F-score are ill-defined and being set to 0.0 in labels with no predicted samples. Use `zero_division` parameter to control this behavior.\n",
      "  _warn_prf(average, modifier, msg_start, len(result))\n",
      "/home/giampaolo/.local/lib/python3.10/site-packages/sklearn/metrics/_classification.py:1344: UndefinedMetricWarning: Precision and F-score are ill-defined and being set to 0.0 in labels with no predicted samples. Use `zero_division` parameter to control this behavior.\n",
      "  _warn_prf(average, modifier, msg_start, len(result))\n",
      "/home/giampaolo/.local/lib/python3.10/site-packages/sklearn/metrics/_classification.py:1344: UndefinedMetricWarning: Precision and F-score are ill-defined and being set to 0.0 in labels with no predicted samples. Use `zero_division` parameter to control this behavior.\n",
      "  _warn_prf(average, modifier, msg_start, len(result))\n",
      "/home/giampaolo/.local/lib/python3.10/site-packages/sklearn/metrics/_classification.py:1344: UndefinedMetricWarning: Precision and F-score are ill-defined and being set to 0.0 in labels with no predicted samples. Use `zero_division` parameter to control this behavior.\n",
      "  _warn_prf(average, modifier, msg_start, len(result))\n"
     ]
    },
    {
     "name": "stdout",
     "output_type": "stream",
     "text": [
      "WARNING: using pre-processed dataframe.\n",
      "Class order:  [15, 21, 38, 25, 2, 30, 7, 39, 10, 36, 24, 35, 32, 26, 8, 19, 28, 23, 33, 0, 11, 16, 13, 17, 29, 31, 22, 4, 18, 14, 37, 5, 27, 3, 12, 6, 34, 1, 9, 20]\n",
      "same\n",
      "same\n",
      "| Selected 1014 train exemplars, time=  0.0s\n",
      "| Selected 1000 train exemplars, time=  0.0s\n",
      "max old 12.985434\n",
      "max new 9.4683\n",
      "max old old wrng 8.167536\n",
      "max new old wrng 9.5998\n",
      "max old new samples classified as new 8.5242\n",
      "max new new samples classified as new 12.062115\n",
      "acc old 0.7076923076923077\n",
      "acc new 0.92\n"
     ]
    },
    {
     "name": "stderr",
     "output_type": "stream",
     "text": [
      "/home/giampaolo/.local/lib/python3.10/site-packages/sklearn/metrics/_classification.py:1344: UndefinedMetricWarning: Precision and F-score are ill-defined and being set to 0.0 in labels with no predicted samples. Use `zero_division` parameter to control this behavior.\n",
      "  _warn_prf(average, modifier, msg_start, len(result))\n",
      "/home/giampaolo/.local/lib/python3.10/site-packages/sklearn/metrics/_classification.py:1344: UndefinedMetricWarning: Precision and F-score are ill-defined and being set to 0.0 in labels with no predicted samples. Use `zero_division` parameter to control this behavior.\n",
      "  _warn_prf(average, modifier, msg_start, len(result))\n",
      "/home/giampaolo/.local/lib/python3.10/site-packages/sklearn/metrics/_classification.py:1344: UndefinedMetricWarning: Precision and F-score are ill-defined and being set to 0.0 in labels with no predicted samples. Use `zero_division` parameter to control this behavior.\n",
      "  _warn_prf(average, modifier, msg_start, len(result))\n",
      "/home/giampaolo/.local/lib/python3.10/site-packages/sklearn/metrics/_classification.py:1344: UndefinedMetricWarning: Precision and F-score are ill-defined and being set to 0.0 in labels with no predicted samples. Use `zero_division` parameter to control this behavior.\n",
      "  _warn_prf(average, modifier, msg_start, len(result))\n",
      "/home/giampaolo/.local/lib/python3.10/site-packages/sklearn/metrics/_classification.py:1344: UndefinedMetricWarning: Precision and F-score are ill-defined and being set to 0.0 in labels with no predicted samples. Use `zero_division` parameter to control this behavior.\n",
      "  _warn_prf(average, modifier, msg_start, len(result))\n",
      "/home/giampaolo/.local/lib/python3.10/site-packages/sklearn/metrics/_classification.py:1344: UndefinedMetricWarning: Precision and F-score are ill-defined and being set to 0.0 in labels with no predicted samples. Use `zero_division` parameter to control this behavior.\n",
      "  _warn_prf(average, modifier, msg_start, len(result))\n",
      "/home/giampaolo/.local/lib/python3.10/site-packages/sklearn/metrics/_classification.py:1344: UndefinedMetricWarning: Precision and F-score are ill-defined and being set to 0.0 in labels with no predicted samples. Use `zero_division` parameter to control this behavior.\n",
      "  _warn_prf(average, modifier, msg_start, len(result))\n"
     ]
    },
    {
     "name": "stdout",
     "output_type": "stream",
     "text": [
      "WARNING: using pre-processed dataframe.\n",
      "Class order:  [11, 20, 14, 2, 4, 23, 36, 35, 3, 22, 8, 6, 33, 7, 25, 16, 1, 15, 26, 31, 5, 13, 28, 38, 24, 34, 32, 17, 0, 12, 37, 39, 18, 27, 19, 9, 10, 30, 29, 21]\n",
      "same\n",
      "same\n",
      "| Selected 1014 train exemplars, time=  0.0s\n",
      "| Selected 1000 train exemplars, time=  0.0s\n",
      "max old 12.964005\n",
      "max new 10.650152\n",
      "max old old wrng 9.046028\n",
      "max new old wrng 11.022977\n",
      "max old new samples classified as new 9.259224\n",
      "max new new samples classified as new 14.787311\n",
      "acc old 0.6553846153846153\n",
      "acc new 1.0\n"
     ]
    },
    {
     "name": "stderr",
     "output_type": "stream",
     "text": [
      "/home/giampaolo/.local/lib/python3.10/site-packages/sklearn/metrics/_classification.py:1344: UndefinedMetricWarning: Precision and F-score are ill-defined and being set to 0.0 in labels with no predicted samples. Use `zero_division` parameter to control this behavior.\n",
      "  _warn_prf(average, modifier, msg_start, len(result))\n",
      "/home/giampaolo/.local/lib/python3.10/site-packages/sklearn/metrics/_classification.py:1344: UndefinedMetricWarning: Precision and F-score are ill-defined and being set to 0.0 in labels with no predicted samples. Use `zero_division` parameter to control this behavior.\n",
      "  _warn_prf(average, modifier, msg_start, len(result))\n",
      "/home/giampaolo/.local/lib/python3.10/site-packages/sklearn/metrics/_classification.py:1344: UndefinedMetricWarning: Precision and F-score are ill-defined and being set to 0.0 in labels with no predicted samples. Use `zero_division` parameter to control this behavior.\n",
      "  _warn_prf(average, modifier, msg_start, len(result))\n",
      "/home/giampaolo/.local/lib/python3.10/site-packages/sklearn/metrics/_classification.py:1344: UndefinedMetricWarning: Precision and F-score are ill-defined and being set to 0.0 in labels with no predicted samples. Use `zero_division` parameter to control this behavior.\n",
      "  _warn_prf(average, modifier, msg_start, len(result))\n",
      "/home/giampaolo/.local/lib/python3.10/site-packages/sklearn/metrics/_classification.py:1344: UndefinedMetricWarning: Precision and F-score are ill-defined and being set to 0.0 in labels with no predicted samples. Use `zero_division` parameter to control this behavior.\n",
      "  _warn_prf(average, modifier, msg_start, len(result))\n",
      "/home/giampaolo/.local/lib/python3.10/site-packages/sklearn/metrics/_classification.py:1344: UndefinedMetricWarning: Precision and F-score are ill-defined and being set to 0.0 in labels with no predicted samples. Use `zero_division` parameter to control this behavior.\n",
      "  _warn_prf(average, modifier, msg_start, len(result))\n",
      "/home/giampaolo/.local/lib/python3.10/site-packages/sklearn/metrics/_classification.py:1344: UndefinedMetricWarning: Precision and F-score are ill-defined and being set to 0.0 in labels with no predicted samples. Use `zero_division` parameter to control this behavior.\n",
      "  _warn_prf(average, modifier, msg_start, len(result))\n",
      "/home/giampaolo/.local/lib/python3.10/site-packages/sklearn/metrics/_classification.py:1344: UndefinedMetricWarning: Precision and F-score are ill-defined and being set to 0.0 in labels with no predicted samples. Use `zero_division` parameter to control this behavior.\n",
      "  _warn_prf(average, modifier, msg_start, len(result))\n",
      "/home/giampaolo/.local/lib/python3.10/site-packages/sklearn/metrics/_classification.py:1344: UndefinedMetricWarning: Precision and F-score are ill-defined and being set to 0.0 in labels with no predicted samples. Use `zero_division` parameter to control this behavior.\n",
      "  _warn_prf(average, modifier, msg_start, len(result))\n"
     ]
    },
    {
     "name": "stdout",
     "output_type": "stream",
     "text": [
      "WARNING: using pre-processed dataframe.\n",
      "Class order:  [0, 3, 9, 17, 23, 25, 2, 16, 13, 35, 32, 37, 21, 24, 10, 33, 11, 36, 26, 34, 28, 14, 19, 27, 4, 18, 1, 7, 39, 12, 30, 8, 31, 6, 29, 5, 38, 20, 15, 22]\n",
      "same\n",
      "same\n",
      "| Selected 1014 train exemplars, time=  0.0s\n",
      "| Selected 1000 train exemplars, time=  0.0s\n",
      "max old 15.843483\n",
      "max new 10.353412\n",
      "max old old wrng 12.035993\n",
      "max new old wrng 14.672472\n",
      "max old new samples classified as new 12.586557\n",
      "max new new samples classified as new 19.303587\n",
      "acc old 0.8051282051282052\n",
      "acc new 0.96\n"
     ]
    },
    {
     "name": "stderr",
     "output_type": "stream",
     "text": [
      "/home/giampaolo/.local/lib/python3.10/site-packages/sklearn/metrics/_classification.py:1344: UndefinedMetricWarning: Precision and F-score are ill-defined and being set to 0.0 in labels with no predicted samples. Use `zero_division` parameter to control this behavior.\n",
      "  _warn_prf(average, modifier, msg_start, len(result))\n",
      "/home/giampaolo/.local/lib/python3.10/site-packages/sklearn/metrics/_classification.py:1344: UndefinedMetricWarning: Precision and F-score are ill-defined and being set to 0.0 in labels with no predicted samples. Use `zero_division` parameter to control this behavior.\n",
      "  _warn_prf(average, modifier, msg_start, len(result))\n",
      "/home/giampaolo/.local/lib/python3.10/site-packages/sklearn/metrics/_classification.py:1344: UndefinedMetricWarning: Precision and F-score are ill-defined and being set to 0.0 in labels with no predicted samples. Use `zero_division` parameter to control this behavior.\n",
      "  _warn_prf(average, modifier, msg_start, len(result))\n",
      "/home/giampaolo/.local/lib/python3.10/site-packages/sklearn/metrics/_classification.py:1344: UndefinedMetricWarning: Precision and F-score are ill-defined and being set to 0.0 in labels with no predicted samples. Use `zero_division` parameter to control this behavior.\n",
      "  _warn_prf(average, modifier, msg_start, len(result))\n",
      "/home/giampaolo/.local/lib/python3.10/site-packages/sklearn/metrics/_classification.py:1344: UndefinedMetricWarning: Precision and F-score are ill-defined and being set to 0.0 in labels with no predicted samples. Use `zero_division` parameter to control this behavior.\n",
      "  _warn_prf(average, modifier, msg_start, len(result))\n",
      "/home/giampaolo/.local/lib/python3.10/site-packages/sklearn/metrics/_classification.py:1344: UndefinedMetricWarning: Precision and F-score are ill-defined and being set to 0.0 in labels with no predicted samples. Use `zero_division` parameter to control this behavior.\n",
      "  _warn_prf(average, modifier, msg_start, len(result))\n",
      "/home/giampaolo/.local/lib/python3.10/site-packages/sklearn/metrics/_classification.py:1344: UndefinedMetricWarning: Precision and F-score are ill-defined and being set to 0.0 in labels with no predicted samples. Use `zero_division` parameter to control this behavior.\n",
      "  _warn_prf(average, modifier, msg_start, len(result))\n",
      "/home/giampaolo/.local/lib/python3.10/site-packages/sklearn/metrics/_classification.py:1344: UndefinedMetricWarning: Precision and F-score are ill-defined and being set to 0.0 in labels with no predicted samples. Use `zero_division` parameter to control this behavior.\n",
      "  _warn_prf(average, modifier, msg_start, len(result))\n",
      "/home/giampaolo/.local/lib/python3.10/site-packages/sklearn/metrics/_classification.py:1344: UndefinedMetricWarning: Precision and F-score are ill-defined and being set to 0.0 in labels with no predicted samples. Use `zero_division` parameter to control this behavior.\n",
      "  _warn_prf(average, modifier, msg_start, len(result))\n"
     ]
    },
    {
     "name": "stdout",
     "output_type": "stream",
     "text": [
      "WARNING: using pre-processed dataframe.\n",
      "Class order:  [36, 14, 18, 17, 21, 6, 27, 4, 39, 31, 26, 13, 38, 10, 11, 33, 20, 30, 3, 34, 12, 22, 15, 5, 35, 25, 16, 9, 2, 19, 28, 0, 7, 32, 1, 37, 24, 29, 8, 23]\n",
      "same\n",
      "same\n",
      "| Selected 1014 train exemplars, time=  0.0s\n",
      "| Selected 1000 train exemplars, time=  0.0s\n",
      "max old 13.070764\n",
      "max new 8.814124\n",
      "max old old wrng 10.72166\n",
      "max new old wrng 12.590193\n",
      "max old new samples classified as new 11.273982\n",
      "max new new samples classified as new 17.04273\n",
      "acc old 0.762051282051282\n",
      "acc new 0.96\n"
     ]
    },
    {
     "name": "stderr",
     "output_type": "stream",
     "text": [
      "/home/giampaolo/.local/lib/python3.10/site-packages/sklearn/metrics/_classification.py:1344: UndefinedMetricWarning: Precision and F-score are ill-defined and being set to 0.0 in labels with no predicted samples. Use `zero_division` parameter to control this behavior.\n",
      "  _warn_prf(average, modifier, msg_start, len(result))\n",
      "/home/giampaolo/.local/lib/python3.10/site-packages/sklearn/metrics/_classification.py:1344: UndefinedMetricWarning: Precision and F-score are ill-defined and being set to 0.0 in labels with no predicted samples. Use `zero_division` parameter to control this behavior.\n",
      "  _warn_prf(average, modifier, msg_start, len(result))\n",
      "/home/giampaolo/.local/lib/python3.10/site-packages/sklearn/metrics/_classification.py:1344: UndefinedMetricWarning: Precision and F-score are ill-defined and being set to 0.0 in labels with no predicted samples. Use `zero_division` parameter to control this behavior.\n",
      "  _warn_prf(average, modifier, msg_start, len(result))\n",
      "/home/giampaolo/.local/lib/python3.10/site-packages/sklearn/metrics/_classification.py:1344: UndefinedMetricWarning: Precision and F-score are ill-defined and being set to 0.0 in labels with no predicted samples. Use `zero_division` parameter to control this behavior.\n",
      "  _warn_prf(average, modifier, msg_start, len(result))\n",
      "/home/giampaolo/.local/lib/python3.10/site-packages/sklearn/metrics/_classification.py:1344: UndefinedMetricWarning: Precision and F-score are ill-defined and being set to 0.0 in labels with no predicted samples. Use `zero_division` parameter to control this behavior.\n",
      "  _warn_prf(average, modifier, msg_start, len(result))\n",
      "/home/giampaolo/.local/lib/python3.10/site-packages/sklearn/metrics/_classification.py:1344: UndefinedMetricWarning: Precision and F-score are ill-defined and being set to 0.0 in labels with no predicted samples. Use `zero_division` parameter to control this behavior.\n",
      "  _warn_prf(average, modifier, msg_start, len(result))\n",
      "/home/giampaolo/.local/lib/python3.10/site-packages/sklearn/metrics/_classification.py:1344: UndefinedMetricWarning: Precision and F-score are ill-defined and being set to 0.0 in labels with no predicted samples. Use `zero_division` parameter to control this behavior.\n",
      "  _warn_prf(average, modifier, msg_start, len(result))\n",
      "/home/giampaolo/.local/lib/python3.10/site-packages/sklearn/metrics/_classification.py:1344: UndefinedMetricWarning: Precision and F-score are ill-defined and being set to 0.0 in labels with no predicted samples. Use `zero_division` parameter to control this behavior.\n",
      "  _warn_prf(average, modifier, msg_start, len(result))\n"
     ]
    },
    {
     "name": "stdout",
     "output_type": "stream",
     "text": [
      "WARNING: using pre-processed dataframe.\n",
      "Class order:  [26, 34, 5, 25, 15, 18, 17, 27, 28, 21, 33, 23, 39, 38, 37, 2, 9, 13, 7, 29, 11, 31, 8, 32, 35, 36, 3, 12, 6, 30, 1, 10, 20, 0, 16, 14, 22, 4, 19, 24]\n",
      "same\n",
      "same\n",
      "| Selected 1014 train exemplars, time=  0.0s\n",
      "| Selected 1000 train exemplars, time=  0.0s\n",
      "max old 13.418787\n",
      "max new 7.625001\n",
      "max old old wrng 6.3437867\n",
      "max new old wrng 8.245161\n",
      "max old new samples classified as new 9.566056\n",
      "max new new samples classified as new 16.878372\n",
      "acc old 0.7835897435897435\n",
      "acc new 1.0\n"
     ]
    },
    {
     "name": "stderr",
     "output_type": "stream",
     "text": [
      "/home/giampaolo/.local/lib/python3.10/site-packages/sklearn/metrics/_classification.py:1344: UndefinedMetricWarning: Precision and F-score are ill-defined and being set to 0.0 in labels with no predicted samples. Use `zero_division` parameter to control this behavior.\n",
      "  _warn_prf(average, modifier, msg_start, len(result))\n",
      "/home/giampaolo/.local/lib/python3.10/site-packages/sklearn/metrics/_classification.py:1344: UndefinedMetricWarning: Precision and F-score are ill-defined and being set to 0.0 in labels with no predicted samples. Use `zero_division` parameter to control this behavior.\n",
      "  _warn_prf(average, modifier, msg_start, len(result))\n",
      "/home/giampaolo/.local/lib/python3.10/site-packages/sklearn/metrics/_classification.py:1344: UndefinedMetricWarning: Precision and F-score are ill-defined and being set to 0.0 in labels with no predicted samples. Use `zero_division` parameter to control this behavior.\n",
      "  _warn_prf(average, modifier, msg_start, len(result))\n",
      "/home/giampaolo/.local/lib/python3.10/site-packages/sklearn/metrics/_classification.py:1344: UndefinedMetricWarning: Precision and F-score are ill-defined and being set to 0.0 in labels with no predicted samples. Use `zero_division` parameter to control this behavior.\n",
      "  _warn_prf(average, modifier, msg_start, len(result))\n",
      "/home/giampaolo/.local/lib/python3.10/site-packages/sklearn/metrics/_classification.py:1344: UndefinedMetricWarning: Precision and F-score are ill-defined and being set to 0.0 in labels with no predicted samples. Use `zero_division` parameter to control this behavior.\n",
      "  _warn_prf(average, modifier, msg_start, len(result))\n"
     ]
    },
    {
     "name": "stdout",
     "output_type": "stream",
     "text": [
      "WARNING: using pre-processed dataframe.\n",
      "Class order:  [13, 19, 11, 37, 8, 3, 35, 17, 30, 36, 23, 21, 4, 2, 22, 27, 38, 16, 26, 14, 39, 24, 6, 9, 7, 10, 18, 20, 28, 5, 31, 32, 0, 12, 29, 33, 34, 1, 15, 25]\n",
      "same\n",
      "same\n",
      "| Selected 1014 train exemplars, time=  0.0s\n",
      "| Selected 1000 train exemplars, time=  0.0s\n",
      "max old 13.781557\n",
      "max new 8.722335\n",
      "max old old wrng 8.757458\n",
      "max new old wrng 10.571988\n",
      "max old new samples classified as new 9.782232\n",
      "max new new samples classified as new 14.218433\n",
      "acc old 0.7815384615384615\n",
      "acc new 0.96\n"
     ]
    },
    {
     "name": "stderr",
     "output_type": "stream",
     "text": [
      "/home/giampaolo/.local/lib/python3.10/site-packages/sklearn/metrics/_classification.py:1344: UndefinedMetricWarning: Precision and F-score are ill-defined and being set to 0.0 in labels with no predicted samples. Use `zero_division` parameter to control this behavior.\n",
      "  _warn_prf(average, modifier, msg_start, len(result))\n",
      "/home/giampaolo/.local/lib/python3.10/site-packages/sklearn/metrics/_classification.py:1344: UndefinedMetricWarning: Precision and F-score are ill-defined and being set to 0.0 in labels with no predicted samples. Use `zero_division` parameter to control this behavior.\n",
      "  _warn_prf(average, modifier, msg_start, len(result))\n",
      "/home/giampaolo/.local/lib/python3.10/site-packages/sklearn/metrics/_classification.py:1344: UndefinedMetricWarning: Precision and F-score are ill-defined and being set to 0.0 in labels with no predicted samples. Use `zero_division` parameter to control this behavior.\n",
      "  _warn_prf(average, modifier, msg_start, len(result))\n",
      "/home/giampaolo/.local/lib/python3.10/site-packages/sklearn/metrics/_classification.py:1344: UndefinedMetricWarning: Precision and F-score are ill-defined and being set to 0.0 in labels with no predicted samples. Use `zero_division` parameter to control this behavior.\n",
      "  _warn_prf(average, modifier, msg_start, len(result))\n"
     ]
    },
    {
     "name": "stdout",
     "output_type": "stream",
     "text": [
      "WARNING: using pre-processed dataframe.\n",
      "Class order:  [11, 35, 24, 34, 36, 3, 21, 18, 29, 1, 4, 6, 33, 22, 37, 15, 31, 17, 0, 12, 27, 30, 19, 39, 13, 7, 5, 38, 14, 16, 9, 25, 10, 23, 32, 2, 8, 20, 28, 26]\n",
      "same\n",
      "same\n",
      "| Selected 1014 train exemplars, time=  0.0s\n",
      "| Selected 1000 train exemplars, time=  0.0s\n",
      "max old 14.947209\n",
      "max new 9.9649315\n",
      "max old old wrng 10.102474\n",
      "max new old wrng 11.385242\n",
      "max old new samples classified as new 9.920834\n",
      "max new new samples classified as new 14.5219345\n",
      "acc old 0.7835897435897435\n",
      "acc new 0.92\n"
     ]
    },
    {
     "name": "stderr",
     "output_type": "stream",
     "text": [
      "/home/giampaolo/.local/lib/python3.10/site-packages/sklearn/metrics/_classification.py:1344: UndefinedMetricWarning: Precision and F-score are ill-defined and being set to 0.0 in labels with no predicted samples. Use `zero_division` parameter to control this behavior.\n",
      "  _warn_prf(average, modifier, msg_start, len(result))\n",
      "/home/giampaolo/.local/lib/python3.10/site-packages/sklearn/metrics/_classification.py:1344: UndefinedMetricWarning: Precision and F-score are ill-defined and being set to 0.0 in labels with no predicted samples. Use `zero_division` parameter to control this behavior.\n",
      "  _warn_prf(average, modifier, msg_start, len(result))\n",
      "/home/giampaolo/.local/lib/python3.10/site-packages/sklearn/metrics/_classification.py:1344: UndefinedMetricWarning: Precision and F-score are ill-defined and being set to 0.0 in labels with no predicted samples. Use `zero_division` parameter to control this behavior.\n",
      "  _warn_prf(average, modifier, msg_start, len(result))\n",
      "/home/giampaolo/.local/lib/python3.10/site-packages/sklearn/metrics/_classification.py:1344: UndefinedMetricWarning: Precision and F-score are ill-defined and being set to 0.0 in labels with no predicted samples. Use `zero_division` parameter to control this behavior.\n",
      "  _warn_prf(average, modifier, msg_start, len(result))\n",
      "/home/giampaolo/.local/lib/python3.10/site-packages/sklearn/metrics/_classification.py:1344: UndefinedMetricWarning: Precision and F-score are ill-defined and being set to 0.0 in labels with no predicted samples. Use `zero_division` parameter to control this behavior.\n",
      "  _warn_prf(average, modifier, msg_start, len(result))\n"
     ]
    },
    {
     "name": "stdout",
     "output_type": "stream",
     "text": [
      "WARNING: using pre-processed dataframe.\n",
      "Class order:  [28, 29, 26, 19, 1, 5, 16, 31, 37, 15, 3, 17, 23, 21, 11, 12, 8, 4, 2, 22, 33, 9, 34, 0, 14, 10, 36, 24, 30, 20, 35, 38, 25, 39, 32, 7, 6, 18, 13, 27]\n",
      "same\n",
      "same\n",
      "| Selected 1014 train exemplars, time=  0.0s\n",
      "| Selected 1000 train exemplars, time=  0.0s\n",
      "max old 15.076329\n",
      "max new 12.318896\n",
      "max old old wrng 10.794558\n",
      "max new old wrng 13.099194\n",
      "max old new samples classified as new 12.310511\n",
      "max new new samples classified as new 16.487469\n",
      "acc old 0.6605128205128206\n",
      "acc new 1.0\n"
     ]
    },
    {
     "name": "stderr",
     "output_type": "stream",
     "text": [
      "/home/giampaolo/.local/lib/python3.10/site-packages/sklearn/metrics/_classification.py:1344: UndefinedMetricWarning: Precision and F-score are ill-defined and being set to 0.0 in labels with no predicted samples. Use `zero_division` parameter to control this behavior.\n",
      "  _warn_prf(average, modifier, msg_start, len(result))\n",
      "/home/giampaolo/.local/lib/python3.10/site-packages/sklearn/metrics/_classification.py:1344: UndefinedMetricWarning: Precision and F-score are ill-defined and being set to 0.0 in labels with no predicted samples. Use `zero_division` parameter to control this behavior.\n",
      "  _warn_prf(average, modifier, msg_start, len(result))\n",
      "/home/giampaolo/.local/lib/python3.10/site-packages/sklearn/metrics/_classification.py:1344: UndefinedMetricWarning: Precision and F-score are ill-defined and being set to 0.0 in labels with no predicted samples. Use `zero_division` parameter to control this behavior.\n",
      "  _warn_prf(average, modifier, msg_start, len(result))\n",
      "/home/giampaolo/.local/lib/python3.10/site-packages/sklearn/metrics/_classification.py:1344: UndefinedMetricWarning: Precision and F-score are ill-defined and being set to 0.0 in labels with no predicted samples. Use `zero_division` parameter to control this behavior.\n",
      "  _warn_prf(average, modifier, msg_start, len(result))\n",
      "/home/giampaolo/.local/lib/python3.10/site-packages/sklearn/metrics/_classification.py:1344: UndefinedMetricWarning: Precision and F-score are ill-defined and being set to 0.0 in labels with no predicted samples. Use `zero_division` parameter to control this behavior.\n",
      "  _warn_prf(average, modifier, msg_start, len(result))\n",
      "/home/giampaolo/.local/lib/python3.10/site-packages/sklearn/metrics/_classification.py:1344: UndefinedMetricWarning: Precision and F-score are ill-defined and being set to 0.0 in labels with no predicted samples. Use `zero_division` parameter to control this behavior.\n",
      "  _warn_prf(average, modifier, msg_start, len(result))\n",
      "/home/giampaolo/.local/lib/python3.10/site-packages/sklearn/metrics/_classification.py:1344: UndefinedMetricWarning: Precision and F-score are ill-defined and being set to 0.0 in labels with no predicted samples. Use `zero_division` parameter to control this behavior.\n",
      "  _warn_prf(average, modifier, msg_start, len(result))\n",
      "/home/giampaolo/.local/lib/python3.10/site-packages/sklearn/metrics/_classification.py:1344: UndefinedMetricWarning: Precision and F-score are ill-defined and being set to 0.0 in labels with no predicted samples. Use `zero_division` parameter to control this behavior.\n",
      "  _warn_prf(average, modifier, msg_start, len(result))\n",
      "/home/giampaolo/.local/lib/python3.10/site-packages/sklearn/metrics/_classification.py:1344: UndefinedMetricWarning: Precision and F-score are ill-defined and being set to 0.0 in labels with no predicted samples. Use `zero_division` parameter to control this behavior.\n",
      "  _warn_prf(average, modifier, msg_start, len(result))\n"
     ]
    },
    {
     "name": "stdout",
     "output_type": "stream",
     "text": [
      "WARNING: using pre-processed dataframe.\n",
      "Class order:  [36, 19, 24, 31, 5, 34, 35, 27, 17, 38, 32, 10, 11, 1, 16, 26, 6, 25, 39, 30, 0, 18, 37, 8, 7, 29, 3, 12, 9, 21, 13, 22, 2, 33, 4, 23, 14, 15, 20, 28]\n",
      "same\n",
      "same\n",
      "| Selected 1014 train exemplars, time=  0.0s\n",
      "| Selected 1000 train exemplars, time=  0.0s\n",
      "max old 13.7315235\n",
      "max new 7.302958\n",
      "max old old wrng 9.119076\n",
      "max new old wrng 10.3192425\n",
      "max old new samples classified as new 8.89797\n",
      "max new new samples classified as new 15.851394\n",
      "acc old 0.8502564102564103\n",
      "acc new 0.92\n"
     ]
    },
    {
     "name": "stderr",
     "output_type": "stream",
     "text": [
      "/home/giampaolo/.local/lib/python3.10/site-packages/sklearn/metrics/_classification.py:1344: UndefinedMetricWarning: Precision and F-score are ill-defined and being set to 0.0 in labels with no predicted samples. Use `zero_division` parameter to control this behavior.\n",
      "  _warn_prf(average, modifier, msg_start, len(result))\n",
      "/home/giampaolo/.local/lib/python3.10/site-packages/sklearn/metrics/_classification.py:1344: UndefinedMetricWarning: Precision and F-score are ill-defined and being set to 0.0 in labels with no predicted samples. Use `zero_division` parameter to control this behavior.\n",
      "  _warn_prf(average, modifier, msg_start, len(result))\n",
      "/home/giampaolo/.local/lib/python3.10/site-packages/sklearn/metrics/_classification.py:1344: UndefinedMetricWarning: Precision and F-score are ill-defined and being set to 0.0 in labels with no predicted samples. Use `zero_division` parameter to control this behavior.\n",
      "  _warn_prf(average, modifier, msg_start, len(result))\n",
      "/home/giampaolo/.local/lib/python3.10/site-packages/sklearn/metrics/_classification.py:1344: UndefinedMetricWarning: Precision and F-score are ill-defined and being set to 0.0 in labels with no predicted samples. Use `zero_division` parameter to control this behavior.\n",
      "  _warn_prf(average, modifier, msg_start, len(result))\n"
     ]
    },
    {
     "name": "stdout",
     "output_type": "stream",
     "text": [
      "WARNING: using pre-processed dataframe.\n",
      "Class order:  [20, 39, 1, 32, 21, 27, 3, 2, 31, 8, 6, 16, 18, 12, 35, 14, 4, 11, 28, 34, 25, 10, 22, 33, 30, 5, 15, 26, 37, 36, 9, 38, 24, 13, 0, 7, 23, 19, 17, 29]\n",
      "same\n",
      "same\n",
      "| Selected 1014 train exemplars, time=  0.0s\n",
      "| Selected 1000 train exemplars, time=  0.0s\n",
      "max old 13.728873\n",
      "max new 6.7590218\n",
      "max old old wrng 5.8526096\n",
      "max new old wrng 7.857539\n",
      "max old new samples classified as new 10.002607\n",
      "max new new samples classified as new 12.244816\n",
      "acc old 0.7958974358974359\n",
      "acc new 0.96\n"
     ]
    },
    {
     "name": "stderr",
     "output_type": "stream",
     "text": [
      "/home/giampaolo/.local/lib/python3.10/site-packages/sklearn/metrics/_classification.py:1344: UndefinedMetricWarning: Precision and F-score are ill-defined and being set to 0.0 in labels with no predicted samples. Use `zero_division` parameter to control this behavior.\n",
      "  _warn_prf(average, modifier, msg_start, len(result))\n",
      "/home/giampaolo/.local/lib/python3.10/site-packages/sklearn/metrics/_classification.py:1344: UndefinedMetricWarning: Precision and F-score are ill-defined and being set to 0.0 in labels with no predicted samples. Use `zero_division` parameter to control this behavior.\n",
      "  _warn_prf(average, modifier, msg_start, len(result))\n",
      "/home/giampaolo/.local/lib/python3.10/site-packages/sklearn/metrics/_classification.py:1344: UndefinedMetricWarning: Precision and F-score are ill-defined and being set to 0.0 in labels with no predicted samples. Use `zero_division` parameter to control this behavior.\n",
      "  _warn_prf(average, modifier, msg_start, len(result))\n",
      "/home/giampaolo/.local/lib/python3.10/site-packages/sklearn/metrics/_classification.py:1344: UndefinedMetricWarning: Precision and F-score are ill-defined and being set to 0.0 in labels with no predicted samples. Use `zero_division` parameter to control this behavior.\n",
      "  _warn_prf(average, modifier, msg_start, len(result))\n",
      "/home/giampaolo/.local/lib/python3.10/site-packages/sklearn/metrics/_classification.py:1344: UndefinedMetricWarning: Precision and F-score are ill-defined and being set to 0.0 in labels with no predicted samples. Use `zero_division` parameter to control this behavior.\n",
      "  _warn_prf(average, modifier, msg_start, len(result))\n"
     ]
    },
    {
     "name": "stdout",
     "output_type": "stream",
     "text": [
      "WARNING: using pre-processed dataframe.\n",
      "Class order:  [18, 31, 26, 15, 32, 27, 6, 34, 13, 12, 19, 10, 24, 35, 22, 1, 39, 17, 16, 38, 28, 14, 5, 7, 8, 23, 2, 21, 20, 9, 11, 29, 4, 36, 25, 33, 37, 0, 3, 30]\n",
      "same\n",
      "same\n",
      "| Selected 1014 train exemplars, time=  0.0s\n",
      "| Selected 1000 train exemplars, time=  0.0s\n",
      "max old 16.607473\n",
      "max new 12.442127\n",
      "max old old wrng 10.862414\n",
      "max new old wrng 12.231139\n",
      "max old new samples classified as new 10.79101\n",
      "max new new samples classified as new 15.628396\n",
      "acc old 0.7302564102564103\n",
      "acc new 1.0\n"
     ]
    },
    {
     "name": "stderr",
     "output_type": "stream",
     "text": [
      "/home/giampaolo/.local/lib/python3.10/site-packages/sklearn/metrics/_classification.py:1344: UndefinedMetricWarning: Precision and F-score are ill-defined and being set to 0.0 in labels with no predicted samples. Use `zero_division` parameter to control this behavior.\n",
      "  _warn_prf(average, modifier, msg_start, len(result))\n",
      "/home/giampaolo/.local/lib/python3.10/site-packages/sklearn/metrics/_classification.py:1344: UndefinedMetricWarning: Precision and F-score are ill-defined and being set to 0.0 in labels with no predicted samples. Use `zero_division` parameter to control this behavior.\n",
      "  _warn_prf(average, modifier, msg_start, len(result))\n",
      "/home/giampaolo/.local/lib/python3.10/site-packages/sklearn/metrics/_classification.py:1344: UndefinedMetricWarning: Precision and F-score are ill-defined and being set to 0.0 in labels with no predicted samples. Use `zero_division` parameter to control this behavior.\n",
      "  _warn_prf(average, modifier, msg_start, len(result))\n",
      "/home/giampaolo/.local/lib/python3.10/site-packages/sklearn/metrics/_classification.py:1344: UndefinedMetricWarning: Precision and F-score are ill-defined and being set to 0.0 in labels with no predicted samples. Use `zero_division` parameter to control this behavior.\n",
      "  _warn_prf(average, modifier, msg_start, len(result))\n",
      "/home/giampaolo/.local/lib/python3.10/site-packages/sklearn/metrics/_classification.py:1344: UndefinedMetricWarning: Precision and F-score are ill-defined and being set to 0.0 in labels with no predicted samples. Use `zero_division` parameter to control this behavior.\n",
      "  _warn_prf(average, modifier, msg_start, len(result))\n",
      "/home/giampaolo/.local/lib/python3.10/site-packages/sklearn/metrics/_classification.py:1344: UndefinedMetricWarning: Precision and F-score are ill-defined and being set to 0.0 in labels with no predicted samples. Use `zero_division` parameter to control this behavior.\n",
      "  _warn_prf(average, modifier, msg_start, len(result))\n",
      "/home/giampaolo/.local/lib/python3.10/site-packages/sklearn/metrics/_classification.py:1344: UndefinedMetricWarning: Precision and F-score are ill-defined and being set to 0.0 in labels with no predicted samples. Use `zero_division` parameter to control this behavior.\n",
      "  _warn_prf(average, modifier, msg_start, len(result))\n",
      "/home/giampaolo/.local/lib/python3.10/site-packages/sklearn/metrics/_classification.py:1344: UndefinedMetricWarning: Precision and F-score are ill-defined and being set to 0.0 in labels with no predicted samples. Use `zero_division` parameter to control this behavior.\n",
      "  _warn_prf(average, modifier, msg_start, len(result))\n",
      "/home/giampaolo/.local/lib/python3.10/site-packages/sklearn/metrics/_classification.py:1344: UndefinedMetricWarning: Precision and F-score are ill-defined and being set to 0.0 in labels with no predicted samples. Use `zero_division` parameter to control this behavior.\n",
      "  _warn_prf(average, modifier, msg_start, len(result))\n"
     ]
    },
    {
     "name": "stdout",
     "output_type": "stream",
     "text": [
      "WARNING: using pre-processed dataframe.\n",
      "Class order:  [22, 23, 30, 33, 15, 13, 1, 29, 8, 10, 20, 2, 11, 18, 25, 38, 4, 17, 37, 5, 24, 9, 35, 16, 7, 0, 6, 39, 27, 32, 21, 28, 12, 26, 3, 19, 34, 14, 36, 31]\n",
      "same\n",
      "same\n",
      "| Selected 1014 train exemplars, time=  0.0s\n",
      "| Selected 1000 train exemplars, time=  0.0s\n",
      "max old 14.736548\n",
      "max new 9.55142\n",
      "max old old wrng 7.878723\n",
      "max new old wrng 9.164048\n",
      "max old new samples classified as new 10.096035\n",
      "max new new samples classified as new 14.175814\n",
      "acc old 0.7835897435897435\n",
      "acc new 0.96\n"
     ]
    },
    {
     "name": "stderr",
     "output_type": "stream",
     "text": [
      "/home/giampaolo/.local/lib/python3.10/site-packages/sklearn/metrics/_classification.py:1344: UndefinedMetricWarning: Precision and F-score are ill-defined and being set to 0.0 in labels with no predicted samples. Use `zero_division` parameter to control this behavior.\n",
      "  _warn_prf(average, modifier, msg_start, len(result))\n",
      "/home/giampaolo/.local/lib/python3.10/site-packages/sklearn/metrics/_classification.py:1344: UndefinedMetricWarning: Precision and F-score are ill-defined and being set to 0.0 in labels with no predicted samples. Use `zero_division` parameter to control this behavior.\n",
      "  _warn_prf(average, modifier, msg_start, len(result))\n",
      "/home/giampaolo/.local/lib/python3.10/site-packages/sklearn/metrics/_classification.py:1344: UndefinedMetricWarning: Precision and F-score are ill-defined and being set to 0.0 in labels with no predicted samples. Use `zero_division` parameter to control this behavior.\n",
      "  _warn_prf(average, modifier, msg_start, len(result))\n",
      "/home/giampaolo/.local/lib/python3.10/site-packages/sklearn/metrics/_classification.py:1344: UndefinedMetricWarning: Precision and F-score are ill-defined and being set to 0.0 in labels with no predicted samples. Use `zero_division` parameter to control this behavior.\n",
      "  _warn_prf(average, modifier, msg_start, len(result))\n",
      "/home/giampaolo/.local/lib/python3.10/site-packages/sklearn/metrics/_classification.py:1344: UndefinedMetricWarning: Precision and F-score are ill-defined and being set to 0.0 in labels with no predicted samples. Use `zero_division` parameter to control this behavior.\n",
      "  _warn_prf(average, modifier, msg_start, len(result))\n"
     ]
    },
    {
     "name": "stdout",
     "output_type": "stream",
     "text": [
      "WARNING: using pre-processed dataframe.\n",
      "Class order:  [19, 39, 9, 0, 38, 2, 37, 17, 22, 34, 18, 26, 28, 30, 6, 31, 1, 12, 13, 5, 36, 24, 21, 25, 20, 23, 16, 35, 10, 29, 27, 3, 4, 7, 11, 8, 33, 15, 14, 32]\n",
      "same\n",
      "same\n",
      "| Selected 1014 train exemplars, time=  0.0s\n",
      "| Selected 1000 train exemplars, time=  0.0s\n",
      "max old 13.838875\n",
      "max new 8.771291\n",
      "max old old wrng 9.023781\n",
      "max new old wrng 10.46793\n",
      "max old new samples classified as new 8.464302\n",
      "max new new samples classified as new 11.668566\n",
      "acc old 0.7794871794871795\n",
      "acc new 0.88\n"
     ]
    },
    {
     "name": "stderr",
     "output_type": "stream",
     "text": [
      "/home/giampaolo/.local/lib/python3.10/site-packages/sklearn/metrics/_classification.py:1344: UndefinedMetricWarning: Precision and F-score are ill-defined and being set to 0.0 in labels with no predicted samples. Use `zero_division` parameter to control this behavior.\n",
      "  _warn_prf(average, modifier, msg_start, len(result))\n",
      "/home/giampaolo/.local/lib/python3.10/site-packages/sklearn/metrics/_classification.py:1344: UndefinedMetricWarning: Precision and F-score are ill-defined and being set to 0.0 in labels with no predicted samples. Use `zero_division` parameter to control this behavior.\n",
      "  _warn_prf(average, modifier, msg_start, len(result))\n",
      "/home/giampaolo/.local/lib/python3.10/site-packages/sklearn/metrics/_classification.py:1344: UndefinedMetricWarning: Precision and F-score are ill-defined and being set to 0.0 in labels with no predicted samples. Use `zero_division` parameter to control this behavior.\n",
      "  _warn_prf(average, modifier, msg_start, len(result))\n",
      "/home/giampaolo/.local/lib/python3.10/site-packages/sklearn/metrics/_classification.py:1344: UndefinedMetricWarning: Precision and F-score are ill-defined and being set to 0.0 in labels with no predicted samples. Use `zero_division` parameter to control this behavior.\n",
      "  _warn_prf(average, modifier, msg_start, len(result))\n"
     ]
    },
    {
     "name": "stdout",
     "output_type": "stream",
     "text": [
      "WARNING: using pre-processed dataframe.\n",
      "Class order:  [14, 16, 0, 15, 9, 12, 21, 38, 5, 32, 24, 18, 10, 22, 30, 6, 26, 19, 34, 35, 17, 3, 37, 1, 20, 23, 2, 27, 39, 8, 31, 28, 4, 29, 36, 25, 7, 11, 13, 33]\n",
      "same\n",
      "same\n",
      "| Selected 1014 train exemplars, time=  0.0s\n",
      "| Selected 1000 train exemplars, time=  0.0s\n",
      "max old 14.248501\n",
      "max new 8.812742\n",
      "max old old wrng 10.522281\n",
      "max new old wrng 11.8097725\n",
      "max old new samples classified as new 11.106876\n",
      "max new new samples classified as new 14.933015\n",
      "acc old 0.8082051282051282\n",
      "acc new 0.84\n"
     ]
    },
    {
     "name": "stderr",
     "output_type": "stream",
     "text": [
      "/home/giampaolo/.local/lib/python3.10/site-packages/sklearn/metrics/_classification.py:1344: UndefinedMetricWarning: Precision and F-score are ill-defined and being set to 0.0 in labels with no predicted samples. Use `zero_division` parameter to control this behavior.\n",
      "  _warn_prf(average, modifier, msg_start, len(result))\n",
      "/home/giampaolo/.local/lib/python3.10/site-packages/sklearn/metrics/_classification.py:1344: UndefinedMetricWarning: Precision and F-score are ill-defined and being set to 0.0 in labels with no predicted samples. Use `zero_division` parameter to control this behavior.\n",
      "  _warn_prf(average, modifier, msg_start, len(result))\n",
      "/home/giampaolo/.local/lib/python3.10/site-packages/sklearn/metrics/_classification.py:1344: UndefinedMetricWarning: Precision and F-score are ill-defined and being set to 0.0 in labels with no predicted samples. Use `zero_division` parameter to control this behavior.\n",
      "  _warn_prf(average, modifier, msg_start, len(result))\n",
      "/home/giampaolo/.local/lib/python3.10/site-packages/sklearn/metrics/_classification.py:1344: UndefinedMetricWarning: Precision and F-score are ill-defined and being set to 0.0 in labels with no predicted samples. Use `zero_division` parameter to control this behavior.\n",
      "  _warn_prf(average, modifier, msg_start, len(result))\n",
      "/home/giampaolo/.local/lib/python3.10/site-packages/sklearn/metrics/_classification.py:1344: UndefinedMetricWarning: Precision and F-score are ill-defined and being set to 0.0 in labels with no predicted samples. Use `zero_division` parameter to control this behavior.\n",
      "  _warn_prf(average, modifier, msg_start, len(result))\n",
      "/home/giampaolo/.local/lib/python3.10/site-packages/sklearn/metrics/_classification.py:1344: UndefinedMetricWarning: Precision and F-score are ill-defined and being set to 0.0 in labels with no predicted samples. Use `zero_division` parameter to control this behavior.\n",
      "  _warn_prf(average, modifier, msg_start, len(result))\n",
      "/home/giampaolo/.local/lib/python3.10/site-packages/sklearn/metrics/_classification.py:1344: UndefinedMetricWarning: Precision and F-score are ill-defined and being set to 0.0 in labels with no predicted samples. Use `zero_division` parameter to control this behavior.\n",
      "  _warn_prf(average, modifier, msg_start, len(result))\n"
     ]
    },
    {
     "name": "stdout",
     "output_type": "stream",
     "text": [
      "WARNING: using pre-processed dataframe.\n",
      "Class order:  [0, 12, 20, 37, 4, 1, 11, 29, 33, 25, 23, 16, 36, 38, 2, 27, 30, 24, 18, 13, 26, 22, 19, 5, 14, 3, 28, 7, 32, 6, 8, 31, 39, 35, 15, 9, 10, 17, 21, 34]\n",
      "same\n",
      "same\n",
      "| Selected 1014 train exemplars, time=  0.0s\n",
      "| Selected 1000 train exemplars, time=  0.0s\n",
      "max old 13.492272\n",
      "max new 10.20055\n",
      "max old old wrng 7.939357\n",
      "max new old wrng 9.313444\n",
      "max old new samples classified as new 9.307431\n",
      "max new new samples classified as new 12.500048\n",
      "acc old 0.7148717948717949\n",
      "acc new 0.96\n"
     ]
    },
    {
     "name": "stderr",
     "output_type": "stream",
     "text": [
      "/home/giampaolo/.local/lib/python3.10/site-packages/sklearn/metrics/_classification.py:1344: UndefinedMetricWarning: Precision and F-score are ill-defined and being set to 0.0 in labels with no predicted samples. Use `zero_division` parameter to control this behavior.\n",
      "  _warn_prf(average, modifier, msg_start, len(result))\n",
      "/home/giampaolo/.local/lib/python3.10/site-packages/sklearn/metrics/_classification.py:1344: UndefinedMetricWarning: Precision and F-score are ill-defined and being set to 0.0 in labels with no predicted samples. Use `zero_division` parameter to control this behavior.\n",
      "  _warn_prf(average, modifier, msg_start, len(result))\n",
      "/home/giampaolo/.local/lib/python3.10/site-packages/sklearn/metrics/_classification.py:1344: UndefinedMetricWarning: Precision and F-score are ill-defined and being set to 0.0 in labels with no predicted samples. Use `zero_division` parameter to control this behavior.\n",
      "  _warn_prf(average, modifier, msg_start, len(result))\n",
      "/home/giampaolo/.local/lib/python3.10/site-packages/sklearn/metrics/_classification.py:1344: UndefinedMetricWarning: Precision and F-score are ill-defined and being set to 0.0 in labels with no predicted samples. Use `zero_division` parameter to control this behavior.\n",
      "  _warn_prf(average, modifier, msg_start, len(result))\n",
      "/home/giampaolo/.local/lib/python3.10/site-packages/sklearn/metrics/_classification.py:1344: UndefinedMetricWarning: Precision and F-score are ill-defined and being set to 0.0 in labels with no predicted samples. Use `zero_division` parameter to control this behavior.\n",
      "  _warn_prf(average, modifier, msg_start, len(result))\n",
      "/home/giampaolo/.local/lib/python3.10/site-packages/sklearn/metrics/_classification.py:1344: UndefinedMetricWarning: Precision and F-score are ill-defined and being set to 0.0 in labels with no predicted samples. Use `zero_division` parameter to control this behavior.\n",
      "  _warn_prf(average, modifier, msg_start, len(result))\n",
      "/home/giampaolo/.local/lib/python3.10/site-packages/sklearn/metrics/_classification.py:1344: UndefinedMetricWarning: Precision and F-score are ill-defined and being set to 0.0 in labels with no predicted samples. Use `zero_division` parameter to control this behavior.\n",
      "  _warn_prf(average, modifier, msg_start, len(result))\n",
      "/home/giampaolo/.local/lib/python3.10/site-packages/sklearn/metrics/_classification.py:1344: UndefinedMetricWarning: Precision and F-score are ill-defined and being set to 0.0 in labels with no predicted samples. Use `zero_division` parameter to control this behavior.\n",
      "  _warn_prf(average, modifier, msg_start, len(result))\n",
      "/home/giampaolo/.local/lib/python3.10/site-packages/sklearn/metrics/_classification.py:1344: UndefinedMetricWarning: Precision and F-score are ill-defined and being set to 0.0 in labels with no predicted samples. Use `zero_division` parameter to control this behavior.\n",
      "  _warn_prf(average, modifier, msg_start, len(result))\n",
      "/home/giampaolo/.local/lib/python3.10/site-packages/sklearn/metrics/_classification.py:1344: UndefinedMetricWarning: Precision and F-score are ill-defined and being set to 0.0 in labels with no predicted samples. Use `zero_division` parameter to control this behavior.\n",
      "  _warn_prf(average, modifier, msg_start, len(result))\n"
     ]
    },
    {
     "name": "stdout",
     "output_type": "stream",
     "text": [
      "WARNING: using pre-processed dataframe.\n",
      "Class order:  [38, 10, 17, 5, 30, 36, 16, 25, 12, 27, 14, 20, 6, 28, 23, 15, 11, 39, 1, 13, 4, 3, 8, 31, 0, 9, 7, 24, 26, 2, 33, 32, 18, 19, 37, 22, 21, 34, 29, 35]\n",
      "same\n",
      "same\n",
      "| Selected 1014 train exemplars, time=  0.0s\n",
      "| Selected 1000 train exemplars, time=  0.0s\n",
      "max old 14.575882\n",
      "max new 9.453371\n",
      "max old old wrng 8.533672\n",
      "max new old wrng 10.519886\n",
      "max old new samples classified as new 9.608912\n",
      "max new new samples classified as new 17.766945\n",
      "acc old 0.7866666666666666\n",
      "acc new 0.92\n"
     ]
    },
    {
     "name": "stderr",
     "output_type": "stream",
     "text": [
      "/home/giampaolo/.local/lib/python3.10/site-packages/sklearn/metrics/_classification.py:1344: UndefinedMetricWarning: Precision and F-score are ill-defined and being set to 0.0 in labels with no predicted samples. Use `zero_division` parameter to control this behavior.\n",
      "  _warn_prf(average, modifier, msg_start, len(result))\n",
      "/home/giampaolo/.local/lib/python3.10/site-packages/sklearn/metrics/_classification.py:1344: UndefinedMetricWarning: Precision and F-score are ill-defined and being set to 0.0 in labels with no predicted samples. Use `zero_division` parameter to control this behavior.\n",
      "  _warn_prf(average, modifier, msg_start, len(result))\n",
      "/home/giampaolo/.local/lib/python3.10/site-packages/sklearn/metrics/_classification.py:1344: UndefinedMetricWarning: Precision and F-score are ill-defined and being set to 0.0 in labels with no predicted samples. Use `zero_division` parameter to control this behavior.\n",
      "  _warn_prf(average, modifier, msg_start, len(result))\n",
      "/home/giampaolo/.local/lib/python3.10/site-packages/sklearn/metrics/_classification.py:1344: UndefinedMetricWarning: Precision and F-score are ill-defined and being set to 0.0 in labels with no predicted samples. Use `zero_division` parameter to control this behavior.\n",
      "  _warn_prf(average, modifier, msg_start, len(result))\n"
     ]
    },
    {
     "name": "stdout",
     "output_type": "stream",
     "text": [
      "WARNING: using pre-processed dataframe.\n",
      "Class order:  [32, 11, 34, 17, 27, 25, 38, 33, 30, 35, 4, 18, 7, 31, 37, 0, 16, 8, 2, 13, 39, 6, 5, 3, 9, 20, 14, 12, 23, 26, 22, 10, 28, 29, 1, 21, 24, 19, 15, 36]\n",
      "same\n",
      "same\n",
      "| Selected 1014 train exemplars, time=  0.0s\n",
      "| Selected 1000 train exemplars, time=  0.0s\n",
      "max old 16.094372\n",
      "max new 11.188068\n",
      "max old old wrng 10.466112\n",
      "max new old wrng 11.923525\n",
      "max old new samples classified as new 9.1334095\n",
      "max new new samples classified as new 13.8037\n",
      "acc old 0.7353846153846154\n",
      "acc new 1.0\n"
     ]
    },
    {
     "name": "stderr",
     "output_type": "stream",
     "text": [
      "/home/giampaolo/.local/lib/python3.10/site-packages/sklearn/metrics/_classification.py:1344: UndefinedMetricWarning: Precision and F-score are ill-defined and being set to 0.0 in labels with no predicted samples. Use `zero_division` parameter to control this behavior.\n",
      "  _warn_prf(average, modifier, msg_start, len(result))\n",
      "/home/giampaolo/.local/lib/python3.10/site-packages/sklearn/metrics/_classification.py:1344: UndefinedMetricWarning: Precision and F-score are ill-defined and being set to 0.0 in labels with no predicted samples. Use `zero_division` parameter to control this behavior.\n",
      "  _warn_prf(average, modifier, msg_start, len(result))\n",
      "/home/giampaolo/.local/lib/python3.10/site-packages/sklearn/metrics/_classification.py:1344: UndefinedMetricWarning: Precision and F-score are ill-defined and being set to 0.0 in labels with no predicted samples. Use `zero_division` parameter to control this behavior.\n",
      "  _warn_prf(average, modifier, msg_start, len(result))\n",
      "/home/giampaolo/.local/lib/python3.10/site-packages/sklearn/metrics/_classification.py:1344: UndefinedMetricWarning: Precision and F-score are ill-defined and being set to 0.0 in labels with no predicted samples. Use `zero_division` parameter to control this behavior.\n",
      "  _warn_prf(average, modifier, msg_start, len(result))\n",
      "/home/giampaolo/.local/lib/python3.10/site-packages/sklearn/metrics/_classification.py:1344: UndefinedMetricWarning: Precision and F-score are ill-defined and being set to 0.0 in labels with no predicted samples. Use `zero_division` parameter to control this behavior.\n",
      "  _warn_prf(average, modifier, msg_start, len(result))\n",
      "/home/giampaolo/.local/lib/python3.10/site-packages/sklearn/metrics/_classification.py:1344: UndefinedMetricWarning: Precision and F-score are ill-defined and being set to 0.0 in labels with no predicted samples. Use `zero_division` parameter to control this behavior.\n",
      "  _warn_prf(average, modifier, msg_start, len(result))\n"
     ]
    },
    {
     "name": "stdout",
     "output_type": "stream",
     "text": [
      "WARNING: using pre-processed dataframe.\n",
      "Class order:  [10, 38, 22, 1, 24, 20, 35, 28, 15, 11, 39, 29, 16, 0, 9, 5, 25, 26, 27, 6, 13, 36, 32, 30, 23, 3, 8, 19, 31, 18, 33, 21, 7, 17, 4, 14, 12, 2, 34, 37]\n",
      "same\n",
      "same\n",
      "| Selected 1014 train exemplars, time=  0.0s\n",
      "| Selected 1000 train exemplars, time=  0.0s\n",
      "max old 15.065068\n",
      "max new 8.844259\n",
      "max old old wrng 7.710519\n",
      "max new old wrng 10.196497\n",
      "max old new samples classified as new 18.754\n",
      "max new new samples classified as new 26.688969\n",
      "acc old 0.8358974358974359\n",
      "acc new 1.0\n"
     ]
    },
    {
     "name": "stderr",
     "output_type": "stream",
     "text": [
      "/home/giampaolo/.local/lib/python3.10/site-packages/sklearn/metrics/_classification.py:1344: UndefinedMetricWarning: Precision and F-score are ill-defined and being set to 0.0 in labels with no predicted samples. Use `zero_division` parameter to control this behavior.\n",
      "  _warn_prf(average, modifier, msg_start, len(result))\n",
      "/home/giampaolo/.local/lib/python3.10/site-packages/sklearn/metrics/_classification.py:1344: UndefinedMetricWarning: Precision and F-score are ill-defined and being set to 0.0 in labels with no predicted samples. Use `zero_division` parameter to control this behavior.\n",
      "  _warn_prf(average, modifier, msg_start, len(result))\n",
      "/home/giampaolo/.local/lib/python3.10/site-packages/sklearn/metrics/_classification.py:1344: UndefinedMetricWarning: Precision and F-score are ill-defined and being set to 0.0 in labels with no predicted samples. Use `zero_division` parameter to control this behavior.\n",
      "  _warn_prf(average, modifier, msg_start, len(result))\n",
      "/home/giampaolo/.local/lib/python3.10/site-packages/sklearn/metrics/_classification.py:1344: UndefinedMetricWarning: Precision and F-score are ill-defined and being set to 0.0 in labels with no predicted samples. Use `zero_division` parameter to control this behavior.\n",
      "  _warn_prf(average, modifier, msg_start, len(result))\n"
     ]
    },
    {
     "name": "stdout",
     "output_type": "stream",
     "text": [
      "WARNING: using pre-processed dataframe.\n",
      "Class order:  [5, 22, 16, 17, 28, 12, 15, 29, 9, 31, 19, 37, 33, 39, 3, 21, 18, 6, 30, 24, 32, 36, 11, 1, 4, 13, 2, 20, 27, 34, 26, 7, 14, 0, 25, 10, 8, 35, 23, 38]\n",
      "same\n",
      "same\n",
      "| Selected 1014 train exemplars, time=  0.0s\n",
      "| Selected 1000 train exemplars, time=  0.0s\n",
      "max old 14.387328\n",
      "max new 11.482882\n",
      "max old old wrng 10.604698\n",
      "max new old wrng 12.661119\n",
      "max old new samples classified as new 11.683308\n",
      "max new new samples classified as new 18.644697\n",
      "acc old 0.676923076923077\n",
      "acc new 1.0\n"
     ]
    },
    {
     "name": "stderr",
     "output_type": "stream",
     "text": [
      "/home/giampaolo/.local/lib/python3.10/site-packages/sklearn/metrics/_classification.py:1344: UndefinedMetricWarning: Precision and F-score are ill-defined and being set to 0.0 in labels with no predicted samples. Use `zero_division` parameter to control this behavior.\n",
      "  _warn_prf(average, modifier, msg_start, len(result))\n",
      "/home/giampaolo/.local/lib/python3.10/site-packages/sklearn/metrics/_classification.py:1344: UndefinedMetricWarning: Precision and F-score are ill-defined and being set to 0.0 in labels with no predicted samples. Use `zero_division` parameter to control this behavior.\n",
      "  _warn_prf(average, modifier, msg_start, len(result))\n",
      "/home/giampaolo/.local/lib/python3.10/site-packages/sklearn/metrics/_classification.py:1344: UndefinedMetricWarning: Precision and F-score are ill-defined and being set to 0.0 in labels with no predicted samples. Use `zero_division` parameter to control this behavior.\n",
      "  _warn_prf(average, modifier, msg_start, len(result))\n",
      "/home/giampaolo/.local/lib/python3.10/site-packages/sklearn/metrics/_classification.py:1344: UndefinedMetricWarning: Precision and F-score are ill-defined and being set to 0.0 in labels with no predicted samples. Use `zero_division` parameter to control this behavior.\n",
      "  _warn_prf(average, modifier, msg_start, len(result))\n",
      "/home/giampaolo/.local/lib/python3.10/site-packages/sklearn/metrics/_classification.py:1344: UndefinedMetricWarning: Precision and F-score are ill-defined and being set to 0.0 in labels with no predicted samples. Use `zero_division` parameter to control this behavior.\n",
      "  _warn_prf(average, modifier, msg_start, len(result))\n",
      "/home/giampaolo/.local/lib/python3.10/site-packages/sklearn/metrics/_classification.py:1344: UndefinedMetricWarning: Precision and F-score are ill-defined and being set to 0.0 in labels with no predicted samples. Use `zero_division` parameter to control this behavior.\n",
      "  _warn_prf(average, modifier, msg_start, len(result))\n",
      "/home/giampaolo/.local/lib/python3.10/site-packages/sklearn/metrics/_classification.py:1344: UndefinedMetricWarning: Precision and F-score are ill-defined and being set to 0.0 in labels with no predicted samples. Use `zero_division` parameter to control this behavior.\n",
      "  _warn_prf(average, modifier, msg_start, len(result))\n"
     ]
    },
    {
     "name": "stdout",
     "output_type": "stream",
     "text": [
      "WARNING: using pre-processed dataframe.\n",
      "Class order:  [4, 25, 17, 33, 27, 16, 8, 32, 21, 0, 20, 34, 13, 14, 18, 11, 26, 15, 9, 31, 1, 19, 30, 3, 38, 36, 7, 12, 37, 23, 24, 2, 6, 35, 10, 28, 5, 22, 29, 39]\n",
      "same\n",
      "same\n",
      "| Selected 1014 train exemplars, time=  0.0s\n",
      "| Selected 1000 train exemplars, time=  0.0s\n",
      "max old 15.0863695\n",
      "max new 11.411155\n",
      "max old old wrng 8.986497\n",
      "max new old wrng 10.473178\n",
      "max old new samples classified as new 11.60399\n",
      "max new new samples classified as new 15.462173\n",
      "acc old 0.7497435897435898\n",
      "acc new 1.0\n"
     ]
    },
    {
     "name": "stderr",
     "output_type": "stream",
     "text": [
      "/home/giampaolo/.local/lib/python3.10/site-packages/sklearn/metrics/_classification.py:1344: UndefinedMetricWarning: Precision and F-score are ill-defined and being set to 0.0 in labels with no predicted samples. Use `zero_division` parameter to control this behavior.\n",
      "  _warn_prf(average, modifier, msg_start, len(result))\n",
      "/home/giampaolo/.local/lib/python3.10/site-packages/sklearn/metrics/_classification.py:1344: UndefinedMetricWarning: Precision and F-score are ill-defined and being set to 0.0 in labels with no predicted samples. Use `zero_division` parameter to control this behavior.\n",
      "  _warn_prf(average, modifier, msg_start, len(result))\n",
      "/home/giampaolo/.local/lib/python3.10/site-packages/sklearn/metrics/_classification.py:1344: UndefinedMetricWarning: Precision and F-score are ill-defined and being set to 0.0 in labels with no predicted samples. Use `zero_division` parameter to control this behavior.\n",
      "  _warn_prf(average, modifier, msg_start, len(result))\n",
      "/home/giampaolo/.local/lib/python3.10/site-packages/sklearn/metrics/_classification.py:1344: UndefinedMetricWarning: Precision and F-score are ill-defined and being set to 0.0 in labels with no predicted samples. Use `zero_division` parameter to control this behavior.\n",
      "  _warn_prf(average, modifier, msg_start, len(result))\n",
      "/home/giampaolo/.local/lib/python3.10/site-packages/sklearn/metrics/_classification.py:1344: UndefinedMetricWarning: Precision and F-score are ill-defined and being set to 0.0 in labels with no predicted samples. Use `zero_division` parameter to control this behavior.\n",
      "  _warn_prf(average, modifier, msg_start, len(result))\n"
     ]
    }
   ],
   "source": [
    "from datasets.exemplars_dataset import ExemplarsDataset\n",
    "from copy import deepcopy as copy\n",
    "\n",
    "res = []\n",
    "gammas = []\n",
    "gammas2 = []\n",
    "\n",
    "obw_logitss = []\n",
    "nbw_logitss = []\n",
    "oic_logitss = []\n",
    "nic_logitss = []\n",
    "\n",
    "for fn in fns:\n",
    "    \n",
    "    os.chdir('/home/giampaolo/facil-tc/src/')\n",
    "\n",
    "    base_model = torch.load(fn.replace('task1', 'task0'), map_location='cpu')\n",
    "    incr_model = torch.load(fn, map_location='cpu')\n",
    "    ts = fn.split('-')[-1].replace('.ckpt', '')\n",
    "    args = json.loads(open(results_path + exp_dir + 'args-%s.txt' % ts).read())\n",
    "    stdout = open(results_path + exp_dir + 'stdout-%s.txt' % ts).readlines()\n",
    "\n",
    "    utils.seed_everything(seed=args['seed'])\n",
    "\n",
    "    os.chdir('datasets/')\n",
    "    trn_load, val_load, tst_load, taskcla = get_loaders(\n",
    "        datasets=args['datasets'], num_tasks=args['num_tasks'], nc_first_task=args['nc_first_task'],\n",
    "        nc_incr_tasks=args['nc_incr_tasks'], batch_size=args['batch_size'], num_workers=args['num_workers'],\n",
    "        pin_memory=args['pin_memory'], validation=.1, num_bytes=args['num_bytes'],\n",
    "        num_pkts=args['num_pkts'], fields=args['fields'], seed=args['seed'], shots=-1,\n",
    "        fseed=-1, last_class=args['last_class'], predict_tasks=False,\n",
    "        statistical=False, is_ml=False)\n",
    "    os.chdir('../')\n",
    "    \n",
    "    bmodel = Lopez17CNN(num_pkts=10, num_fields=4, out_features_size=None)\n",
    "    bnet = LLL_Net(bmodel, remove_existing_head=True, modality='all', activate_features=True)\n",
    "    bnet.add_head(num_outputs=39)\n",
    "    bnet.load_state_dict(base_model)\n",
    "\n",
    "    imodel = Lopez17CNN(num_pkts=10, num_fields=4, out_features_size=None)\n",
    "    inet = LLL_Net(imodel, remove_existing_head=True, modality='all', activate_features=True)\n",
    "    inet.add_head(num_outputs=39)\n",
    "    inet.add_head(num_outputs=1)\n",
    "    inet.load_state_dict(incr_model)\n",
    "\n",
    "    Appr_ExemplarsDataset = ExemplarsDataset\n",
    "    first_train_ds = trn_load[0].dataset\n",
    "    transform, class_indices = first_train_ds.transform, first_train_ds.class_indices\n",
    "\n",
    "    exemplars_dataset = Appr_ExemplarsDataset(\n",
    "        transform, class_indices, num_exemplars=1000, num_exemplars_per_class=0, exemplar_selection='random',\n",
    "        is_networking=True, base_class_index=0)\n",
    "\n",
    "    exemplars_dataset.collect_exemplars(bnet, trn_load[0], val_load[0].dataset.transform)\n",
    "\n",
    "    mem_load = torch.utils.data.DataLoader(trn_load[1].dataset + exemplars_dataset,\n",
    "                                   batch_size=trn_load[1].batch_size,\n",
    "                                   shuffle=False,\n",
    "                                   num_workers=trn_load[1].num_workers,\n",
    "                                   pin_memory=trn_load[1].pin_memory)\n",
    "    exemplars_dataset.collect_exemplars(inet, mem_load, val_load[1].dataset.transform)\n",
    "\n",
    "    mem_true = np.array(exemplars_dataset.labels)\n",
    "\n",
    "    inet.eval()\n",
    "    mem_logits = torch.concat(inet(torch.Tensor(exemplars_dataset.images)), axis=1).detach().numpy()        \n",
    "    mem_preds = mem_logits.argmax(-1)\n",
    "\n",
    "    old_logits = mem_logits[:, :39]\n",
    "    new_logits = mem_logits[:, 39:]\n",
    "\n",
    "    # max(old_logits) when the base sample is confused with the incr one\n",
    "    obw_logits = [np.max(l) for t, p, l in zip(mem_true, mem_preds, old_logits) if p == 39 and t < 39]\n",
    "    # max(new_logits) when the base sample is confused with the incr one\n",
    "    nbw_logits = [np.max(l) for t, p, l in zip(mem_true, mem_preds, new_logits) if p == 39 and t < 39]\n",
    "    # max(old_logits) when the incr sample is correctly classified\n",
    "    oic_logits = [np.max(l) for t, p, l in zip(mem_true, mem_preds, old_logits) if p == t == 39]\n",
    "    # max(new_logits) when the incr sample is correctly classified\n",
    "    nic_logits = [np.max(l) for t, p, l in zip(mem_true, mem_preds, new_logits) if p == t == 39]\n",
    "\n",
    "    obw_logitss.append(obw_logits)\n",
    "    nbw_logitss.append(nbw_logits)\n",
    "    oic_logitss.append(oic_logits)\n",
    "    nic_logitss.append(nic_logits)\n",
    "\n",
    "    print('max old', np.mean([np.max(l) for l in old_logits]))\n",
    "    print('max new', np.mean(new_logits))\n",
    "\n",
    "    max_obw = np.median(obw_logits)\n",
    "    print('max old old wrng', max_obw)\n",
    "    max_nbw = np.median(nbw_logits)\n",
    "    print('max new old wrng', max_nbw)\n",
    "    \n",
    "    max_oic = np.median(oic_logits)\n",
    "    print('max old new samples classified as new', max_oic)\n",
    "    max_nic = np.median(nic_logits)\n",
    "    print('max new new samples classified as new', max_nic)\n",
    "\n",
    "    print('acc old', sum([p==t for p, t in zip(mem_preds, mem_true) if t < 39]) / sum(mem_true < 39))\n",
    "    print('acc new', sum([p==t for p, t in zip(mem_preds, mem_true) if t == 39]) / sum(mem_true == 39))\n",
    "    \n",
    "    # this gamma reduces the gap between the new logits of old classes wrong samples and the new classes correct samples\n",
    "    gammas.append(max_nbw / max_nic)\n",
    "    \n",
    "    # this gamma reduces the gap between the new and old logits of new classes correct samples\n",
    "    gammas2.append(max_oic / max_nic)\n",
    "    \n",
    "    true = np.concatenate([tl.dataset.labels for tl in tst_load])\n",
    "    inet.eval()\n",
    "    logits = torch.concat(inet(torch.Tensor(np.concatenate([tl.dataset.images for tl in tst_load]))), axis=1).detach().numpy()\n",
    "    \n",
    "    for lamb in np.linspace(0, 2, 21):\n",
    "\n",
    "        wlogits = copy(logits)\n",
    "        \n",
    "        wlogits[:, 39] = wlogits[:, 39] * lamb\n",
    "        \n",
    "        preds = wlogits.argmax(-1)\n",
    "        precision, recall, fscore, support = precision_recall_fscore_support(true, preds)\n",
    "\n",
    "        for m in ['precision', 'recall', 'fscore']:\n",
    "            res.append(\n",
    "                {'x': lamb,\n",
    "                 'y': np.mean(globals()[m][:39]) * 100,\n",
    "                 'metric': m,\n",
    "                 'type': 'old',\n",
    "                 'seed': args['last_class']\n",
    "                }\n",
    "            )\n",
    "            res.append(\n",
    "                {'x': lamb,\n",
    "                 'y': np.mean(globals()[m][39]) * 100,\n",
    "                 'metric': m,\n",
    "                 'type': 'new',\n",
    "                 'seed': args['last_class']\n",
    "                }\n",
    "            )\n",
    "            res.append(\n",
    "                {'x': lamb,\n",
    "                 'y': np.mean(globals()[m]) * 100,\n",
    "                 'metric': m,\n",
    "                 'type': 'all',\n",
    "                 'seed': args['last_class']\n",
    "                }\n",
    "            )\n",
    "\n",
    "df_la = pd.DataFrame(data=res, columns=['x', 'y', 'metric', 'type', 'seed'])\n"
   ]
  },
  {
   "cell_type": "code",
   "execution_count": 8,
   "id": "4bbdf1c9",
   "metadata": {},
   "outputs": [
    {
     "data": {
      "image/png": "[encoded data removed]",
      "text/plain": [
       "<Figure size 504x360 with 2 Axes>"
      ]
     },
     "metadata": {
      "needs_background": "light"
     },
     "output_type": "display_data"
    }
   ],
   "source": [
    "import seaborn as sns\n",
    "\n",
    "df_box = pd.DataFrame(columns=['logit', 'logit-type', 'sample-type'])\n",
    "\n",
    "df_box['logit'] = [\n",
    "    vv for v in obw_logitss for vv in v] + [\n",
    "        vv for v in nbw_logitss for vv in v] + [\n",
    "            vv for v in oic_logitss for vv in v] + [\n",
    "                vv for v in nic_logitss for vv in v]\n",
    "\n",
    "df_box['logit-type'] = ['old'] * len([\n",
    "    vv for v in obw_logitss for vv in v]) + ['new'] * len([\n",
    "        vv for v in nbw_logitss for vv in v]) + ['old'] * len([\n",
    "            vv for v in oic_logitss for vv in v]) + ['new'] * len([\n",
    "                vv for v in nic_logitss for vv in v])\n",
    "\n",
    "df_box['sample-type'] = ['old samples classified as new'] * len([\n",
    "    vv for v in obw_logitss for vv in v]) + ['old samples classified as new'] * len([\n",
    "        vv for v in nbw_logitss for vv in v]) + ['new samples classified as new'] * len([\n",
    "            vv for v in oic_logitss for vv in v]) + ['new samples classified as new'] * len([\n",
    "                vv for v in nic_logitss for vv in v])\n",
    "\n",
    "fig, axes = plt.subplots(figsize=(7, 5), nrows=2)\n",
    "plt.subplots_adjust(wspace=0, hspace=0)\n",
    "\n",
    "sns.histplot(data=df_box[df_box['sample-type'] == 'old samples classified as new'], x='logit', hue='logit-type', element='step', ax=axes[0], bins=100,\n",
    "    palette=['royalblue', 'darkorange'])\n",
    "sns.histplot(data=df_box[df_box['sample-type'] == 'new samples classified as new'], x='logit', hue='logit-type', element='step', ax=axes[1], bins=100,\n",
    "    palette=['royalblue', 'darkorange'], legend=False)\n",
    "\n",
    "axes[0].text(25, 400 / 3, 'old samples classified as new', size=12)\n",
    "axes[0].axvline(df_box[(df_box['sample-type'] == 'old samples classified as new') & (df_box['logit-type'] == 'old')]['logit'].median(), color='royalblue')\n",
    "axes[0].axvline(df_box[(df_box['sample-type'] == 'old samples classified as new') & (df_box['logit-type'] == 'new')]['logit'].median(), color='darkorange')\n",
    "axes[0].set_xlim(0, 50)\n",
    "axes[0].set_ylim(0, 400)\n",
    "axes[0].set_xticks([])\n",
    "\n",
    "axes[1].text(25, 80 / 1.5, 'new samples classified as new', size=12)\n",
    "axes[1].axvline(df_box[(df_box['sample-type'] == 'new samples classified as new') & (df_box['logit-type'] == 'old')]['logit'].median(), color='royalblue')\n",
    "axes[1].axvline(df_box[(df_box['sample-type'] == 'new samples classified as new') & (df_box['logit-type'] == 'new')]['logit'].median(), color='darkorange')\n",
    "axes[1].set_xlim(0, 50)\n",
    "axes[1].set_ylim(0, 80)\n",
    "axes[1].invert_yaxis()\n",
    "\n",
    "plt.show()"
   ]
  },
  {
   "cell_type": "code",
   "execution_count": 13,
   "id": "93b37dfd",
   "metadata": {},
   "outputs": [
    {
     "data": {
      "image/png": "[encoded data removed]",
      "text/plain": [
       "<Figure size 504x360 with 2 Axes>"
      ]
     },
     "metadata": {
      "needs_background": "light"
     },
     "output_type": "display_data"
    }
   ],
   "source": [
    "import seaborn as sns\n",
    "\n",
    "df_box = pd.DataFrame(columns=['logit', 'logit-type', 'sample-type'])\n",
    "\n",
    "df_box['logit'] = [\n",
    "    vv for v in obw_logitss for vv in v] + [\n",
    "        g * vv for g, v in zip(gammas, nbw_logitss) for vv in v] + [\n",
    "            vv for v in oic_logitss for vv in v] + [\n",
    "                g * vv for g, v in zip(gammas, nic_logitss) for vv in v] + [\n",
    "                    vv for v in nbw_logitss for vv in v] + [\n",
    "                        vv for v in nic_logitss for vv in v]\n",
    "\n",
    "df_box['logit-type'] = ['old'] * len([\n",
    "    vv for v in obw_logitss for vv in v]) + ['$\\gamma_{max}$ x new'] * len([\n",
    "        vv for v in nbw_logitss for vv in v]) + ['old'] * len([\n",
    "            vv for v in oic_logitss for vv in v]) + ['$\\gamma_{max}$ x new'] * len([\n",
    "                vv for v in nic_logitss for vv in v]) + ['new'] * len([\n",
    "                    vv for v in nbw_logitss for vv in v]) + ['new'] * len([\n",
    "                        vv for v in nic_logitss for vv in v])\n",
    "\n",
    "df_box['sample-type'] = ['old samples classified as new'] * len([\n",
    "    vv for v in obw_logitss for vv in v]) + ['old samples classified as new'] * len([\n",
    "        vv for v in nbw_logitss for vv in v]) + ['new samples classified as new'] * len([\n",
    "            vv for v in oic_logitss for vv in v]) + ['new samples classified as new'] * len([\n",
    "                vv for v in nic_logitss for vv in v]) + ['old samples classified as new'] * len([\n",
    "                    vv for v in nbw_logitss for vv in v]) + ['new samples classified as new'] * len([\n",
    "                        vv for v in nic_logitss for vv in v])\n",
    "\n",
    "fig, axes = plt.subplots(figsize=(7, 5), nrows=2)\n",
    "plt.subplots_adjust(wspace=0, hspace=0)\n",
    "\n",
    "sns.histplot(data=df_box[df_box['sample-type'] == 'old samples classified as new'], x='logit', hue='logit-type', element='step', ax=axes[0], bins=100,\n",
    "    palette=['royalblue', 'forestgreen', 'darkorange'])\n",
    "sns.histplot(data=df_box[df_box['sample-type'] == 'new samples classified as new'], x='logit', hue='logit-type', element='step', ax=axes[1], bins=100,\n",
    "    palette=['royalblue', 'forestgreen', 'darkorange'], legend=False)\n",
    "\n",
    "axes[0].text(25, 400 / 3, 'old samples classified as new', size=12)\n",
    "axes[0].axvline(df_box[(df_box['sample-type'] == 'old samples classified as new') & (df_box['logit-type'] == 'old')]['logit'].median(), color='royalblue')\n",
    "axes[0].axvline(df_box[(df_box['sample-type'] == 'old samples classified as new') & (df_box['logit-type'] == 'new')]['logit'].median(), color='darkorange')\n",
    "axes[0].axvline(df_box[(df_box['sample-type'] == 'old samples classified as new') & (df_box['logit-type'] == '$\\gamma_{max}$ x new')]['logit'].median(), color='forestgreen')\n",
    "axes[0].set_xlim(0, 50)\n",
    "axes[0].set_ylim(0, 400)\n",
    "axes[0].set_xticks([])\n",
    "\n",
    "axes[1].text(25, 80 / 1.5, 'new samples classified as new', size=12)\n",
    "axes[1].axvline(df_box[(df_box['sample-type'] == 'new samples classified as new') & (df_box['logit-type'] == 'old')]['logit'].median(), color='royalblue')\n",
    "axes[1].axvline(df_box[(df_box['sample-type'] == 'new samples classified as new') & (df_box['logit-type'] == 'new')]['logit'].median(), color='darkorange')\n",
    "axes[1].axvline(df_box[(df_box['sample-type'] == 'new samples classified as new') & (df_box['logit-type'] == '$\\gamma_{max}$ x new')]['logit'].median(), color='forestgreen')\n",
    "axes[1].set_xlim(0, 50)\n",
    "axes[1].set_ylim(0, 80)\n",
    "axes[1].invert_yaxis()\n",
    "\n",
    "plt.show()"
   ]
  },
  {
   "cell_type": "code",
   "execution_count": 14,
   "id": "f3456605",
   "metadata": {},
   "outputs": [
    {
     "data": {
      "image/png": "[encoded data removed]",
      "text/plain": [
       "<Figure size 504x360 with 2 Axes>"
      ]
     },
     "metadata": {
      "needs_background": "light"
     },
     "output_type": "display_data"
    }
   ],
   "source": [
    "import seaborn as sns\n",
    "\n",
    "df_box = pd.DataFrame(columns=['logit', 'logit-type', 'sample-type'])\n",
    "\n",
    "df_box['logit'] = [\n",
    "    vv for v in obw_logitss for vv in v] + [\n",
    "        g * vv for g, v in zip(gammas2, nbw_logitss) for vv in v] + [\n",
    "            vv for v in oic_logitss for vv in v] + [\n",
    "                g * vv for g, v in zip(gammas2, nic_logitss) for vv in v] + [\n",
    "                    vv for v in nbw_logitss for vv in v] + [\n",
    "                        vv for v in nic_logitss for vv in v]\n",
    "\n",
    "df_box['logit-type'] = ['old'] * len([\n",
    "    vv for v in obw_logitss for vv in v]) + ['$\\gamma_{min}$ x new'] * len([\n",
    "        vv for v in nbw_logitss for vv in v]) + ['old'] * len([\n",
    "            vv for v in oic_logitss for vv in v]) + ['$\\gamma_{min}$ x new'] * len([\n",
    "                vv for v in nic_logitss for vv in v]) + ['new'] * len([\n",
    "                    vv for v in nbw_logitss for vv in v]) + ['new'] * len([\n",
    "                        vv for v in nic_logitss for vv in v])\n",
    "\n",
    "df_box['sample-type'] = ['old samples classified as new'] * len([\n",
    "    vv for v in obw_logitss for vv in v]) + ['old samples classified as new'] * len([\n",
    "        vv for v in nbw_logitss for vv in v]) + ['new samples classified as new'] * len([\n",
    "            vv for v in oic_logitss for vv in v]) + ['new samples classified as new'] * len([\n",
    "                vv for v in nic_logitss for vv in v]) + ['old samples classified as new'] * len([\n",
    "                    vv for v in nbw_logitss for vv in v]) + ['new samples classified as new'] * len([\n",
    "                        vv for v in nic_logitss for vv in v])\n",
    "\n",
    "fig, axes = plt.subplots(figsize=(7, 5), nrows=2)\n",
    "plt.subplots_adjust(wspace=0, hspace=0)\n",
    "\n",
    "sns.histplot(data=df_box[df_box['sample-type'] == 'old samples classified as new'], x='logit', hue='logit-type', element='step', ax=axes[0], bins=100,\n",
    "    palette=['royalblue', 'forestgreen', 'darkorange'])\n",
    "sns.histplot(data=df_box[df_box['sample-type'] == 'new samples classified as new'], x='logit', hue='logit-type', element='step', ax=axes[1], bins=100,\n",
    "    palette=['royalblue', 'forestgreen', 'darkorange'], legend=False)\n",
    "\n",
    "axes[0].text(25, 400 / 3, 'old samples classified as new', size=12)\n",
    "axes[0].axvline(df_box[(df_box['sample-type'] == 'old samples classified as new') & (df_box['logit-type'] == 'old')]['logit'].median(), color='royalblue')\n",
    "axes[0].axvline(df_box[(df_box['sample-type'] == 'old samples classified as new') & (df_box['logit-type'] == 'new')]['logit'].median(), color='darkorange')\n",
    "axes[0].axvline(df_box[(df_box['sample-type'] == 'old samples classified as new') & (df_box['logit-type'] == '$\\gamma_{min}$ x new')]['logit'].median(), color='forestgreen')\n",
    "axes[0].set_xlim(0, 50)\n",
    "axes[0].set_ylim(0, 400)\n",
    "axes[0].set_xticks([])\n",
    "\n",
    "axes[1].text(25, 80 / 1.5, 'new samples classified as new', size=12)\n",
    "axes[1].axvline(df_box[(df_box['sample-type'] == 'new samples classified as new') & (df_box['logit-type'] == 'old')]['logit'].median(), color='royalblue')\n",
    "axes[1].axvline(df_box[(df_box['sample-type'] == 'new samples classified as new') & (df_box['logit-type'] == 'new')]['logit'].median(), color='darkorange')\n",
    "axes[1].axvline(df_box[(df_box['sample-type'] == 'new samples classified as new') & (df_box['logit-type'] == '$\\gamma_{min}$ x new')]['logit'].median(), color='forestgreen')\n",
    "axes[1].set_xlim(0, 50)\n",
    "axes[1].set_ylim(0, 80)\n",
    "axes[1].invert_yaxis()\n",
    "\n",
    "plt.show()"
   ]
  },
  {
   "cell_type": "code",
   "execution_count": 11,
   "id": "48f2fdbb",
   "metadata": {},
   "outputs": [],
   "source": [
    "mean_gamma = np.mean(gammas)\n",
    "std_gamma = np.std(gammas)\n",
    "\n",
    "mean_gamma2 = np.mean(gammas2)\n",
    "std_gamma2 = np.std(gammas2)\n",
    "\n",
    "mean_avg_gamma = np.mean((np.array(gammas) + np.array(gammas2)) * .5)\n",
    "std_avg_gamma = np.std((np.array(gammas) + np.array(gammas2)) * .5)\n",
    "\n",
    "best_lambdas = []\n",
    "for seed in sorted(set(df_la['seed'].values)):\n",
    "    xs = df_la.loc[(df_la['metric'] == 'fscore') & (df_la['type'] == 'all') & (df_la['seed'] == seed), 'x'].values\n",
    "    ys = df_la.loc[(df_la['metric'] == 'fscore') & (df_la['type'] == 'all') & (df_la['seed'] == seed), 'y'].values\n",
    "    best_lamb = xs[np.argmax(ys)]\n",
    "    best_lambdas.append(best_lamb)\n",
    "mean_best_lamb = np.mean(best_lambdas)\n",
    "std_best_lamb = np.std(best_lambdas)"
   ]
  },
  {
   "cell_type": "code",
   "execution_count": 12,
   "id": "9e84a21f",
   "metadata": {},
   "outputs": [
    {
     "ename": "NameError",
     "evalue": "name 'scratch_precision_all' is not defined",
     "output_type": "error",
     "traceback": [
      "\u001b[0;31m---------------------------------------------------------------------------\u001b[0m",
      "\u001b[0;31mNameError\u001b[0m                                 Traceback (most recent call last)",
      "\u001b[0;32m/tmp/ipykernel_513467/1694448696.py\u001b[0m in \u001b[0;36m<module>\u001b[0;34m\u001b[0m\n\u001b[1;32m     31\u001b[0m \u001b[0max2\u001b[0m \u001b[0;34m=\u001b[0m \u001b[0max\u001b[0m\u001b[0;34m.\u001b[0m\u001b[0mtwinx\u001b[0m\u001b[0;34m(\u001b[0m\u001b[0;34m)\u001b[0m\u001b[0;34m\u001b[0m\u001b[0;34m\u001b[0m\u001b[0m\n\u001b[1;32m     32\u001b[0m \u001b[0max2\u001b[0m\u001b[0;34m.\u001b[0m\u001b[0mset_ylim\u001b[0m\u001b[0;34m(\u001b[0m\u001b[0max\u001b[0m\u001b[0;34m.\u001b[0m\u001b[0mget_ylim\u001b[0m\u001b[0;34m(\u001b[0m\u001b[0;34m)\u001b[0m\u001b[0;34m)\u001b[0m\u001b[0;34m\u001b[0m\u001b[0;34m\u001b[0m\u001b[0m\n\u001b[0;32m---> 33\u001b[0;31m \u001b[0max2\u001b[0m\u001b[0;34m.\u001b[0m\u001b[0maxhline\u001b[0m\u001b[0;34m(\u001b[0m\u001b[0mscratch_precision_all\u001b[0m\u001b[0;34m,\u001b[0m \u001b[0mlw\u001b[0m\u001b[0;34m=\u001b[0m\u001b[0;36m3\u001b[0m\u001b[0;34m,\u001b[0m \u001b[0mc\u001b[0m\u001b[0;34m=\u001b[0m\u001b[0;34m'steelblue'\u001b[0m\u001b[0;34m,\u001b[0m \u001b[0mls\u001b[0m\u001b[0;34m=\u001b[0m\u001b[0;34m'-'\u001b[0m\u001b[0;34m,\u001b[0m \u001b[0malpha\u001b[0m\u001b[0;34m=\u001b[0m\u001b[0;36m.8\u001b[0m\u001b[0;34m)\u001b[0m\u001b[0;34m\u001b[0m\u001b[0;34m\u001b[0m\u001b[0m\n\u001b[0m\u001b[1;32m     34\u001b[0m \u001b[0;31m# ax2.axhline(mean_scratch_precision_old, lw=3, c='steelblue', ls='-', alpha=.8)\u001b[0m\u001b[0;34m\u001b[0m\u001b[0;34m\u001b[0m\u001b[0m\n\u001b[1;32m     35\u001b[0m \u001b[0;31m# ax2.axhspan(\u001b[0m\u001b[0;34m\u001b[0m\u001b[0;34m\u001b[0m\u001b[0m\n",
      "\u001b[0;31mNameError\u001b[0m: name 'scratch_precision_all' is not defined"
     ]
    },
    {
     "data": {
      "image/png": "[encoded data removed]",
      "text/plain": [
       "<Figure size 720x360 with 2 Axes>"
      ]
     },
     "metadata": {
      "needs_background": "light"
     },
     "output_type": "display_data"
    }
   ],
   "source": [
    "import seaborn as sns\n",
    "from matplotlib.lines import Line2D\n",
    "from matplotlib.patches import Rectangle\n",
    "\n",
    "fig, ax = plt.subplots(figsize=(10, 5))\n",
    "\n",
    "# ax.axvline(mean_gamma, lw=3, c='firebrick', ls='--', alpha=.8)\n",
    "# ax.axvspan(mean_gamma - std_gamma, mean_gamma + std_gamma, color='firebrick', alpha=.3)\n",
    "# ax.axvline(mean_gamma2, lw=3, c='darkcyan', ls='--', alpha=.8)\n",
    "# ax.axvspan(mean_gamma2 - std_gamma2, mean_gamma2 + std_gamma2, color='darkcyan', alpha=.3)\n",
    "\n",
    "ax.axvline(mean_avg_gamma, lw=3, c='darkcyan', ls='--', alpha=.8)\n",
    "ax.axvspan(mean_avg_gamma - std_avg_gamma, mean_avg_gamma + std_avg_gamma, color='darkcyan', alpha=.3)\n",
    "\n",
    "ax.axvline(1, lw=3, c='k', ls='-', alpha=.8)\n",
    "ax.axvline(mean_best_lamb, lw=3, c='purple', ls=':', alpha=.8)\n",
    "ax.axvspan(mean_best_lamb - std_best_lamb, mean_best_lamb + std_best_lamb, color='purple', alpha=.3)\n",
    "\n",
    "sns.lineplot(data=df_la[\n",
    "    ((df_la['type'].isin(['new', 'old'])) & df_la['metric'].isin(['precision', 'recall'])) |\n",
    "    (df_la['type'].isin(['all']) & df_la['metric'].isin(['fscore']))\n",
    "], x='x', y='y', hue='metric', style='type', lw=3, ax=ax, alpha=.8, legend=False,\n",
    "             palette=['steelblue', 'darkorange', 'forestgreen'])\n",
    "ax.set_xlabel('$\\lambda$', fontsize=18)\n",
    "ax.set_ylabel('Value [%]', fontsize=18)\n",
    "ax.set_xticks(sorted(set(df_la['x'].values)))\n",
    "ax.set_xticklabels(['%.1f' % v for v in sorted(set(df_la['x'].values))])\n",
    "ax.tick_params(axis='both', labelsize=14)\n",
    "ax.set_xlim(left=0, right=2)\n",
    "\n",
    "ax2 = ax.twinx()\n",
    "ax2.set_ylim(ax.get_ylim())\n",
    "ax2.axhline(scratch_precision_all, lw=3, c='steelblue', ls='-', alpha=.8)\n",
    "# ax2.axhline(mean_scratch_precision_old, lw=3, c='steelblue', ls='-', alpha=.8)\n",
    "# ax2.axhspan(\n",
    "#     mean_scratch_precision_old - std_scratch_precision_old,\n",
    "#     mean_scratch_precision_old + std_scratch_precision_old,\n",
    "#     color='steelblue', alpha=.3)\n",
    "# ax2.axhline(mean_scratch_precision_new, lw=3, c='steelblue', ls='-', alpha=.8)\n",
    "# ax2.axhspan(\n",
    "#     mean_scratch_precision_new - std_scratch_precision_new,\n",
    "#     mean_scratch_precision_new + std_scratch_precision_new,\n",
    "#     color='steelblue', alpha=.3)\n",
    "ax2.axhline(scratch_recall_all, lw=3, c='darkorange', ls='-', alpha=.8)\n",
    "# ax2.axhline(mean_scratch_recall_old, lw=3, c='darkorange', ls='-', alpha=.8)\n",
    "# ax2.axhspan(\n",
    "#     mean_scratch_recall_old - std_scratch_recall_old,\n",
    "#     mean_scratch_recall_old + std_scratch_recall_old,\n",
    "#     color='darkorange', alpha=.3)\n",
    "# ax2.axhline(mean_scratch_recall_new, lw=3, c='darkorange', ls='-', alpha=.8)\n",
    "# ax2.axhspan(\n",
    "#     mean_scratch_recall_new - std_scratch_recall_new,\n",
    "#     mean_scratch_recall_new + std_scratch_recall_new,\n",
    "#     color='darkorange', alpha=.3)\n",
    "# ax2.axhline(scratch_fscore_all, lw=3, c='forestgreen', ls='-', alpha=.8)\n",
    "ax2.set_yticks([scratch_precision_all, scratch_recall_all])\n",
    "ax2.set_yticklabels(['Scratch\\nPrec Overall', '\\n\\nRec Overall'])\n",
    "ax2.tick_params(axis='y', labelsize=14)\n",
    "\n",
    "empty_handle = Rectangle((0,0), 1, 1, fill=False, edgecolor='none', visible=False)\n",
    "handles = [\n",
    "#     Line2D([0], [0], color='k'),\n",
    "    empty_handle,\n",
    "    Line2D([0], [0], color='steelblue'),\n",
    "    Line2D([0], [0], color='darkorange'),\n",
    "    Line2D([0], [0], color='forestgreen'),\n",
    "    empty_handle,\n",
    "    empty_handle,\n",
    "    Line2D([0], [0], color='k'),\n",
    "    Line2D([0], [0], color='k', ls='--'),\n",
    "    Line2D([0], [0], color='k', ls=':'),\n",
    "    empty_handle,\n",
    "    empty_handle,\n",
    "    Line2D([0], [0], color='k', ls='-'),\n",
    "    # Line2D([0], [0], color='firebrick', ls='--'),\n",
    "    Line2D([0], [0], color='darkcyan', ls='--'),\n",
    "    Line2D([0], [0], color='purple', ls=':'),\n",
    "]\n",
    "labels = [\n",
    "#     'Scratch F1',\n",
    "    'Metric', 'Precision', 'Recall', 'F1', '', 'Type', 'Old', 'New', 'Overall', '', '$\\lambda$',\n",
    "    'Original',\n",
    "    # '$\\mathrm{LA}_{max}$',\n",
    "    # '$\\mathrm{LA}_{min}$',\n",
    "    '$\\mathrm{LA}_{avg}$',\n",
    "    'Best F1'\n",
    "]\n",
    "leg = ax.legend(handles, labels, loc='upper left', bbox_to_anchor=(1.15, 1), fontsize=14)\n",
    "leg.get_frame().set_linewidth(0)\n",
    "\n",
    "plt.show()"
   ]
  },
  {
   "cell_type": "code",
   "execution_count": null,
   "id": "5f188527",
   "metadata": {},
   "outputs": [],
   "source": []
  }
 ],
 "metadata": {
  "kernelspec": {
   "display_name": "Python 3",
   "language": "python",
   "name": "python3"
  },
  "language_info": {
   "codemirror_mode": {
    "name": "ipython",
    "version": 3
   },
   "file_extension": ".py",
   "mimetype": "text/x-python",
   "name": "python",
   "nbconvert_exporter": "python",
   "pygments_lexer": "ipython3",
   "version": "3.10.6"
  },
  "vscode": {
   "interpreter": {
    "hash": "31f2aee4e71d21fbe5cf8b01ff0e069b9275f58929596ceb00d14d90e3e16cd6"
   }
  }
 },
 "nbformat": 4,
 "nbformat_minor": 5
}
