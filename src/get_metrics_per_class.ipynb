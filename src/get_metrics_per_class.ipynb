{
 "cells": [
  {
   "cell_type": "code",
   "execution_count": 1,
   "id": "45334490",
   "metadata": {},
   "outputs": [],
   "source": [
    "%load_ext autoreload\n",
    "%autoreload 2"
   ]
  },
  {
   "cell_type": "code",
   "execution_count": 2,
   "id": "0e2aeedd",
   "metadata": {},
   "outputs": [],
   "source": [
    "from glob import glob\n",
    "import os\n",
    "#import matplotlib.cm as cm\n",
    "#import matplotlib.pyplot as plt\n",
    "import pandas as pd\n",
    "#import seaborn as sns\n",
    "from tqdm import tqdm\n",
    "import numpy as np\n",
    "import functools\n",
    "from copy import deepcopy\n",
    "import math\n",
    "\n",
    "from util.metrics_utils import *\n",
    "import warnings\n",
    "warnings.filterwarnings('ignore')"
   ]
  },
  {
   "cell_type": "code",
   "execution_count": 3,
   "id": "16e147bc",
   "metadata": {},
   "outputs": [
    {
     "name": "stdout",
     "output_type": "stream",
     "text": [
      "Scenario: 39_1\n",
      "Approach: icarl\n"
     ]
    },
    {
     "name": "stderr",
     "output_type": "stream",
     "text": [
      "100%|█████████████████████████████████████████████████████████████████████████████████████████████████████████████████| 40/40 [00:00<00:00, 77.96it/s]\n"
     ]
    },
    {
     "name": "stdout",
     "output_type": "stream",
     "text": [
      "Approach: icarlp\n"
     ]
    },
    {
     "name": "stderr",
     "output_type": "stream",
     "text": [
      "100%|█████████████████████████████████████████████████████████████████████████████████████████████████████████████████| 40/40 [00:00<00:00, 92.59it/s]\n"
     ]
    },
    {
     "name": "stdout",
     "output_type": "stream",
     "text": [
      "Approach: bic\n"
     ]
    },
    {
     "name": "stderr",
     "output_type": "stream",
     "text": [
      "100%|█████████████████████████████████████████████████████████████████████████████████████████████████████████████████| 40/40 [00:00<00:00, 92.18it/s]\n"
     ]
    },
    {
     "name": "stdout",
     "output_type": "stream",
     "text": [
      "Approach: il2m\n"
     ]
    },
    {
     "name": "stderr",
     "output_type": "stream",
     "text": [
      "100%|█████████████████████████████████████████████████████████████████████████████████████████████████████████████████| 40/40 [00:00<00:00, 94.57it/s]\n"
     ]
    },
    {
     "name": "stdout",
     "output_type": "stream",
     "text": [
      "Approach: lwf\n"
     ]
    },
    {
     "name": "stderr",
     "output_type": "stream",
     "text": [
      "100%|█████████████████████████████████████████████████████████████████████████████████████████████████████████████████| 40/40 [00:00<00:00, 93.85it/s]\n"
     ]
    },
    {
     "name": "stdout",
     "output_type": "stream",
     "text": [
      "Approach: lucir\n"
     ]
    },
    {
     "name": "stderr",
     "output_type": "stream",
     "text": [
      "100%|█████████████████████████████████████████████████████████████████████████████████████████████████████████████████| 40/40 [00:00<00:00, 96.43it/s]\n"
     ]
    },
    {
     "name": "stdout",
     "output_type": "stream",
     "text": [
      "Approach: ewc\n"
     ]
    },
    {
     "name": "stderr",
     "output_type": "stream",
     "text": [
      "100%|█████████████████████████████████████████████████████████████████████████████████████████████████████████████████| 40/40 [00:00<00:00, 92.89it/s]\n"
     ]
    },
    {
     "name": "stdout",
     "output_type": "stream",
     "text": [
      "Approach: eeil\n"
     ]
    },
    {
     "name": "stderr",
     "output_type": "stream",
     "text": [
      "100%|█████████████████████████████████████████████████████████████████████████████████████████████████████████████████| 40/40 [00:00<00:00, 92.31it/s]\n"
     ]
    },
    {
     "name": "stdout",
     "output_type": "stream",
     "text": [
      "Approach: ssil\n"
     ]
    },
    {
     "name": "stderr",
     "output_type": "stream",
     "text": [
      "100%|█████████████████████████████████████████████████████████████████████████████████████████████████████████████████| 40/40 [00:00<00:00, 92.13it/s]\n"
     ]
    },
    {
     "name": "stdout",
     "output_type": "stream",
     "text": [
      "Approach: chen2021\n"
     ]
    },
    {
     "name": "stderr",
     "output_type": "stream",
     "text": [
      "100%|█████████████████████████████████████████████████████████████████████████████████████████████████████████████████| 40/40 [00:00<00:00, 81.79it/s]\n"
     ]
    },
    {
     "name": "stdout",
     "output_type": "stream",
     "text": [
      "Approach: freezing\n"
     ]
    },
    {
     "name": "stderr",
     "output_type": "stream",
     "text": [
      "100%|█████████████████████████████████████████████████████████████████████████████████████████████████████████████████| 40/40 [00:00<00:00, 92.08it/s]\n"
     ]
    },
    {
     "name": "stdout",
     "output_type": "stream",
     "text": [
      "Approach: finetuning\n"
     ]
    },
    {
     "name": "stderr",
     "output_type": "stream",
     "text": [
      "100%|█████████████████████████████████████████████████████████████████████████████████████████████████████████████████| 40/40 [00:00<00:00, 94.71it/s]\n"
     ]
    },
    {
     "name": "stdout",
     "output_type": "stream",
     "text": [
      "Approach: backbonefreezing\n"
     ]
    },
    {
     "name": "stderr",
     "output_type": "stream",
     "text": [
      "100%|█████████████████████████████████████████████████████████████████████████████████████████████████████████████████| 80/80 [00:00<00:00, 94.58it/s]\n"
     ]
    },
    {
     "name": "stdout",
     "output_type": "stream",
     "text": [
      "Approach: jointft\n"
     ]
    },
    {
     "name": "stderr",
     "output_type": "stream",
     "text": [
      "100%|█████████████████████████████████████████████████████████████████████████████████████████████████████████████████| 40/40 [00:00<00:00, 93.72it/s]\n"
     ]
    },
    {
     "name": "stdout",
     "output_type": "stream",
     "text": [
      "Approach: joint\n"
     ]
    },
    {
     "name": "stderr",
     "output_type": "stream",
     "text": [
      "100%|████████████████████████████████████████████████████████████████████████████████████████████████████████████████| 80/80 [00:00<00:00, 159.22it/s]\n"
     ]
    },
    {
     "name": "stdout",
     "output_type": "stream",
     "text": [
      "Scenario: CV_20\n",
      "Approach: icarl\n"
     ]
    },
    {
     "name": "stderr",
     "output_type": "stream",
     "text": [
      "100%|█████████████████████████████████████████████████████████████████████████████████████████████████████████████████| 41/41 [00:00<00:00, 98.05it/s]\n"
     ]
    },
    {
     "name": "stdout",
     "output_type": "stream",
     "text": [
      "Approach: icarlp\n"
     ]
    },
    {
     "name": "stderr",
     "output_type": "stream",
     "text": [
      "100%|█████████████████████████████████████████████████████████████████████████████████████████████████████████████████| 41/41 [00:00<00:00, 96.90it/s]\n"
     ]
    },
    {
     "name": "stdout",
     "output_type": "stream",
     "text": [
      "Approach: bic\n"
     ]
    },
    {
     "name": "stderr",
     "output_type": "stream",
     "text": [
      "100%|█████████████████████████████████████████████████████████████████████████████████████████████████████████████████| 41/41 [00:00<00:00, 98.93it/s]\n"
     ]
    },
    {
     "name": "stdout",
     "output_type": "stream",
     "text": [
      "Approach: il2m\n"
     ]
    },
    {
     "name": "stderr",
     "output_type": "stream",
     "text": [
      "100%|█████████████████████████████████████████████████████████████████████████████████████████████████████████████████| 41/41 [00:00<00:00, 97.79it/s]\n"
     ]
    },
    {
     "name": "stdout",
     "output_type": "stream",
     "text": [
      "Approach: lwf\n"
     ]
    },
    {
     "name": "stderr",
     "output_type": "stream",
     "text": [
      "100%|█████████████████████████████████████████████████████████████████████████████████████████████████████████████████| 41/41 [00:00<00:00, 98.79it/s]\n"
     ]
    },
    {
     "name": "stdout",
     "output_type": "stream",
     "text": [
      "Approach: lucir\n"
     ]
    },
    {
     "name": "stderr",
     "output_type": "stream",
     "text": [
      "100%|████████████████████████████████████████████████████████████████████████████████████████████████████████████████| 41/41 [00:00<00:00, 100.06it/s]\n"
     ]
    },
    {
     "name": "stdout",
     "output_type": "stream",
     "text": [
      "Approach: ewc\n"
     ]
    },
    {
     "name": "stderr",
     "output_type": "stream",
     "text": [
      "100%|█████████████████████████████████████████████████████████████████████████████████████████████████████████████████| 41/41 [00:00<00:00, 98.23it/s]\n"
     ]
    },
    {
     "name": "stdout",
     "output_type": "stream",
     "text": [
      "Approach: eeil\n"
     ]
    },
    {
     "name": "stderr",
     "output_type": "stream",
     "text": [
      "100%|█████████████████████████████████████████████████████████████████████████████████████████████████████████████████| 41/41 [00:00<00:00, 97.06it/s]\n"
     ]
    },
    {
     "name": "stdout",
     "output_type": "stream",
     "text": [
      "Approach: ssil\n"
     ]
    },
    {
     "name": "stderr",
     "output_type": "stream",
     "text": [
      "100%|█████████████████████████████████████████████████████████████████████████████████████████████████████████████████| 41/41 [00:00<00:00, 98.89it/s]\n"
     ]
    },
    {
     "name": "stdout",
     "output_type": "stream",
     "text": [
      "Approach: chen2021\n"
     ]
    },
    {
     "name": "stderr",
     "output_type": "stream",
     "text": [
      "100%|█████████████████████████████████████████████████████████████████████████████████████████████████████████████████| 40/40 [00:00<00:00, 83.93it/s]\n"
     ]
    },
    {
     "name": "stdout",
     "output_type": "stream",
     "text": [
      "Approach: freezing\n"
     ]
    },
    {
     "name": "stderr",
     "output_type": "stream",
     "text": [
      "100%|█████████████████████████████████████████████████████████████████████████████████████████████████████████████████| 40/40 [00:00<00:00, 95.76it/s]\n"
     ]
    },
    {
     "name": "stdout",
     "output_type": "stream",
     "text": [
      "Approach: finetuning\n"
     ]
    },
    {
     "name": "stderr",
     "output_type": "stream",
     "text": [
      "100%|█████████████████████████████████████████████████████████████████████████████████████████████████████████████████| 40/40 [00:00<00:00, 95.35it/s]\n"
     ]
    },
    {
     "name": "stdout",
     "output_type": "stream",
     "text": [
      "Approach: backbonefreezing\n"
     ]
    },
    {
     "name": "stderr",
     "output_type": "stream",
     "text": [
      "100%|█████████████████████████████████████████████████████████████████████████████████████████████████████████████████| 80/80 [00:00<00:00, 96.60it/s]\n"
     ]
    },
    {
     "name": "stdout",
     "output_type": "stream",
     "text": [
      "Approach: jointft\n"
     ]
    },
    {
     "name": "stderr",
     "output_type": "stream",
     "text": [
      "100%|█████████████████████████████████████████████████████████████████████████████████████████████████████████████████| 40/40 [00:00<00:00, 95.37it/s]\n"
     ]
    },
    {
     "name": "stdout",
     "output_type": "stream",
     "text": [
      "Approach: joint\n"
     ]
    },
    {
     "name": "stderr",
     "output_type": "stream",
     "text": [
      "100%|████████████████████████████████████████████████████████████████████████████████████████████████████████████████| 50/50 [00:00<00:00, 115.10it/s]\n"
     ]
    }
   ],
   "source": [
    "res_root_path = '/media/nas/datasets/MIRAGE_2020/FSCIL_approaches/hf-project/final_results/results/'\n",
    "metrics = {'f1_score': 'F1 Score'}\n",
    "scenarios_dict = {'CV_20': 'computer_vision_base20_incr20_stop2',\n",
    "                  '39_1': '39_1_base39_incr1_stop2'}\n",
    "get_seed0 = {'39_1': True, 'CV_20': False}\n",
    "max_classes = 40\n",
    "selected_approaches_list = ['icarl', 'icarlp', 'bic', 'il2m', 'lwf', 'lucir', 'ewc', 'eeil', 'ssil', \n",
    "                            'chen2021', 'freezing', 'finetuning', 'backbonefreezing', 'jointft', 'joint']\n",
    "selected_scenarios = ['39_1', 'CV_20']\n",
    "exp_info_dict = {col: [] for col in ['Seed', 'Approach', 'Task', 'Nc first task', 'Nc incr tasks', 'Last App', 'Metric']}\n",
    "per_class_met_arrival_order_dict = {col: [] for col in ['Class order[%s]' % i for i in range(max_classes)] + ['Class order']}\n",
    "per_class_met_dict = {col: [] for col in ['Class %s' % i for i in range(max_classes)]}\n",
    "\n",
    "for scenario in selected_scenarios:\n",
    "    print('Scenario: %s' % scenario)\n",
    "    for approach in selected_approaches_list:\n",
    "        print('Approach: %s' % approach)\n",
    "        exp_root_path = os.path.join(res_root_path, 'mirage_generic_%s_%s' % (approach, scenarios_dict[scenario]))\n",
    "        args_filenames_list = discard_duplicates(glob(os.path.join(exp_root_path, 'args-*.txt')))\n",
    "        for args_filename in tqdm(args_filenames_list):\n",
    "            args_dict = get_args_dict(args_filename)\n",
    "            seed = int(args_dict['seed'])\n",
    "            nc_first_task = int(args_dict['nc_first_task'])\n",
    "            nc_incr_tasks = int(args_dict['nc_incr_tasks'])\n",
    "            last_app = str(args_dict.get('last_class', -1))\n",
    "            if (seed == 0 and get_seed0[scenario]) or seed > 0:\n",
    "                num_tasks = int(args_dict['stop_at_task'])\n",
    "                ts = get_ts(args_filename)\n",
    "                memory_size = args_dict.get('num_exemplars', 0)\n",
    "                approach = args_dict['approach']\\\n",
    "                    if args_dict['approach'] not in ['joint', 'backbonefreezing'] or memory_size == 0\\\n",
    "                    else args_dict['approach'] + 'mem'\n",
    "                knowledge_distillation = args_dict.get('knowledge_distillation', 'none')\n",
    "                approach = approach if approach != 'lwf' or knowledge_distillation in ['tkd', 'none'] else 'lwfgkd'\n",
    "                if approach != 'joint':\n",
    "                    stdout_filename = os.path.join(exp_root_path, 'stdout-%s.txt' % ts)\n",
    "                    stdout_values_list = get_stdout_list(stdout_filename)\n",
    "                    k = 0\n",
    "                    is_clorder_token = False\n",
    "                    while not is_clorder_token and k < len(stdout_values_list):\n",
    "                        if 'Class order:' not in stdout_values_list[k]:\n",
    "                            k += 1\n",
    "                        else:\n",
    "                            is_clorder_token = True\n",
    "                    try:\n",
    "                        class_order = eval(stdout_values_list[k].split('Class order:')[1].rstrip())\n",
    "                    except IndexError:\n",
    "                        print('check corrupted stdout file')\n",
    "                        print(stdout_filename)\n",
    "                        raise\n",
    "                    per_class_df = pd.read_parquet(os.path.join(exp_root_path, 'results', 'outputs_targets_features_%s-%s_per_class_metrics.parquet' % (seed, ts)))                                \n",
    "                    for metric in metrics.keys():\n",
    "                        for i in range(num_tasks):\n",
    "                            exp_info_dict['Seed'].append(seed)\n",
    "                            exp_info_dict['Approach'].append(approach)\n",
    "                            exp_info_dict['Task'].append(i)\n",
    "                            exp_info_dict['Nc first task'].append(nc_first_task)\n",
    "                            exp_info_dict['Nc incr tasks'].append(nc_incr_tasks)\n",
    "                            exp_info_dict['Last App'].append(last_app)\n",
    "                            exp_info_dict['Metric'].append(metrics[metric])\n",
    "                            per_class_met_arrival_order_dict['Class order'].append(class_order)\n",
    "                            for cl in range(max_classes):\n",
    "                                class_pos = class_order.index(cl)\n",
    "                                per_class_met_arrival_order_dict['Class order[%s]' % class_pos].append(per_class_df[metric].iloc[i][class_pos] if cl in class_order[:nc_first_task+(i*nc_incr_tasks)] else np.nan)\n",
    "                                per_class_met_dict['Class %s' % cl].append(per_class_df[metric].iloc[i][class_pos] if cl in class_order[:nc_first_task+(i*nc_incr_tasks)] else np.nan)\n",
    "\n",
    "exp_info_per_cl_met_ord_arrival_dict = {**exp_info_dict, **per_class_met_arrival_order_dict}\n",
    "exp_info_per_cl_met_dict = {**exp_info_dict, **per_class_met_dict}\n",
    "\n",
    "per_cl_met_ord_arrival_df = pd.DataFrame(exp_info_per_cl_met_ord_arrival_dict)\n",
    "per_cl_met_dict_df = pd.DataFrame(exp_info_per_cl_met_dict)"
   ]
  },
  {
   "cell_type": "code",
   "execution_count": 4,
   "id": "318202de",
   "metadata": {},
   "outputs": [],
   "source": [
    "#per_cl_met_ord_arrival_df.value_counts('Approach')"
   ]
  },
  {
   "cell_type": "code",
   "execution_count": 5,
   "id": "662f9ee1",
   "metadata": {},
   "outputs": [
    {
     "data": {
      "text/html": [
       "<div>\n",
       "<style scoped>\n",
       "    .dataframe tbody tr th:only-of-type {\n",
       "        vertical-align: middle;\n",
       "    }\n",
       "\n",
       "    .dataframe tbody tr th {\n",
       "        vertical-align: top;\n",
       "    }\n",
       "\n",
       "    .dataframe thead th {\n",
       "        text-align: right;\n",
       "    }\n",
       "</style>\n",
       "<table border=\"1\" class=\"dataframe\">\n",
       "  <thead>\n",
       "    <tr style=\"text-align: right;\">\n",
       "      <th></th>\n",
       "      <th>Seed</th>\n",
       "      <th>Approach</th>\n",
       "      <th>Task</th>\n",
       "      <th>Nc first task</th>\n",
       "      <th>Nc incr tasks</th>\n",
       "      <th>Last App</th>\n",
       "      <th>Metric</th>\n",
       "      <th>Class order[0]</th>\n",
       "      <th>Class order[1]</th>\n",
       "      <th>Class order[2]</th>\n",
       "      <th>...</th>\n",
       "      <th>Class order[31]</th>\n",
       "      <th>Class order[32]</th>\n",
       "      <th>Class order[33]</th>\n",
       "      <th>Class order[34]</th>\n",
       "      <th>Class order[35]</th>\n",
       "      <th>Class order[36]</th>\n",
       "      <th>Class order[37]</th>\n",
       "      <th>Class order[38]</th>\n",
       "      <th>Class order[39]</th>\n",
       "      <th>Class order</th>\n",
       "    </tr>\n",
       "  </thead>\n",
       "  <tbody>\n",
       "    <tr>\n",
       "      <th>0</th>\n",
       "      <td>0</td>\n",
       "      <td>icarl</td>\n",
       "      <td>0</td>\n",
       "      <td>39</td>\n",
       "      <td>1</td>\n",
       "      <td>14</td>\n",
       "      <td>F1 Score</td>\n",
       "      <td>0.307109</td>\n",
       "      <td>0.282071</td>\n",
       "      <td>0.605117</td>\n",
       "      <td>...</td>\n",
       "      <td>0.242424</td>\n",
       "      <td>0.039216</td>\n",
       "      <td>0.469122</td>\n",
       "      <td>0.211470</td>\n",
       "      <td>0.118110</td>\n",
       "      <td>0.269600</td>\n",
       "      <td>0.404423</td>\n",
       "      <td>0.288073</td>\n",
       "      <td>NaN</td>\n",
       "      <td>[25, 39, 5, 28, 0, 36, 8, 20, 3, 26, 4, 9, 30,...</td>\n",
       "    </tr>\n",
       "    <tr>\n",
       "      <th>1</th>\n",
       "      <td>0</td>\n",
       "      <td>icarl</td>\n",
       "      <td>1</td>\n",
       "      <td>39</td>\n",
       "      <td>1</td>\n",
       "      <td>14</td>\n",
       "      <td>F1 Score</td>\n",
       "      <td>0.260674</td>\n",
       "      <td>0.281977</td>\n",
       "      <td>0.719924</td>\n",
       "      <td>...</td>\n",
       "      <td>0.144431</td>\n",
       "      <td>0.003846</td>\n",
       "      <td>0.478859</td>\n",
       "      <td>0.253102</td>\n",
       "      <td>0.122222</td>\n",
       "      <td>0.244798</td>\n",
       "      <td>0.407643</td>\n",
       "      <td>0.291943</td>\n",
       "      <td>0.217988</td>\n",
       "      <td>[25, 39, 5, 28, 0, 36, 8, 20, 3, 26, 4, 9, 30,...</td>\n",
       "    </tr>\n",
       "    <tr>\n",
       "      <th>2</th>\n",
       "      <td>0</td>\n",
       "      <td>icarl</td>\n",
       "      <td>0</td>\n",
       "      <td>39</td>\n",
       "      <td>1</td>\n",
       "      <td>0</td>\n",
       "      <td>F1 Score</td>\n",
       "      <td>0.295455</td>\n",
       "      <td>0.424766</td>\n",
       "      <td>0.313800</td>\n",
       "      <td>...</td>\n",
       "      <td>0.494784</td>\n",
       "      <td>0.262586</td>\n",
       "      <td>0.584203</td>\n",
       "      <td>0.354884</td>\n",
       "      <td>0.344262</td>\n",
       "      <td>0.427502</td>\n",
       "      <td>0.492678</td>\n",
       "      <td>0.449136</td>\n",
       "      <td>NaN</td>\n",
       "      <td>[10, 26, 12, 23, 21, 7, 27, 17, 35, 1, 36, 30,...</td>\n",
       "    </tr>\n",
       "    <tr>\n",
       "      <th>3</th>\n",
       "      <td>0</td>\n",
       "      <td>icarl</td>\n",
       "      <td>1</td>\n",
       "      <td>39</td>\n",
       "      <td>1</td>\n",
       "      <td>0</td>\n",
       "      <td>F1 Score</td>\n",
       "      <td>0.203548</td>\n",
       "      <td>0.308511</td>\n",
       "      <td>0.251799</td>\n",
       "      <td>...</td>\n",
       "      <td>0.503794</td>\n",
       "      <td>0.280226</td>\n",
       "      <td>0.549058</td>\n",
       "      <td>0.394397</td>\n",
       "      <td>0.328725</td>\n",
       "      <td>0.400000</td>\n",
       "      <td>0.446660</td>\n",
       "      <td>0.429278</td>\n",
       "      <td>0.291585</td>\n",
       "      <td>[10, 26, 12, 23, 21, 7, 27, 17, 35, 1, 36, 30,...</td>\n",
       "    </tr>\n",
       "    <tr>\n",
       "      <th>4</th>\n",
       "      <td>0</td>\n",
       "      <td>icarl</td>\n",
       "      <td>0</td>\n",
       "      <td>39</td>\n",
       "      <td>1</td>\n",
       "      <td>22</td>\n",
       "      <td>F1 Score</td>\n",
       "      <td>0.340718</td>\n",
       "      <td>0.438972</td>\n",
       "      <td>0.070232</td>\n",
       "      <td>...</td>\n",
       "      <td>0.318928</td>\n",
       "      <td>0.264386</td>\n",
       "      <td>0.334515</td>\n",
       "      <td>0.312081</td>\n",
       "      <td>0.714575</td>\n",
       "      <td>0.448743</td>\n",
       "      <td>0.099370</td>\n",
       "      <td>0.196484</td>\n",
       "      <td>NaN</td>\n",
       "      <td>[0, 3, 9, 17, 23, 25, 2, 16, 13, 35, 32, 37, 2...</td>\n",
       "    </tr>\n",
       "    <tr>\n",
       "      <th>...</th>\n",
       "      <td>...</td>\n",
       "      <td>...</td>\n",
       "      <td>...</td>\n",
       "      <td>...</td>\n",
       "      <td>...</td>\n",
       "      <td>...</td>\n",
       "      <td>...</td>\n",
       "      <td>...</td>\n",
       "      <td>...</td>\n",
       "      <td>...</td>\n",
       "      <td>...</td>\n",
       "      <td>...</td>\n",
       "      <td>...</td>\n",
       "      <td>...</td>\n",
       "      <td>...</td>\n",
       "      <td>...</td>\n",
       "      <td>...</td>\n",
       "      <td>...</td>\n",
       "      <td>...</td>\n",
       "      <td>...</td>\n",
       "      <td>...</td>\n",
       "    </tr>\n",
       "    <tr>\n",
       "      <th>2555</th>\n",
       "      <td>33</td>\n",
       "      <td>jointmem</td>\n",
       "      <td>1</td>\n",
       "      <td>20</td>\n",
       "      <td>20</td>\n",
       "      <td>-1</td>\n",
       "      <td>F1 Score</td>\n",
       "      <td>0.373034</td>\n",
       "      <td>0.741935</td>\n",
       "      <td>0.727549</td>\n",
       "      <td>...</td>\n",
       "      <td>0.441406</td>\n",
       "      <td>0.588835</td>\n",
       "      <td>0.581024</td>\n",
       "      <td>0.382394</td>\n",
       "      <td>0.737317</td>\n",
       "      <td>0.741036</td>\n",
       "      <td>0.640809</td>\n",
       "      <td>0.734232</td>\n",
       "      <td>0.411248</td>\n",
       "      <td>[15, 5, 0, 26, 17, 25, 36, 21, 35, 22, 34, 23,...</td>\n",
       "    </tr>\n",
       "    <tr>\n",
       "      <th>2556</th>\n",
       "      <td>39</td>\n",
       "      <td>jointmem</td>\n",
       "      <td>0</td>\n",
       "      <td>20</td>\n",
       "      <td>20</td>\n",
       "      <td>-1</td>\n",
       "      <td>F1 Score</td>\n",
       "      <td>0.764552</td>\n",
       "      <td>0.902394</td>\n",
       "      <td>0.935294</td>\n",
       "      <td>...</td>\n",
       "      <td>NaN</td>\n",
       "      <td>NaN</td>\n",
       "      <td>NaN</td>\n",
       "      <td>NaN</td>\n",
       "      <td>NaN</td>\n",
       "      <td>NaN</td>\n",
       "      <td>NaN</td>\n",
       "      <td>NaN</td>\n",
       "      <td>NaN</td>\n",
       "      <td>[3, 2, 21, 23, 10, 16, 18, 25, 33, 39, 1, 15, ...</td>\n",
       "    </tr>\n",
       "    <tr>\n",
       "      <th>2557</th>\n",
       "      <td>39</td>\n",
       "      <td>jointmem</td>\n",
       "      <td>1</td>\n",
       "      <td>20</td>\n",
       "      <td>20</td>\n",
       "      <td>-1</td>\n",
       "      <td>F1 Score</td>\n",
       "      <td>0.522659</td>\n",
       "      <td>0.569250</td>\n",
       "      <td>0.502674</td>\n",
       "      <td>...</td>\n",
       "      <td>0.380024</td>\n",
       "      <td>0.470078</td>\n",
       "      <td>0.656371</td>\n",
       "      <td>0.764392</td>\n",
       "      <td>0.934554</td>\n",
       "      <td>0.785982</td>\n",
       "      <td>0.320175</td>\n",
       "      <td>0.656347</td>\n",
       "      <td>0.348309</td>\n",
       "      <td>[3, 2, 21, 23, 10, 16, 18, 25, 33, 39, 1, 15, ...</td>\n",
       "    </tr>\n",
       "    <tr>\n",
       "      <th>2558</th>\n",
       "      <td>30</td>\n",
       "      <td>jointmem</td>\n",
       "      <td>0</td>\n",
       "      <td>20</td>\n",
       "      <td>20</td>\n",
       "      <td>-1</td>\n",
       "      <td>F1 Score</td>\n",
       "      <td>0.633555</td>\n",
       "      <td>0.936114</td>\n",
       "      <td>0.901761</td>\n",
       "      <td>...</td>\n",
       "      <td>NaN</td>\n",
       "      <td>NaN</td>\n",
       "      <td>NaN</td>\n",
       "      <td>NaN</td>\n",
       "      <td>NaN</td>\n",
       "      <td>NaN</td>\n",
       "      <td>NaN</td>\n",
       "      <td>NaN</td>\n",
       "      <td>NaN</td>\n",
       "      <td>[9, 21, 5, 19, 31, 8, 27, 15, 10, 29, 30, 35, ...</td>\n",
       "    </tr>\n",
       "    <tr>\n",
       "      <th>2559</th>\n",
       "      <td>30</td>\n",
       "      <td>jointmem</td>\n",
       "      <td>1</td>\n",
       "      <td>20</td>\n",
       "      <td>20</td>\n",
       "      <td>-1</td>\n",
       "      <td>F1 Score</td>\n",
       "      <td>0.013942</td>\n",
       "      <td>0.390985</td>\n",
       "      <td>0.689739</td>\n",
       "      <td>...</td>\n",
       "      <td>0.644792</td>\n",
       "      <td>0.696938</td>\n",
       "      <td>0.501493</td>\n",
       "      <td>0.522596</td>\n",
       "      <td>0.681203</td>\n",
       "      <td>0.772487</td>\n",
       "      <td>0.369181</td>\n",
       "      <td>0.432895</td>\n",
       "      <td>0.525478</td>\n",
       "      <td>[9, 21, 5, 19, 31, 8, 27, 15, 10, 29, 30, 35, ...</td>\n",
       "    </tr>\n",
       "  </tbody>\n",
       "</table>\n",
       "<p>2560 rows × 48 columns</p>\n",
       "</div>"
      ],
      "text/plain": [
       "      Seed  Approach  Task  Nc first task  Nc incr tasks Last App    Metric  \\\n",
       "0        0     icarl     0             39              1       14  F1 Score   \n",
       "1        0     icarl     1             39              1       14  F1 Score   \n",
       "2        0     icarl     0             39              1        0  F1 Score   \n",
       "3        0     icarl     1             39              1        0  F1 Score   \n",
       "4        0     icarl     0             39              1       22  F1 Score   \n",
       "...    ...       ...   ...            ...            ...      ...       ...   \n",
       "2555    33  jointmem     1             20             20       -1  F1 Score   \n",
       "2556    39  jointmem     0             20             20       -1  F1 Score   \n",
       "2557    39  jointmem     1             20             20       -1  F1 Score   \n",
       "2558    30  jointmem     0             20             20       -1  F1 Score   \n",
       "2559    30  jointmem     1             20             20       -1  F1 Score   \n",
       "\n",
       "      Class order[0]  Class order[1]  Class order[2]  ...  Class order[31]  \\\n",
       "0           0.307109        0.282071        0.605117  ...         0.242424   \n",
       "1           0.260674        0.281977        0.719924  ...         0.144431   \n",
       "2           0.295455        0.424766        0.313800  ...         0.494784   \n",
       "3           0.203548        0.308511        0.251799  ...         0.503794   \n",
       "4           0.340718        0.438972        0.070232  ...         0.318928   \n",
       "...              ...             ...             ...  ...              ...   \n",
       "2555        0.373034        0.741935        0.727549  ...         0.441406   \n",
       "2556        0.764552        0.902394        0.935294  ...              NaN   \n",
       "2557        0.522659        0.569250        0.502674  ...         0.380024   \n",
       "2558        0.633555        0.936114        0.901761  ...              NaN   \n",
       "2559        0.013942        0.390985        0.689739  ...         0.644792   \n",
       "\n",
       "      Class order[32]  Class order[33]  Class order[34]  Class order[35]  \\\n",
       "0            0.039216         0.469122         0.211470         0.118110   \n",
       "1            0.003846         0.478859         0.253102         0.122222   \n",
       "2            0.262586         0.584203         0.354884         0.344262   \n",
       "3            0.280226         0.549058         0.394397         0.328725   \n",
       "4            0.264386         0.334515         0.312081         0.714575   \n",
       "...               ...              ...              ...              ...   \n",
       "2555         0.588835         0.581024         0.382394         0.737317   \n",
       "2556              NaN              NaN              NaN              NaN   \n",
       "2557         0.470078         0.656371         0.764392         0.934554   \n",
       "2558              NaN              NaN              NaN              NaN   \n",
       "2559         0.696938         0.501493         0.522596         0.681203   \n",
       "\n",
       "      Class order[36]  Class order[37]  Class order[38]  Class order[39]  \\\n",
       "0            0.269600         0.404423         0.288073              NaN   \n",
       "1            0.244798         0.407643         0.291943         0.217988   \n",
       "2            0.427502         0.492678         0.449136              NaN   \n",
       "3            0.400000         0.446660         0.429278         0.291585   \n",
       "4            0.448743         0.099370         0.196484              NaN   \n",
       "...               ...              ...              ...              ...   \n",
       "2555         0.741036         0.640809         0.734232         0.411248   \n",
       "2556              NaN              NaN              NaN              NaN   \n",
       "2557         0.785982         0.320175         0.656347         0.348309   \n",
       "2558              NaN              NaN              NaN              NaN   \n",
       "2559         0.772487         0.369181         0.432895         0.525478   \n",
       "\n",
       "                                            Class order  \n",
       "0     [25, 39, 5, 28, 0, 36, 8, 20, 3, 26, 4, 9, 30,...  \n",
       "1     [25, 39, 5, 28, 0, 36, 8, 20, 3, 26, 4, 9, 30,...  \n",
       "2     [10, 26, 12, 23, 21, 7, 27, 17, 35, 1, 36, 30,...  \n",
       "3     [10, 26, 12, 23, 21, 7, 27, 17, 35, 1, 36, 30,...  \n",
       "4     [0, 3, 9, 17, 23, 25, 2, 16, 13, 35, 32, 37, 2...  \n",
       "...                                                 ...  \n",
       "2555  [15, 5, 0, 26, 17, 25, 36, 21, 35, 22, 34, 23,...  \n",
       "2556  [3, 2, 21, 23, 10, 16, 18, 25, 33, 39, 1, 15, ...  \n",
       "2557  [3, 2, 21, 23, 10, 16, 18, 25, 33, 39, 1, 15, ...  \n",
       "2558  [9, 21, 5, 19, 31, 8, 27, 15, 10, 29, 30, 35, ...  \n",
       "2559  [9, 21, 5, 19, 31, 8, 27, 15, 10, 29, 30, 35, ...  \n",
       "\n",
       "[2560 rows x 48 columns]"
      ]
     },
     "execution_count": 5,
     "metadata": {},
     "output_type": "execute_result"
    }
   ],
   "source": [
    "per_cl_met_ord_arrival_df"
   ]
  },
  {
   "cell_type": "code",
   "execution_count": 6,
   "id": "ed7b6614",
   "metadata": {},
   "outputs": [],
   "source": [
    "def load_scratch_data(df_filenames, metric='f1_score', base=20, incr=5, max_classes=40):\n",
    "    df_filenames = discard_duplicates(df_filenames)\n",
    "    # Stop is computed basing on the base classes and the increment size up to reach the max_classes\n",
    "    stop = 1 + (((max_classes - base) // incr) if incr > 0 else 0)\n",
    "\n",
    "    df = pd.DataFrame()\n",
    "    df_tmp = pd.DataFrame()\n",
    "    rows = []\n",
    "    for df_filename in tqdm(df_filenames):\n",
    "        args_dict = get_args_dict(df_filename)\n",
    "        tmp_df = pd.read_parquet(df_filename)\n",
    "        \n",
    "        if 'nc_first_task' in tmp_df:\n",
    "            tmp_df_g = tmp_df.groupby(['nc_first_task', 'nc_incr_tasks'])\n",
    "        else:\n",
    "            tmp_df_g = [((args_dict['nc_first_task'], args_dict['nc_incr_tasks']), tmp_df)]\n",
    "\n",
    "        line = None\n",
    "        approach = 'scratch'\n",
    "        # Retrieving the class order list from the current stdout file\n",
    "        for line in get_stdout_list(df_filename):\n",
    "            if 'class order' in line.lower():\n",
    "                break\n",
    "        class_order = eval(line.split(':')[-1])\n",
    "\n",
    "        row = {'Seed': args_dict['seed'],\n",
    "               'Last App': args_dict.get('last_class', -1),\n",
    "               'Network': args_dict['network'],\n",
    "               'Approach': '%s' % appr_dict[approach],\n",
    "               'Batch Size': args_dict['batch_size'],\n",
    "               'Patience': args_dict['lr_patience'],\n",
    "               'Out Features Size': args_dict.get('out_features_size', 200),\n",
    "               'Momentum': args_dict.get('momentum', .0),\n",
    "               'Memory Size': args_dict.get('num_exemplars', 0),\n",
    "               'App Order': class_order,\n",
    "               }\n",
    "\n",
    "        for g, tmp_d in tmp_df_g:\n",
    "            _nc_first_task = g[0]\n",
    "            _nc_incr_tasks = g[1]\n",
    "\n",
    "            row.update({'Base Apps': _nc_first_task, 'Increment': _nc_incr_tasks})\n",
    "            values = [[v0 for v0 in v] for v in tmp_d[metric].values]\n",
    "\n",
    "            for ep, value in enumerate(values):\n",
    "                # For each episode we store only number of apps and the list of per-class (per-episode) metrics\n",
    "                row.update({\n",
    "                    '#Apps': _nc_first_task + _nc_incr_tasks * ep,\n",
    "                    metr_dict[metric]: value,\n",
    "                })\n",
    "                rows.append(deepcopy(row))\n",
    "                \n",
    "    # df_tmp contiene per ogni riga uno scenario (es 25+1) ed un episodio\n",
    "    df_tmp = df_tmp.append(rows, ignore_index=True)\n",
    "    # return df_tmp\n",
    "    assert len(df_tmp) > 0\n",
    "    # Basing on the passed arguments, the cumulative number of classes represents the number of classes at each episode\n",
    "    cumnum_classes = list(range(base, base + incr * (stop - 1) + 1, incr)) if incr > 0 else [base]\n",
    "    df_tmp = df_tmp[df_tmp['#Apps'].isin(cumnum_classes)]\n",
    "\n",
    "    rows = []\n",
    "    # This loop is needed in order to build episodes for the scratch approach\n",
    "    for ep, nc in enumerate(cumnum_classes):\n",
    "        # The tmp_df is grouped basing on several columns in order to separate configurations\n",
    "        group_columns = ['Network', 'Out Features Size', 'Memory Size', '#Apps', 'Approach', 'Batch Size',\n",
    "                         'Patience', 'Momentum']\n",
    "        # The scenario 39+1 needs an alignment of per-class (per-episode) metrics\n",
    "        if base == 39 and incr == 1 and stop == 2:\n",
    "            # The Last App column is needed to separate different executions\n",
    "            group_columns = ['Last App'] + group_columns\n",
    "            df_g = df_tmp[df_tmp['#Apps'] == nc].groupby(group_columns)\n",
    "\n",
    "            for g in df_g.groups:\n",
    "                # Scratch for 39 classes and no last class is discarded, because for the base model we need the one w/\n",
    "                # the correct Last App\n",
    "                if g[group_columns.index('Last App')] == -1 and nc == 39:\n",
    "                    continue\n",
    "\n",
    "                values = df_tmp.loc[df_g.groups[g], 'F1 Score'].values[0]\n",
    "                class_order = df_tmp.loc[df_g.groups[g], 'App Order'].values[0]\n",
    "                row = dict([(k, v) for k, v in zip(group_columns, g)])\n",
    "                row.update({\n",
    "                    'Seed': 0,\n",
    "                    'Base Apps': 39,\n",
    "                    'Increment': 1,\n",
    "                    'Episode': ep,\n",
    "                    metr_dict[metric]: values,\n",
    "                'Class order': class_order})\n",
    "                rows.append(deepcopy(row))\n",
    "        else:\n",
    "            group_columns = ['Seed'] + group_columns\n",
    "            df_g = df_tmp[df_tmp['#Apps'] == nc].groupby(group_columns)\n",
    "            for g in df_g.groups:\n",
    "                values = df_tmp.loc[df_g.groups[g], metr_dict[metric]].values[0]\n",
    "                class_order = df_tmp.loc[df_g.groups[g], 'App Order'].values[0]\n",
    "                row = dict([(k, v) for k, v in zip(group_columns, g)])\n",
    "                row.update({'Last App': -1,\n",
    "                            'Base Apps': base,\n",
    "                            'Increment': incr,\n",
    "                            'Episode': ep,\n",
    "                            metr_dict[metric]: values,\n",
    "                           'Class order': class_order})\n",
    "                rows.append(deepcopy(row))\n",
    "\n",
    "    df = df.append(rows, ignore_index=True)\n",
    "    return df"
   ]
  },
  {
   "cell_type": "code",
   "execution_count": 14,
   "id": "ba162b99",
   "metadata": {},
   "outputs": [
    {
     "name": "stderr",
     "output_type": "stream",
     "text": [
      "100%|█████████████████████████████████████████████████████████████████████████████████████████████████████████████████| 40/40 [00:00<00:00, 99.43it/s]\n",
      "100%|██████████████████████████████████████████████████████████████████████████████████████████████████████████████| 230/230 [00:02<00:00, 105.25it/s]\n",
      "100%|██████████████████████████████████████████████████████████████████████████████████████████████████████████████| 230/230 [00:01<00:00, 116.04it/s]\n"
     ]
    }
   ],
   "source": [
    "scratch_df_path_dict = {(20, 20): '/media/nas/datasets/MIRAGE_2020/FSCIL_approaches/hf-project/final_results/results_UB/mirage_generic_scratch_*/results/outputs_targets_features_*_per_class_metrics.parquet',\n",
    "                       (39, 1): '/media/nas/datasets/MIRAGE_2020/FSCIL_approaches/hf-project/final_results/results_UB/mirage_generic_scratch_39_ub_base39_incr1_stop1/results/outputs_targets_features_0-*_per_class_metrics.parquet',\n",
    "                       (40, 0): '/media/nas/datasets/MIRAGE_2020/FSCIL_approaches/hf-project/final_results/results_UB/mirage_generic_scratch_*/results/outputs_targets_features_*_per_class_metrics.parquet'}\n",
    "scratch_scenarios_list = [(39, 1), (40, 0), (20, 20)]\n",
    "exp_info_dict = {col: [] for col in ['Seed', 'Approach', 'Task', 'Nc first task', 'Nc incr tasks', 'Last App', 'Metric']}\n",
    "per_class_met_arrival_order_dict = {col: [] for col in ['Class order[%s]' % i for i in range(max_classes)] + ['Class order']}\n",
    "per_class_met_dict = {col: [] for col in ['Class %s' % i for i in range(max_classes)]}\n",
    "for scr_scen in scratch_scenarios_list:\n",
    "    nc_first_task = scr_scen[0]\n",
    "    nc_incr_tasks = scr_scen[1]\n",
    "    scratch_df_path = glob(scratch_df_path_dict[scr_scen])\n",
    "    tmp_df = load_scratch_data(scratch_df_path, base=nc_first_task, incr=nc_incr_tasks)\n",
    "    tmp_df = tmp_df[['Seed', 'Approach', 'Base Apps', 'Increment', 'Episode', 'F1 Score', 'Class order', 'Last App']]\n",
    "    num_tasks = tmp_df['Episode'].unique().shape[0]\n",
    "    tmp_df_groups = tmp_df.groupby(['Seed', 'Approach', 'Base Apps', 'Increment', 'Last App'])\n",
    "    for gr in tmp_df_groups.groups:\n",
    "        per_ep_df = tmp_df_groups.get_group(gr).reset_index(drop=True)\n",
    "        #print(per_ep_df)\n",
    "        for i in range(num_tasks):\n",
    "            exp_info_dict['Seed'].append(per_ep_df['Seed'].iloc[i])\n",
    "            exp_info_dict['Approach'].append('scratch')\n",
    "            exp_info_dict['Task'].append(per_ep_df['Episode'].iloc[i])\n",
    "            exp_info_dict['Nc first task'].append(per_ep_df['Base Apps'].iloc[i])\n",
    "            exp_info_dict['Nc incr tasks'].append(per_ep_df['Increment'].iloc[i])\n",
    "            exp_info_dict['Last App'].append(str(per_ep_df['Last App'].iloc[i]))\n",
    "            exp_info_dict['Metric'].append('F1 Score')\n",
    "            class_order = per_ep_df['Class order'].iloc[i]\n",
    "            #print(class_order)\n",
    "            per_class_met_arrival_order_dict['Class order'].append(class_order)\n",
    "            for cl in range(max_classes):\n",
    "                class_pos = class_order.index(cl)\n",
    "                #print(class_pos)\n",
    "                #input('check class pos')\n",
    "                per_class_met_arrival_order_dict['Class order[%s]' % class_pos].append(per_ep_df['F1 Score'].iloc[i][class_pos] if cl in class_order[:nc_first_task+(i*nc_incr_tasks)] else np.nan)\n",
    "                per_class_met_dict['Class %s' % cl].append(per_ep_df['F1 Score'].iloc[i][class_pos] if cl in class_order[:nc_first_task+(i*nc_incr_tasks)] else np.nan)\n",
    "            #print(per_class_met_arrival_order_dict)\n",
    "            #print(per_class_met_dict)\n",
    "            #input('check')\n",
    "exp_info_per_cl_met_ord_arrival_dict = {**exp_info_dict, **per_class_met_arrival_order_dict}\n",
    "exp_info_per_cl_met_dict = {**exp_info_dict, **per_class_met_dict}\n",
    "\n",
    "scratch_met_ord_arrival_df = pd.DataFrame(exp_info_per_cl_met_ord_arrival_dict)\n",
    "scratch_met_df = pd.DataFrame(exp_info_per_cl_met_dict)"
   ]
  },
  {
   "cell_type": "code",
   "execution_count": 15,
   "id": "7b25c3f1",
   "metadata": {},
   "outputs": [
    {
     "data": {
      "text/html": [
       "<div>\n",
       "<style scoped>\n",
       "    .dataframe tbody tr th:only-of-type {\n",
       "        vertical-align: middle;\n",
       "    }\n",
       "\n",
       "    .dataframe tbody tr th {\n",
       "        vertical-align: top;\n",
       "    }\n",
       "\n",
       "    .dataframe thead th {\n",
       "        text-align: right;\n",
       "    }\n",
       "</style>\n",
       "<table border=\"1\" class=\"dataframe\">\n",
       "  <thead>\n",
       "    <tr style=\"text-align: right;\">\n",
       "      <th></th>\n",
       "      <th>Seed</th>\n",
       "      <th>Approach</th>\n",
       "      <th>Task</th>\n",
       "      <th>Nc first task</th>\n",
       "      <th>Nc incr tasks</th>\n",
       "      <th>Last App</th>\n",
       "      <th>Metric</th>\n",
       "      <th>Class order[0]</th>\n",
       "      <th>Class order[1]</th>\n",
       "      <th>Class order[2]</th>\n",
       "      <th>...</th>\n",
       "      <th>Class order[31]</th>\n",
       "      <th>Class order[32]</th>\n",
       "      <th>Class order[33]</th>\n",
       "      <th>Class order[34]</th>\n",
       "      <th>Class order[35]</th>\n",
       "      <th>Class order[36]</th>\n",
       "      <th>Class order[37]</th>\n",
       "      <th>Class order[38]</th>\n",
       "      <th>Class order[39]</th>\n",
       "      <th>Class order</th>\n",
       "    </tr>\n",
       "  </thead>\n",
       "  <tbody>\n",
       "    <tr>\n",
       "      <th>0</th>\n",
       "      <td>0</td>\n",
       "      <td>scratch</td>\n",
       "      <td>0</td>\n",
       "      <td>39</td>\n",
       "      <td>1</td>\n",
       "      <td>0</td>\n",
       "      <td>F1 Score</td>\n",
       "      <td>0.730906</td>\n",
       "      <td>0.787444</td>\n",
       "      <td>0.587379</td>\n",
       "      <td>...</td>\n",
       "      <td>0.893617</td>\n",
       "      <td>0.822857</td>\n",
       "      <td>0.881621</td>\n",
       "      <td>0.788882</td>\n",
       "      <td>0.822157</td>\n",
       "      <td>0.824813</td>\n",
       "      <td>0.881949</td>\n",
       "      <td>0.722353</td>\n",
       "      <td>NaN</td>\n",
       "      <td>[10, 26, 12, 23, 21, 7, 27, 17, 35, 1, 36, 30,...</td>\n",
       "    </tr>\n",
       "    <tr>\n",
       "      <th>1</th>\n",
       "      <td>0</td>\n",
       "      <td>scratch</td>\n",
       "      <td>0</td>\n",
       "      <td>39</td>\n",
       "      <td>1</td>\n",
       "      <td>1</td>\n",
       "      <td>F1 Score</td>\n",
       "      <td>0.734633</td>\n",
       "      <td>0.715564</td>\n",
       "      <td>0.885410</td>\n",
       "      <td>...</td>\n",
       "      <td>0.710128</td>\n",
       "      <td>0.584577</td>\n",
       "      <td>0.607634</td>\n",
       "      <td>0.980613</td>\n",
       "      <td>0.834320</td>\n",
       "      <td>0.854342</td>\n",
       "      <td>0.686003</td>\n",
       "      <td>0.716294</td>\n",
       "      <td>NaN</td>\n",
       "      <td>[25, 24, 4, 5, 32, 12, 17, 38, 8, 7, 6, 16, 31...</td>\n",
       "    </tr>\n",
       "    <tr>\n",
       "      <th>2</th>\n",
       "      <td>0</td>\n",
       "      <td>scratch</td>\n",
       "      <td>0</td>\n",
       "      <td>39</td>\n",
       "      <td>1</td>\n",
       "      <td>2</td>\n",
       "      <td>F1 Score</td>\n",
       "      <td>0.726392</td>\n",
       "      <td>0.837349</td>\n",
       "      <td>0.590085</td>\n",
       "      <td>...</td>\n",
       "      <td>0.768627</td>\n",
       "      <td>0.898072</td>\n",
       "      <td>0.794393</td>\n",
       "      <td>0.981318</td>\n",
       "      <td>0.781792</td>\n",
       "      <td>0.786127</td>\n",
       "      <td>0.843750</td>\n",
       "      <td>0.591304</td>\n",
       "      <td>NaN</td>\n",
       "      <td>[13, 29, 30, 22, 25, 31, 39, 9, 36, 24, 3, 32,...</td>\n",
       "    </tr>\n",
       "    <tr>\n",
       "      <th>3</th>\n",
       "      <td>0</td>\n",
       "      <td>scratch</td>\n",
       "      <td>0</td>\n",
       "      <td>39</td>\n",
       "      <td>1</td>\n",
       "      <td>3</td>\n",
       "      <td>F1 Score</td>\n",
       "      <td>0.879473</td>\n",
       "      <td>0.829268</td>\n",
       "      <td>0.576087</td>\n",
       "      <td>...</td>\n",
       "      <td>0.980613</td>\n",
       "      <td>0.733628</td>\n",
       "      <td>0.774660</td>\n",
       "      <td>0.881750</td>\n",
       "      <td>0.701389</td>\n",
       "      <td>0.845390</td>\n",
       "      <td>0.855556</td>\n",
       "      <td>0.584158</td>\n",
       "      <td>NaN</td>\n",
       "      <td>[23, 2, 12, 10, 31, 24, 30, 0, 1, 17, 32, 34, ...</td>\n",
       "    </tr>\n",
       "    <tr>\n",
       "      <th>4</th>\n",
       "      <td>0</td>\n",
       "      <td>scratch</td>\n",
       "      <td>0</td>\n",
       "      <td>39</td>\n",
       "      <td>1</td>\n",
       "      <td>4</td>\n",
       "      <td>F1 Score</td>\n",
       "      <td>0.615385</td>\n",
       "      <td>0.861582</td>\n",
       "      <td>0.681013</td>\n",
       "      <td>...</td>\n",
       "      <td>0.692308</td>\n",
       "      <td>0.731396</td>\n",
       "      <td>0.739040</td>\n",
       "      <td>0.729459</td>\n",
       "      <td>0.847761</td>\n",
       "      <td>0.602740</td>\n",
       "      <td>0.555249</td>\n",
       "      <td>0.893048</td>\n",
       "      <td>NaN</td>\n",
       "      <td>[15, 16, 37, 0, 32, 2, 26, 18, 14, 8, 34, 13, ...</td>\n",
       "    </tr>\n",
       "    <tr>\n",
       "      <th>...</th>\n",
       "      <td>...</td>\n",
       "      <td>...</td>\n",
       "      <td>...</td>\n",
       "      <td>...</td>\n",
       "      <td>...</td>\n",
       "      <td>...</td>\n",
       "      <td>...</td>\n",
       "      <td>...</td>\n",
       "      <td>...</td>\n",
       "      <td>...</td>\n",
       "      <td>...</td>\n",
       "      <td>...</td>\n",
       "      <td>...</td>\n",
       "      <td>...</td>\n",
       "      <td>...</td>\n",
       "      <td>...</td>\n",
       "      <td>...</td>\n",
       "      <td>...</td>\n",
       "      <td>...</td>\n",
       "      <td>...</td>\n",
       "      <td>...</td>\n",
       "    </tr>\n",
       "    <tr>\n",
       "      <th>155</th>\n",
       "      <td>38</td>\n",
       "      <td>scratch</td>\n",
       "      <td>1</td>\n",
       "      <td>20</td>\n",
       "      <td>20</td>\n",
       "      <td>-1</td>\n",
       "      <td>F1 Score</td>\n",
       "      <td>0.980170</td>\n",
       "      <td>0.773087</td>\n",
       "      <td>0.660465</td>\n",
       "      <td>...</td>\n",
       "      <td>0.888889</td>\n",
       "      <td>0.724919</td>\n",
       "      <td>0.887405</td>\n",
       "      <td>0.607171</td>\n",
       "      <td>0.827216</td>\n",
       "      <td>0.871300</td>\n",
       "      <td>0.756055</td>\n",
       "      <td>0.780952</td>\n",
       "      <td>0.605505</td>\n",
       "      <td>[35, 0, 22, 17, 6, 9, 5, 34, 29, 37, 12, 36, 3...</td>\n",
       "    </tr>\n",
       "    <tr>\n",
       "      <th>156</th>\n",
       "      <td>39</td>\n",
       "      <td>scratch</td>\n",
       "      <td>0</td>\n",
       "      <td>20</td>\n",
       "      <td>20</td>\n",
       "      <td>-1</td>\n",
       "      <td>F1 Score</td>\n",
       "      <td>0.764552</td>\n",
       "      <td>0.902394</td>\n",
       "      <td>0.935294</td>\n",
       "      <td>...</td>\n",
       "      <td>NaN</td>\n",
       "      <td>NaN</td>\n",
       "      <td>NaN</td>\n",
       "      <td>NaN</td>\n",
       "      <td>NaN</td>\n",
       "      <td>NaN</td>\n",
       "      <td>NaN</td>\n",
       "      <td>NaN</td>\n",
       "      <td>NaN</td>\n",
       "      <td>[3, 2, 21, 23, 10, 16, 18, 25, 33, 39, 1, 15, ...</td>\n",
       "    </tr>\n",
       "    <tr>\n",
       "      <th>157</th>\n",
       "      <td>39</td>\n",
       "      <td>scratch</td>\n",
       "      <td>1</td>\n",
       "      <td>20</td>\n",
       "      <td>20</td>\n",
       "      <td>-1</td>\n",
       "      <td>F1 Score</td>\n",
       "      <td>0.701879</td>\n",
       "      <td>0.844920</td>\n",
       "      <td>0.881935</td>\n",
       "      <td>...</td>\n",
       "      <td>0.716883</td>\n",
       "      <td>0.744977</td>\n",
       "      <td>0.790000</td>\n",
       "      <td>0.882793</td>\n",
       "      <td>0.974760</td>\n",
       "      <td>0.901449</td>\n",
       "      <td>0.484029</td>\n",
       "      <td>0.810026</td>\n",
       "      <td>0.502484</td>\n",
       "      <td>[3, 2, 21, 23, 10, 16, 18, 25, 33, 39, 1, 15, ...</td>\n",
       "    </tr>\n",
       "    <tr>\n",
       "      <th>158</th>\n",
       "      <td>40</td>\n",
       "      <td>scratch</td>\n",
       "      <td>0</td>\n",
       "      <td>20</td>\n",
       "      <td>20</td>\n",
       "      <td>-1</td>\n",
       "      <td>F1 Score</td>\n",
       "      <td>0.829114</td>\n",
       "      <td>0.840140</td>\n",
       "      <td>0.798561</td>\n",
       "      <td>...</td>\n",
       "      <td>NaN</td>\n",
       "      <td>NaN</td>\n",
       "      <td>NaN</td>\n",
       "      <td>NaN</td>\n",
       "      <td>NaN</td>\n",
       "      <td>NaN</td>\n",
       "      <td>NaN</td>\n",
       "      <td>NaN</td>\n",
       "      <td>NaN</td>\n",
       "      <td>[25, 22, 24, 29, 2, 16, 4, 5, 35, 36, 13, 34, ...</td>\n",
       "    </tr>\n",
       "    <tr>\n",
       "      <th>159</th>\n",
       "      <td>40</td>\n",
       "      <td>scratch</td>\n",
       "      <td>1</td>\n",
       "      <td>20</td>\n",
       "      <td>20</td>\n",
       "      <td>-1</td>\n",
       "      <td>F1 Score</td>\n",
       "      <td>0.717718</td>\n",
       "      <td>0.696366</td>\n",
       "      <td>0.708475</td>\n",
       "      <td>...</td>\n",
       "      <td>0.742610</td>\n",
       "      <td>0.810398</td>\n",
       "      <td>0.771219</td>\n",
       "      <td>0.688485</td>\n",
       "      <td>0.576271</td>\n",
       "      <td>0.792229</td>\n",
       "      <td>0.876334</td>\n",
       "      <td>0.732843</td>\n",
       "      <td>0.893960</td>\n",
       "      <td>[25, 22, 24, 29, 2, 16, 4, 5, 35, 36, 13, 34, ...</td>\n",
       "    </tr>\n",
       "  </tbody>\n",
       "</table>\n",
       "<p>160 rows × 48 columns</p>\n",
       "</div>"
      ],
      "text/plain": [
       "     Seed Approach  Task  Nc first task  Nc incr tasks Last App    Metric  \\\n",
       "0       0  scratch     0             39              1        0  F1 Score   \n",
       "1       0  scratch     0             39              1        1  F1 Score   \n",
       "2       0  scratch     0             39              1        2  F1 Score   \n",
       "3       0  scratch     0             39              1        3  F1 Score   \n",
       "4       0  scratch     0             39              1        4  F1 Score   \n",
       "..    ...      ...   ...            ...            ...      ...       ...   \n",
       "155    38  scratch     1             20             20       -1  F1 Score   \n",
       "156    39  scratch     0             20             20       -1  F1 Score   \n",
       "157    39  scratch     1             20             20       -1  F1 Score   \n",
       "158    40  scratch     0             20             20       -1  F1 Score   \n",
       "159    40  scratch     1             20             20       -1  F1 Score   \n",
       "\n",
       "     Class order[0]  Class order[1]  Class order[2]  ...  Class order[31]  \\\n",
       "0          0.730906        0.787444        0.587379  ...         0.893617   \n",
       "1          0.734633        0.715564        0.885410  ...         0.710128   \n",
       "2          0.726392        0.837349        0.590085  ...         0.768627   \n",
       "3          0.879473        0.829268        0.576087  ...         0.980613   \n",
       "4          0.615385        0.861582        0.681013  ...         0.692308   \n",
       "..              ...             ...             ...  ...              ...   \n",
       "155        0.980170        0.773087        0.660465  ...         0.888889   \n",
       "156        0.764552        0.902394        0.935294  ...              NaN   \n",
       "157        0.701879        0.844920        0.881935  ...         0.716883   \n",
       "158        0.829114        0.840140        0.798561  ...              NaN   \n",
       "159        0.717718        0.696366        0.708475  ...         0.742610   \n",
       "\n",
       "     Class order[32]  Class order[33]  Class order[34]  Class order[35]  \\\n",
       "0           0.822857         0.881621         0.788882         0.822157   \n",
       "1           0.584577         0.607634         0.980613         0.834320   \n",
       "2           0.898072         0.794393         0.981318         0.781792   \n",
       "3           0.733628         0.774660         0.881750         0.701389   \n",
       "4           0.731396         0.739040         0.729459         0.847761   \n",
       "..               ...              ...              ...              ...   \n",
       "155         0.724919         0.887405         0.607171         0.827216   \n",
       "156              NaN              NaN              NaN              NaN   \n",
       "157         0.744977         0.790000         0.882793         0.974760   \n",
       "158              NaN              NaN              NaN              NaN   \n",
       "159         0.810398         0.771219         0.688485         0.576271   \n",
       "\n",
       "     Class order[36]  Class order[37]  Class order[38]  Class order[39]  \\\n",
       "0           0.824813         0.881949         0.722353              NaN   \n",
       "1           0.854342         0.686003         0.716294              NaN   \n",
       "2           0.786127         0.843750         0.591304              NaN   \n",
       "3           0.845390         0.855556         0.584158              NaN   \n",
       "4           0.602740         0.555249         0.893048              NaN   \n",
       "..               ...              ...              ...              ...   \n",
       "155         0.871300         0.756055         0.780952         0.605505   \n",
       "156              NaN              NaN              NaN              NaN   \n",
       "157         0.901449         0.484029         0.810026         0.502484   \n",
       "158              NaN              NaN              NaN              NaN   \n",
       "159         0.792229         0.876334         0.732843         0.893960   \n",
       "\n",
       "                                           Class order  \n",
       "0    [10, 26, 12, 23, 21, 7, 27, 17, 35, 1, 36, 30,...  \n",
       "1    [25, 24, 4, 5, 32, 12, 17, 38, 8, 7, 6, 16, 31...  \n",
       "2    [13, 29, 30, 22, 25, 31, 39, 9, 36, 24, 3, 32,...  \n",
       "3    [23, 2, 12, 10, 31, 24, 30, 0, 1, 17, 32, 34, ...  \n",
       "4    [15, 16, 37, 0, 32, 2, 26, 18, 14, 8, 34, 13, ...  \n",
       "..                                                 ...  \n",
       "155  [35, 0, 22, 17, 6, 9, 5, 34, 29, 37, 12, 36, 3...  \n",
       "156  [3, 2, 21, 23, 10, 16, 18, 25, 33, 39, 1, 15, ...  \n",
       "157  [3, 2, 21, 23, 10, 16, 18, 25, 33, 39, 1, 15, ...  \n",
       "158  [25, 22, 24, 29, 2, 16, 4, 5, 35, 36, 13, 34, ...  \n",
       "159  [25, 22, 24, 29, 2, 16, 4, 5, 35, 36, 13, 34, ...  \n",
       "\n",
       "[160 rows x 48 columns]"
      ]
     },
     "execution_count": 15,
     "metadata": {},
     "output_type": "execute_result"
    }
   ],
   "source": [
    "scratch_met_ord_arrival_df"
   ]
  },
  {
   "cell_type": "code",
   "execution_count": 16,
   "id": "b3b605d2",
   "metadata": {},
   "outputs": [],
   "source": [
    "#scratch_met_ord_arrival_df.groupby(['Nc first task', 'Nc incr tasks']).get_group((39,1))['Seed']"
   ]
  },
  {
   "cell_type": "code",
   "execution_count": 17,
   "id": "a3a36e14",
   "metadata": {},
   "outputs": [],
   "source": [
    "#print(scratch_met_ord_arrival_df['Nc first task'].unique())\n",
    "#print(scratch_met_ord_arrival_df['Nc incr tasks'].unique())"
   ]
  },
  {
   "cell_type": "code",
   "execution_count": 18,
   "id": "22887b77",
   "metadata": {},
   "outputs": [],
   "source": [
    "#scratch_met_ord_arrival_df[scratch_met_ord_arrival_df['Nc first task'] == 40]"
   ]
  },
  {
   "cell_type": "code",
   "execution_count": 19,
   "id": "35b02432",
   "metadata": {},
   "outputs": [],
   "source": [
    "met_ord_arrival_df = pd.concat([per_cl_met_ord_arrival_df, scratch_met_ord_arrival_df])\n",
    "met_df = pd.concat([per_cl_met_dict_df, scratch_met_df])\n",
    "met_ord_arrival_df.to_parquet(os.path.join(res_root_path, 'mirage_generic_per_class_arrival_order_metrics.parquet'))\n",
    "met_df.to_parquet(os.path.join(res_root_path, 'mirage_generic_per_class_metrics.parquet'))"
   ]
  },
  {
   "cell_type": "code",
   "execution_count": null,
   "id": "833454fb",
   "metadata": {},
   "outputs": [],
   "source": []
  }
 ],
 "metadata": {
  "kernelspec": {
   "display_name": "Python 3 (ipykernel)",
   "language": "python",
   "name": "python3"
  },
  "language_info": {
   "codemirror_mode": {
    "name": "ipython",
    "version": 3
   },
   "file_extension": ".py",
   "mimetype": "text/x-python",
   "name": "python",
   "nbconvert_exporter": "python",
   "pygments_lexer": "ipython3",
   "version": "3.8.14"
  }
 },
 "nbformat": 4,
 "nbformat_minor": 5
}
