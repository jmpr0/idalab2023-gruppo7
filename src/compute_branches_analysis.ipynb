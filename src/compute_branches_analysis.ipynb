{
 "cells": [
  {
   "cell_type": "code",
   "execution_count": null,
   "metadata": {},
   "outputs": [],
   "source": [
    "import fsl.util.per_epoch_logger\n",
    "import fsl.util.cleanup\n",
    "from glob import glob"
   ]
  },
  {
   "cell_type": "code",
   "execution_count": null,
   "metadata": {},
   "outputs": [],
   "source": [
    "PATH = '/home/traffic/*/*'\n",
    "\n",
    "files = [f for f in glob(PATH) if 'stage_2' not in f]\n",
    "print(files)\n",
    "\n",
    "for f in files:\n",
    "    fsl.util.per_epoch_logger.plot_experiment_log(f)\n",
    "    fsl.util.cleanup.clean_files(f)"
   ]
  }
 ],
 "metadata": {
  "kernelspec": {
   "display_name": "Python 3",
   "language": "python",
   "name": "python3"
  },
  "language_info": {
   "codemirror_mode": {
    "name": "ipython",
    "version": 3
   },
   "file_extension": ".py",
   "mimetype": "text/x-python",
   "name": "python",
   "nbconvert_exporter": "python",
   "pygments_lexer": "ipython3",
   "version": "3.10.6"
  },
  "orig_nbformat": 4
 },
 "nbformat": 4,
 "nbformat_minor": 2
}
